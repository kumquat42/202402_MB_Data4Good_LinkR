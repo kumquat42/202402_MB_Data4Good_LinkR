{
 "cells": [
  {
   "cell_type": "markdown",
   "metadata": {},
   "source": [
    "# LinkR - plugin Prescription\n",
    "\n",
    "https://ohdsi.github.io/TheBookOfOhdsi/StandardizedVocabularies.html"
   ]
  },
  {
   "cell_type": "code",
   "execution_count": 1,
   "metadata": {},
   "outputs": [],
   "source": [
    "# Librairies:\n",
    "\n",
    "import pandas as pd\n",
    "import seaborn as sns\n",
    "import matplotlib as plt\n",
    "import plotly.io as pio\n",
    "import plotly.express as px\n",
    "import plotly.graph_objs as go\n",
    "from plotly.subplots import make_subplots\n"
   ]
  },
  {
   "cell_type": "markdown",
   "metadata": {},
   "source": [
    "# Drug Exposure"
   ]
  },
  {
   "cell_type": "code",
   "execution_count": 2,
   "metadata": {},
   "outputs": [
    {
     "name": "stdout",
     "output_type": "stream",
     "text": [
      "(18229, 23)\n",
      "<class 'pandas.core.frame.DataFrame'>\n",
      "RangeIndex: 18229 entries, 0 to 18228\n",
      "Data columns (total 23 columns):\n",
      " #   Column                        Non-Null Count  Dtype  \n",
      "---  ------                        --------------  -----  \n",
      " 0   drug_exposure_id              18229 non-null  int64  \n",
      " 1   person_id                     18229 non-null  int64  \n",
      " 2   drug_concept_id               18229 non-null  int64  \n",
      " 3   drug_exposure_start_date      18229 non-null  object \n",
      " 4   drug_exposure_start_datetime  18229 non-null  object \n",
      " 5   drug_exposure_end_date        18229 non-null  object \n",
      " 6   drug_exposure_end_datetime    18229 non-null  object \n",
      " 7   verbatim_end_date             0 non-null      float64\n",
      " 8   drug_type_concept_id          18229 non-null  int64  \n",
      " 9   stop_reason                   0 non-null      float64\n",
      " 10  refills                       0 non-null      float64\n",
      " 11  quantity                      18220 non-null  float64\n",
      " 12  days_supply                   0 non-null      float64\n",
      " 13  sig                           0 non-null      float64\n",
      " 14  route_concept_id              18229 non-null  int64  \n",
      " 15  lot_number                    0 non-null      float64\n",
      " 16  provider_id                   0 non-null      float64\n",
      " 17  visit_occurrence_id           18229 non-null  int64  \n",
      " 18  visit_detail_id               0 non-null      float64\n",
      " 19  drug_source_value             18229 non-null  object \n",
      " 20  drug_source_concept_id        18229 non-null  int64  \n",
      " 21  route_source_value            18223 non-null  object \n",
      " 22  dose_unit_source_value        18220 non-null  object \n",
      "dtypes: float64(9), int64(7), object(7)\n",
      "memory usage: 3.2+ MB\n"
     ]
    }
   ],
   "source": [
    "drug_exposure = pd.read_csv('Data/drug_exposure.csv')\n",
    "print(drug_exposure.shape) #(18229, 23)\n",
    "'''\n",
    "['drug_exposure_id', 'person_id', 'drug_concept_id',\n",
    "       'drug_exposure_start_date', 'drug_exposure_start_datetime',\n",
    "       'drug_exposure_end_date', 'drug_exposure_end_datetime',\n",
    "       'verbatim_end_date', 'drug_type_concept_id', 'stop_reason', 'refills',\n",
    "       'quantity', 'days_supply', 'sig', 'route_concept_id', 'lot_number',\n",
    "       'provider_id', 'visit_occurrence_id', 'visit_detail_id',\n",
    "       'drug_source_value', 'drug_source_concept_id', 'route_source_value',\n",
    "       'dose_unit_source_value']\n",
    "'''\n",
    "drug_exposure.person_id.value_counts()\n",
    "'''\n",
    "person_id\n",
    " 7155255168997124770    1182\n",
    " 4783904755296699562     791\n",
    " 8090044958540695372     716\n",
    "-3908355835367628651     687\n",
    " 7131048714591189903     644\n",
    "                        ... \n",
    "-2575767131279873665      37\n",
    "-4183220989401122518      34\n",
    " 1740609625029317924      26\n",
    " 3912882389848878631      24\n",
    "-8769042030325953499      18\n",
    "'''\n",
    "drug_exposure.info()\n",
    "'''\n",
    "<class 'pandas.core.frame.DataFrame'>\n",
    "RangeIndex: 18229 entries, 0 to 18228\n",
    "Data columns (total 23 columns):\n",
    " #   Column                        Non-Null Count  Dtype  \n",
    "---  ------                        --------------  -----  \n",
    " 0   drug_exposure_id              18229 non-null  int64  \n",
    " 1   person_id                     18229 non-null  int64  \n",
    " 2   drug_concept_id               18229 non-null  int64  \n",
    " 3   drug_exposure_start_date      18229 non-null  object \n",
    " 4   drug_exposure_start_datetime  18229 non-null  object \n",
    " 5   drug_exposure_end_date        18229 non-null  object \n",
    " 6   drug_exposure_end_datetime    18229 non-null  object \n",
    " 7   verbatim_end_date             0 non-null      float64\n",
    " 8   drug_type_concept_id          18229 non-null  int64  \n",
    " 9   stop_reason                   0 non-null      float64\n",
    " 10  refills                       0 non-null      float64\n",
    " 11  quantity                      18220 non-null  float64\n",
    " 12  days_supply                   0 non-null      float64\n",
    " 13  sig                           0 non-null      float64\n",
    " 14  route_concept_id              18229 non-null  int64  \n",
    " 15  lot_number                    0 non-null      float64\n",
    " 16  provider_id                   0 non-null      float64\n",
    " 17  visit_occurrence_id           18229 non-null  int64  \n",
    " 18  visit_detail_id               0 non-null      float64\n",
    " 19  drug_source_value             18229 non-null  object \n",
    " 20  drug_source_concept_id        18229 non-null  int64  \n",
    " 21  route_source_value            18223 non-null  object \n",
    " 22  dose_unit_source_value        18220 non-null  object \n",
    " '''\n",
    "\n",
    "drug_exposure.head()\n",
    "\n",
    "liste_non_null = ['drug_exposure_id', 'person_id', 'drug_concept_id',  'drug_exposure_start_date', 'drug_exposure_start_datetime',\n",
    "       'drug_exposure_end_date', 'drug_exposure_end_datetime', 'drug_type_concept_id',   'quantity',\n",
    "       'route_concept_id', 'visit_occurrence_id', 'drug_source_value', 'drug_source_concept_id', 'route_source_value', 'dose_unit_source_value']\n"
   ]
  },
  {
   "cell_type": "code",
   "execution_count": 57,
   "metadata": {},
   "outputs": [
    {
     "data": {
      "text/plain": [
       "array(['VIAL', 'mL', 'TUBE', 'AERO', 'TAB', 'UDCUP', 'SYR', 'BAG', 'PKT',\n",
       "       'SUPP', 'CAP', 'g', 'KIT', 'INH', 'PTCH', 'BTL', 'HALF TAB', 'DEV',\n",
       "       'mg', 'AMP', 'NEB', 'DRP', nan, 'SPRY', 'dose', 'DBTL', 'LOZ',\n",
       "       'JAR', 'SYRP', 'UNIT', 'STCK', 'PEN', 'CADD', 'Appl', 'WAF', 'CAN',\n",
       "       'TROC', 'CART'], dtype=object)"
      ]
     },
     "execution_count": 57,
     "metadata": {},
     "output_type": "execute_result"
    }
   ],
   "source": [
    "drug_exposure.dose_unit_source_value.unique()\n",
    "'''\n",
    "#array(['VIAL', 'mL', 'TUBE', 'AERO', 'TAB', 'UDCUP', 'SYR', 'BAG', 'PKT',\n",
    "       'SUPP', 'CAP', 'g', 'KIT', 'INH', 'PTCH', 'BTL', 'HALF TAB', 'DEV',\n",
    "       'mg', 'AMP', 'NEB', 'DRP', nan, 'SPRY', 'dose', 'DBTL', 'LOZ',\n",
    "       'JAR', 'SYRP', 'UNIT', 'STCK', 'PEN', 'CADD', 'Appl', 'WAF', 'CAN',\n",
    "       'TROC', 'CART'], dtype=object)\n",
    "'''"
   ]
  },
  {
   "cell_type": "markdown",
   "metadata": {},
   "source": [
    "# CONCEPT:\n",
    "\n",
    "Match medicine (concept_name, concept_id) with the drug_concept_id from drug exposure"
   ]
  },
  {
   "cell_type": "code",
   "execution_count": null,
   "metadata": {},
   "outputs": [],
   "source": [
    "con = pd.read_csv(f'/Data/CONCEPT.csv', sep='\\t')\n",
    "#print(con.shape) #(516708, 10)\n",
    "\n",
    "'''\n",
    "con[con.concept_id == 40232756]\n",
    "#      concept_id\tconcept_name\t                        domain_id\tvocabulary_id\tconcept_class_id\tstandard_concept\tconcept_code\tvalid_start_date\tvalid_end_date\tinvalid_reaso\n",
    "#219661\t40232756\toxycodone hydrochloride 5 MG Oral Tablet\tDrug\tRxNorm\t        Clinical Drug\t            S\t        1049621\t        20110102\t        20991231\t        NaN\n",
    "\n",
    "OHSDI:\n",
    "The concept code represents the identifier of the Concept in the source vocabulary, such as SNOMED-CT concept IDs, RxNorm RXCUIs etc. Note that concept codes are not unique across vocabularies.\n",
    "\n",
    "\n",
    "con[con.concept_id == 2000010348] # ?None\n",
    "con[con.concept_id == 723020] \n",
    "#316375\t723020\tdiazepam 10 MG Oral Tablet\tDrug\tRxNorm\tClinical Drug\tS\t197589\t19700101\t20991231\tNaN\n",
    "\n",
    "\n",
    "con.concept_id.value_counts().describe() # ok, all 1, this is a primary key.\n",
    "'''\n",
    "\n",
    "\n",
    "con.head()\n"
   ]
  },
  {
   "cell_type": "markdown",
   "metadata": {},
   "source": [
    "### Patient 1: 3912882389848878631\n",
    "On se concentre sur un premier cas avec 24 lignes pour 1 personne: \n",
    "Attention, c'est un integer, pas un texte. Ne pas mettre de ''\n"
   ]
  },
  {
   "cell_type": "code",
   "execution_count": null,
   "metadata": {},
   "outputs": [],
   "source": [
    "patient1 = drug_exposure.loc[drug_exposure['person_id'] == 3912882389848878631, liste_non_null]\n",
    "'''\n",
    "patient1.columns\n",
    "Index(['drug_exposure_id', 'person_id', 'drug_concept_id',\n",
    "       'drug_exposure_start_date', 'drug_exposure_start_datetime',\n",
    "       'drug_exposure_end_date', 'drug_exposure_end_datetime',\n",
    "       'drug_type_concept_id', 'quantity', 'route_concept_id',\n",
    "       'visit_occurrence_id', 'drug_source_value', 'drug_source_concept_id',\n",
    "       'route_source_value', 'dose_unit_source_value'],\n",
    "      dtype='object')\n",
    "'''\n",
    "patient1"
   ]
  },
  {
   "cell_type": "code",
   "execution_count": 117,
   "metadata": {},
   "outputs": [],
   "source": [
    "patient = pd.merge(patient1, con, how='left', left_on = 'drug_concept_id', right_on = 'concept_id')\n",
    "\n",
    "#patient.shape, patient1.shape, con.shape #((24, 25), (24, 15), (516708, 10))\n",
    "#patient"
   ]
  },
  {
   "cell_type": "code",
   "execution_count": 126,
   "metadata": {},
   "outputs": [
    {
     "data": {
      "application/vnd.plotly.v1+json": {
       "config": {
        "plotlyServerURL": "https://plot.ly"
       },
       "data": [
        {
         "name": "diazepam 10 MG Oral Tablet, ['TAB']",
         "type": "scatter",
         "x": [
          "2129-01-03 19:00:00"
         ],
         "xaxis": "x",
         "y": [
          1
         ],
         "yaxis": "y"
        },
        {
         "name": "acetaminophen 325 MG Oral Tablet, ['TAB']",
         "type": "scatter",
         "x": [
          "2129-01-03 20:00:00"
         ],
         "xaxis": "x",
         "y": [
          2
         ],
         "yaxis": "y"
        },
        {
         "name": "oxycodone hydrochloride 5 MG Oral Tablet, ['TAB']",
         "type": "scatter",
         "x": [
          "2129-01-04 18:00:00",
          "2129-01-04 21:00:00",
          "2129-01-05 00:00:00",
          "2129-01-05 02:00:00"
         ],
         "xaxis": "x",
         "y": [
          0.5,
          1,
          1.5,
          1
         ],
         "yaxis": "y"
        },
        {
         "name": "nan, []",
         "type": "scatter",
         "x": [],
         "xaxis": "x",
         "y": [],
         "yaxis": "y"
        },
        {
         "name": "thiamine 100 MG Oral Tablet, ['TAB']",
         "type": "scatter",
         "x": [
          "2129-01-05 08:00:00"
         ],
         "xaxis": "x",
         "y": [
          1
         ],
         "yaxis": "y"
        },
        {
         "name": "folic acid 1 MG Oral Tablet, ['TAB']",
         "type": "scatter",
         "x": [
          "2129-01-05 08:00:00"
         ],
         "xaxis": "x",
         "y": [
          1
         ],
         "yaxis": "y"
        },
        {
         "name": "10 ML sodium chloride 9 MG/ML Prefilled Syringe, ['SYR']",
         "type": "scatter",
         "x": [
          "2129-01-03 19:00:00",
          "2129-01-05 03:00:00"
         ],
         "xaxis": "x2",
         "y": [
          0.3,
          0.3
         ],
         "yaxis": "y2"
        },
        {
         "name": "0.5 ML influenza A virus vaccine, A-Texas-50-2012 , ['SYR']",
         "type": "scatter",
         "x": [
          "2129-01-03 19:00:00"
         ],
         "xaxis": "x2",
         "y": [
          1
         ],
         "yaxis": "y2"
        },
        {
         "name": "2 ML diazepam 5 MG/ML Cartridge, ['SYR']",
         "type": "scatter",
         "x": [
          "2129-01-05 02:00:00"
         ],
         "xaxis": "x2",
         "y": [
          1
         ],
         "yaxis": "y2"
        },
        {
         "name": "phenobarbital 4 MG/ML Oral Solution, ['SYR']",
         "type": "scatter",
         "x": [
          "2129-01-06 08:00:00",
          "2129-01-08 08:00:00",
          "2129-01-10 08:00:00",
          "2129-01-11 08:00:00"
         ],
         "xaxis": "x2",
         "y": [
          2.25,
          1.125,
          0.5625,
          0.2813
         ],
         "yaxis": "y2"
        },
        {
         "name": "heparin sodium, porcine 5000 UNT/ML Injectable Sol, ['mL']",
         "type": "scatter",
         "x": [
          "2129-01-03 19:00:00"
         ],
         "xaxis": "x3",
         "y": [
          1
         ],
         "yaxis": "y3"
        },
        {
         "name": "100 ML glucose 50 MG/ML Injection, ['mL']",
         "type": "scatter",
         "x": [
          "2129-01-05 03:00:00"
         ],
         "xaxis": "x3",
         "y": [
          100
         ],
         "yaxis": "y3"
        },
        {
         "name": "phenobarbital 130 MG/ML Injectable Solution, ['mL']",
         "type": "scatter",
         "x": [
          "2129-01-05 03:00:00"
         ],
         "xaxis": "x3",
         "y": [
          6
         ],
         "yaxis": "y3"
        },
        {
         "name": "phenobarbital 65 MG/ML Injectable Solution, ['mL']",
         "type": "scatter",
         "x": [
          "2129-01-05 13:00:00",
          "2129-01-05 13:00:00"
         ],
         "xaxis": "x3",
         "y": [
          2.7692,
          2.7692
         ],
         "yaxis": "y3"
        },
        {
         "name": "omeprazole 20 MG Delayed Release Oral Capsule, ['CAP']",
         "type": "scatter",
         "x": [
          "2129-01-04 08:00:00"
         ],
         "xaxis": "x4",
         "y": [
          1
         ],
         "yaxis": "y4"
        },
        {
         "name": "ibuprofen 20 MG/ML Oral Suspension, ['UDCUP']",
         "type": "scatter",
         "x": [
          "2129-01-05 04:00:00"
         ],
         "xaxis": "x5",
         "y": [
          2
         ],
         "yaxis": "y5"
        }
       ],
       "layout": {
        "annotations": [
         {
          "font": {
           "size": 16
          },
          "showarrow": false,
          "text": "TAB",
          "x": 0.08399999999999999,
          "xanchor": "center",
          "xref": "paper",
          "y": 1,
          "yanchor": "bottom",
          "yref": "paper"
         },
         {
          "font": {
           "size": 16
          },
          "showarrow": false,
          "text": "SYR",
          "x": 0.292,
          "xanchor": "center",
          "xref": "paper",
          "y": 1,
          "yanchor": "bottom",
          "yref": "paper"
         },
         {
          "font": {
           "size": 16
          },
          "showarrow": false,
          "text": "mL",
          "x": 0.5,
          "xanchor": "center",
          "xref": "paper",
          "y": 1,
          "yanchor": "bottom",
          "yref": "paper"
         },
         {
          "font": {
           "size": 16
          },
          "showarrow": false,
          "text": "CAP",
          "x": 0.708,
          "xanchor": "center",
          "xref": "paper",
          "y": 1,
          "yanchor": "bottom",
          "yref": "paper"
         },
         {
          "font": {
           "size": 16
          },
          "showarrow": false,
          "text": "UDCUP",
          "x": 0.9159999999999999,
          "xanchor": "center",
          "xref": "paper",
          "y": 1,
          "yanchor": "bottom",
          "yref": "paper"
         }
        ],
        "template": {
         "data": {
          "bar": [
           {
            "error_x": {
             "color": "#2a3f5f"
            },
            "error_y": {
             "color": "#2a3f5f"
            },
            "marker": {
             "line": {
              "color": "#E5ECF6",
              "width": 0.5
             },
             "pattern": {
              "fillmode": "overlay",
              "size": 10,
              "solidity": 0.2
             }
            },
            "type": "bar"
           }
          ],
          "barpolar": [
           {
            "marker": {
             "line": {
              "color": "#E5ECF6",
              "width": 0.5
             },
             "pattern": {
              "fillmode": "overlay",
              "size": 10,
              "solidity": 0.2
             }
            },
            "type": "barpolar"
           }
          ],
          "carpet": [
           {
            "aaxis": {
             "endlinecolor": "#2a3f5f",
             "gridcolor": "white",
             "linecolor": "white",
             "minorgridcolor": "white",
             "startlinecolor": "#2a3f5f"
            },
            "baxis": {
             "endlinecolor": "#2a3f5f",
             "gridcolor": "white",
             "linecolor": "white",
             "minorgridcolor": "white",
             "startlinecolor": "#2a3f5f"
            },
            "type": "carpet"
           }
          ],
          "choropleth": [
           {
            "colorbar": {
             "outlinewidth": 0,
             "ticks": ""
            },
            "type": "choropleth"
           }
          ],
          "contour": [
           {
            "colorbar": {
             "outlinewidth": 0,
             "ticks": ""
            },
            "colorscale": [
             [
              0,
              "#0d0887"
             ],
             [
              0.1111111111111111,
              "#46039f"
             ],
             [
              0.2222222222222222,
              "#7201a8"
             ],
             [
              0.3333333333333333,
              "#9c179e"
             ],
             [
              0.4444444444444444,
              "#bd3786"
             ],
             [
              0.5555555555555556,
              "#d8576b"
             ],
             [
              0.6666666666666666,
              "#ed7953"
             ],
             [
              0.7777777777777778,
              "#fb9f3a"
             ],
             [
              0.8888888888888888,
              "#fdca26"
             ],
             [
              1,
              "#f0f921"
             ]
            ],
            "type": "contour"
           }
          ],
          "contourcarpet": [
           {
            "colorbar": {
             "outlinewidth": 0,
             "ticks": ""
            },
            "type": "contourcarpet"
           }
          ],
          "heatmap": [
           {
            "colorbar": {
             "outlinewidth": 0,
             "ticks": ""
            },
            "colorscale": [
             [
              0,
              "#0d0887"
             ],
             [
              0.1111111111111111,
              "#46039f"
             ],
             [
              0.2222222222222222,
              "#7201a8"
             ],
             [
              0.3333333333333333,
              "#9c179e"
             ],
             [
              0.4444444444444444,
              "#bd3786"
             ],
             [
              0.5555555555555556,
              "#d8576b"
             ],
             [
              0.6666666666666666,
              "#ed7953"
             ],
             [
              0.7777777777777778,
              "#fb9f3a"
             ],
             [
              0.8888888888888888,
              "#fdca26"
             ],
             [
              1,
              "#f0f921"
             ]
            ],
            "type": "heatmap"
           }
          ],
          "heatmapgl": [
           {
            "colorbar": {
             "outlinewidth": 0,
             "ticks": ""
            },
            "colorscale": [
             [
              0,
              "#0d0887"
             ],
             [
              0.1111111111111111,
              "#46039f"
             ],
             [
              0.2222222222222222,
              "#7201a8"
             ],
             [
              0.3333333333333333,
              "#9c179e"
             ],
             [
              0.4444444444444444,
              "#bd3786"
             ],
             [
              0.5555555555555556,
              "#d8576b"
             ],
             [
              0.6666666666666666,
              "#ed7953"
             ],
             [
              0.7777777777777778,
              "#fb9f3a"
             ],
             [
              0.8888888888888888,
              "#fdca26"
             ],
             [
              1,
              "#f0f921"
             ]
            ],
            "type": "heatmapgl"
           }
          ],
          "histogram": [
           {
            "marker": {
             "pattern": {
              "fillmode": "overlay",
              "size": 10,
              "solidity": 0.2
             }
            },
            "type": "histogram"
           }
          ],
          "histogram2d": [
           {
            "colorbar": {
             "outlinewidth": 0,
             "ticks": ""
            },
            "colorscale": [
             [
              0,
              "#0d0887"
             ],
             [
              0.1111111111111111,
              "#46039f"
             ],
             [
              0.2222222222222222,
              "#7201a8"
             ],
             [
              0.3333333333333333,
              "#9c179e"
             ],
             [
              0.4444444444444444,
              "#bd3786"
             ],
             [
              0.5555555555555556,
              "#d8576b"
             ],
             [
              0.6666666666666666,
              "#ed7953"
             ],
             [
              0.7777777777777778,
              "#fb9f3a"
             ],
             [
              0.8888888888888888,
              "#fdca26"
             ],
             [
              1,
              "#f0f921"
             ]
            ],
            "type": "histogram2d"
           }
          ],
          "histogram2dcontour": [
           {
            "colorbar": {
             "outlinewidth": 0,
             "ticks": ""
            },
            "colorscale": [
             [
              0,
              "#0d0887"
             ],
             [
              0.1111111111111111,
              "#46039f"
             ],
             [
              0.2222222222222222,
              "#7201a8"
             ],
             [
              0.3333333333333333,
              "#9c179e"
             ],
             [
              0.4444444444444444,
              "#bd3786"
             ],
             [
              0.5555555555555556,
              "#d8576b"
             ],
             [
              0.6666666666666666,
              "#ed7953"
             ],
             [
              0.7777777777777778,
              "#fb9f3a"
             ],
             [
              0.8888888888888888,
              "#fdca26"
             ],
             [
              1,
              "#f0f921"
             ]
            ],
            "type": "histogram2dcontour"
           }
          ],
          "mesh3d": [
           {
            "colorbar": {
             "outlinewidth": 0,
             "ticks": ""
            },
            "type": "mesh3d"
           }
          ],
          "parcoords": [
           {
            "line": {
             "colorbar": {
              "outlinewidth": 0,
              "ticks": ""
             }
            },
            "type": "parcoords"
           }
          ],
          "pie": [
           {
            "automargin": true,
            "type": "pie"
           }
          ],
          "scatter": [
           {
            "fillpattern": {
             "fillmode": "overlay",
             "size": 10,
             "solidity": 0.2
            },
            "type": "scatter"
           }
          ],
          "scatter3d": [
           {
            "line": {
             "colorbar": {
              "outlinewidth": 0,
              "ticks": ""
             }
            },
            "marker": {
             "colorbar": {
              "outlinewidth": 0,
              "ticks": ""
             }
            },
            "type": "scatter3d"
           }
          ],
          "scattercarpet": [
           {
            "marker": {
             "colorbar": {
              "outlinewidth": 0,
              "ticks": ""
             }
            },
            "type": "scattercarpet"
           }
          ],
          "scattergeo": [
           {
            "marker": {
             "colorbar": {
              "outlinewidth": 0,
              "ticks": ""
             }
            },
            "type": "scattergeo"
           }
          ],
          "scattergl": [
           {
            "marker": {
             "colorbar": {
              "outlinewidth": 0,
              "ticks": ""
             }
            },
            "type": "scattergl"
           }
          ],
          "scattermapbox": [
           {
            "marker": {
             "colorbar": {
              "outlinewidth": 0,
              "ticks": ""
             }
            },
            "type": "scattermapbox"
           }
          ],
          "scatterpolar": [
           {
            "marker": {
             "colorbar": {
              "outlinewidth": 0,
              "ticks": ""
             }
            },
            "type": "scatterpolar"
           }
          ],
          "scatterpolargl": [
           {
            "marker": {
             "colorbar": {
              "outlinewidth": 0,
              "ticks": ""
             }
            },
            "type": "scatterpolargl"
           }
          ],
          "scatterternary": [
           {
            "marker": {
             "colorbar": {
              "outlinewidth": 0,
              "ticks": ""
             }
            },
            "type": "scatterternary"
           }
          ],
          "surface": [
           {
            "colorbar": {
             "outlinewidth": 0,
             "ticks": ""
            },
            "colorscale": [
             [
              0,
              "#0d0887"
             ],
             [
              0.1111111111111111,
              "#46039f"
             ],
             [
              0.2222222222222222,
              "#7201a8"
             ],
             [
              0.3333333333333333,
              "#9c179e"
             ],
             [
              0.4444444444444444,
              "#bd3786"
             ],
             [
              0.5555555555555556,
              "#d8576b"
             ],
             [
              0.6666666666666666,
              "#ed7953"
             ],
             [
              0.7777777777777778,
              "#fb9f3a"
             ],
             [
              0.8888888888888888,
              "#fdca26"
             ],
             [
              1,
              "#f0f921"
             ]
            ],
            "type": "surface"
           }
          ],
          "table": [
           {
            "cells": {
             "fill": {
              "color": "#EBF0F8"
             },
             "line": {
              "color": "white"
             }
            },
            "header": {
             "fill": {
              "color": "#C8D4E3"
             },
             "line": {
              "color": "white"
             }
            },
            "type": "table"
           }
          ]
         },
         "layout": {
          "annotationdefaults": {
           "arrowcolor": "#2a3f5f",
           "arrowhead": 0,
           "arrowwidth": 1
          },
          "autotypenumbers": "strict",
          "coloraxis": {
           "colorbar": {
            "outlinewidth": 0,
            "ticks": ""
           }
          },
          "colorscale": {
           "diverging": [
            [
             0,
             "#8e0152"
            ],
            [
             0.1,
             "#c51b7d"
            ],
            [
             0.2,
             "#de77ae"
            ],
            [
             0.3,
             "#f1b6da"
            ],
            [
             0.4,
             "#fde0ef"
            ],
            [
             0.5,
             "#f7f7f7"
            ],
            [
             0.6,
             "#e6f5d0"
            ],
            [
             0.7,
             "#b8e186"
            ],
            [
             0.8,
             "#7fbc41"
            ],
            [
             0.9,
             "#4d9221"
            ],
            [
             1,
             "#276419"
            ]
           ],
           "sequential": [
            [
             0,
             "#0d0887"
            ],
            [
             0.1111111111111111,
             "#46039f"
            ],
            [
             0.2222222222222222,
             "#7201a8"
            ],
            [
             0.3333333333333333,
             "#9c179e"
            ],
            [
             0.4444444444444444,
             "#bd3786"
            ],
            [
             0.5555555555555556,
             "#d8576b"
            ],
            [
             0.6666666666666666,
             "#ed7953"
            ],
            [
             0.7777777777777778,
             "#fb9f3a"
            ],
            [
             0.8888888888888888,
             "#fdca26"
            ],
            [
             1,
             "#f0f921"
            ]
           ],
           "sequentialminus": [
            [
             0,
             "#0d0887"
            ],
            [
             0.1111111111111111,
             "#46039f"
            ],
            [
             0.2222222222222222,
             "#7201a8"
            ],
            [
             0.3333333333333333,
             "#9c179e"
            ],
            [
             0.4444444444444444,
             "#bd3786"
            ],
            [
             0.5555555555555556,
             "#d8576b"
            ],
            [
             0.6666666666666666,
             "#ed7953"
            ],
            [
             0.7777777777777778,
             "#fb9f3a"
            ],
            [
             0.8888888888888888,
             "#fdca26"
            ],
            [
             1,
             "#f0f921"
            ]
           ]
          },
          "colorway": [
           "#636efa",
           "#EF553B",
           "#00cc96",
           "#ab63fa",
           "#FFA15A",
           "#19d3f3",
           "#FF6692",
           "#B6E880",
           "#FF97FF",
           "#FECB52"
          ],
          "font": {
           "color": "#2a3f5f"
          },
          "geo": {
           "bgcolor": "white",
           "lakecolor": "white",
           "landcolor": "#E5ECF6",
           "showlakes": true,
           "showland": true,
           "subunitcolor": "white"
          },
          "hoverlabel": {
           "align": "left"
          },
          "hovermode": "closest",
          "mapbox": {
           "style": "light"
          },
          "paper_bgcolor": "white",
          "plot_bgcolor": "#E5ECF6",
          "polar": {
           "angularaxis": {
            "gridcolor": "white",
            "linecolor": "white",
            "ticks": ""
           },
           "bgcolor": "#E5ECF6",
           "radialaxis": {
            "gridcolor": "white",
            "linecolor": "white",
            "ticks": ""
           }
          },
          "scene": {
           "xaxis": {
            "backgroundcolor": "#E5ECF6",
            "gridcolor": "white",
            "gridwidth": 2,
            "linecolor": "white",
            "showbackground": true,
            "ticks": "",
            "zerolinecolor": "white"
           },
           "yaxis": {
            "backgroundcolor": "#E5ECF6",
            "gridcolor": "white",
            "gridwidth": 2,
            "linecolor": "white",
            "showbackground": true,
            "ticks": "",
            "zerolinecolor": "white"
           },
           "zaxis": {
            "backgroundcolor": "#E5ECF6",
            "gridcolor": "white",
            "gridwidth": 2,
            "linecolor": "white",
            "showbackground": true,
            "ticks": "",
            "zerolinecolor": "white"
           }
          },
          "shapedefaults": {
           "line": {
            "color": "#2a3f5f"
           }
          },
          "ternary": {
           "aaxis": {
            "gridcolor": "white",
            "linecolor": "white",
            "ticks": ""
           },
           "baxis": {
            "gridcolor": "white",
            "linecolor": "white",
            "ticks": ""
           },
           "bgcolor": "#E5ECF6",
           "caxis": {
            "gridcolor": "white",
            "linecolor": "white",
            "ticks": ""
           }
          },
          "title": {
           "x": 0.05
          },
          "xaxis": {
           "automargin": true,
           "gridcolor": "white",
           "linecolor": "white",
           "ticks": "",
           "title": {
            "standoff": 15
           },
           "zerolinecolor": "white",
           "zerolinewidth": 2
          },
          "yaxis": {
           "automargin": true,
           "gridcolor": "white",
           "linecolor": "white",
           "ticks": "",
           "title": {
            "standoff": 15
           },
           "zerolinecolor": "white",
           "zerolinewidth": 2
          }
         }
        },
        "title": {
         "font": {
          "size": 30
         },
         "text": "Person_id: 3912882389848878631"
        },
        "xaxis": {
         "anchor": "y",
         "domain": [
          0,
          0.16799999999999998
         ]
        },
        "xaxis2": {
         "anchor": "y2",
         "domain": [
          0.208,
          0.376
         ]
        },
        "xaxis3": {
         "anchor": "y3",
         "domain": [
          0.416,
          0.584
         ]
        },
        "xaxis4": {
         "anchor": "y4",
         "domain": [
          0.624,
          0.792
         ]
        },
        "xaxis5": {
         "anchor": "y5",
         "domain": [
          0.832,
          1
         ]
        },
        "yaxis": {
         "anchor": "x",
         "domain": [
          0,
          1
         ]
        },
        "yaxis2": {
         "anchor": "x2",
         "domain": [
          0,
          1
         ]
        },
        "yaxis3": {
         "anchor": "x3",
         "domain": [
          0,
          1
         ]
        },
        "yaxis4": {
         "anchor": "x4",
         "domain": [
          0,
          1
         ]
        },
        "yaxis5": {
         "anchor": "x5",
         "domain": [
          0,
          1
         ]
        }
       }
      }
     },
     "metadata": {},
     "output_type": "display_data"
    }
   ],
   "source": [
    "patient = patient.sort_values(by='drug_exposure_start_datetime')\n",
    "number_types = patient.dose_unit_source_value.describe()['unique']\n",
    "\n",
    "fig3 = make_subplots(rows = 1, cols = number_types, subplot_titles=(patient.dose_unit_source_value.value_counts().index))\n",
    "colonne = 1\n",
    "\n",
    "for drug_type in patient.dose_unit_source_value.value_counts().index:\n",
    "    #print(drug_type)\n",
    "\n",
    "    for d in patient[patient.dose_unit_source_value == drug_type].concept_name.unique():\n",
    "        \n",
    "        temp = patient[patient.concept_name == d]\n",
    "        nom_drug = str(d)[0:50] # I hav to limit because some are too long... ut How to be sue we have everything needed ?\n",
    "\n",
    "        #print(temp.dose_unit_source_value.unique())\n",
    "        fig3.add_trace(go.Scatter(x = temp.drug_exposure_start_datetime, y = temp.quantity, name=f'{nom_drug}, {temp.dose_unit_source_value.unique()}'), row=1, col=colonne)\n",
    "\n",
    "    colonne += 1\n",
    "\n",
    "fig3.update_layout(title=dict(text=f'Person_id: {patient.person_id[0]}', font=dict(size=30)))\n",
    "\n",
    "\n",
    "\n",
    "fig3.show()"
   ]
  },
  {
   "cell_type": "code",
   "execution_count": 132,
   "metadata": {},
   "outputs": [
    {
     "data": {
      "application/vnd.plotly.v1+json": {
       "config": {
        "plotlyServerURL": "https://plot.ly"
       },
       "data": [
        {
         "name": "723020.0, ['TAB']",
         "type": "scatter",
         "visible": true,
         "x": [
          "2129-01-03 19:00:00"
         ],
         "y": [
          1
         ]
        },
        {
         "name": "1127433.0, ['TAB']",
         "type": "scatter",
         "visible": true,
         "x": [
          "2129-01-03 20:00:00"
         ],
         "y": [
          2
         ]
        },
        {
         "name": "40232756.0, ['TAB']",
         "type": "scatter",
         "visible": true,
         "x": [
          "2129-01-04 18:00:00",
          "2129-01-04 21:00:00",
          "2129-01-05 00:00:00",
          "2129-01-05 02:00:00"
         ],
         "y": [
          0.5,
          1,
          1.5,
          1
         ]
        },
        {
         "name": "nan, []",
         "type": "scatter",
         "visible": true,
         "x": [],
         "y": []
        },
        {
         "name": "19137328.0, ['TAB']",
         "type": "scatter",
         "visible": true,
         "x": [
          "2129-01-05 08:00:00"
         ],
         "y": [
          1
         ]
        },
        {
         "name": "19077513.0, ['TAB']",
         "type": "scatter",
         "visible": true,
         "x": [
          "2129-01-05 08:00:00"
         ],
         "y": [
          1
         ]
        }
       ],
       "layout": {
        "showlegend": true,
        "template": {
         "data": {
          "bar": [
           {
            "error_x": {
             "color": "#2a3f5f"
            },
            "error_y": {
             "color": "#2a3f5f"
            },
            "marker": {
             "line": {
              "color": "#E5ECF6",
              "width": 0.5
             },
             "pattern": {
              "fillmode": "overlay",
              "size": 10,
              "solidity": 0.2
             }
            },
            "type": "bar"
           }
          ],
          "barpolar": [
           {
            "marker": {
             "line": {
              "color": "#E5ECF6",
              "width": 0.5
             },
             "pattern": {
              "fillmode": "overlay",
              "size": 10,
              "solidity": 0.2
             }
            },
            "type": "barpolar"
           }
          ],
          "carpet": [
           {
            "aaxis": {
             "endlinecolor": "#2a3f5f",
             "gridcolor": "white",
             "linecolor": "white",
             "minorgridcolor": "white",
             "startlinecolor": "#2a3f5f"
            },
            "baxis": {
             "endlinecolor": "#2a3f5f",
             "gridcolor": "white",
             "linecolor": "white",
             "minorgridcolor": "white",
             "startlinecolor": "#2a3f5f"
            },
            "type": "carpet"
           }
          ],
          "choropleth": [
           {
            "colorbar": {
             "outlinewidth": 0,
             "ticks": ""
            },
            "type": "choropleth"
           }
          ],
          "contour": [
           {
            "colorbar": {
             "outlinewidth": 0,
             "ticks": ""
            },
            "colorscale": [
             [
              0,
              "#0d0887"
             ],
             [
              0.1111111111111111,
              "#46039f"
             ],
             [
              0.2222222222222222,
              "#7201a8"
             ],
             [
              0.3333333333333333,
              "#9c179e"
             ],
             [
              0.4444444444444444,
              "#bd3786"
             ],
             [
              0.5555555555555556,
              "#d8576b"
             ],
             [
              0.6666666666666666,
              "#ed7953"
             ],
             [
              0.7777777777777778,
              "#fb9f3a"
             ],
             [
              0.8888888888888888,
              "#fdca26"
             ],
             [
              1,
              "#f0f921"
             ]
            ],
            "type": "contour"
           }
          ],
          "contourcarpet": [
           {
            "colorbar": {
             "outlinewidth": 0,
             "ticks": ""
            },
            "type": "contourcarpet"
           }
          ],
          "heatmap": [
           {
            "colorbar": {
             "outlinewidth": 0,
             "ticks": ""
            },
            "colorscale": [
             [
              0,
              "#0d0887"
             ],
             [
              0.1111111111111111,
              "#46039f"
             ],
             [
              0.2222222222222222,
              "#7201a8"
             ],
             [
              0.3333333333333333,
              "#9c179e"
             ],
             [
              0.4444444444444444,
              "#bd3786"
             ],
             [
              0.5555555555555556,
              "#d8576b"
             ],
             [
              0.6666666666666666,
              "#ed7953"
             ],
             [
              0.7777777777777778,
              "#fb9f3a"
             ],
             [
              0.8888888888888888,
              "#fdca26"
             ],
             [
              1,
              "#f0f921"
             ]
            ],
            "type": "heatmap"
           }
          ],
          "heatmapgl": [
           {
            "colorbar": {
             "outlinewidth": 0,
             "ticks": ""
            },
            "colorscale": [
             [
              0,
              "#0d0887"
             ],
             [
              0.1111111111111111,
              "#46039f"
             ],
             [
              0.2222222222222222,
              "#7201a8"
             ],
             [
              0.3333333333333333,
              "#9c179e"
             ],
             [
              0.4444444444444444,
              "#bd3786"
             ],
             [
              0.5555555555555556,
              "#d8576b"
             ],
             [
              0.6666666666666666,
              "#ed7953"
             ],
             [
              0.7777777777777778,
              "#fb9f3a"
             ],
             [
              0.8888888888888888,
              "#fdca26"
             ],
             [
              1,
              "#f0f921"
             ]
            ],
            "type": "heatmapgl"
           }
          ],
          "histogram": [
           {
            "marker": {
             "pattern": {
              "fillmode": "overlay",
              "size": 10,
              "solidity": 0.2
             }
            },
            "type": "histogram"
           }
          ],
          "histogram2d": [
           {
            "colorbar": {
             "outlinewidth": 0,
             "ticks": ""
            },
            "colorscale": [
             [
              0,
              "#0d0887"
             ],
             [
              0.1111111111111111,
              "#46039f"
             ],
             [
              0.2222222222222222,
              "#7201a8"
             ],
             [
              0.3333333333333333,
              "#9c179e"
             ],
             [
              0.4444444444444444,
              "#bd3786"
             ],
             [
              0.5555555555555556,
              "#d8576b"
             ],
             [
              0.6666666666666666,
              "#ed7953"
             ],
             [
              0.7777777777777778,
              "#fb9f3a"
             ],
             [
              0.8888888888888888,
              "#fdca26"
             ],
             [
              1,
              "#f0f921"
             ]
            ],
            "type": "histogram2d"
           }
          ],
          "histogram2dcontour": [
           {
            "colorbar": {
             "outlinewidth": 0,
             "ticks": ""
            },
            "colorscale": [
             [
              0,
              "#0d0887"
             ],
             [
              0.1111111111111111,
              "#46039f"
             ],
             [
              0.2222222222222222,
              "#7201a8"
             ],
             [
              0.3333333333333333,
              "#9c179e"
             ],
             [
              0.4444444444444444,
              "#bd3786"
             ],
             [
              0.5555555555555556,
              "#d8576b"
             ],
             [
              0.6666666666666666,
              "#ed7953"
             ],
             [
              0.7777777777777778,
              "#fb9f3a"
             ],
             [
              0.8888888888888888,
              "#fdca26"
             ],
             [
              1,
              "#f0f921"
             ]
            ],
            "type": "histogram2dcontour"
           }
          ],
          "mesh3d": [
           {
            "colorbar": {
             "outlinewidth": 0,
             "ticks": ""
            },
            "type": "mesh3d"
           }
          ],
          "parcoords": [
           {
            "line": {
             "colorbar": {
              "outlinewidth": 0,
              "ticks": ""
             }
            },
            "type": "parcoords"
           }
          ],
          "pie": [
           {
            "automargin": true,
            "type": "pie"
           }
          ],
          "scatter": [
           {
            "fillpattern": {
             "fillmode": "overlay",
             "size": 10,
             "solidity": 0.2
            },
            "type": "scatter"
           }
          ],
          "scatter3d": [
           {
            "line": {
             "colorbar": {
              "outlinewidth": 0,
              "ticks": ""
             }
            },
            "marker": {
             "colorbar": {
              "outlinewidth": 0,
              "ticks": ""
             }
            },
            "type": "scatter3d"
           }
          ],
          "scattercarpet": [
           {
            "marker": {
             "colorbar": {
              "outlinewidth": 0,
              "ticks": ""
             }
            },
            "type": "scattercarpet"
           }
          ],
          "scattergeo": [
           {
            "marker": {
             "colorbar": {
              "outlinewidth": 0,
              "ticks": ""
             }
            },
            "type": "scattergeo"
           }
          ],
          "scattergl": [
           {
            "marker": {
             "colorbar": {
              "outlinewidth": 0,
              "ticks": ""
             }
            },
            "type": "scattergl"
           }
          ],
          "scattermapbox": [
           {
            "marker": {
             "colorbar": {
              "outlinewidth": 0,
              "ticks": ""
             }
            },
            "type": "scattermapbox"
           }
          ],
          "scatterpolar": [
           {
            "marker": {
             "colorbar": {
              "outlinewidth": 0,
              "ticks": ""
             }
            },
            "type": "scatterpolar"
           }
          ],
          "scatterpolargl": [
           {
            "marker": {
             "colorbar": {
              "outlinewidth": 0,
              "ticks": ""
             }
            },
            "type": "scatterpolargl"
           }
          ],
          "scatterternary": [
           {
            "marker": {
             "colorbar": {
              "outlinewidth": 0,
              "ticks": ""
             }
            },
            "type": "scatterternary"
           }
          ],
          "surface": [
           {
            "colorbar": {
             "outlinewidth": 0,
             "ticks": ""
            },
            "colorscale": [
             [
              0,
              "#0d0887"
             ],
             [
              0.1111111111111111,
              "#46039f"
             ],
             [
              0.2222222222222222,
              "#7201a8"
             ],
             [
              0.3333333333333333,
              "#9c179e"
             ],
             [
              0.4444444444444444,
              "#bd3786"
             ],
             [
              0.5555555555555556,
              "#d8576b"
             ],
             [
              0.6666666666666666,
              "#ed7953"
             ],
             [
              0.7777777777777778,
              "#fb9f3a"
             ],
             [
              0.8888888888888888,
              "#fdca26"
             ],
             [
              1,
              "#f0f921"
             ]
            ],
            "type": "surface"
           }
          ],
          "table": [
           {
            "cells": {
             "fill": {
              "color": "#EBF0F8"
             },
             "line": {
              "color": "white"
             }
            },
            "header": {
             "fill": {
              "color": "#C8D4E3"
             },
             "line": {
              "color": "white"
             }
            },
            "type": "table"
           }
          ]
         },
         "layout": {
          "annotationdefaults": {
           "arrowcolor": "#2a3f5f",
           "arrowhead": 0,
           "arrowwidth": 1
          },
          "autotypenumbers": "strict",
          "coloraxis": {
           "colorbar": {
            "outlinewidth": 0,
            "ticks": ""
           }
          },
          "colorscale": {
           "diverging": [
            [
             0,
             "#8e0152"
            ],
            [
             0.1,
             "#c51b7d"
            ],
            [
             0.2,
             "#de77ae"
            ],
            [
             0.3,
             "#f1b6da"
            ],
            [
             0.4,
             "#fde0ef"
            ],
            [
             0.5,
             "#f7f7f7"
            ],
            [
             0.6,
             "#e6f5d0"
            ],
            [
             0.7,
             "#b8e186"
            ],
            [
             0.8,
             "#7fbc41"
            ],
            [
             0.9,
             "#4d9221"
            ],
            [
             1,
             "#276419"
            ]
           ],
           "sequential": [
            [
             0,
             "#0d0887"
            ],
            [
             0.1111111111111111,
             "#46039f"
            ],
            [
             0.2222222222222222,
             "#7201a8"
            ],
            [
             0.3333333333333333,
             "#9c179e"
            ],
            [
             0.4444444444444444,
             "#bd3786"
            ],
            [
             0.5555555555555556,
             "#d8576b"
            ],
            [
             0.6666666666666666,
             "#ed7953"
            ],
            [
             0.7777777777777778,
             "#fb9f3a"
            ],
            [
             0.8888888888888888,
             "#fdca26"
            ],
            [
             1,
             "#f0f921"
            ]
           ],
           "sequentialminus": [
            [
             0,
             "#0d0887"
            ],
            [
             0.1111111111111111,
             "#46039f"
            ],
            [
             0.2222222222222222,
             "#7201a8"
            ],
            [
             0.3333333333333333,
             "#9c179e"
            ],
            [
             0.4444444444444444,
             "#bd3786"
            ],
            [
             0.5555555555555556,
             "#d8576b"
            ],
            [
             0.6666666666666666,
             "#ed7953"
            ],
            [
             0.7777777777777778,
             "#fb9f3a"
            ],
            [
             0.8888888888888888,
             "#fdca26"
            ],
            [
             1,
             "#f0f921"
            ]
           ]
          },
          "colorway": [
           "#636efa",
           "#EF553B",
           "#00cc96",
           "#ab63fa",
           "#FFA15A",
           "#19d3f3",
           "#FF6692",
           "#B6E880",
           "#FF97FF",
           "#FECB52"
          ],
          "font": {
           "color": "#2a3f5f"
          },
          "geo": {
           "bgcolor": "white",
           "lakecolor": "white",
           "landcolor": "#E5ECF6",
           "showlakes": true,
           "showland": true,
           "subunitcolor": "white"
          },
          "hoverlabel": {
           "align": "left"
          },
          "hovermode": "closest",
          "mapbox": {
           "style": "light"
          },
          "paper_bgcolor": "white",
          "plot_bgcolor": "#E5ECF6",
          "polar": {
           "angularaxis": {
            "gridcolor": "white",
            "linecolor": "white",
            "ticks": ""
           },
           "bgcolor": "#E5ECF6",
           "radialaxis": {
            "gridcolor": "white",
            "linecolor": "white",
            "ticks": ""
           }
          },
          "scene": {
           "xaxis": {
            "backgroundcolor": "#E5ECF6",
            "gridcolor": "white",
            "gridwidth": 2,
            "linecolor": "white",
            "showbackground": true,
            "ticks": "",
            "zerolinecolor": "white"
           },
           "yaxis": {
            "backgroundcolor": "#E5ECF6",
            "gridcolor": "white",
            "gridwidth": 2,
            "linecolor": "white",
            "showbackground": true,
            "ticks": "",
            "zerolinecolor": "white"
           },
           "zaxis": {
            "backgroundcolor": "#E5ECF6",
            "gridcolor": "white",
            "gridwidth": 2,
            "linecolor": "white",
            "showbackground": true,
            "ticks": "",
            "zerolinecolor": "white"
           }
          },
          "shapedefaults": {
           "line": {
            "color": "#2a3f5f"
           }
          },
          "ternary": {
           "aaxis": {
            "gridcolor": "white",
            "linecolor": "white",
            "ticks": ""
           },
           "baxis": {
            "gridcolor": "white",
            "linecolor": "white",
            "ticks": ""
           },
           "bgcolor": "#E5ECF6",
           "caxis": {
            "gridcolor": "white",
            "linecolor": "white",
            "ticks": ""
           }
          },
          "title": {
           "x": 0.05
          },
          "xaxis": {
           "automargin": true,
           "gridcolor": "white",
           "linecolor": "white",
           "ticks": "",
           "title": {
            "standoff": 15
           },
           "zerolinecolor": "white",
           "zerolinewidth": 2
          },
          "yaxis": {
           "automargin": true,
           "gridcolor": "white",
           "linecolor": "white",
           "ticks": "",
           "title": {
            "standoff": 15
           },
           "zerolinecolor": "white",
           "zerolinewidth": 2
          }
         }
        },
        "updatemenus": [
         {
          "buttons": [
           {
            "args": [
             {
              "visible": [
               true,
               false,
               false,
               false,
               false,
               false
              ]
             }
            ],
            "args2": [
             {
              "visible": [
               false,
               true,
               true,
               true,
               true,
               true
              ]
             }
            ],
            "label": "723020.0",
            "method": "update",
            "visible": true
           },
           {
            "args": [
             {
              "visible": [
               false,
               true,
               false,
               false,
               false,
               false
              ]
             }
            ],
            "args2": [
             {
              "visible": [
               true,
               false,
               true,
               true,
               true,
               true
              ]
             }
            ],
            "label": "1127433.0",
            "method": "update",
            "visible": true
           },
           {
            "args": [
             {
              "visible": [
               false,
               false,
               true,
               false,
               false,
               false
              ]
             }
            ],
            "args2": [
             {
              "visible": [
               true,
               true,
               false,
               true,
               true,
               true
              ]
             }
            ],
            "label": "40232756.0",
            "method": "update",
            "visible": true
           },
           {
            "args": [
             {
              "visible": [
               false,
               false,
               false,
               false,
               false,
               false
              ]
             }
            ],
            "args2": [
             {
              "visible": [
               true,
               true,
               true,
               true,
               true,
               true
              ]
             }
            ],
            "label": "nan",
            "method": "update",
            "visible": true
           },
           {
            "args": [
             {
              "visible": [
               false,
               false,
               false,
               false,
               true,
               false
              ]
             }
            ],
            "args2": [
             {
              "visible": [
               true,
               true,
               true,
               true,
               false,
               true
              ]
             }
            ],
            "label": "19137328.0",
            "method": "update",
            "visible": true
           },
           {
            "args": [
             {
              "visible": [
               false,
               false,
               false,
               false,
               false,
               true
              ]
             }
            ],
            "args2": [
             {
              "visible": [
               true,
               true,
               true,
               true,
               true,
               false
              ]
             }
            ],
            "label": "19077513.0",
            "method": "update",
            "visible": true
           }
          ],
          "direction": "right",
          "showactive": true,
          "type": "buttons",
          "x": 0.7,
          "y": 1.3
         }
        ],
        "xaxis": {
         "rangeslider": {
          "autorange": true,
          "range": [
           "2129-01-03 19:00:00",
           "2129-01-11 08:00:00"
          ]
         }
        }
       }
      }
     },
     "metadata": {},
     "output_type": "display_data"
    },
    {
     "data": {
      "application/vnd.plotly.v1+json": {
       "config": {
        "plotlyServerURL": "https://plot.ly"
       },
       "data": [
        {
         "name": "19127213.0, ['SYR']",
         "type": "scatter",
         "visible": true,
         "x": [
          "2129-01-03 19:00:00",
          "2129-01-05 03:00:00"
         ],
         "y": [
          0.3,
          0.3
         ]
        },
        {
         "name": "45775137.0, ['SYR']",
         "type": "scatter",
         "visible": true,
         "x": [
          "2129-01-03 19:00:00"
         ],
         "y": [
          1
         ]
        },
        {
         "name": "40221329.0, ['SYR']",
         "type": "scatter",
         "visible": true,
         "x": [
          "2129-01-05 02:00:00"
         ],
         "y": [
          1
         ]
        },
        {
         "name": "19126251.0, ['SYR']",
         "type": "scatter",
         "visible": true,
         "x": [
          "2129-01-06 08:00:00",
          "2129-01-08 08:00:00",
          "2129-01-10 08:00:00",
          "2129-01-11 08:00:00"
         ],
         "y": [
          2.25,
          1.125,
          0.5625,
          0.2813
         ]
        }
       ],
       "layout": {
        "showlegend": true,
        "template": {
         "data": {
          "bar": [
           {
            "error_x": {
             "color": "#2a3f5f"
            },
            "error_y": {
             "color": "#2a3f5f"
            },
            "marker": {
             "line": {
              "color": "#E5ECF6",
              "width": 0.5
             },
             "pattern": {
              "fillmode": "overlay",
              "size": 10,
              "solidity": 0.2
             }
            },
            "type": "bar"
           }
          ],
          "barpolar": [
           {
            "marker": {
             "line": {
              "color": "#E5ECF6",
              "width": 0.5
             },
             "pattern": {
              "fillmode": "overlay",
              "size": 10,
              "solidity": 0.2
             }
            },
            "type": "barpolar"
           }
          ],
          "carpet": [
           {
            "aaxis": {
             "endlinecolor": "#2a3f5f",
             "gridcolor": "white",
             "linecolor": "white",
             "minorgridcolor": "white",
             "startlinecolor": "#2a3f5f"
            },
            "baxis": {
             "endlinecolor": "#2a3f5f",
             "gridcolor": "white",
             "linecolor": "white",
             "minorgridcolor": "white",
             "startlinecolor": "#2a3f5f"
            },
            "type": "carpet"
           }
          ],
          "choropleth": [
           {
            "colorbar": {
             "outlinewidth": 0,
             "ticks": ""
            },
            "type": "choropleth"
           }
          ],
          "contour": [
           {
            "colorbar": {
             "outlinewidth": 0,
             "ticks": ""
            },
            "colorscale": [
             [
              0,
              "#0d0887"
             ],
             [
              0.1111111111111111,
              "#46039f"
             ],
             [
              0.2222222222222222,
              "#7201a8"
             ],
             [
              0.3333333333333333,
              "#9c179e"
             ],
             [
              0.4444444444444444,
              "#bd3786"
             ],
             [
              0.5555555555555556,
              "#d8576b"
             ],
             [
              0.6666666666666666,
              "#ed7953"
             ],
             [
              0.7777777777777778,
              "#fb9f3a"
             ],
             [
              0.8888888888888888,
              "#fdca26"
             ],
             [
              1,
              "#f0f921"
             ]
            ],
            "type": "contour"
           }
          ],
          "contourcarpet": [
           {
            "colorbar": {
             "outlinewidth": 0,
             "ticks": ""
            },
            "type": "contourcarpet"
           }
          ],
          "heatmap": [
           {
            "colorbar": {
             "outlinewidth": 0,
             "ticks": ""
            },
            "colorscale": [
             [
              0,
              "#0d0887"
             ],
             [
              0.1111111111111111,
              "#46039f"
             ],
             [
              0.2222222222222222,
              "#7201a8"
             ],
             [
              0.3333333333333333,
              "#9c179e"
             ],
             [
              0.4444444444444444,
              "#bd3786"
             ],
             [
              0.5555555555555556,
              "#d8576b"
             ],
             [
              0.6666666666666666,
              "#ed7953"
             ],
             [
              0.7777777777777778,
              "#fb9f3a"
             ],
             [
              0.8888888888888888,
              "#fdca26"
             ],
             [
              1,
              "#f0f921"
             ]
            ],
            "type": "heatmap"
           }
          ],
          "heatmapgl": [
           {
            "colorbar": {
             "outlinewidth": 0,
             "ticks": ""
            },
            "colorscale": [
             [
              0,
              "#0d0887"
             ],
             [
              0.1111111111111111,
              "#46039f"
             ],
             [
              0.2222222222222222,
              "#7201a8"
             ],
             [
              0.3333333333333333,
              "#9c179e"
             ],
             [
              0.4444444444444444,
              "#bd3786"
             ],
             [
              0.5555555555555556,
              "#d8576b"
             ],
             [
              0.6666666666666666,
              "#ed7953"
             ],
             [
              0.7777777777777778,
              "#fb9f3a"
             ],
             [
              0.8888888888888888,
              "#fdca26"
             ],
             [
              1,
              "#f0f921"
             ]
            ],
            "type": "heatmapgl"
           }
          ],
          "histogram": [
           {
            "marker": {
             "pattern": {
              "fillmode": "overlay",
              "size": 10,
              "solidity": 0.2
             }
            },
            "type": "histogram"
           }
          ],
          "histogram2d": [
           {
            "colorbar": {
             "outlinewidth": 0,
             "ticks": ""
            },
            "colorscale": [
             [
              0,
              "#0d0887"
             ],
             [
              0.1111111111111111,
              "#46039f"
             ],
             [
              0.2222222222222222,
              "#7201a8"
             ],
             [
              0.3333333333333333,
              "#9c179e"
             ],
             [
              0.4444444444444444,
              "#bd3786"
             ],
             [
              0.5555555555555556,
              "#d8576b"
             ],
             [
              0.6666666666666666,
              "#ed7953"
             ],
             [
              0.7777777777777778,
              "#fb9f3a"
             ],
             [
              0.8888888888888888,
              "#fdca26"
             ],
             [
              1,
              "#f0f921"
             ]
            ],
            "type": "histogram2d"
           }
          ],
          "histogram2dcontour": [
           {
            "colorbar": {
             "outlinewidth": 0,
             "ticks": ""
            },
            "colorscale": [
             [
              0,
              "#0d0887"
             ],
             [
              0.1111111111111111,
              "#46039f"
             ],
             [
              0.2222222222222222,
              "#7201a8"
             ],
             [
              0.3333333333333333,
              "#9c179e"
             ],
             [
              0.4444444444444444,
              "#bd3786"
             ],
             [
              0.5555555555555556,
              "#d8576b"
             ],
             [
              0.6666666666666666,
              "#ed7953"
             ],
             [
              0.7777777777777778,
              "#fb9f3a"
             ],
             [
              0.8888888888888888,
              "#fdca26"
             ],
             [
              1,
              "#f0f921"
             ]
            ],
            "type": "histogram2dcontour"
           }
          ],
          "mesh3d": [
           {
            "colorbar": {
             "outlinewidth": 0,
             "ticks": ""
            },
            "type": "mesh3d"
           }
          ],
          "parcoords": [
           {
            "line": {
             "colorbar": {
              "outlinewidth": 0,
              "ticks": ""
             }
            },
            "type": "parcoords"
           }
          ],
          "pie": [
           {
            "automargin": true,
            "type": "pie"
           }
          ],
          "scatter": [
           {
            "fillpattern": {
             "fillmode": "overlay",
             "size": 10,
             "solidity": 0.2
            },
            "type": "scatter"
           }
          ],
          "scatter3d": [
           {
            "line": {
             "colorbar": {
              "outlinewidth": 0,
              "ticks": ""
             }
            },
            "marker": {
             "colorbar": {
              "outlinewidth": 0,
              "ticks": ""
             }
            },
            "type": "scatter3d"
           }
          ],
          "scattercarpet": [
           {
            "marker": {
             "colorbar": {
              "outlinewidth": 0,
              "ticks": ""
             }
            },
            "type": "scattercarpet"
           }
          ],
          "scattergeo": [
           {
            "marker": {
             "colorbar": {
              "outlinewidth": 0,
              "ticks": ""
             }
            },
            "type": "scattergeo"
           }
          ],
          "scattergl": [
           {
            "marker": {
             "colorbar": {
              "outlinewidth": 0,
              "ticks": ""
             }
            },
            "type": "scattergl"
           }
          ],
          "scattermapbox": [
           {
            "marker": {
             "colorbar": {
              "outlinewidth": 0,
              "ticks": ""
             }
            },
            "type": "scattermapbox"
           }
          ],
          "scatterpolar": [
           {
            "marker": {
             "colorbar": {
              "outlinewidth": 0,
              "ticks": ""
             }
            },
            "type": "scatterpolar"
           }
          ],
          "scatterpolargl": [
           {
            "marker": {
             "colorbar": {
              "outlinewidth": 0,
              "ticks": ""
             }
            },
            "type": "scatterpolargl"
           }
          ],
          "scatterternary": [
           {
            "marker": {
             "colorbar": {
              "outlinewidth": 0,
              "ticks": ""
             }
            },
            "type": "scatterternary"
           }
          ],
          "surface": [
           {
            "colorbar": {
             "outlinewidth": 0,
             "ticks": ""
            },
            "colorscale": [
             [
              0,
              "#0d0887"
             ],
             [
              0.1111111111111111,
              "#46039f"
             ],
             [
              0.2222222222222222,
              "#7201a8"
             ],
             [
              0.3333333333333333,
              "#9c179e"
             ],
             [
              0.4444444444444444,
              "#bd3786"
             ],
             [
              0.5555555555555556,
              "#d8576b"
             ],
             [
              0.6666666666666666,
              "#ed7953"
             ],
             [
              0.7777777777777778,
              "#fb9f3a"
             ],
             [
              0.8888888888888888,
              "#fdca26"
             ],
             [
              1,
              "#f0f921"
             ]
            ],
            "type": "surface"
           }
          ],
          "table": [
           {
            "cells": {
             "fill": {
              "color": "#EBF0F8"
             },
             "line": {
              "color": "white"
             }
            },
            "header": {
             "fill": {
              "color": "#C8D4E3"
             },
             "line": {
              "color": "white"
             }
            },
            "type": "table"
           }
          ]
         },
         "layout": {
          "annotationdefaults": {
           "arrowcolor": "#2a3f5f",
           "arrowhead": 0,
           "arrowwidth": 1
          },
          "autotypenumbers": "strict",
          "coloraxis": {
           "colorbar": {
            "outlinewidth": 0,
            "ticks": ""
           }
          },
          "colorscale": {
           "diverging": [
            [
             0,
             "#8e0152"
            ],
            [
             0.1,
             "#c51b7d"
            ],
            [
             0.2,
             "#de77ae"
            ],
            [
             0.3,
             "#f1b6da"
            ],
            [
             0.4,
             "#fde0ef"
            ],
            [
             0.5,
             "#f7f7f7"
            ],
            [
             0.6,
             "#e6f5d0"
            ],
            [
             0.7,
             "#b8e186"
            ],
            [
             0.8,
             "#7fbc41"
            ],
            [
             0.9,
             "#4d9221"
            ],
            [
             1,
             "#276419"
            ]
           ],
           "sequential": [
            [
             0,
             "#0d0887"
            ],
            [
             0.1111111111111111,
             "#46039f"
            ],
            [
             0.2222222222222222,
             "#7201a8"
            ],
            [
             0.3333333333333333,
             "#9c179e"
            ],
            [
             0.4444444444444444,
             "#bd3786"
            ],
            [
             0.5555555555555556,
             "#d8576b"
            ],
            [
             0.6666666666666666,
             "#ed7953"
            ],
            [
             0.7777777777777778,
             "#fb9f3a"
            ],
            [
             0.8888888888888888,
             "#fdca26"
            ],
            [
             1,
             "#f0f921"
            ]
           ],
           "sequentialminus": [
            [
             0,
             "#0d0887"
            ],
            [
             0.1111111111111111,
             "#46039f"
            ],
            [
             0.2222222222222222,
             "#7201a8"
            ],
            [
             0.3333333333333333,
             "#9c179e"
            ],
            [
             0.4444444444444444,
             "#bd3786"
            ],
            [
             0.5555555555555556,
             "#d8576b"
            ],
            [
             0.6666666666666666,
             "#ed7953"
            ],
            [
             0.7777777777777778,
             "#fb9f3a"
            ],
            [
             0.8888888888888888,
             "#fdca26"
            ],
            [
             1,
             "#f0f921"
            ]
           ]
          },
          "colorway": [
           "#636efa",
           "#EF553B",
           "#00cc96",
           "#ab63fa",
           "#FFA15A",
           "#19d3f3",
           "#FF6692",
           "#B6E880",
           "#FF97FF",
           "#FECB52"
          ],
          "font": {
           "color": "#2a3f5f"
          },
          "geo": {
           "bgcolor": "white",
           "lakecolor": "white",
           "landcolor": "#E5ECF6",
           "showlakes": true,
           "showland": true,
           "subunitcolor": "white"
          },
          "hoverlabel": {
           "align": "left"
          },
          "hovermode": "closest",
          "mapbox": {
           "style": "light"
          },
          "paper_bgcolor": "white",
          "plot_bgcolor": "#E5ECF6",
          "polar": {
           "angularaxis": {
            "gridcolor": "white",
            "linecolor": "white",
            "ticks": ""
           },
           "bgcolor": "#E5ECF6",
           "radialaxis": {
            "gridcolor": "white",
            "linecolor": "white",
            "ticks": ""
           }
          },
          "scene": {
           "xaxis": {
            "backgroundcolor": "#E5ECF6",
            "gridcolor": "white",
            "gridwidth": 2,
            "linecolor": "white",
            "showbackground": true,
            "ticks": "",
            "zerolinecolor": "white"
           },
           "yaxis": {
            "backgroundcolor": "#E5ECF6",
            "gridcolor": "white",
            "gridwidth": 2,
            "linecolor": "white",
            "showbackground": true,
            "ticks": "",
            "zerolinecolor": "white"
           },
           "zaxis": {
            "backgroundcolor": "#E5ECF6",
            "gridcolor": "white",
            "gridwidth": 2,
            "linecolor": "white",
            "showbackground": true,
            "ticks": "",
            "zerolinecolor": "white"
           }
          },
          "shapedefaults": {
           "line": {
            "color": "#2a3f5f"
           }
          },
          "ternary": {
           "aaxis": {
            "gridcolor": "white",
            "linecolor": "white",
            "ticks": ""
           },
           "baxis": {
            "gridcolor": "white",
            "linecolor": "white",
            "ticks": ""
           },
           "bgcolor": "#E5ECF6",
           "caxis": {
            "gridcolor": "white",
            "linecolor": "white",
            "ticks": ""
           }
          },
          "title": {
           "x": 0.05
          },
          "xaxis": {
           "automargin": true,
           "gridcolor": "white",
           "linecolor": "white",
           "ticks": "",
           "title": {
            "standoff": 15
           },
           "zerolinecolor": "white",
           "zerolinewidth": 2
          },
          "yaxis": {
           "automargin": true,
           "gridcolor": "white",
           "linecolor": "white",
           "ticks": "",
           "title": {
            "standoff": 15
           },
           "zerolinecolor": "white",
           "zerolinewidth": 2
          }
         }
        },
        "updatemenus": [
         {
          "buttons": [
           {
            "args": [
             {
              "visible": [
               true,
               false,
               false,
               false
              ]
             }
            ],
            "args2": [
             {
              "visible": [
               false,
               true,
               true,
               true
              ]
             }
            ],
            "label": "19127213.0",
            "method": "update",
            "visible": true
           },
           {
            "args": [
             {
              "visible": [
               false,
               true,
               false,
               false
              ]
             }
            ],
            "args2": [
             {
              "visible": [
               true,
               false,
               true,
               true
              ]
             }
            ],
            "label": "45775137.0",
            "method": "update",
            "visible": true
           },
           {
            "args": [
             {
              "visible": [
               false,
               false,
               true,
               false
              ]
             }
            ],
            "args2": [
             {
              "visible": [
               true,
               true,
               false,
               true
              ]
             }
            ],
            "label": "40221329.0",
            "method": "update",
            "visible": true
           },
           {
            "args": [
             {
              "visible": [
               false,
               false,
               false,
               true
              ]
             }
            ],
            "args2": [
             {
              "visible": [
               true,
               true,
               true,
               false
              ]
             }
            ],
            "label": "19126251.0",
            "method": "update",
            "visible": true
           }
          ],
          "direction": "right",
          "showactive": true,
          "type": "buttons",
          "x": 0.7,
          "y": 1.3
         }
        ],
        "xaxis": {
         "rangeslider": {
          "autorange": true,
          "range": [
           "2129-01-03 19:00:00",
           "2129-01-11 08:00:00"
          ]
         }
        }
       }
      }
     },
     "metadata": {},
     "output_type": "display_data"
    },
    {
     "data": {
      "application/vnd.plotly.v1+json": {
       "config": {
        "plotlyServerURL": "https://plot.ly"
       },
       "data": [
        {
         "name": "43011850.0, ['mL']",
         "type": "scatter",
         "visible": true,
         "x": [
          "2129-01-03 19:00:00"
         ],
         "y": [
          1
         ]
        },
        {
         "name": "36249736.0, ['mL']",
         "type": "scatter",
         "visible": true,
         "x": [
          "2129-01-05 03:00:00"
         ],
         "y": [
          100
         ]
        },
        {
         "name": "19079250.0, ['mL']",
         "type": "scatter",
         "visible": true,
         "x": [
          "2129-01-05 03:00:00"
         ],
         "y": [
          6
         ]
        },
        {
         "name": "734281.0, ['mL']",
         "type": "scatter",
         "visible": true,
         "x": [
          "2129-01-05 13:00:00",
          "2129-01-05 13:00:00"
         ],
         "y": [
          2.7692,
          2.7692
         ]
        }
       ],
       "layout": {
        "showlegend": true,
        "template": {
         "data": {
          "bar": [
           {
            "error_x": {
             "color": "#2a3f5f"
            },
            "error_y": {
             "color": "#2a3f5f"
            },
            "marker": {
             "line": {
              "color": "#E5ECF6",
              "width": 0.5
             },
             "pattern": {
              "fillmode": "overlay",
              "size": 10,
              "solidity": 0.2
             }
            },
            "type": "bar"
           }
          ],
          "barpolar": [
           {
            "marker": {
             "line": {
              "color": "#E5ECF6",
              "width": 0.5
             },
             "pattern": {
              "fillmode": "overlay",
              "size": 10,
              "solidity": 0.2
             }
            },
            "type": "barpolar"
           }
          ],
          "carpet": [
           {
            "aaxis": {
             "endlinecolor": "#2a3f5f",
             "gridcolor": "white",
             "linecolor": "white",
             "minorgridcolor": "white",
             "startlinecolor": "#2a3f5f"
            },
            "baxis": {
             "endlinecolor": "#2a3f5f",
             "gridcolor": "white",
             "linecolor": "white",
             "minorgridcolor": "white",
             "startlinecolor": "#2a3f5f"
            },
            "type": "carpet"
           }
          ],
          "choropleth": [
           {
            "colorbar": {
             "outlinewidth": 0,
             "ticks": ""
            },
            "type": "choropleth"
           }
          ],
          "contour": [
           {
            "colorbar": {
             "outlinewidth": 0,
             "ticks": ""
            },
            "colorscale": [
             [
              0,
              "#0d0887"
             ],
             [
              0.1111111111111111,
              "#46039f"
             ],
             [
              0.2222222222222222,
              "#7201a8"
             ],
             [
              0.3333333333333333,
              "#9c179e"
             ],
             [
              0.4444444444444444,
              "#bd3786"
             ],
             [
              0.5555555555555556,
              "#d8576b"
             ],
             [
              0.6666666666666666,
              "#ed7953"
             ],
             [
              0.7777777777777778,
              "#fb9f3a"
             ],
             [
              0.8888888888888888,
              "#fdca26"
             ],
             [
              1,
              "#f0f921"
             ]
            ],
            "type": "contour"
           }
          ],
          "contourcarpet": [
           {
            "colorbar": {
             "outlinewidth": 0,
             "ticks": ""
            },
            "type": "contourcarpet"
           }
          ],
          "heatmap": [
           {
            "colorbar": {
             "outlinewidth": 0,
             "ticks": ""
            },
            "colorscale": [
             [
              0,
              "#0d0887"
             ],
             [
              0.1111111111111111,
              "#46039f"
             ],
             [
              0.2222222222222222,
              "#7201a8"
             ],
             [
              0.3333333333333333,
              "#9c179e"
             ],
             [
              0.4444444444444444,
              "#bd3786"
             ],
             [
              0.5555555555555556,
              "#d8576b"
             ],
             [
              0.6666666666666666,
              "#ed7953"
             ],
             [
              0.7777777777777778,
              "#fb9f3a"
             ],
             [
              0.8888888888888888,
              "#fdca26"
             ],
             [
              1,
              "#f0f921"
             ]
            ],
            "type": "heatmap"
           }
          ],
          "heatmapgl": [
           {
            "colorbar": {
             "outlinewidth": 0,
             "ticks": ""
            },
            "colorscale": [
             [
              0,
              "#0d0887"
             ],
             [
              0.1111111111111111,
              "#46039f"
             ],
             [
              0.2222222222222222,
              "#7201a8"
             ],
             [
              0.3333333333333333,
              "#9c179e"
             ],
             [
              0.4444444444444444,
              "#bd3786"
             ],
             [
              0.5555555555555556,
              "#d8576b"
             ],
             [
              0.6666666666666666,
              "#ed7953"
             ],
             [
              0.7777777777777778,
              "#fb9f3a"
             ],
             [
              0.8888888888888888,
              "#fdca26"
             ],
             [
              1,
              "#f0f921"
             ]
            ],
            "type": "heatmapgl"
           }
          ],
          "histogram": [
           {
            "marker": {
             "pattern": {
              "fillmode": "overlay",
              "size": 10,
              "solidity": 0.2
             }
            },
            "type": "histogram"
           }
          ],
          "histogram2d": [
           {
            "colorbar": {
             "outlinewidth": 0,
             "ticks": ""
            },
            "colorscale": [
             [
              0,
              "#0d0887"
             ],
             [
              0.1111111111111111,
              "#46039f"
             ],
             [
              0.2222222222222222,
              "#7201a8"
             ],
             [
              0.3333333333333333,
              "#9c179e"
             ],
             [
              0.4444444444444444,
              "#bd3786"
             ],
             [
              0.5555555555555556,
              "#d8576b"
             ],
             [
              0.6666666666666666,
              "#ed7953"
             ],
             [
              0.7777777777777778,
              "#fb9f3a"
             ],
             [
              0.8888888888888888,
              "#fdca26"
             ],
             [
              1,
              "#f0f921"
             ]
            ],
            "type": "histogram2d"
           }
          ],
          "histogram2dcontour": [
           {
            "colorbar": {
             "outlinewidth": 0,
             "ticks": ""
            },
            "colorscale": [
             [
              0,
              "#0d0887"
             ],
             [
              0.1111111111111111,
              "#46039f"
             ],
             [
              0.2222222222222222,
              "#7201a8"
             ],
             [
              0.3333333333333333,
              "#9c179e"
             ],
             [
              0.4444444444444444,
              "#bd3786"
             ],
             [
              0.5555555555555556,
              "#d8576b"
             ],
             [
              0.6666666666666666,
              "#ed7953"
             ],
             [
              0.7777777777777778,
              "#fb9f3a"
             ],
             [
              0.8888888888888888,
              "#fdca26"
             ],
             [
              1,
              "#f0f921"
             ]
            ],
            "type": "histogram2dcontour"
           }
          ],
          "mesh3d": [
           {
            "colorbar": {
             "outlinewidth": 0,
             "ticks": ""
            },
            "type": "mesh3d"
           }
          ],
          "parcoords": [
           {
            "line": {
             "colorbar": {
              "outlinewidth": 0,
              "ticks": ""
             }
            },
            "type": "parcoords"
           }
          ],
          "pie": [
           {
            "automargin": true,
            "type": "pie"
           }
          ],
          "scatter": [
           {
            "fillpattern": {
             "fillmode": "overlay",
             "size": 10,
             "solidity": 0.2
            },
            "type": "scatter"
           }
          ],
          "scatter3d": [
           {
            "line": {
             "colorbar": {
              "outlinewidth": 0,
              "ticks": ""
             }
            },
            "marker": {
             "colorbar": {
              "outlinewidth": 0,
              "ticks": ""
             }
            },
            "type": "scatter3d"
           }
          ],
          "scattercarpet": [
           {
            "marker": {
             "colorbar": {
              "outlinewidth": 0,
              "ticks": ""
             }
            },
            "type": "scattercarpet"
           }
          ],
          "scattergeo": [
           {
            "marker": {
             "colorbar": {
              "outlinewidth": 0,
              "ticks": ""
             }
            },
            "type": "scattergeo"
           }
          ],
          "scattergl": [
           {
            "marker": {
             "colorbar": {
              "outlinewidth": 0,
              "ticks": ""
             }
            },
            "type": "scattergl"
           }
          ],
          "scattermapbox": [
           {
            "marker": {
             "colorbar": {
              "outlinewidth": 0,
              "ticks": ""
             }
            },
            "type": "scattermapbox"
           }
          ],
          "scatterpolar": [
           {
            "marker": {
             "colorbar": {
              "outlinewidth": 0,
              "ticks": ""
             }
            },
            "type": "scatterpolar"
           }
          ],
          "scatterpolargl": [
           {
            "marker": {
             "colorbar": {
              "outlinewidth": 0,
              "ticks": ""
             }
            },
            "type": "scatterpolargl"
           }
          ],
          "scatterternary": [
           {
            "marker": {
             "colorbar": {
              "outlinewidth": 0,
              "ticks": ""
             }
            },
            "type": "scatterternary"
           }
          ],
          "surface": [
           {
            "colorbar": {
             "outlinewidth": 0,
             "ticks": ""
            },
            "colorscale": [
             [
              0,
              "#0d0887"
             ],
             [
              0.1111111111111111,
              "#46039f"
             ],
             [
              0.2222222222222222,
              "#7201a8"
             ],
             [
              0.3333333333333333,
              "#9c179e"
             ],
             [
              0.4444444444444444,
              "#bd3786"
             ],
             [
              0.5555555555555556,
              "#d8576b"
             ],
             [
              0.6666666666666666,
              "#ed7953"
             ],
             [
              0.7777777777777778,
              "#fb9f3a"
             ],
             [
              0.8888888888888888,
              "#fdca26"
             ],
             [
              1,
              "#f0f921"
             ]
            ],
            "type": "surface"
           }
          ],
          "table": [
           {
            "cells": {
             "fill": {
              "color": "#EBF0F8"
             },
             "line": {
              "color": "white"
             }
            },
            "header": {
             "fill": {
              "color": "#C8D4E3"
             },
             "line": {
              "color": "white"
             }
            },
            "type": "table"
           }
          ]
         },
         "layout": {
          "annotationdefaults": {
           "arrowcolor": "#2a3f5f",
           "arrowhead": 0,
           "arrowwidth": 1
          },
          "autotypenumbers": "strict",
          "coloraxis": {
           "colorbar": {
            "outlinewidth": 0,
            "ticks": ""
           }
          },
          "colorscale": {
           "diverging": [
            [
             0,
             "#8e0152"
            ],
            [
             0.1,
             "#c51b7d"
            ],
            [
             0.2,
             "#de77ae"
            ],
            [
             0.3,
             "#f1b6da"
            ],
            [
             0.4,
             "#fde0ef"
            ],
            [
             0.5,
             "#f7f7f7"
            ],
            [
             0.6,
             "#e6f5d0"
            ],
            [
             0.7,
             "#b8e186"
            ],
            [
             0.8,
             "#7fbc41"
            ],
            [
             0.9,
             "#4d9221"
            ],
            [
             1,
             "#276419"
            ]
           ],
           "sequential": [
            [
             0,
             "#0d0887"
            ],
            [
             0.1111111111111111,
             "#46039f"
            ],
            [
             0.2222222222222222,
             "#7201a8"
            ],
            [
             0.3333333333333333,
             "#9c179e"
            ],
            [
             0.4444444444444444,
             "#bd3786"
            ],
            [
             0.5555555555555556,
             "#d8576b"
            ],
            [
             0.6666666666666666,
             "#ed7953"
            ],
            [
             0.7777777777777778,
             "#fb9f3a"
            ],
            [
             0.8888888888888888,
             "#fdca26"
            ],
            [
             1,
             "#f0f921"
            ]
           ],
           "sequentialminus": [
            [
             0,
             "#0d0887"
            ],
            [
             0.1111111111111111,
             "#46039f"
            ],
            [
             0.2222222222222222,
             "#7201a8"
            ],
            [
             0.3333333333333333,
             "#9c179e"
            ],
            [
             0.4444444444444444,
             "#bd3786"
            ],
            [
             0.5555555555555556,
             "#d8576b"
            ],
            [
             0.6666666666666666,
             "#ed7953"
            ],
            [
             0.7777777777777778,
             "#fb9f3a"
            ],
            [
             0.8888888888888888,
             "#fdca26"
            ],
            [
             1,
             "#f0f921"
            ]
           ]
          },
          "colorway": [
           "#636efa",
           "#EF553B",
           "#00cc96",
           "#ab63fa",
           "#FFA15A",
           "#19d3f3",
           "#FF6692",
           "#B6E880",
           "#FF97FF",
           "#FECB52"
          ],
          "font": {
           "color": "#2a3f5f"
          },
          "geo": {
           "bgcolor": "white",
           "lakecolor": "white",
           "landcolor": "#E5ECF6",
           "showlakes": true,
           "showland": true,
           "subunitcolor": "white"
          },
          "hoverlabel": {
           "align": "left"
          },
          "hovermode": "closest",
          "mapbox": {
           "style": "light"
          },
          "paper_bgcolor": "white",
          "plot_bgcolor": "#E5ECF6",
          "polar": {
           "angularaxis": {
            "gridcolor": "white",
            "linecolor": "white",
            "ticks": ""
           },
           "bgcolor": "#E5ECF6",
           "radialaxis": {
            "gridcolor": "white",
            "linecolor": "white",
            "ticks": ""
           }
          },
          "scene": {
           "xaxis": {
            "backgroundcolor": "#E5ECF6",
            "gridcolor": "white",
            "gridwidth": 2,
            "linecolor": "white",
            "showbackground": true,
            "ticks": "",
            "zerolinecolor": "white"
           },
           "yaxis": {
            "backgroundcolor": "#E5ECF6",
            "gridcolor": "white",
            "gridwidth": 2,
            "linecolor": "white",
            "showbackground": true,
            "ticks": "",
            "zerolinecolor": "white"
           },
           "zaxis": {
            "backgroundcolor": "#E5ECF6",
            "gridcolor": "white",
            "gridwidth": 2,
            "linecolor": "white",
            "showbackground": true,
            "ticks": "",
            "zerolinecolor": "white"
           }
          },
          "shapedefaults": {
           "line": {
            "color": "#2a3f5f"
           }
          },
          "ternary": {
           "aaxis": {
            "gridcolor": "white",
            "linecolor": "white",
            "ticks": ""
           },
           "baxis": {
            "gridcolor": "white",
            "linecolor": "white",
            "ticks": ""
           },
           "bgcolor": "#E5ECF6",
           "caxis": {
            "gridcolor": "white",
            "linecolor": "white",
            "ticks": ""
           }
          },
          "title": {
           "x": 0.05
          },
          "xaxis": {
           "automargin": true,
           "gridcolor": "white",
           "linecolor": "white",
           "ticks": "",
           "title": {
            "standoff": 15
           },
           "zerolinecolor": "white",
           "zerolinewidth": 2
          },
          "yaxis": {
           "automargin": true,
           "gridcolor": "white",
           "linecolor": "white",
           "ticks": "",
           "title": {
            "standoff": 15
           },
           "zerolinecolor": "white",
           "zerolinewidth": 2
          }
         }
        },
        "updatemenus": [
         {
          "buttons": [
           {
            "args": [
             {
              "visible": [
               true,
               false,
               false,
               false
              ]
             }
            ],
            "args2": [
             {
              "visible": [
               false,
               true,
               true,
               true
              ]
             }
            ],
            "label": "43011850.0",
            "method": "update",
            "visible": true
           },
           {
            "args": [
             {
              "visible": [
               false,
               true,
               false,
               false
              ]
             }
            ],
            "args2": [
             {
              "visible": [
               true,
               false,
               true,
               true
              ]
             }
            ],
            "label": "36249736.0",
            "method": "update",
            "visible": true
           },
           {
            "args": [
             {
              "visible": [
               false,
               false,
               true,
               false
              ]
             }
            ],
            "args2": [
             {
              "visible": [
               true,
               true,
               false,
               true
              ]
             }
            ],
            "label": "19079250.0",
            "method": "update",
            "visible": true
           },
           {
            "args": [
             {
              "visible": [
               false,
               false,
               false,
               true
              ]
             }
            ],
            "args2": [
             {
              "visible": [
               true,
               true,
               true,
               false
              ]
             }
            ],
            "label": "734281.0",
            "method": "update",
            "visible": true
           }
          ],
          "direction": "right",
          "showactive": true,
          "type": "buttons",
          "x": 0.7,
          "y": 1.3
         }
        ],
        "xaxis": {
         "rangeslider": {
          "autorange": true,
          "range": [
           "2129-01-03 19:00:00",
           "2129-01-11 08:00:00"
          ]
         }
        }
       }
      }
     },
     "metadata": {},
     "output_type": "display_data"
    },
    {
     "data": {
      "application/vnd.plotly.v1+json": {
       "config": {
        "plotlyServerURL": "https://plot.ly"
       },
       "data": [
        {
         "name": "19019418.0, ['CAP']",
         "type": "scatter",
         "visible": true,
         "x": [
          "2129-01-04 08:00:00"
         ],
         "y": [
          1
         ]
        }
       ],
       "layout": {
        "showlegend": true,
        "template": {
         "data": {
          "bar": [
           {
            "error_x": {
             "color": "#2a3f5f"
            },
            "error_y": {
             "color": "#2a3f5f"
            },
            "marker": {
             "line": {
              "color": "#E5ECF6",
              "width": 0.5
             },
             "pattern": {
              "fillmode": "overlay",
              "size": 10,
              "solidity": 0.2
             }
            },
            "type": "bar"
           }
          ],
          "barpolar": [
           {
            "marker": {
             "line": {
              "color": "#E5ECF6",
              "width": 0.5
             },
             "pattern": {
              "fillmode": "overlay",
              "size": 10,
              "solidity": 0.2
             }
            },
            "type": "barpolar"
           }
          ],
          "carpet": [
           {
            "aaxis": {
             "endlinecolor": "#2a3f5f",
             "gridcolor": "white",
             "linecolor": "white",
             "minorgridcolor": "white",
             "startlinecolor": "#2a3f5f"
            },
            "baxis": {
             "endlinecolor": "#2a3f5f",
             "gridcolor": "white",
             "linecolor": "white",
             "minorgridcolor": "white",
             "startlinecolor": "#2a3f5f"
            },
            "type": "carpet"
           }
          ],
          "choropleth": [
           {
            "colorbar": {
             "outlinewidth": 0,
             "ticks": ""
            },
            "type": "choropleth"
           }
          ],
          "contour": [
           {
            "colorbar": {
             "outlinewidth": 0,
             "ticks": ""
            },
            "colorscale": [
             [
              0,
              "#0d0887"
             ],
             [
              0.1111111111111111,
              "#46039f"
             ],
             [
              0.2222222222222222,
              "#7201a8"
             ],
             [
              0.3333333333333333,
              "#9c179e"
             ],
             [
              0.4444444444444444,
              "#bd3786"
             ],
             [
              0.5555555555555556,
              "#d8576b"
             ],
             [
              0.6666666666666666,
              "#ed7953"
             ],
             [
              0.7777777777777778,
              "#fb9f3a"
             ],
             [
              0.8888888888888888,
              "#fdca26"
             ],
             [
              1,
              "#f0f921"
             ]
            ],
            "type": "contour"
           }
          ],
          "contourcarpet": [
           {
            "colorbar": {
             "outlinewidth": 0,
             "ticks": ""
            },
            "type": "contourcarpet"
           }
          ],
          "heatmap": [
           {
            "colorbar": {
             "outlinewidth": 0,
             "ticks": ""
            },
            "colorscale": [
             [
              0,
              "#0d0887"
             ],
             [
              0.1111111111111111,
              "#46039f"
             ],
             [
              0.2222222222222222,
              "#7201a8"
             ],
             [
              0.3333333333333333,
              "#9c179e"
             ],
             [
              0.4444444444444444,
              "#bd3786"
             ],
             [
              0.5555555555555556,
              "#d8576b"
             ],
             [
              0.6666666666666666,
              "#ed7953"
             ],
             [
              0.7777777777777778,
              "#fb9f3a"
             ],
             [
              0.8888888888888888,
              "#fdca26"
             ],
             [
              1,
              "#f0f921"
             ]
            ],
            "type": "heatmap"
           }
          ],
          "heatmapgl": [
           {
            "colorbar": {
             "outlinewidth": 0,
             "ticks": ""
            },
            "colorscale": [
             [
              0,
              "#0d0887"
             ],
             [
              0.1111111111111111,
              "#46039f"
             ],
             [
              0.2222222222222222,
              "#7201a8"
             ],
             [
              0.3333333333333333,
              "#9c179e"
             ],
             [
              0.4444444444444444,
              "#bd3786"
             ],
             [
              0.5555555555555556,
              "#d8576b"
             ],
             [
              0.6666666666666666,
              "#ed7953"
             ],
             [
              0.7777777777777778,
              "#fb9f3a"
             ],
             [
              0.8888888888888888,
              "#fdca26"
             ],
             [
              1,
              "#f0f921"
             ]
            ],
            "type": "heatmapgl"
           }
          ],
          "histogram": [
           {
            "marker": {
             "pattern": {
              "fillmode": "overlay",
              "size": 10,
              "solidity": 0.2
             }
            },
            "type": "histogram"
           }
          ],
          "histogram2d": [
           {
            "colorbar": {
             "outlinewidth": 0,
             "ticks": ""
            },
            "colorscale": [
             [
              0,
              "#0d0887"
             ],
             [
              0.1111111111111111,
              "#46039f"
             ],
             [
              0.2222222222222222,
              "#7201a8"
             ],
             [
              0.3333333333333333,
              "#9c179e"
             ],
             [
              0.4444444444444444,
              "#bd3786"
             ],
             [
              0.5555555555555556,
              "#d8576b"
             ],
             [
              0.6666666666666666,
              "#ed7953"
             ],
             [
              0.7777777777777778,
              "#fb9f3a"
             ],
             [
              0.8888888888888888,
              "#fdca26"
             ],
             [
              1,
              "#f0f921"
             ]
            ],
            "type": "histogram2d"
           }
          ],
          "histogram2dcontour": [
           {
            "colorbar": {
             "outlinewidth": 0,
             "ticks": ""
            },
            "colorscale": [
             [
              0,
              "#0d0887"
             ],
             [
              0.1111111111111111,
              "#46039f"
             ],
             [
              0.2222222222222222,
              "#7201a8"
             ],
             [
              0.3333333333333333,
              "#9c179e"
             ],
             [
              0.4444444444444444,
              "#bd3786"
             ],
             [
              0.5555555555555556,
              "#d8576b"
             ],
             [
              0.6666666666666666,
              "#ed7953"
             ],
             [
              0.7777777777777778,
              "#fb9f3a"
             ],
             [
              0.8888888888888888,
              "#fdca26"
             ],
             [
              1,
              "#f0f921"
             ]
            ],
            "type": "histogram2dcontour"
           }
          ],
          "mesh3d": [
           {
            "colorbar": {
             "outlinewidth": 0,
             "ticks": ""
            },
            "type": "mesh3d"
           }
          ],
          "parcoords": [
           {
            "line": {
             "colorbar": {
              "outlinewidth": 0,
              "ticks": ""
             }
            },
            "type": "parcoords"
           }
          ],
          "pie": [
           {
            "automargin": true,
            "type": "pie"
           }
          ],
          "scatter": [
           {
            "fillpattern": {
             "fillmode": "overlay",
             "size": 10,
             "solidity": 0.2
            },
            "type": "scatter"
           }
          ],
          "scatter3d": [
           {
            "line": {
             "colorbar": {
              "outlinewidth": 0,
              "ticks": ""
             }
            },
            "marker": {
             "colorbar": {
              "outlinewidth": 0,
              "ticks": ""
             }
            },
            "type": "scatter3d"
           }
          ],
          "scattercarpet": [
           {
            "marker": {
             "colorbar": {
              "outlinewidth": 0,
              "ticks": ""
             }
            },
            "type": "scattercarpet"
           }
          ],
          "scattergeo": [
           {
            "marker": {
             "colorbar": {
              "outlinewidth": 0,
              "ticks": ""
             }
            },
            "type": "scattergeo"
           }
          ],
          "scattergl": [
           {
            "marker": {
             "colorbar": {
              "outlinewidth": 0,
              "ticks": ""
             }
            },
            "type": "scattergl"
           }
          ],
          "scattermapbox": [
           {
            "marker": {
             "colorbar": {
              "outlinewidth": 0,
              "ticks": ""
             }
            },
            "type": "scattermapbox"
           }
          ],
          "scatterpolar": [
           {
            "marker": {
             "colorbar": {
              "outlinewidth": 0,
              "ticks": ""
             }
            },
            "type": "scatterpolar"
           }
          ],
          "scatterpolargl": [
           {
            "marker": {
             "colorbar": {
              "outlinewidth": 0,
              "ticks": ""
             }
            },
            "type": "scatterpolargl"
           }
          ],
          "scatterternary": [
           {
            "marker": {
             "colorbar": {
              "outlinewidth": 0,
              "ticks": ""
             }
            },
            "type": "scatterternary"
           }
          ],
          "surface": [
           {
            "colorbar": {
             "outlinewidth": 0,
             "ticks": ""
            },
            "colorscale": [
             [
              0,
              "#0d0887"
             ],
             [
              0.1111111111111111,
              "#46039f"
             ],
             [
              0.2222222222222222,
              "#7201a8"
             ],
             [
              0.3333333333333333,
              "#9c179e"
             ],
             [
              0.4444444444444444,
              "#bd3786"
             ],
             [
              0.5555555555555556,
              "#d8576b"
             ],
             [
              0.6666666666666666,
              "#ed7953"
             ],
             [
              0.7777777777777778,
              "#fb9f3a"
             ],
             [
              0.8888888888888888,
              "#fdca26"
             ],
             [
              1,
              "#f0f921"
             ]
            ],
            "type": "surface"
           }
          ],
          "table": [
           {
            "cells": {
             "fill": {
              "color": "#EBF0F8"
             },
             "line": {
              "color": "white"
             }
            },
            "header": {
             "fill": {
              "color": "#C8D4E3"
             },
             "line": {
              "color": "white"
             }
            },
            "type": "table"
           }
          ]
         },
         "layout": {
          "annotationdefaults": {
           "arrowcolor": "#2a3f5f",
           "arrowhead": 0,
           "arrowwidth": 1
          },
          "autotypenumbers": "strict",
          "coloraxis": {
           "colorbar": {
            "outlinewidth": 0,
            "ticks": ""
           }
          },
          "colorscale": {
           "diverging": [
            [
             0,
             "#8e0152"
            ],
            [
             0.1,
             "#c51b7d"
            ],
            [
             0.2,
             "#de77ae"
            ],
            [
             0.3,
             "#f1b6da"
            ],
            [
             0.4,
             "#fde0ef"
            ],
            [
             0.5,
             "#f7f7f7"
            ],
            [
             0.6,
             "#e6f5d0"
            ],
            [
             0.7,
             "#b8e186"
            ],
            [
             0.8,
             "#7fbc41"
            ],
            [
             0.9,
             "#4d9221"
            ],
            [
             1,
             "#276419"
            ]
           ],
           "sequential": [
            [
             0,
             "#0d0887"
            ],
            [
             0.1111111111111111,
             "#46039f"
            ],
            [
             0.2222222222222222,
             "#7201a8"
            ],
            [
             0.3333333333333333,
             "#9c179e"
            ],
            [
             0.4444444444444444,
             "#bd3786"
            ],
            [
             0.5555555555555556,
             "#d8576b"
            ],
            [
             0.6666666666666666,
             "#ed7953"
            ],
            [
             0.7777777777777778,
             "#fb9f3a"
            ],
            [
             0.8888888888888888,
             "#fdca26"
            ],
            [
             1,
             "#f0f921"
            ]
           ],
           "sequentialminus": [
            [
             0,
             "#0d0887"
            ],
            [
             0.1111111111111111,
             "#46039f"
            ],
            [
             0.2222222222222222,
             "#7201a8"
            ],
            [
             0.3333333333333333,
             "#9c179e"
            ],
            [
             0.4444444444444444,
             "#bd3786"
            ],
            [
             0.5555555555555556,
             "#d8576b"
            ],
            [
             0.6666666666666666,
             "#ed7953"
            ],
            [
             0.7777777777777778,
             "#fb9f3a"
            ],
            [
             0.8888888888888888,
             "#fdca26"
            ],
            [
             1,
             "#f0f921"
            ]
           ]
          },
          "colorway": [
           "#636efa",
           "#EF553B",
           "#00cc96",
           "#ab63fa",
           "#FFA15A",
           "#19d3f3",
           "#FF6692",
           "#B6E880",
           "#FF97FF",
           "#FECB52"
          ],
          "font": {
           "color": "#2a3f5f"
          },
          "geo": {
           "bgcolor": "white",
           "lakecolor": "white",
           "landcolor": "#E5ECF6",
           "showlakes": true,
           "showland": true,
           "subunitcolor": "white"
          },
          "hoverlabel": {
           "align": "left"
          },
          "hovermode": "closest",
          "mapbox": {
           "style": "light"
          },
          "paper_bgcolor": "white",
          "plot_bgcolor": "#E5ECF6",
          "polar": {
           "angularaxis": {
            "gridcolor": "white",
            "linecolor": "white",
            "ticks": ""
           },
           "bgcolor": "#E5ECF6",
           "radialaxis": {
            "gridcolor": "white",
            "linecolor": "white",
            "ticks": ""
           }
          },
          "scene": {
           "xaxis": {
            "backgroundcolor": "#E5ECF6",
            "gridcolor": "white",
            "gridwidth": 2,
            "linecolor": "white",
            "showbackground": true,
            "ticks": "",
            "zerolinecolor": "white"
           },
           "yaxis": {
            "backgroundcolor": "#E5ECF6",
            "gridcolor": "white",
            "gridwidth": 2,
            "linecolor": "white",
            "showbackground": true,
            "ticks": "",
            "zerolinecolor": "white"
           },
           "zaxis": {
            "backgroundcolor": "#E5ECF6",
            "gridcolor": "white",
            "gridwidth": 2,
            "linecolor": "white",
            "showbackground": true,
            "ticks": "",
            "zerolinecolor": "white"
           }
          },
          "shapedefaults": {
           "line": {
            "color": "#2a3f5f"
           }
          },
          "ternary": {
           "aaxis": {
            "gridcolor": "white",
            "linecolor": "white",
            "ticks": ""
           },
           "baxis": {
            "gridcolor": "white",
            "linecolor": "white",
            "ticks": ""
           },
           "bgcolor": "#E5ECF6",
           "caxis": {
            "gridcolor": "white",
            "linecolor": "white",
            "ticks": ""
           }
          },
          "title": {
           "x": 0.05
          },
          "xaxis": {
           "automargin": true,
           "gridcolor": "white",
           "linecolor": "white",
           "ticks": "",
           "title": {
            "standoff": 15
           },
           "zerolinecolor": "white",
           "zerolinewidth": 2
          },
          "yaxis": {
           "automargin": true,
           "gridcolor": "white",
           "linecolor": "white",
           "ticks": "",
           "title": {
            "standoff": 15
           },
           "zerolinecolor": "white",
           "zerolinewidth": 2
          }
         }
        },
        "updatemenus": [
         {
          "buttons": [
           {
            "args": [
             {
              "visible": [
               true
              ]
             }
            ],
            "args2": [
             {
              "visible": [
               false
              ]
             }
            ],
            "label": "19019418.0",
            "method": "update",
            "visible": true
           }
          ],
          "direction": "right",
          "showactive": true,
          "type": "buttons",
          "x": 0.7,
          "y": 1.3
         }
        ],
        "xaxis": {
         "rangeslider": {
          "autorange": true,
          "range": [
           "2129-01-03 19:00:00",
           "2129-01-11 08:00:00"
          ]
         }
        }
       }
      }
     },
     "metadata": {},
     "output_type": "display_data"
    },
    {
     "data": {
      "application/vnd.plotly.v1+json": {
       "config": {
        "plotlyServerURL": "https://plot.ly"
       },
       "data": [
        {
         "name": "19019050.0, ['UDCUP']",
         "type": "scatter",
         "visible": true,
         "x": [
          "2129-01-05 04:00:00"
         ],
         "y": [
          2
         ]
        }
       ],
       "layout": {
        "showlegend": true,
        "template": {
         "data": {
          "bar": [
           {
            "error_x": {
             "color": "#2a3f5f"
            },
            "error_y": {
             "color": "#2a3f5f"
            },
            "marker": {
             "line": {
              "color": "#E5ECF6",
              "width": 0.5
             },
             "pattern": {
              "fillmode": "overlay",
              "size": 10,
              "solidity": 0.2
             }
            },
            "type": "bar"
           }
          ],
          "barpolar": [
           {
            "marker": {
             "line": {
              "color": "#E5ECF6",
              "width": 0.5
             },
             "pattern": {
              "fillmode": "overlay",
              "size": 10,
              "solidity": 0.2
             }
            },
            "type": "barpolar"
           }
          ],
          "carpet": [
           {
            "aaxis": {
             "endlinecolor": "#2a3f5f",
             "gridcolor": "white",
             "linecolor": "white",
             "minorgridcolor": "white",
             "startlinecolor": "#2a3f5f"
            },
            "baxis": {
             "endlinecolor": "#2a3f5f",
             "gridcolor": "white",
             "linecolor": "white",
             "minorgridcolor": "white",
             "startlinecolor": "#2a3f5f"
            },
            "type": "carpet"
           }
          ],
          "choropleth": [
           {
            "colorbar": {
             "outlinewidth": 0,
             "ticks": ""
            },
            "type": "choropleth"
           }
          ],
          "contour": [
           {
            "colorbar": {
             "outlinewidth": 0,
             "ticks": ""
            },
            "colorscale": [
             [
              0,
              "#0d0887"
             ],
             [
              0.1111111111111111,
              "#46039f"
             ],
             [
              0.2222222222222222,
              "#7201a8"
             ],
             [
              0.3333333333333333,
              "#9c179e"
             ],
             [
              0.4444444444444444,
              "#bd3786"
             ],
             [
              0.5555555555555556,
              "#d8576b"
             ],
             [
              0.6666666666666666,
              "#ed7953"
             ],
             [
              0.7777777777777778,
              "#fb9f3a"
             ],
             [
              0.8888888888888888,
              "#fdca26"
             ],
             [
              1,
              "#f0f921"
             ]
            ],
            "type": "contour"
           }
          ],
          "contourcarpet": [
           {
            "colorbar": {
             "outlinewidth": 0,
             "ticks": ""
            },
            "type": "contourcarpet"
           }
          ],
          "heatmap": [
           {
            "colorbar": {
             "outlinewidth": 0,
             "ticks": ""
            },
            "colorscale": [
             [
              0,
              "#0d0887"
             ],
             [
              0.1111111111111111,
              "#46039f"
             ],
             [
              0.2222222222222222,
              "#7201a8"
             ],
             [
              0.3333333333333333,
              "#9c179e"
             ],
             [
              0.4444444444444444,
              "#bd3786"
             ],
             [
              0.5555555555555556,
              "#d8576b"
             ],
             [
              0.6666666666666666,
              "#ed7953"
             ],
             [
              0.7777777777777778,
              "#fb9f3a"
             ],
             [
              0.8888888888888888,
              "#fdca26"
             ],
             [
              1,
              "#f0f921"
             ]
            ],
            "type": "heatmap"
           }
          ],
          "heatmapgl": [
           {
            "colorbar": {
             "outlinewidth": 0,
             "ticks": ""
            },
            "colorscale": [
             [
              0,
              "#0d0887"
             ],
             [
              0.1111111111111111,
              "#46039f"
             ],
             [
              0.2222222222222222,
              "#7201a8"
             ],
             [
              0.3333333333333333,
              "#9c179e"
             ],
             [
              0.4444444444444444,
              "#bd3786"
             ],
             [
              0.5555555555555556,
              "#d8576b"
             ],
             [
              0.6666666666666666,
              "#ed7953"
             ],
             [
              0.7777777777777778,
              "#fb9f3a"
             ],
             [
              0.8888888888888888,
              "#fdca26"
             ],
             [
              1,
              "#f0f921"
             ]
            ],
            "type": "heatmapgl"
           }
          ],
          "histogram": [
           {
            "marker": {
             "pattern": {
              "fillmode": "overlay",
              "size": 10,
              "solidity": 0.2
             }
            },
            "type": "histogram"
           }
          ],
          "histogram2d": [
           {
            "colorbar": {
             "outlinewidth": 0,
             "ticks": ""
            },
            "colorscale": [
             [
              0,
              "#0d0887"
             ],
             [
              0.1111111111111111,
              "#46039f"
             ],
             [
              0.2222222222222222,
              "#7201a8"
             ],
             [
              0.3333333333333333,
              "#9c179e"
             ],
             [
              0.4444444444444444,
              "#bd3786"
             ],
             [
              0.5555555555555556,
              "#d8576b"
             ],
             [
              0.6666666666666666,
              "#ed7953"
             ],
             [
              0.7777777777777778,
              "#fb9f3a"
             ],
             [
              0.8888888888888888,
              "#fdca26"
             ],
             [
              1,
              "#f0f921"
             ]
            ],
            "type": "histogram2d"
           }
          ],
          "histogram2dcontour": [
           {
            "colorbar": {
             "outlinewidth": 0,
             "ticks": ""
            },
            "colorscale": [
             [
              0,
              "#0d0887"
             ],
             [
              0.1111111111111111,
              "#46039f"
             ],
             [
              0.2222222222222222,
              "#7201a8"
             ],
             [
              0.3333333333333333,
              "#9c179e"
             ],
             [
              0.4444444444444444,
              "#bd3786"
             ],
             [
              0.5555555555555556,
              "#d8576b"
             ],
             [
              0.6666666666666666,
              "#ed7953"
             ],
             [
              0.7777777777777778,
              "#fb9f3a"
             ],
             [
              0.8888888888888888,
              "#fdca26"
             ],
             [
              1,
              "#f0f921"
             ]
            ],
            "type": "histogram2dcontour"
           }
          ],
          "mesh3d": [
           {
            "colorbar": {
             "outlinewidth": 0,
             "ticks": ""
            },
            "type": "mesh3d"
           }
          ],
          "parcoords": [
           {
            "line": {
             "colorbar": {
              "outlinewidth": 0,
              "ticks": ""
             }
            },
            "type": "parcoords"
           }
          ],
          "pie": [
           {
            "automargin": true,
            "type": "pie"
           }
          ],
          "scatter": [
           {
            "fillpattern": {
             "fillmode": "overlay",
             "size": 10,
             "solidity": 0.2
            },
            "type": "scatter"
           }
          ],
          "scatter3d": [
           {
            "line": {
             "colorbar": {
              "outlinewidth": 0,
              "ticks": ""
             }
            },
            "marker": {
             "colorbar": {
              "outlinewidth": 0,
              "ticks": ""
             }
            },
            "type": "scatter3d"
           }
          ],
          "scattercarpet": [
           {
            "marker": {
             "colorbar": {
              "outlinewidth": 0,
              "ticks": ""
             }
            },
            "type": "scattercarpet"
           }
          ],
          "scattergeo": [
           {
            "marker": {
             "colorbar": {
              "outlinewidth": 0,
              "ticks": ""
             }
            },
            "type": "scattergeo"
           }
          ],
          "scattergl": [
           {
            "marker": {
             "colorbar": {
              "outlinewidth": 0,
              "ticks": ""
             }
            },
            "type": "scattergl"
           }
          ],
          "scattermapbox": [
           {
            "marker": {
             "colorbar": {
              "outlinewidth": 0,
              "ticks": ""
             }
            },
            "type": "scattermapbox"
           }
          ],
          "scatterpolar": [
           {
            "marker": {
             "colorbar": {
              "outlinewidth": 0,
              "ticks": ""
             }
            },
            "type": "scatterpolar"
           }
          ],
          "scatterpolargl": [
           {
            "marker": {
             "colorbar": {
              "outlinewidth": 0,
              "ticks": ""
             }
            },
            "type": "scatterpolargl"
           }
          ],
          "scatterternary": [
           {
            "marker": {
             "colorbar": {
              "outlinewidth": 0,
              "ticks": ""
             }
            },
            "type": "scatterternary"
           }
          ],
          "surface": [
           {
            "colorbar": {
             "outlinewidth": 0,
             "ticks": ""
            },
            "colorscale": [
             [
              0,
              "#0d0887"
             ],
             [
              0.1111111111111111,
              "#46039f"
             ],
             [
              0.2222222222222222,
              "#7201a8"
             ],
             [
              0.3333333333333333,
              "#9c179e"
             ],
             [
              0.4444444444444444,
              "#bd3786"
             ],
             [
              0.5555555555555556,
              "#d8576b"
             ],
             [
              0.6666666666666666,
              "#ed7953"
             ],
             [
              0.7777777777777778,
              "#fb9f3a"
             ],
             [
              0.8888888888888888,
              "#fdca26"
             ],
             [
              1,
              "#f0f921"
             ]
            ],
            "type": "surface"
           }
          ],
          "table": [
           {
            "cells": {
             "fill": {
              "color": "#EBF0F8"
             },
             "line": {
              "color": "white"
             }
            },
            "header": {
             "fill": {
              "color": "#C8D4E3"
             },
             "line": {
              "color": "white"
             }
            },
            "type": "table"
           }
          ]
         },
         "layout": {
          "annotationdefaults": {
           "arrowcolor": "#2a3f5f",
           "arrowhead": 0,
           "arrowwidth": 1
          },
          "autotypenumbers": "strict",
          "coloraxis": {
           "colorbar": {
            "outlinewidth": 0,
            "ticks": ""
           }
          },
          "colorscale": {
           "diverging": [
            [
             0,
             "#8e0152"
            ],
            [
             0.1,
             "#c51b7d"
            ],
            [
             0.2,
             "#de77ae"
            ],
            [
             0.3,
             "#f1b6da"
            ],
            [
             0.4,
             "#fde0ef"
            ],
            [
             0.5,
             "#f7f7f7"
            ],
            [
             0.6,
             "#e6f5d0"
            ],
            [
             0.7,
             "#b8e186"
            ],
            [
             0.8,
             "#7fbc41"
            ],
            [
             0.9,
             "#4d9221"
            ],
            [
             1,
             "#276419"
            ]
           ],
           "sequential": [
            [
             0,
             "#0d0887"
            ],
            [
             0.1111111111111111,
             "#46039f"
            ],
            [
             0.2222222222222222,
             "#7201a8"
            ],
            [
             0.3333333333333333,
             "#9c179e"
            ],
            [
             0.4444444444444444,
             "#bd3786"
            ],
            [
             0.5555555555555556,
             "#d8576b"
            ],
            [
             0.6666666666666666,
             "#ed7953"
            ],
            [
             0.7777777777777778,
             "#fb9f3a"
            ],
            [
             0.8888888888888888,
             "#fdca26"
            ],
            [
             1,
             "#f0f921"
            ]
           ],
           "sequentialminus": [
            [
             0,
             "#0d0887"
            ],
            [
             0.1111111111111111,
             "#46039f"
            ],
            [
             0.2222222222222222,
             "#7201a8"
            ],
            [
             0.3333333333333333,
             "#9c179e"
            ],
            [
             0.4444444444444444,
             "#bd3786"
            ],
            [
             0.5555555555555556,
             "#d8576b"
            ],
            [
             0.6666666666666666,
             "#ed7953"
            ],
            [
             0.7777777777777778,
             "#fb9f3a"
            ],
            [
             0.8888888888888888,
             "#fdca26"
            ],
            [
             1,
             "#f0f921"
            ]
           ]
          },
          "colorway": [
           "#636efa",
           "#EF553B",
           "#00cc96",
           "#ab63fa",
           "#FFA15A",
           "#19d3f3",
           "#FF6692",
           "#B6E880",
           "#FF97FF",
           "#FECB52"
          ],
          "font": {
           "color": "#2a3f5f"
          },
          "geo": {
           "bgcolor": "white",
           "lakecolor": "white",
           "landcolor": "#E5ECF6",
           "showlakes": true,
           "showland": true,
           "subunitcolor": "white"
          },
          "hoverlabel": {
           "align": "left"
          },
          "hovermode": "closest",
          "mapbox": {
           "style": "light"
          },
          "paper_bgcolor": "white",
          "plot_bgcolor": "#E5ECF6",
          "polar": {
           "angularaxis": {
            "gridcolor": "white",
            "linecolor": "white",
            "ticks": ""
           },
           "bgcolor": "#E5ECF6",
           "radialaxis": {
            "gridcolor": "white",
            "linecolor": "white",
            "ticks": ""
           }
          },
          "scene": {
           "xaxis": {
            "backgroundcolor": "#E5ECF6",
            "gridcolor": "white",
            "gridwidth": 2,
            "linecolor": "white",
            "showbackground": true,
            "ticks": "",
            "zerolinecolor": "white"
           },
           "yaxis": {
            "backgroundcolor": "#E5ECF6",
            "gridcolor": "white",
            "gridwidth": 2,
            "linecolor": "white",
            "showbackground": true,
            "ticks": "",
            "zerolinecolor": "white"
           },
           "zaxis": {
            "backgroundcolor": "#E5ECF6",
            "gridcolor": "white",
            "gridwidth": 2,
            "linecolor": "white",
            "showbackground": true,
            "ticks": "",
            "zerolinecolor": "white"
           }
          },
          "shapedefaults": {
           "line": {
            "color": "#2a3f5f"
           }
          },
          "ternary": {
           "aaxis": {
            "gridcolor": "white",
            "linecolor": "white",
            "ticks": ""
           },
           "baxis": {
            "gridcolor": "white",
            "linecolor": "white",
            "ticks": ""
           },
           "bgcolor": "#E5ECF6",
           "caxis": {
            "gridcolor": "white",
            "linecolor": "white",
            "ticks": ""
           }
          },
          "title": {
           "x": 0.05
          },
          "xaxis": {
           "automargin": true,
           "gridcolor": "white",
           "linecolor": "white",
           "ticks": "",
           "title": {
            "standoff": 15
           },
           "zerolinecolor": "white",
           "zerolinewidth": 2
          },
          "yaxis": {
           "automargin": true,
           "gridcolor": "white",
           "linecolor": "white",
           "ticks": "",
           "title": {
            "standoff": 15
           },
           "zerolinecolor": "white",
           "zerolinewidth": 2
          }
         }
        },
        "updatemenus": [
         {
          "buttons": [
           {
            "args": [
             {
              "visible": [
               true
              ]
             }
            ],
            "args2": [
             {
              "visible": [
               false
              ]
             }
            ],
            "label": "19019050.0",
            "method": "update",
            "visible": true
           }
          ],
          "direction": "right",
          "showactive": true,
          "type": "buttons",
          "x": 0.7,
          "y": 1.3
         }
        ],
        "xaxis": {
         "rangeslider": {
          "autorange": true,
          "range": [
           "2129-01-03 19:00:00",
           "2129-01-11 08:00:00"
          ]
         }
        }
       }
      }
     },
     "metadata": {},
     "output_type": "display_data"
    }
   ],
   "source": [
    "# TOGGLE GRAPH - not useful\n",
    "\n",
    "patient = patient.sort_values(by='drug_exposure_start_datetime')\n",
    "number_types = patient.dose_unit_source_value.describe()['unique']\n",
    "\n",
    "#fig3 = make_subplots(rows = 1, cols = number_types, subplot_titles=(patient.dose_unit_source_value.value_counts().index))\n",
    "colonne = 1\n",
    "\n",
    "for drug_type in patient.dose_unit_source_value.value_counts().index:\n",
    "    #print(drug_type)\n",
    "    traces = []\n",
    "    buttons = []\n",
    "\n",
    "    # for each drug type, create a liste of traces and buttons\n",
    "    for d in patient[patient.dose_unit_source_value == drug_type].concept_id.unique():\n",
    "        temp = patient[patient.concept_id == d]\n",
    "        nom_drug = str(d)[0:50]\n",
    "\n",
    "        traces.append(go.Scatter(x = temp.drug_exposure_start_datetime, y = temp.quantity, name=f'{d}, {temp.dose_unit_source_value.unique()}', visible = True))\n",
    "        \n",
    "        buttons.append(dict(method='update',\n",
    "                        label=f'{d}',\n",
    "                        visible=True,\n",
    "                        args=[{'visible':[x == d for x in patient[patient.dose_unit_source_value == drug_type].concept_id.unique()]}],\n",
    "                        args2=[{'visible':[x != d for x in patient[patient.dose_unit_source_value == drug_type].concept_id.unique()]}]\n",
    "                        )\n",
    "                )\n",
    "\n",
    "    # Make the graph with toggle\n",
    "        \n",
    "    # add a button 'All' to toggle them all together    \n",
    "    layout = go.Layout(\n",
    "        updatemenus=[\n",
    "            dict(\n",
    "                type='buttons',\n",
    "                direction='right',\n",
    "                x=0.7,\n",
    "                y=1.3,\n",
    "                showactive=True,\n",
    "                buttons=buttons\n",
    "            )\n",
    "        ],\n",
    "        showlegend=True\n",
    "\n",
    "    )\n",
    "\n",
    "    fig3 = go.Figure(data=traces,layout=layout)\n",
    "    fig3.update_layout(xaxis=dict(rangeslider=dict(autorange=True, range=[patient.drug_exposure_start_datetime.min(), patient.drug_exposure_start_datetime.max()])))\n",
    "   \n",
    "    fig3.show()\n",
    "\n",
    "\n",
    "\n",
    "\n",
    "# https://plotly.com/python/range-slider/ axes avec plusieurs type d'échelle"
   ]
  },
  {
   "cell_type": "code",
   "execution_count": 116,
   "metadata": {},
   "outputs": [
    {
     "data": {
      "text/html": [
       "<div>\n",
       "<style scoped>\n",
       "    .dataframe tbody tr th:only-of-type {\n",
       "        vertical-align: middle;\n",
       "    }\n",
       "\n",
       "    .dataframe tbody tr th {\n",
       "        vertical-align: top;\n",
       "    }\n",
       "\n",
       "    .dataframe thead th {\n",
       "        text-align: right;\n",
       "    }\n",
       "</style>\n",
       "<table border=\"1\" class=\"dataframe\">\n",
       "  <thead>\n",
       "    <tr style=\"text-align: right;\">\n",
       "      <th></th>\n",
       "      <th>drug_exposure_id</th>\n",
       "      <th>person_id</th>\n",
       "      <th>drug_concept_id</th>\n",
       "      <th>drug_exposure_start_date</th>\n",
       "      <th>drug_exposure_start_datetime</th>\n",
       "      <th>drug_exposure_end_date</th>\n",
       "      <th>drug_exposure_end_datetime</th>\n",
       "      <th>drug_type_concept_id</th>\n",
       "      <th>quantity</th>\n",
       "      <th>route_concept_id</th>\n",
       "      <th>visit_occurrence_id</th>\n",
       "      <th>drug_source_value</th>\n",
       "      <th>drug_source_concept_id</th>\n",
       "      <th>route_source_value</th>\n",
       "      <th>dose_unit_source_value</th>\n",
       "    </tr>\n",
       "  </thead>\n",
       "  <tbody>\n",
       "    <tr>\n",
       "      <th>5622</th>\n",
       "      <td>6996991851384754967</td>\n",
       "      <td>3912882389848878631</td>\n",
       "      <td>40232756</td>\n",
       "      <td>2129-01-05</td>\n",
       "      <td>2129-01-05 00:00:00</td>\n",
       "      <td>2129-01-05</td>\n",
       "      <td>2129-01-05 01:00:00</td>\n",
       "      <td>32838</td>\n",
       "      <td>1.5</td>\n",
       "      <td>4167540</td>\n",
       "      <td>3761046692024108622</td>\n",
       "      <td>00406055262</td>\n",
       "      <td>45266765</td>\n",
       "      <td>PO/NG</td>\n",
       "      <td>TAB</td>\n",
       "    </tr>\n",
       "    <tr>\n",
       "      <th>5623</th>\n",
       "      <td>-2528282390097198867</td>\n",
       "      <td>3912882389848878631</td>\n",
       "      <td>40232756</td>\n",
       "      <td>2129-01-04</td>\n",
       "      <td>2129-01-04 18:00:00</td>\n",
       "      <td>2129-01-04</td>\n",
       "      <td>2129-01-04 23:00:00</td>\n",
       "      <td>32838</td>\n",
       "      <td>0.5</td>\n",
       "      <td>4167540</td>\n",
       "      <td>3761046692024108622</td>\n",
       "      <td>00406055262</td>\n",
       "      <td>45266765</td>\n",
       "      <td>PO/NG</td>\n",
       "      <td>TAB</td>\n",
       "    </tr>\n",
       "    <tr>\n",
       "      <th>5624</th>\n",
       "      <td>8598302712376844332</td>\n",
       "      <td>3912882389848878631</td>\n",
       "      <td>40232756</td>\n",
       "      <td>2129-01-05</td>\n",
       "      <td>2129-01-05 02:00:00</td>\n",
       "      <td>2129-01-05</td>\n",
       "      <td>2129-01-05 02:00:00</td>\n",
       "      <td>32838</td>\n",
       "      <td>1.0</td>\n",
       "      <td>4167540</td>\n",
       "      <td>3761046692024108622</td>\n",
       "      <td>00406055262</td>\n",
       "      <td>45266765</td>\n",
       "      <td>PO/NG</td>\n",
       "      <td>TAB</td>\n",
       "    </tr>\n",
       "    <tr>\n",
       "      <th>5625</th>\n",
       "      <td>4557254971515693852</td>\n",
       "      <td>3912882389848878631</td>\n",
       "      <td>40232756</td>\n",
       "      <td>2129-01-04</td>\n",
       "      <td>2129-01-04 21:00:00</td>\n",
       "      <td>2129-01-04</td>\n",
       "      <td>2129-01-04 23:00:00</td>\n",
       "      <td>32838</td>\n",
       "      <td>1.0</td>\n",
       "      <td>4167540</td>\n",
       "      <td>3761046692024108622</td>\n",
       "      <td>00406055262</td>\n",
       "      <td>45266765</td>\n",
       "      <td>PO/NG</td>\n",
       "      <td>TAB</td>\n",
       "    </tr>\n",
       "    <tr>\n",
       "      <th>5635</th>\n",
       "      <td>-6600566077470540957</td>\n",
       "      <td>3912882389848878631</td>\n",
       "      <td>21125875</td>\n",
       "      <td>2129-01-05</td>\n",
       "      <td>2129-01-05 08:00:00</td>\n",
       "      <td>2129-01-05</td>\n",
       "      <td>2129-01-05 18:00:00</td>\n",
       "      <td>32838</td>\n",
       "      <td>1.0</td>\n",
       "      <td>4167540</td>\n",
       "      <td>3761046692024108622</td>\n",
       "      <td>00904053061</td>\n",
       "      <td>45165542</td>\n",
       "      <td>PO/NG</td>\n",
       "      <td>TAB</td>\n",
       "    </tr>\n",
       "    <tr>\n",
       "      <th>5636</th>\n",
       "      <td>8139119374042756604</td>\n",
       "      <td>3912882389848878631</td>\n",
       "      <td>19137328</td>\n",
       "      <td>2129-01-05</td>\n",
       "      <td>2129-01-05 08:00:00</td>\n",
       "      <td>2129-01-05</td>\n",
       "      <td>2129-01-05 18:00:00</td>\n",
       "      <td>32838</td>\n",
       "      <td>1.0</td>\n",
       "      <td>4167540</td>\n",
       "      <td>3761046692024108622</td>\n",
       "      <td>00904054460</td>\n",
       "      <td>45114473</td>\n",
       "      <td>PO/NG</td>\n",
       "      <td>TAB</td>\n",
       "    </tr>\n",
       "    <tr>\n",
       "      <th>5639</th>\n",
       "      <td>-1076779580276771548</td>\n",
       "      <td>3912882389848878631</td>\n",
       "      <td>1127433</td>\n",
       "      <td>2129-01-03</td>\n",
       "      <td>2129-01-03 20:00:00</td>\n",
       "      <td>2129-01-05</td>\n",
       "      <td>2129-01-05 18:00:00</td>\n",
       "      <td>32838</td>\n",
       "      <td>2.0</td>\n",
       "      <td>4167540</td>\n",
       "      <td>3761046692024108622</td>\n",
       "      <td>51079000220</td>\n",
       "      <td>45325177</td>\n",
       "      <td>PO/NG</td>\n",
       "      <td>TAB</td>\n",
       "    </tr>\n",
       "    <tr>\n",
       "      <th>5640</th>\n",
       "      <td>-4804305780328125843</td>\n",
       "      <td>3912882389848878631</td>\n",
       "      <td>723020</td>\n",
       "      <td>2129-01-03</td>\n",
       "      <td>2129-01-03 19:00:00</td>\n",
       "      <td>2129-01-05</td>\n",
       "      <td>2129-01-05 02:00:00</td>\n",
       "      <td>32838</td>\n",
       "      <td>1.0</td>\n",
       "      <td>4167540</td>\n",
       "      <td>3761046692024108622</td>\n",
       "      <td>51079028620</td>\n",
       "      <td>45000972</td>\n",
       "      <td>PO/NG</td>\n",
       "      <td>TAB</td>\n",
       "    </tr>\n",
       "    <tr>\n",
       "      <th>5641</th>\n",
       "      <td>-2002420539696298274</td>\n",
       "      <td>3912882389848878631</td>\n",
       "      <td>19077513</td>\n",
       "      <td>2129-01-05</td>\n",
       "      <td>2129-01-05 08:00:00</td>\n",
       "      <td>2129-01-05</td>\n",
       "      <td>2129-01-05 18:00:00</td>\n",
       "      <td>32838</td>\n",
       "      <td>1.0</td>\n",
       "      <td>4167540</td>\n",
       "      <td>3761046692024108622</td>\n",
       "      <td>62584089701</td>\n",
       "      <td>44954855</td>\n",
       "      <td>PO/NG</td>\n",
       "      <td>TAB</td>\n",
       "    </tr>\n",
       "  </tbody>\n",
       "</table>\n",
       "</div>"
      ],
      "text/plain": [
       "         drug_exposure_id            person_id  drug_concept_id  \\\n",
       "5622  6996991851384754967  3912882389848878631         40232756   \n",
       "5623 -2528282390097198867  3912882389848878631         40232756   \n",
       "5624  8598302712376844332  3912882389848878631         40232756   \n",
       "5625  4557254971515693852  3912882389848878631         40232756   \n",
       "5635 -6600566077470540957  3912882389848878631         21125875   \n",
       "5636  8139119374042756604  3912882389848878631         19137328   \n",
       "5639 -1076779580276771548  3912882389848878631          1127433   \n",
       "5640 -4804305780328125843  3912882389848878631           723020   \n",
       "5641 -2002420539696298274  3912882389848878631         19077513   \n",
       "\n",
       "     drug_exposure_start_date drug_exposure_start_datetime  \\\n",
       "5622               2129-01-05          2129-01-05 00:00:00   \n",
       "5623               2129-01-04          2129-01-04 18:00:00   \n",
       "5624               2129-01-05          2129-01-05 02:00:00   \n",
       "5625               2129-01-04          2129-01-04 21:00:00   \n",
       "5635               2129-01-05          2129-01-05 08:00:00   \n",
       "5636               2129-01-05          2129-01-05 08:00:00   \n",
       "5639               2129-01-03          2129-01-03 20:00:00   \n",
       "5640               2129-01-03          2129-01-03 19:00:00   \n",
       "5641               2129-01-05          2129-01-05 08:00:00   \n",
       "\n",
       "     drug_exposure_end_date drug_exposure_end_datetime  drug_type_concept_id  \\\n",
       "5622             2129-01-05        2129-01-05 01:00:00                 32838   \n",
       "5623             2129-01-04        2129-01-04 23:00:00                 32838   \n",
       "5624             2129-01-05        2129-01-05 02:00:00                 32838   \n",
       "5625             2129-01-04        2129-01-04 23:00:00                 32838   \n",
       "5635             2129-01-05        2129-01-05 18:00:00                 32838   \n",
       "5636             2129-01-05        2129-01-05 18:00:00                 32838   \n",
       "5639             2129-01-05        2129-01-05 18:00:00                 32838   \n",
       "5640             2129-01-05        2129-01-05 02:00:00                 32838   \n",
       "5641             2129-01-05        2129-01-05 18:00:00                 32838   \n",
       "\n",
       "      quantity  route_concept_id  visit_occurrence_id drug_source_value  \\\n",
       "5622       1.5           4167540  3761046692024108622       00406055262   \n",
       "5623       0.5           4167540  3761046692024108622       00406055262   \n",
       "5624       1.0           4167540  3761046692024108622       00406055262   \n",
       "5625       1.0           4167540  3761046692024108622       00406055262   \n",
       "5635       1.0           4167540  3761046692024108622       00904053061   \n",
       "5636       1.0           4167540  3761046692024108622       00904054460   \n",
       "5639       2.0           4167540  3761046692024108622       51079000220   \n",
       "5640       1.0           4167540  3761046692024108622       51079028620   \n",
       "5641       1.0           4167540  3761046692024108622       62584089701   \n",
       "\n",
       "      drug_source_concept_id route_source_value dose_unit_source_value  \n",
       "5622                45266765              PO/NG                    TAB  \n",
       "5623                45266765              PO/NG                    TAB  \n",
       "5624                45266765              PO/NG                    TAB  \n",
       "5625                45266765              PO/NG                    TAB  \n",
       "5635                45165542              PO/NG                    TAB  \n",
       "5636                45114473              PO/NG                    TAB  \n",
       "5639                45325177              PO/NG                    TAB  \n",
       "5640                45000972              PO/NG                    TAB  \n",
       "5641                44954855              PO/NG                    TAB  "
      ]
     },
     "execution_count": 116,
     "metadata": {},
     "output_type": "execute_result"
    }
   ],
   "source": [
    "patient1[patient1.dose_unit_source_value == 'TAB']\n",
    "# 9 lignes, des exposure_id différentes, avec des dates différents (2129 ????)\n",
    "# drug_concept_id being the name of the drug I guess, Quantity in Tablettes.\n"
   ]
  },
  {
   "cell_type": "code",
   "execution_count": 5,
   "metadata": {},
   "outputs": [
    {
     "data": {
      "text/html": [
       "<div>\n",
       "<style scoped>\n",
       "    .dataframe tbody tr th:only-of-type {\n",
       "        vertical-align: middle;\n",
       "    }\n",
       "\n",
       "    .dataframe tbody tr th {\n",
       "        vertical-align: top;\n",
       "    }\n",
       "\n",
       "    .dataframe thead th {\n",
       "        text-align: right;\n",
       "    }\n",
       "</style>\n",
       "<table border=\"1\" class=\"dataframe\">\n",
       "  <thead>\n",
       "    <tr style=\"text-align: right;\">\n",
       "      <th></th>\n",
       "      <th>drug_exposure_start_datetime</th>\n",
       "      <th>drug_exposure_end_datetime</th>\n",
       "      <th>quantity</th>\n",
       "      <th>cumulative</th>\n",
       "    </tr>\n",
       "  </thead>\n",
       "  <tbody>\n",
       "    <tr>\n",
       "      <th>5623</th>\n",
       "      <td>2129-01-04 18:00:00</td>\n",
       "      <td>2129-01-04 23:00:00</td>\n",
       "      <td>0.5</td>\n",
       "      <td>0.5</td>\n",
       "    </tr>\n",
       "    <tr>\n",
       "      <th>5625</th>\n",
       "      <td>2129-01-04 21:00:00</td>\n",
       "      <td>2129-01-04 23:00:00</td>\n",
       "      <td>1.0</td>\n",
       "      <td>1.5</td>\n",
       "    </tr>\n",
       "    <tr>\n",
       "      <th>5622</th>\n",
       "      <td>2129-01-05 00:00:00</td>\n",
       "      <td>2129-01-05 01:00:00</td>\n",
       "      <td>1.5</td>\n",
       "      <td>3.0</td>\n",
       "    </tr>\n",
       "    <tr>\n",
       "      <th>5624</th>\n",
       "      <td>2129-01-05 02:00:00</td>\n",
       "      <td>2129-01-05 02:00:00</td>\n",
       "      <td>1.0</td>\n",
       "      <td>4.0</td>\n",
       "    </tr>\n",
       "  </tbody>\n",
       "</table>\n",
       "</div>"
      ],
      "text/plain": [
       "     drug_exposure_start_datetime drug_exposure_end_datetime  quantity  \\\n",
       "5623          2129-01-04 18:00:00        2129-01-04 23:00:00       0.5   \n",
       "5625          2129-01-04 21:00:00        2129-01-04 23:00:00       1.0   \n",
       "5622          2129-01-05 00:00:00        2129-01-05 01:00:00       1.5   \n",
       "5624          2129-01-05 02:00:00        2129-01-05 02:00:00       1.0   \n",
       "\n",
       "      cumulative  \n",
       "5623         0.5  \n",
       "5625         1.5  \n",
       "5622         3.0  \n",
       "5624         4.0  "
      ]
     },
     "execution_count": 5,
     "metadata": {},
     "output_type": "execute_result"
    }
   ],
   "source": [
    "patient1_drug1 = patient1.loc[patient1.drug_concept_id==40232756,['drug_exposure_start_datetime', 'drug_exposure_end_datetime', 'quantity']].sort_values(by='drug_exposure_start_datetime')\n",
    "\n",
    "\n",
    "\n",
    "patient1_drug1['cumulative'] = [0.5, 1.5, 3.0, 4.0]\n",
    "\n",
    "\n",
    "\n",
    "# ne fonctionne pas comme ça, car les date ne sont pas correct.... il faut prendre datetime déjà, puis trier en fonction du temps.\n",
    "# il faut faire avec plotly un graph pour choisir le medoc.\n",
    "# il faut calculer le cumulatif ou non ?\n",
    "patient1_drug1\n"
   ]
  },
  {
   "cell_type": "code",
   "execution_count": 63,
   "metadata": {},
   "outputs": [
    {
     "data": {
      "text/plain": [
       "'2129-01-04 18:00:00'"
      ]
     },
     "execution_count": 63,
     "metadata": {},
     "output_type": "execute_result"
    }
   ],
   "source": [
    "patient1_drug1.drug_exposure_start_datetime.min()"
   ]
  },
  {
   "cell_type": "code",
   "execution_count": null,
   "metadata": {},
   "outputs": [],
   "source": [
    "result = pd.merge(left, right, on=\"key\")"
   ]
  },
  {
   "cell_type": "code",
   "execution_count": 25,
   "metadata": {},
   "outputs": [
    {
     "data": {
      "application/vnd.plotly.v1+json": {
       "config": {
        "plotlyServerURL": "https://plot.ly"
       },
       "data": [
        {
         "type": "scatter",
         "x": [
          "2129-01-04 18:00:00",
          "2129-01-04 21:00:00",
          "2129-01-05 00:00:00",
          "2129-01-05 02:00:00"
         ],
         "xaxis": "x",
         "y": [
          0.5,
          1,
          1.5,
          1
         ],
         "yaxis": "y"
        },
        {
         "type": "scatter",
         "x": [
          "2129-01-04 18:00:00",
          "2129-01-04 21:00:00",
          "2129-01-05 00:00:00",
          "2129-01-05 02:00:00"
         ],
         "xaxis": "x2",
         "y": [
          0.5,
          1.5,
          3,
          4
         ],
         "yaxis": "y2"
        }
       ],
       "layout": {
        "annotations": [
         {
          "font": {
           "size": 16
          },
          "showarrow": false,
          "text": "not cumulative",
          "x": 0.225,
          "xanchor": "center",
          "xref": "paper",
          "y": 1,
          "yanchor": "bottom",
          "yref": "paper"
         },
         {
          "font": {
           "size": 16
          },
          "showarrow": false,
          "text": "cumulative",
          "x": 0.775,
          "xanchor": "center",
          "xref": "paper",
          "y": 1,
          "yanchor": "bottom",
          "yref": "paper"
         }
        ],
        "template": {
         "data": {
          "bar": [
           {
            "error_x": {
             "color": "#2a3f5f"
            },
            "error_y": {
             "color": "#2a3f5f"
            },
            "marker": {
             "line": {
              "color": "#E5ECF6",
              "width": 0.5
             },
             "pattern": {
              "fillmode": "overlay",
              "size": 10,
              "solidity": 0.2
             }
            },
            "type": "bar"
           }
          ],
          "barpolar": [
           {
            "marker": {
             "line": {
              "color": "#E5ECF6",
              "width": 0.5
             },
             "pattern": {
              "fillmode": "overlay",
              "size": 10,
              "solidity": 0.2
             }
            },
            "type": "barpolar"
           }
          ],
          "carpet": [
           {
            "aaxis": {
             "endlinecolor": "#2a3f5f",
             "gridcolor": "white",
             "linecolor": "white",
             "minorgridcolor": "white",
             "startlinecolor": "#2a3f5f"
            },
            "baxis": {
             "endlinecolor": "#2a3f5f",
             "gridcolor": "white",
             "linecolor": "white",
             "minorgridcolor": "white",
             "startlinecolor": "#2a3f5f"
            },
            "type": "carpet"
           }
          ],
          "choropleth": [
           {
            "colorbar": {
             "outlinewidth": 0,
             "ticks": ""
            },
            "type": "choropleth"
           }
          ],
          "contour": [
           {
            "colorbar": {
             "outlinewidth": 0,
             "ticks": ""
            },
            "colorscale": [
             [
              0,
              "#0d0887"
             ],
             [
              0.1111111111111111,
              "#46039f"
             ],
             [
              0.2222222222222222,
              "#7201a8"
             ],
             [
              0.3333333333333333,
              "#9c179e"
             ],
             [
              0.4444444444444444,
              "#bd3786"
             ],
             [
              0.5555555555555556,
              "#d8576b"
             ],
             [
              0.6666666666666666,
              "#ed7953"
             ],
             [
              0.7777777777777778,
              "#fb9f3a"
             ],
             [
              0.8888888888888888,
              "#fdca26"
             ],
             [
              1,
              "#f0f921"
             ]
            ],
            "type": "contour"
           }
          ],
          "contourcarpet": [
           {
            "colorbar": {
             "outlinewidth": 0,
             "ticks": ""
            },
            "type": "contourcarpet"
           }
          ],
          "heatmap": [
           {
            "colorbar": {
             "outlinewidth": 0,
             "ticks": ""
            },
            "colorscale": [
             [
              0,
              "#0d0887"
             ],
             [
              0.1111111111111111,
              "#46039f"
             ],
             [
              0.2222222222222222,
              "#7201a8"
             ],
             [
              0.3333333333333333,
              "#9c179e"
             ],
             [
              0.4444444444444444,
              "#bd3786"
             ],
             [
              0.5555555555555556,
              "#d8576b"
             ],
             [
              0.6666666666666666,
              "#ed7953"
             ],
             [
              0.7777777777777778,
              "#fb9f3a"
             ],
             [
              0.8888888888888888,
              "#fdca26"
             ],
             [
              1,
              "#f0f921"
             ]
            ],
            "type": "heatmap"
           }
          ],
          "heatmapgl": [
           {
            "colorbar": {
             "outlinewidth": 0,
             "ticks": ""
            },
            "colorscale": [
             [
              0,
              "#0d0887"
             ],
             [
              0.1111111111111111,
              "#46039f"
             ],
             [
              0.2222222222222222,
              "#7201a8"
             ],
             [
              0.3333333333333333,
              "#9c179e"
             ],
             [
              0.4444444444444444,
              "#bd3786"
             ],
             [
              0.5555555555555556,
              "#d8576b"
             ],
             [
              0.6666666666666666,
              "#ed7953"
             ],
             [
              0.7777777777777778,
              "#fb9f3a"
             ],
             [
              0.8888888888888888,
              "#fdca26"
             ],
             [
              1,
              "#f0f921"
             ]
            ],
            "type": "heatmapgl"
           }
          ],
          "histogram": [
           {
            "marker": {
             "pattern": {
              "fillmode": "overlay",
              "size": 10,
              "solidity": 0.2
             }
            },
            "type": "histogram"
           }
          ],
          "histogram2d": [
           {
            "colorbar": {
             "outlinewidth": 0,
             "ticks": ""
            },
            "colorscale": [
             [
              0,
              "#0d0887"
             ],
             [
              0.1111111111111111,
              "#46039f"
             ],
             [
              0.2222222222222222,
              "#7201a8"
             ],
             [
              0.3333333333333333,
              "#9c179e"
             ],
             [
              0.4444444444444444,
              "#bd3786"
             ],
             [
              0.5555555555555556,
              "#d8576b"
             ],
             [
              0.6666666666666666,
              "#ed7953"
             ],
             [
              0.7777777777777778,
              "#fb9f3a"
             ],
             [
              0.8888888888888888,
              "#fdca26"
             ],
             [
              1,
              "#f0f921"
             ]
            ],
            "type": "histogram2d"
           }
          ],
          "histogram2dcontour": [
           {
            "colorbar": {
             "outlinewidth": 0,
             "ticks": ""
            },
            "colorscale": [
             [
              0,
              "#0d0887"
             ],
             [
              0.1111111111111111,
              "#46039f"
             ],
             [
              0.2222222222222222,
              "#7201a8"
             ],
             [
              0.3333333333333333,
              "#9c179e"
             ],
             [
              0.4444444444444444,
              "#bd3786"
             ],
             [
              0.5555555555555556,
              "#d8576b"
             ],
             [
              0.6666666666666666,
              "#ed7953"
             ],
             [
              0.7777777777777778,
              "#fb9f3a"
             ],
             [
              0.8888888888888888,
              "#fdca26"
             ],
             [
              1,
              "#f0f921"
             ]
            ],
            "type": "histogram2dcontour"
           }
          ],
          "mesh3d": [
           {
            "colorbar": {
             "outlinewidth": 0,
             "ticks": ""
            },
            "type": "mesh3d"
           }
          ],
          "parcoords": [
           {
            "line": {
             "colorbar": {
              "outlinewidth": 0,
              "ticks": ""
             }
            },
            "type": "parcoords"
           }
          ],
          "pie": [
           {
            "automargin": true,
            "type": "pie"
           }
          ],
          "scatter": [
           {
            "fillpattern": {
             "fillmode": "overlay",
             "size": 10,
             "solidity": 0.2
            },
            "type": "scatter"
           }
          ],
          "scatter3d": [
           {
            "line": {
             "colorbar": {
              "outlinewidth": 0,
              "ticks": ""
             }
            },
            "marker": {
             "colorbar": {
              "outlinewidth": 0,
              "ticks": ""
             }
            },
            "type": "scatter3d"
           }
          ],
          "scattercarpet": [
           {
            "marker": {
             "colorbar": {
              "outlinewidth": 0,
              "ticks": ""
             }
            },
            "type": "scattercarpet"
           }
          ],
          "scattergeo": [
           {
            "marker": {
             "colorbar": {
              "outlinewidth": 0,
              "ticks": ""
             }
            },
            "type": "scattergeo"
           }
          ],
          "scattergl": [
           {
            "marker": {
             "colorbar": {
              "outlinewidth": 0,
              "ticks": ""
             }
            },
            "type": "scattergl"
           }
          ],
          "scattermapbox": [
           {
            "marker": {
             "colorbar": {
              "outlinewidth": 0,
              "ticks": ""
             }
            },
            "type": "scattermapbox"
           }
          ],
          "scatterpolar": [
           {
            "marker": {
             "colorbar": {
              "outlinewidth": 0,
              "ticks": ""
             }
            },
            "type": "scatterpolar"
           }
          ],
          "scatterpolargl": [
           {
            "marker": {
             "colorbar": {
              "outlinewidth": 0,
              "ticks": ""
             }
            },
            "type": "scatterpolargl"
           }
          ],
          "scatterternary": [
           {
            "marker": {
             "colorbar": {
              "outlinewidth": 0,
              "ticks": ""
             }
            },
            "type": "scatterternary"
           }
          ],
          "surface": [
           {
            "colorbar": {
             "outlinewidth": 0,
             "ticks": ""
            },
            "colorscale": [
             [
              0,
              "#0d0887"
             ],
             [
              0.1111111111111111,
              "#46039f"
             ],
             [
              0.2222222222222222,
              "#7201a8"
             ],
             [
              0.3333333333333333,
              "#9c179e"
             ],
             [
              0.4444444444444444,
              "#bd3786"
             ],
             [
              0.5555555555555556,
              "#d8576b"
             ],
             [
              0.6666666666666666,
              "#ed7953"
             ],
             [
              0.7777777777777778,
              "#fb9f3a"
             ],
             [
              0.8888888888888888,
              "#fdca26"
             ],
             [
              1,
              "#f0f921"
             ]
            ],
            "type": "surface"
           }
          ],
          "table": [
           {
            "cells": {
             "fill": {
              "color": "#EBF0F8"
             },
             "line": {
              "color": "white"
             }
            },
            "header": {
             "fill": {
              "color": "#C8D4E3"
             },
             "line": {
              "color": "white"
             }
            },
            "type": "table"
           }
          ]
         },
         "layout": {
          "annotationdefaults": {
           "arrowcolor": "#2a3f5f",
           "arrowhead": 0,
           "arrowwidth": 1
          },
          "autotypenumbers": "strict",
          "coloraxis": {
           "colorbar": {
            "outlinewidth": 0,
            "ticks": ""
           }
          },
          "colorscale": {
           "diverging": [
            [
             0,
             "#8e0152"
            ],
            [
             0.1,
             "#c51b7d"
            ],
            [
             0.2,
             "#de77ae"
            ],
            [
             0.3,
             "#f1b6da"
            ],
            [
             0.4,
             "#fde0ef"
            ],
            [
             0.5,
             "#f7f7f7"
            ],
            [
             0.6,
             "#e6f5d0"
            ],
            [
             0.7,
             "#b8e186"
            ],
            [
             0.8,
             "#7fbc41"
            ],
            [
             0.9,
             "#4d9221"
            ],
            [
             1,
             "#276419"
            ]
           ],
           "sequential": [
            [
             0,
             "#0d0887"
            ],
            [
             0.1111111111111111,
             "#46039f"
            ],
            [
             0.2222222222222222,
             "#7201a8"
            ],
            [
             0.3333333333333333,
             "#9c179e"
            ],
            [
             0.4444444444444444,
             "#bd3786"
            ],
            [
             0.5555555555555556,
             "#d8576b"
            ],
            [
             0.6666666666666666,
             "#ed7953"
            ],
            [
             0.7777777777777778,
             "#fb9f3a"
            ],
            [
             0.8888888888888888,
             "#fdca26"
            ],
            [
             1,
             "#f0f921"
            ]
           ],
           "sequentialminus": [
            [
             0,
             "#0d0887"
            ],
            [
             0.1111111111111111,
             "#46039f"
            ],
            [
             0.2222222222222222,
             "#7201a8"
            ],
            [
             0.3333333333333333,
             "#9c179e"
            ],
            [
             0.4444444444444444,
             "#bd3786"
            ],
            [
             0.5555555555555556,
             "#d8576b"
            ],
            [
             0.6666666666666666,
             "#ed7953"
            ],
            [
             0.7777777777777778,
             "#fb9f3a"
            ],
            [
             0.8888888888888888,
             "#fdca26"
            ],
            [
             1,
             "#f0f921"
            ]
           ]
          },
          "colorway": [
           "#636efa",
           "#EF553B",
           "#00cc96",
           "#ab63fa",
           "#FFA15A",
           "#19d3f3",
           "#FF6692",
           "#B6E880",
           "#FF97FF",
           "#FECB52"
          ],
          "font": {
           "color": "#2a3f5f"
          },
          "geo": {
           "bgcolor": "white",
           "lakecolor": "white",
           "landcolor": "#E5ECF6",
           "showlakes": true,
           "showland": true,
           "subunitcolor": "white"
          },
          "hoverlabel": {
           "align": "left"
          },
          "hovermode": "closest",
          "mapbox": {
           "style": "light"
          },
          "paper_bgcolor": "white",
          "plot_bgcolor": "#E5ECF6",
          "polar": {
           "angularaxis": {
            "gridcolor": "white",
            "linecolor": "white",
            "ticks": ""
           },
           "bgcolor": "#E5ECF6",
           "radialaxis": {
            "gridcolor": "white",
            "linecolor": "white",
            "ticks": ""
           }
          },
          "scene": {
           "xaxis": {
            "backgroundcolor": "#E5ECF6",
            "gridcolor": "white",
            "gridwidth": 2,
            "linecolor": "white",
            "showbackground": true,
            "ticks": "",
            "zerolinecolor": "white"
           },
           "yaxis": {
            "backgroundcolor": "#E5ECF6",
            "gridcolor": "white",
            "gridwidth": 2,
            "linecolor": "white",
            "showbackground": true,
            "ticks": "",
            "zerolinecolor": "white"
           },
           "zaxis": {
            "backgroundcolor": "#E5ECF6",
            "gridcolor": "white",
            "gridwidth": 2,
            "linecolor": "white",
            "showbackground": true,
            "ticks": "",
            "zerolinecolor": "white"
           }
          },
          "shapedefaults": {
           "line": {
            "color": "#2a3f5f"
           }
          },
          "ternary": {
           "aaxis": {
            "gridcolor": "white",
            "linecolor": "white",
            "ticks": ""
           },
           "baxis": {
            "gridcolor": "white",
            "linecolor": "white",
            "ticks": ""
           },
           "bgcolor": "#E5ECF6",
           "caxis": {
            "gridcolor": "white",
            "linecolor": "white",
            "ticks": ""
           }
          },
          "title": {
           "x": 0.05
          },
          "xaxis": {
           "automargin": true,
           "gridcolor": "white",
           "linecolor": "white",
           "ticks": "",
           "title": {
            "standoff": 15
           },
           "zerolinecolor": "white",
           "zerolinewidth": 2
          },
          "yaxis": {
           "automargin": true,
           "gridcolor": "white",
           "linecolor": "white",
           "ticks": "",
           "title": {
            "standoff": 15
           },
           "zerolinecolor": "white",
           "zerolinewidth": 2
          }
         }
        },
        "xaxis": {
         "anchor": "y",
         "domain": [
          0,
          0.45
         ],
         "rangeslider": {
          "autorange": true,
          "range": [
           "2129-01-04 18:00:00",
           "2129-01-05 02:00:00"
          ]
         }
        },
        "xaxis2": {
         "anchor": "y2",
         "domain": [
          0.55,
          1
         ]
        },
        "yaxis": {
         "anchor": "x",
         "domain": [
          0,
          1
         ]
        },
        "yaxis2": {
         "anchor": "x2",
         "domain": [
          0,
          1
         ]
        }
       }
      }
     },
     "metadata": {},
     "output_type": "display_data"
    }
   ],
   "source": [
    "\n",
    "fig = make_subplots(rows = 1, cols = 2, subplot_titles=('not cumulative','cumulative'))\n",
    "fig.add_trace(go.Scatter(x = patient1_drug1.drug_exposure_start_datetime, y = patient1_drug1.quantity), row=1, col=1)\n",
    "fig.update_layout(xaxis=dict(rangeslider=dict(autorange=True, range=[patient1_drug1.drug_exposure_start_datetime.min(), patient1_drug1.drug_exposure_start_datetime.max()])))\n",
    "   \n",
    "fig.add_trace(go.Scatter(x = patient1_drug1.drug_exposure_start_datetime, y = patient1_drug1.cumulative), row=1, col=2)\n",
    "  \n",
    "fig.show()"
   ]
  },
  {
   "cell_type": "code",
   "execution_count": 12,
   "metadata": {},
   "outputs": [
    {
     "data": {
      "application/vnd.plotly.v1+json": {
       "config": {
        "plotlyServerURL": "https://plot.ly"
       },
       "data": [
        {
         "name": "723020, ['TAB']",
         "type": "scatter",
         "x": [
          "2129-01-03 19:00:00"
         ],
         "xaxis": "x",
         "y": [
          1
         ],
         "yaxis": "y"
        },
        {
         "name": "1127433, ['TAB']",
         "type": "scatter",
         "x": [
          "2129-01-03 20:00:00"
         ],
         "xaxis": "x",
         "y": [
          2
         ],
         "yaxis": "y"
        },
        {
         "name": "40232756, ['TAB']",
         "type": "scatter",
         "x": [
          "2129-01-04 18:00:00",
          "2129-01-04 21:00:00",
          "2129-01-05 00:00:00",
          "2129-01-05 02:00:00"
         ],
         "xaxis": "x",
         "y": [
          0.5,
          1,
          1.5,
          1
         ],
         "yaxis": "y"
        },
        {
         "name": "21125875, ['TAB']",
         "type": "scatter",
         "x": [
          "2129-01-05 08:00:00"
         ],
         "xaxis": "x",
         "y": [
          1
         ],
         "yaxis": "y"
        },
        {
         "name": "19137328, ['TAB']",
         "type": "scatter",
         "x": [
          "2129-01-05 08:00:00"
         ],
         "xaxis": "x",
         "y": [
          1
         ],
         "yaxis": "y"
        },
        {
         "name": "19077513, ['TAB']",
         "type": "scatter",
         "x": [
          "2129-01-05 08:00:00"
         ],
         "xaxis": "x",
         "y": [
          1
         ],
         "yaxis": "y"
        },
        {
         "name": "19127213, ['SYR']",
         "type": "scatter",
         "x": [
          "2129-01-03 19:00:00",
          "2129-01-05 03:00:00"
         ],
         "xaxis": "x2",
         "y": [
          0.3,
          0.3
         ],
         "yaxis": "y2"
        },
        {
         "name": "45775137, ['SYR']",
         "type": "scatter",
         "x": [
          "2129-01-03 19:00:00"
         ],
         "xaxis": "x2",
         "y": [
          1
         ],
         "yaxis": "y2"
        },
        {
         "name": "40221329, ['SYR']",
         "type": "scatter",
         "x": [
          "2129-01-05 02:00:00"
         ],
         "xaxis": "x2",
         "y": [
          1
         ],
         "yaxis": "y2"
        },
        {
         "name": "19126251, ['SYR']",
         "type": "scatter",
         "x": [
          "2129-01-06 08:00:00",
          "2129-01-08 08:00:00",
          "2129-01-10 08:00:00",
          "2129-01-11 08:00:00"
         ],
         "xaxis": "x2",
         "y": [
          2.25,
          1.125,
          0.5625,
          0.2813
         ],
         "yaxis": "y2"
        },
        {
         "name": "43011850, ['mL']",
         "type": "scatter",
         "x": [
          "2129-01-03 19:00:00"
         ],
         "xaxis": "x3",
         "y": [
          1
         ],
         "yaxis": "y3"
        },
        {
         "name": "19079250, ['mL']",
         "type": "scatter",
         "x": [
          "2129-01-05 03:00:00"
         ],
         "xaxis": "x3",
         "y": [
          6
         ],
         "yaxis": "y3"
        },
        {
         "name": "36249736, ['mL']",
         "type": "scatter",
         "x": [
          "2129-01-05 03:00:00"
         ],
         "xaxis": "x3",
         "y": [
          100
         ],
         "yaxis": "y3"
        },
        {
         "name": "734281, ['mL']",
         "type": "scatter",
         "x": [
          "2129-01-05 13:00:00",
          "2129-01-05 13:00:00"
         ],
         "xaxis": "x3",
         "y": [
          2.7692,
          2.7692
         ],
         "yaxis": "y3"
        },
        {
         "name": "19019418, ['CAP']",
         "type": "scatter",
         "x": [
          "2129-01-04 08:00:00"
         ],
         "xaxis": "x4",
         "y": [
          1
         ],
         "yaxis": "y4"
        },
        {
         "name": "19019050, ['UDCUP']",
         "type": "scatter",
         "x": [
          "2129-01-05 04:00:00"
         ],
         "xaxis": "x5",
         "y": [
          2
         ],
         "yaxis": "y5"
        }
       ],
       "layout": {
        "annotations": [
         {
          "font": {
           "size": 16
          },
          "showarrow": false,
          "text": "TAB",
          "x": 0.08399999999999999,
          "xanchor": "center",
          "xref": "paper",
          "y": 1,
          "yanchor": "bottom",
          "yref": "paper"
         },
         {
          "font": {
           "size": 16
          },
          "showarrow": false,
          "text": "SYR",
          "x": 0.292,
          "xanchor": "center",
          "xref": "paper",
          "y": 1,
          "yanchor": "bottom",
          "yref": "paper"
         },
         {
          "font": {
           "size": 16
          },
          "showarrow": false,
          "text": "mL",
          "x": 0.5,
          "xanchor": "center",
          "xref": "paper",
          "y": 1,
          "yanchor": "bottom",
          "yref": "paper"
         },
         {
          "font": {
           "size": 16
          },
          "showarrow": false,
          "text": "CAP",
          "x": 0.708,
          "xanchor": "center",
          "xref": "paper",
          "y": 1,
          "yanchor": "bottom",
          "yref": "paper"
         },
         {
          "font": {
           "size": 16
          },
          "showarrow": false,
          "text": "UDCUP",
          "x": 0.9159999999999999,
          "xanchor": "center",
          "xref": "paper",
          "y": 1,
          "yanchor": "bottom",
          "yref": "paper"
         }
        ],
        "template": {
         "data": {
          "bar": [
           {
            "error_x": {
             "color": "#2a3f5f"
            },
            "error_y": {
             "color": "#2a3f5f"
            },
            "marker": {
             "line": {
              "color": "#E5ECF6",
              "width": 0.5
             },
             "pattern": {
              "fillmode": "overlay",
              "size": 10,
              "solidity": 0.2
             }
            },
            "type": "bar"
           }
          ],
          "barpolar": [
           {
            "marker": {
             "line": {
              "color": "#E5ECF6",
              "width": 0.5
             },
             "pattern": {
              "fillmode": "overlay",
              "size": 10,
              "solidity": 0.2
             }
            },
            "type": "barpolar"
           }
          ],
          "carpet": [
           {
            "aaxis": {
             "endlinecolor": "#2a3f5f",
             "gridcolor": "white",
             "linecolor": "white",
             "minorgridcolor": "white",
             "startlinecolor": "#2a3f5f"
            },
            "baxis": {
             "endlinecolor": "#2a3f5f",
             "gridcolor": "white",
             "linecolor": "white",
             "minorgridcolor": "white",
             "startlinecolor": "#2a3f5f"
            },
            "type": "carpet"
           }
          ],
          "choropleth": [
           {
            "colorbar": {
             "outlinewidth": 0,
             "ticks": ""
            },
            "type": "choropleth"
           }
          ],
          "contour": [
           {
            "colorbar": {
             "outlinewidth": 0,
             "ticks": ""
            },
            "colorscale": [
             [
              0,
              "#0d0887"
             ],
             [
              0.1111111111111111,
              "#46039f"
             ],
             [
              0.2222222222222222,
              "#7201a8"
             ],
             [
              0.3333333333333333,
              "#9c179e"
             ],
             [
              0.4444444444444444,
              "#bd3786"
             ],
             [
              0.5555555555555556,
              "#d8576b"
             ],
             [
              0.6666666666666666,
              "#ed7953"
             ],
             [
              0.7777777777777778,
              "#fb9f3a"
             ],
             [
              0.8888888888888888,
              "#fdca26"
             ],
             [
              1,
              "#f0f921"
             ]
            ],
            "type": "contour"
           }
          ],
          "contourcarpet": [
           {
            "colorbar": {
             "outlinewidth": 0,
             "ticks": ""
            },
            "type": "contourcarpet"
           }
          ],
          "heatmap": [
           {
            "colorbar": {
             "outlinewidth": 0,
             "ticks": ""
            },
            "colorscale": [
             [
              0,
              "#0d0887"
             ],
             [
              0.1111111111111111,
              "#46039f"
             ],
             [
              0.2222222222222222,
              "#7201a8"
             ],
             [
              0.3333333333333333,
              "#9c179e"
             ],
             [
              0.4444444444444444,
              "#bd3786"
             ],
             [
              0.5555555555555556,
              "#d8576b"
             ],
             [
              0.6666666666666666,
              "#ed7953"
             ],
             [
              0.7777777777777778,
              "#fb9f3a"
             ],
             [
              0.8888888888888888,
              "#fdca26"
             ],
             [
              1,
              "#f0f921"
             ]
            ],
            "type": "heatmap"
           }
          ],
          "heatmapgl": [
           {
            "colorbar": {
             "outlinewidth": 0,
             "ticks": ""
            },
            "colorscale": [
             [
              0,
              "#0d0887"
             ],
             [
              0.1111111111111111,
              "#46039f"
             ],
             [
              0.2222222222222222,
              "#7201a8"
             ],
             [
              0.3333333333333333,
              "#9c179e"
             ],
             [
              0.4444444444444444,
              "#bd3786"
             ],
             [
              0.5555555555555556,
              "#d8576b"
             ],
             [
              0.6666666666666666,
              "#ed7953"
             ],
             [
              0.7777777777777778,
              "#fb9f3a"
             ],
             [
              0.8888888888888888,
              "#fdca26"
             ],
             [
              1,
              "#f0f921"
             ]
            ],
            "type": "heatmapgl"
           }
          ],
          "histogram": [
           {
            "marker": {
             "pattern": {
              "fillmode": "overlay",
              "size": 10,
              "solidity": 0.2
             }
            },
            "type": "histogram"
           }
          ],
          "histogram2d": [
           {
            "colorbar": {
             "outlinewidth": 0,
             "ticks": ""
            },
            "colorscale": [
             [
              0,
              "#0d0887"
             ],
             [
              0.1111111111111111,
              "#46039f"
             ],
             [
              0.2222222222222222,
              "#7201a8"
             ],
             [
              0.3333333333333333,
              "#9c179e"
             ],
             [
              0.4444444444444444,
              "#bd3786"
             ],
             [
              0.5555555555555556,
              "#d8576b"
             ],
             [
              0.6666666666666666,
              "#ed7953"
             ],
             [
              0.7777777777777778,
              "#fb9f3a"
             ],
             [
              0.8888888888888888,
              "#fdca26"
             ],
             [
              1,
              "#f0f921"
             ]
            ],
            "type": "histogram2d"
           }
          ],
          "histogram2dcontour": [
           {
            "colorbar": {
             "outlinewidth": 0,
             "ticks": ""
            },
            "colorscale": [
             [
              0,
              "#0d0887"
             ],
             [
              0.1111111111111111,
              "#46039f"
             ],
             [
              0.2222222222222222,
              "#7201a8"
             ],
             [
              0.3333333333333333,
              "#9c179e"
             ],
             [
              0.4444444444444444,
              "#bd3786"
             ],
             [
              0.5555555555555556,
              "#d8576b"
             ],
             [
              0.6666666666666666,
              "#ed7953"
             ],
             [
              0.7777777777777778,
              "#fb9f3a"
             ],
             [
              0.8888888888888888,
              "#fdca26"
             ],
             [
              1,
              "#f0f921"
             ]
            ],
            "type": "histogram2dcontour"
           }
          ],
          "mesh3d": [
           {
            "colorbar": {
             "outlinewidth": 0,
             "ticks": ""
            },
            "type": "mesh3d"
           }
          ],
          "parcoords": [
           {
            "line": {
             "colorbar": {
              "outlinewidth": 0,
              "ticks": ""
             }
            },
            "type": "parcoords"
           }
          ],
          "pie": [
           {
            "automargin": true,
            "type": "pie"
           }
          ],
          "scatter": [
           {
            "fillpattern": {
             "fillmode": "overlay",
             "size": 10,
             "solidity": 0.2
            },
            "type": "scatter"
           }
          ],
          "scatter3d": [
           {
            "line": {
             "colorbar": {
              "outlinewidth": 0,
              "ticks": ""
             }
            },
            "marker": {
             "colorbar": {
              "outlinewidth": 0,
              "ticks": ""
             }
            },
            "type": "scatter3d"
           }
          ],
          "scattercarpet": [
           {
            "marker": {
             "colorbar": {
              "outlinewidth": 0,
              "ticks": ""
             }
            },
            "type": "scattercarpet"
           }
          ],
          "scattergeo": [
           {
            "marker": {
             "colorbar": {
              "outlinewidth": 0,
              "ticks": ""
             }
            },
            "type": "scattergeo"
           }
          ],
          "scattergl": [
           {
            "marker": {
             "colorbar": {
              "outlinewidth": 0,
              "ticks": ""
             }
            },
            "type": "scattergl"
           }
          ],
          "scattermapbox": [
           {
            "marker": {
             "colorbar": {
              "outlinewidth": 0,
              "ticks": ""
             }
            },
            "type": "scattermapbox"
           }
          ],
          "scatterpolar": [
           {
            "marker": {
             "colorbar": {
              "outlinewidth": 0,
              "ticks": ""
             }
            },
            "type": "scatterpolar"
           }
          ],
          "scatterpolargl": [
           {
            "marker": {
             "colorbar": {
              "outlinewidth": 0,
              "ticks": ""
             }
            },
            "type": "scatterpolargl"
           }
          ],
          "scatterternary": [
           {
            "marker": {
             "colorbar": {
              "outlinewidth": 0,
              "ticks": ""
             }
            },
            "type": "scatterternary"
           }
          ],
          "surface": [
           {
            "colorbar": {
             "outlinewidth": 0,
             "ticks": ""
            },
            "colorscale": [
             [
              0,
              "#0d0887"
             ],
             [
              0.1111111111111111,
              "#46039f"
             ],
             [
              0.2222222222222222,
              "#7201a8"
             ],
             [
              0.3333333333333333,
              "#9c179e"
             ],
             [
              0.4444444444444444,
              "#bd3786"
             ],
             [
              0.5555555555555556,
              "#d8576b"
             ],
             [
              0.6666666666666666,
              "#ed7953"
             ],
             [
              0.7777777777777778,
              "#fb9f3a"
             ],
             [
              0.8888888888888888,
              "#fdca26"
             ],
             [
              1,
              "#f0f921"
             ]
            ],
            "type": "surface"
           }
          ],
          "table": [
           {
            "cells": {
             "fill": {
              "color": "#EBF0F8"
             },
             "line": {
              "color": "white"
             }
            },
            "header": {
             "fill": {
              "color": "#C8D4E3"
             },
             "line": {
              "color": "white"
             }
            },
            "type": "table"
           }
          ]
         },
         "layout": {
          "annotationdefaults": {
           "arrowcolor": "#2a3f5f",
           "arrowhead": 0,
           "arrowwidth": 1
          },
          "autotypenumbers": "strict",
          "coloraxis": {
           "colorbar": {
            "outlinewidth": 0,
            "ticks": ""
           }
          },
          "colorscale": {
           "diverging": [
            [
             0,
             "#8e0152"
            ],
            [
             0.1,
             "#c51b7d"
            ],
            [
             0.2,
             "#de77ae"
            ],
            [
             0.3,
             "#f1b6da"
            ],
            [
             0.4,
             "#fde0ef"
            ],
            [
             0.5,
             "#f7f7f7"
            ],
            [
             0.6,
             "#e6f5d0"
            ],
            [
             0.7,
             "#b8e186"
            ],
            [
             0.8,
             "#7fbc41"
            ],
            [
             0.9,
             "#4d9221"
            ],
            [
             1,
             "#276419"
            ]
           ],
           "sequential": [
            [
             0,
             "#0d0887"
            ],
            [
             0.1111111111111111,
             "#46039f"
            ],
            [
             0.2222222222222222,
             "#7201a8"
            ],
            [
             0.3333333333333333,
             "#9c179e"
            ],
            [
             0.4444444444444444,
             "#bd3786"
            ],
            [
             0.5555555555555556,
             "#d8576b"
            ],
            [
             0.6666666666666666,
             "#ed7953"
            ],
            [
             0.7777777777777778,
             "#fb9f3a"
            ],
            [
             0.8888888888888888,
             "#fdca26"
            ],
            [
             1,
             "#f0f921"
            ]
           ],
           "sequentialminus": [
            [
             0,
             "#0d0887"
            ],
            [
             0.1111111111111111,
             "#46039f"
            ],
            [
             0.2222222222222222,
             "#7201a8"
            ],
            [
             0.3333333333333333,
             "#9c179e"
            ],
            [
             0.4444444444444444,
             "#bd3786"
            ],
            [
             0.5555555555555556,
             "#d8576b"
            ],
            [
             0.6666666666666666,
             "#ed7953"
            ],
            [
             0.7777777777777778,
             "#fb9f3a"
            ],
            [
             0.8888888888888888,
             "#fdca26"
            ],
            [
             1,
             "#f0f921"
            ]
           ]
          },
          "colorway": [
           "#636efa",
           "#EF553B",
           "#00cc96",
           "#ab63fa",
           "#FFA15A",
           "#19d3f3",
           "#FF6692",
           "#B6E880",
           "#FF97FF",
           "#FECB52"
          ],
          "font": {
           "color": "#2a3f5f"
          },
          "geo": {
           "bgcolor": "white",
           "lakecolor": "white",
           "landcolor": "#E5ECF6",
           "showlakes": true,
           "showland": true,
           "subunitcolor": "white"
          },
          "hoverlabel": {
           "align": "left"
          },
          "hovermode": "closest",
          "mapbox": {
           "style": "light"
          },
          "paper_bgcolor": "white",
          "plot_bgcolor": "#E5ECF6",
          "polar": {
           "angularaxis": {
            "gridcolor": "white",
            "linecolor": "white",
            "ticks": ""
           },
           "bgcolor": "#E5ECF6",
           "radialaxis": {
            "gridcolor": "white",
            "linecolor": "white",
            "ticks": ""
           }
          },
          "scene": {
           "xaxis": {
            "backgroundcolor": "#E5ECF6",
            "gridcolor": "white",
            "gridwidth": 2,
            "linecolor": "white",
            "showbackground": true,
            "ticks": "",
            "zerolinecolor": "white"
           },
           "yaxis": {
            "backgroundcolor": "#E5ECF6",
            "gridcolor": "white",
            "gridwidth": 2,
            "linecolor": "white",
            "showbackground": true,
            "ticks": "",
            "zerolinecolor": "white"
           },
           "zaxis": {
            "backgroundcolor": "#E5ECF6",
            "gridcolor": "white",
            "gridwidth": 2,
            "linecolor": "white",
            "showbackground": true,
            "ticks": "",
            "zerolinecolor": "white"
           }
          },
          "shapedefaults": {
           "line": {
            "color": "#2a3f5f"
           }
          },
          "ternary": {
           "aaxis": {
            "gridcolor": "white",
            "linecolor": "white",
            "ticks": ""
           },
           "baxis": {
            "gridcolor": "white",
            "linecolor": "white",
            "ticks": ""
           },
           "bgcolor": "#E5ECF6",
           "caxis": {
            "gridcolor": "white",
            "linecolor": "white",
            "ticks": ""
           }
          },
          "title": {
           "x": 0.05
          },
          "xaxis": {
           "automargin": true,
           "gridcolor": "white",
           "linecolor": "white",
           "ticks": "",
           "title": {
            "standoff": 15
           },
           "zerolinecolor": "white",
           "zerolinewidth": 2
          },
          "yaxis": {
           "automargin": true,
           "gridcolor": "white",
           "linecolor": "white",
           "ticks": "",
           "title": {
            "standoff": 15
           },
           "zerolinecolor": "white",
           "zerolinewidth": 2
          }
         }
        },
        "xaxis": {
         "anchor": "y",
         "domain": [
          0,
          0.16799999999999998
         ]
        },
        "xaxis2": {
         "anchor": "y2",
         "domain": [
          0.208,
          0.376
         ]
        },
        "xaxis3": {
         "anchor": "y3",
         "domain": [
          0.416,
          0.584
         ]
        },
        "xaxis4": {
         "anchor": "y4",
         "domain": [
          0.624,
          0.792
         ]
        },
        "xaxis5": {
         "anchor": "y5",
         "domain": [
          0.832,
          1
         ]
        },
        "yaxis": {
         "anchor": "x",
         "domain": [
          0,
          1
         ]
        },
        "yaxis2": {
         "anchor": "x2",
         "domain": [
          0,
          1
         ]
        },
        "yaxis3": {
         "anchor": "x3",
         "domain": [
          0,
          1
         ]
        },
        "yaxis4": {
         "anchor": "x4",
         "domain": [
          0,
          1
         ]
        },
        "yaxis5": {
         "anchor": "x5",
         "domain": [
          0,
          1
         ]
        }
       }
      }
     },
     "metadata": {},
     "output_type": "display_data"
    }
   ],
   "source": [
    "# Graph with concept_id:\n",
    "\n",
    "patient1 = patient1.sort_values(by='drug_exposure_start_datetime')\n",
    "number_types = patient1.dose_unit_source_value.describe()['unique']\n",
    "\n",
    "fig3 = make_subplots(rows = 1, cols = number_types, subplot_titles=(patient1.dose_unit_source_value.value_counts().index))\n",
    "colonne = 1\n",
    "\n",
    "for drug_type in patient1.dose_unit_source_value.value_counts().index:\n",
    "    #print(drug_type)\n",
    "\n",
    "    for d in patient1[patient1.dose_unit_source_value == drug_type].drug_concept_id.unique():\n",
    "        temp = patient1[patient1.drug_concept_id == d]\n",
    "        #print(temp.dose_unit_source_value.unique())\n",
    "        fig3.add_trace(go.Scatter(x = temp.drug_exposure_start_datetime, y = temp.quantity, name=f'{d}, {temp.dose_unit_source_value.unique()}'), row=1, col=colonne)\n",
    "\n",
    "    colonne += 1\n",
    "\n",
    "fig3.show()\n",
    "\n",
    "# Add curseur de temps, add legendgroup, add selection de chaque drug -> drug selection is already doable as well as time"
   ]
  },
  {
   "cell_type": "code",
   "execution_count": 113,
   "metadata": {},
   "outputs": [
    {
     "data": {
      "text/plain": [
       "18    723020\n",
       "Name: drug_concept_id, dtype: int64"
      ]
     },
     "execution_count": 113,
     "metadata": {},
     "output_type": "execute_result"
    }
   ],
   "source": [
    "patient1_drugName.loc[patient1_drugName.concept_name == d,'drug_concept_id']"
   ]
  },
  {
   "cell_type": "code",
   "execution_count": 13,
   "metadata": {},
   "outputs": [
    {
     "data": {
      "application/vnd.plotly.v1+json": {
       "config": {
        "plotlyServerURL": "https://plot.ly"
       },
       "data": [
        {
         "name": "723020, ['TAB']",
         "type": "scatter",
         "visible": true,
         "x": [
          "2129-01-03 19:00:00"
         ],
         "y": [
          1
         ]
        },
        {
         "name": "1127433, ['TAB']",
         "type": "scatter",
         "visible": true,
         "x": [
          "2129-01-03 20:00:00"
         ],
         "y": [
          2
         ]
        },
        {
         "name": "40232756, ['TAB']",
         "type": "scatter",
         "visible": true,
         "x": [
          "2129-01-04 18:00:00",
          "2129-01-04 21:00:00",
          "2129-01-05 00:00:00",
          "2129-01-05 02:00:00"
         ],
         "y": [
          0.5,
          1,
          1.5,
          1
         ]
        },
        {
         "name": "21125875, ['TAB']",
         "type": "scatter",
         "visible": true,
         "x": [
          "2129-01-05 08:00:00"
         ],
         "y": [
          1
         ]
        },
        {
         "name": "19137328, ['TAB']",
         "type": "scatter",
         "visible": true,
         "x": [
          "2129-01-05 08:00:00"
         ],
         "y": [
          1
         ]
        },
        {
         "name": "19077513, ['TAB']",
         "type": "scatter",
         "visible": true,
         "x": [
          "2129-01-05 08:00:00"
         ],
         "y": [
          1
         ]
        }
       ],
       "layout": {
        "showlegend": true,
        "template": {
         "data": {
          "bar": [
           {
            "error_x": {
             "color": "#2a3f5f"
            },
            "error_y": {
             "color": "#2a3f5f"
            },
            "marker": {
             "line": {
              "color": "#E5ECF6",
              "width": 0.5
             },
             "pattern": {
              "fillmode": "overlay",
              "size": 10,
              "solidity": 0.2
             }
            },
            "type": "bar"
           }
          ],
          "barpolar": [
           {
            "marker": {
             "line": {
              "color": "#E5ECF6",
              "width": 0.5
             },
             "pattern": {
              "fillmode": "overlay",
              "size": 10,
              "solidity": 0.2
             }
            },
            "type": "barpolar"
           }
          ],
          "carpet": [
           {
            "aaxis": {
             "endlinecolor": "#2a3f5f",
             "gridcolor": "white",
             "linecolor": "white",
             "minorgridcolor": "white",
             "startlinecolor": "#2a3f5f"
            },
            "baxis": {
             "endlinecolor": "#2a3f5f",
             "gridcolor": "white",
             "linecolor": "white",
             "minorgridcolor": "white",
             "startlinecolor": "#2a3f5f"
            },
            "type": "carpet"
           }
          ],
          "choropleth": [
           {
            "colorbar": {
             "outlinewidth": 0,
             "ticks": ""
            },
            "type": "choropleth"
           }
          ],
          "contour": [
           {
            "colorbar": {
             "outlinewidth": 0,
             "ticks": ""
            },
            "colorscale": [
             [
              0,
              "#0d0887"
             ],
             [
              0.1111111111111111,
              "#46039f"
             ],
             [
              0.2222222222222222,
              "#7201a8"
             ],
             [
              0.3333333333333333,
              "#9c179e"
             ],
             [
              0.4444444444444444,
              "#bd3786"
             ],
             [
              0.5555555555555556,
              "#d8576b"
             ],
             [
              0.6666666666666666,
              "#ed7953"
             ],
             [
              0.7777777777777778,
              "#fb9f3a"
             ],
             [
              0.8888888888888888,
              "#fdca26"
             ],
             [
              1,
              "#f0f921"
             ]
            ],
            "type": "contour"
           }
          ],
          "contourcarpet": [
           {
            "colorbar": {
             "outlinewidth": 0,
             "ticks": ""
            },
            "type": "contourcarpet"
           }
          ],
          "heatmap": [
           {
            "colorbar": {
             "outlinewidth": 0,
             "ticks": ""
            },
            "colorscale": [
             [
              0,
              "#0d0887"
             ],
             [
              0.1111111111111111,
              "#46039f"
             ],
             [
              0.2222222222222222,
              "#7201a8"
             ],
             [
              0.3333333333333333,
              "#9c179e"
             ],
             [
              0.4444444444444444,
              "#bd3786"
             ],
             [
              0.5555555555555556,
              "#d8576b"
             ],
             [
              0.6666666666666666,
              "#ed7953"
             ],
             [
              0.7777777777777778,
              "#fb9f3a"
             ],
             [
              0.8888888888888888,
              "#fdca26"
             ],
             [
              1,
              "#f0f921"
             ]
            ],
            "type": "heatmap"
           }
          ],
          "heatmapgl": [
           {
            "colorbar": {
             "outlinewidth": 0,
             "ticks": ""
            },
            "colorscale": [
             [
              0,
              "#0d0887"
             ],
             [
              0.1111111111111111,
              "#46039f"
             ],
             [
              0.2222222222222222,
              "#7201a8"
             ],
             [
              0.3333333333333333,
              "#9c179e"
             ],
             [
              0.4444444444444444,
              "#bd3786"
             ],
             [
              0.5555555555555556,
              "#d8576b"
             ],
             [
              0.6666666666666666,
              "#ed7953"
             ],
             [
              0.7777777777777778,
              "#fb9f3a"
             ],
             [
              0.8888888888888888,
              "#fdca26"
             ],
             [
              1,
              "#f0f921"
             ]
            ],
            "type": "heatmapgl"
           }
          ],
          "histogram": [
           {
            "marker": {
             "pattern": {
              "fillmode": "overlay",
              "size": 10,
              "solidity": 0.2
             }
            },
            "type": "histogram"
           }
          ],
          "histogram2d": [
           {
            "colorbar": {
             "outlinewidth": 0,
             "ticks": ""
            },
            "colorscale": [
             [
              0,
              "#0d0887"
             ],
             [
              0.1111111111111111,
              "#46039f"
             ],
             [
              0.2222222222222222,
              "#7201a8"
             ],
             [
              0.3333333333333333,
              "#9c179e"
             ],
             [
              0.4444444444444444,
              "#bd3786"
             ],
             [
              0.5555555555555556,
              "#d8576b"
             ],
             [
              0.6666666666666666,
              "#ed7953"
             ],
             [
              0.7777777777777778,
              "#fb9f3a"
             ],
             [
              0.8888888888888888,
              "#fdca26"
             ],
             [
              1,
              "#f0f921"
             ]
            ],
            "type": "histogram2d"
           }
          ],
          "histogram2dcontour": [
           {
            "colorbar": {
             "outlinewidth": 0,
             "ticks": ""
            },
            "colorscale": [
             [
              0,
              "#0d0887"
             ],
             [
              0.1111111111111111,
              "#46039f"
             ],
             [
              0.2222222222222222,
              "#7201a8"
             ],
             [
              0.3333333333333333,
              "#9c179e"
             ],
             [
              0.4444444444444444,
              "#bd3786"
             ],
             [
              0.5555555555555556,
              "#d8576b"
             ],
             [
              0.6666666666666666,
              "#ed7953"
             ],
             [
              0.7777777777777778,
              "#fb9f3a"
             ],
             [
              0.8888888888888888,
              "#fdca26"
             ],
             [
              1,
              "#f0f921"
             ]
            ],
            "type": "histogram2dcontour"
           }
          ],
          "mesh3d": [
           {
            "colorbar": {
             "outlinewidth": 0,
             "ticks": ""
            },
            "type": "mesh3d"
           }
          ],
          "parcoords": [
           {
            "line": {
             "colorbar": {
              "outlinewidth": 0,
              "ticks": ""
             }
            },
            "type": "parcoords"
           }
          ],
          "pie": [
           {
            "automargin": true,
            "type": "pie"
           }
          ],
          "scatter": [
           {
            "fillpattern": {
             "fillmode": "overlay",
             "size": 10,
             "solidity": 0.2
            },
            "type": "scatter"
           }
          ],
          "scatter3d": [
           {
            "line": {
             "colorbar": {
              "outlinewidth": 0,
              "ticks": ""
             }
            },
            "marker": {
             "colorbar": {
              "outlinewidth": 0,
              "ticks": ""
             }
            },
            "type": "scatter3d"
           }
          ],
          "scattercarpet": [
           {
            "marker": {
             "colorbar": {
              "outlinewidth": 0,
              "ticks": ""
             }
            },
            "type": "scattercarpet"
           }
          ],
          "scattergeo": [
           {
            "marker": {
             "colorbar": {
              "outlinewidth": 0,
              "ticks": ""
             }
            },
            "type": "scattergeo"
           }
          ],
          "scattergl": [
           {
            "marker": {
             "colorbar": {
              "outlinewidth": 0,
              "ticks": ""
             }
            },
            "type": "scattergl"
           }
          ],
          "scattermapbox": [
           {
            "marker": {
             "colorbar": {
              "outlinewidth": 0,
              "ticks": ""
             }
            },
            "type": "scattermapbox"
           }
          ],
          "scatterpolar": [
           {
            "marker": {
             "colorbar": {
              "outlinewidth": 0,
              "ticks": ""
             }
            },
            "type": "scatterpolar"
           }
          ],
          "scatterpolargl": [
           {
            "marker": {
             "colorbar": {
              "outlinewidth": 0,
              "ticks": ""
             }
            },
            "type": "scatterpolargl"
           }
          ],
          "scatterternary": [
           {
            "marker": {
             "colorbar": {
              "outlinewidth": 0,
              "ticks": ""
             }
            },
            "type": "scatterternary"
           }
          ],
          "surface": [
           {
            "colorbar": {
             "outlinewidth": 0,
             "ticks": ""
            },
            "colorscale": [
             [
              0,
              "#0d0887"
             ],
             [
              0.1111111111111111,
              "#46039f"
             ],
             [
              0.2222222222222222,
              "#7201a8"
             ],
             [
              0.3333333333333333,
              "#9c179e"
             ],
             [
              0.4444444444444444,
              "#bd3786"
             ],
             [
              0.5555555555555556,
              "#d8576b"
             ],
             [
              0.6666666666666666,
              "#ed7953"
             ],
             [
              0.7777777777777778,
              "#fb9f3a"
             ],
             [
              0.8888888888888888,
              "#fdca26"
             ],
             [
              1,
              "#f0f921"
             ]
            ],
            "type": "surface"
           }
          ],
          "table": [
           {
            "cells": {
             "fill": {
              "color": "#EBF0F8"
             },
             "line": {
              "color": "white"
             }
            },
            "header": {
             "fill": {
              "color": "#C8D4E3"
             },
             "line": {
              "color": "white"
             }
            },
            "type": "table"
           }
          ]
         },
         "layout": {
          "annotationdefaults": {
           "arrowcolor": "#2a3f5f",
           "arrowhead": 0,
           "arrowwidth": 1
          },
          "autotypenumbers": "strict",
          "coloraxis": {
           "colorbar": {
            "outlinewidth": 0,
            "ticks": ""
           }
          },
          "colorscale": {
           "diverging": [
            [
             0,
             "#8e0152"
            ],
            [
             0.1,
             "#c51b7d"
            ],
            [
             0.2,
             "#de77ae"
            ],
            [
             0.3,
             "#f1b6da"
            ],
            [
             0.4,
             "#fde0ef"
            ],
            [
             0.5,
             "#f7f7f7"
            ],
            [
             0.6,
             "#e6f5d0"
            ],
            [
             0.7,
             "#b8e186"
            ],
            [
             0.8,
             "#7fbc41"
            ],
            [
             0.9,
             "#4d9221"
            ],
            [
             1,
             "#276419"
            ]
           ],
           "sequential": [
            [
             0,
             "#0d0887"
            ],
            [
             0.1111111111111111,
             "#46039f"
            ],
            [
             0.2222222222222222,
             "#7201a8"
            ],
            [
             0.3333333333333333,
             "#9c179e"
            ],
            [
             0.4444444444444444,
             "#bd3786"
            ],
            [
             0.5555555555555556,
             "#d8576b"
            ],
            [
             0.6666666666666666,
             "#ed7953"
            ],
            [
             0.7777777777777778,
             "#fb9f3a"
            ],
            [
             0.8888888888888888,
             "#fdca26"
            ],
            [
             1,
             "#f0f921"
            ]
           ],
           "sequentialminus": [
            [
             0,
             "#0d0887"
            ],
            [
             0.1111111111111111,
             "#46039f"
            ],
            [
             0.2222222222222222,
             "#7201a8"
            ],
            [
             0.3333333333333333,
             "#9c179e"
            ],
            [
             0.4444444444444444,
             "#bd3786"
            ],
            [
             0.5555555555555556,
             "#d8576b"
            ],
            [
             0.6666666666666666,
             "#ed7953"
            ],
            [
             0.7777777777777778,
             "#fb9f3a"
            ],
            [
             0.8888888888888888,
             "#fdca26"
            ],
            [
             1,
             "#f0f921"
            ]
           ]
          },
          "colorway": [
           "#636efa",
           "#EF553B",
           "#00cc96",
           "#ab63fa",
           "#FFA15A",
           "#19d3f3",
           "#FF6692",
           "#B6E880",
           "#FF97FF",
           "#FECB52"
          ],
          "font": {
           "color": "#2a3f5f"
          },
          "geo": {
           "bgcolor": "white",
           "lakecolor": "white",
           "landcolor": "#E5ECF6",
           "showlakes": true,
           "showland": true,
           "subunitcolor": "white"
          },
          "hoverlabel": {
           "align": "left"
          },
          "hovermode": "closest",
          "mapbox": {
           "style": "light"
          },
          "paper_bgcolor": "white",
          "plot_bgcolor": "#E5ECF6",
          "polar": {
           "angularaxis": {
            "gridcolor": "white",
            "linecolor": "white",
            "ticks": ""
           },
           "bgcolor": "#E5ECF6",
           "radialaxis": {
            "gridcolor": "white",
            "linecolor": "white",
            "ticks": ""
           }
          },
          "scene": {
           "xaxis": {
            "backgroundcolor": "#E5ECF6",
            "gridcolor": "white",
            "gridwidth": 2,
            "linecolor": "white",
            "showbackground": true,
            "ticks": "",
            "zerolinecolor": "white"
           },
           "yaxis": {
            "backgroundcolor": "#E5ECF6",
            "gridcolor": "white",
            "gridwidth": 2,
            "linecolor": "white",
            "showbackground": true,
            "ticks": "",
            "zerolinecolor": "white"
           },
           "zaxis": {
            "backgroundcolor": "#E5ECF6",
            "gridcolor": "white",
            "gridwidth": 2,
            "linecolor": "white",
            "showbackground": true,
            "ticks": "",
            "zerolinecolor": "white"
           }
          },
          "shapedefaults": {
           "line": {
            "color": "#2a3f5f"
           }
          },
          "ternary": {
           "aaxis": {
            "gridcolor": "white",
            "linecolor": "white",
            "ticks": ""
           },
           "baxis": {
            "gridcolor": "white",
            "linecolor": "white",
            "ticks": ""
           },
           "bgcolor": "#E5ECF6",
           "caxis": {
            "gridcolor": "white",
            "linecolor": "white",
            "ticks": ""
           }
          },
          "title": {
           "x": 0.05
          },
          "xaxis": {
           "automargin": true,
           "gridcolor": "white",
           "linecolor": "white",
           "ticks": "",
           "title": {
            "standoff": 15
           },
           "zerolinecolor": "white",
           "zerolinewidth": 2
          },
          "yaxis": {
           "automargin": true,
           "gridcolor": "white",
           "linecolor": "white",
           "ticks": "",
           "title": {
            "standoff": 15
           },
           "zerolinecolor": "white",
           "zerolinewidth": 2
          }
         }
        },
        "updatemenus": [
         {
          "buttons": [
           {
            "args": [
             {
              "visible": [
               true,
               false,
               false,
               false,
               false,
               false
              ]
             }
            ],
            "args2": [
             {
              "visible": [
               false,
               true,
               true,
               true,
               true,
               true
              ]
             }
            ],
            "label": "723020",
            "method": "update",
            "visible": true
           },
           {
            "args": [
             {
              "visible": [
               false,
               true,
               false,
               false,
               false,
               false
              ]
             }
            ],
            "args2": [
             {
              "visible": [
               true,
               false,
               true,
               true,
               true,
               true
              ]
             }
            ],
            "label": "1127433",
            "method": "update",
            "visible": true
           },
           {
            "args": [
             {
              "visible": [
               false,
               false,
               true,
               false,
               false,
               false
              ]
             }
            ],
            "args2": [
             {
              "visible": [
               true,
               true,
               false,
               true,
               true,
               true
              ]
             }
            ],
            "label": "40232756",
            "method": "update",
            "visible": true
           },
           {
            "args": [
             {
              "visible": [
               false,
               false,
               false,
               true,
               false,
               false
              ]
             }
            ],
            "args2": [
             {
              "visible": [
               true,
               true,
               true,
               false,
               true,
               true
              ]
             }
            ],
            "label": "21125875",
            "method": "update",
            "visible": true
           },
           {
            "args": [
             {
              "visible": [
               false,
               false,
               false,
               false,
               true,
               false
              ]
             }
            ],
            "args2": [
             {
              "visible": [
               true,
               true,
               true,
               true,
               false,
               true
              ]
             }
            ],
            "label": "19137328",
            "method": "update",
            "visible": true
           },
           {
            "args": [
             {
              "visible": [
               false,
               false,
               false,
               false,
               false,
               true
              ]
             }
            ],
            "args2": [
             {
              "visible": [
               true,
               true,
               true,
               true,
               true,
               false
              ]
             }
            ],
            "label": "19077513",
            "method": "update",
            "visible": true
           }
          ],
          "direction": "right",
          "showactive": true,
          "type": "buttons",
          "x": 0.7,
          "y": 1.3
         }
        ],
        "xaxis": {
         "rangeslider": {
          "autorange": true,
          "range": [
           "2129-01-04 18:00:00",
           "2129-01-05 02:00:00"
          ]
         }
        }
       }
      }
     },
     "metadata": {},
     "output_type": "display_data"
    },
    {
     "data": {
      "application/vnd.plotly.v1+json": {
       "config": {
        "plotlyServerURL": "https://plot.ly"
       },
       "data": [
        {
         "name": "19127213, ['SYR']",
         "type": "scatter",
         "visible": true,
         "x": [
          "2129-01-03 19:00:00",
          "2129-01-05 03:00:00"
         ],
         "y": [
          0.3,
          0.3
         ]
        },
        {
         "name": "45775137, ['SYR']",
         "type": "scatter",
         "visible": true,
         "x": [
          "2129-01-03 19:00:00"
         ],
         "y": [
          1
         ]
        },
        {
         "name": "40221329, ['SYR']",
         "type": "scatter",
         "visible": true,
         "x": [
          "2129-01-05 02:00:00"
         ],
         "y": [
          1
         ]
        },
        {
         "name": "19126251, ['SYR']",
         "type": "scatter",
         "visible": true,
         "x": [
          "2129-01-06 08:00:00",
          "2129-01-08 08:00:00",
          "2129-01-10 08:00:00",
          "2129-01-11 08:00:00"
         ],
         "y": [
          2.25,
          1.125,
          0.5625,
          0.2813
         ]
        }
       ],
       "layout": {
        "showlegend": true,
        "template": {
         "data": {
          "bar": [
           {
            "error_x": {
             "color": "#2a3f5f"
            },
            "error_y": {
             "color": "#2a3f5f"
            },
            "marker": {
             "line": {
              "color": "#E5ECF6",
              "width": 0.5
             },
             "pattern": {
              "fillmode": "overlay",
              "size": 10,
              "solidity": 0.2
             }
            },
            "type": "bar"
           }
          ],
          "barpolar": [
           {
            "marker": {
             "line": {
              "color": "#E5ECF6",
              "width": 0.5
             },
             "pattern": {
              "fillmode": "overlay",
              "size": 10,
              "solidity": 0.2
             }
            },
            "type": "barpolar"
           }
          ],
          "carpet": [
           {
            "aaxis": {
             "endlinecolor": "#2a3f5f",
             "gridcolor": "white",
             "linecolor": "white",
             "minorgridcolor": "white",
             "startlinecolor": "#2a3f5f"
            },
            "baxis": {
             "endlinecolor": "#2a3f5f",
             "gridcolor": "white",
             "linecolor": "white",
             "minorgridcolor": "white",
             "startlinecolor": "#2a3f5f"
            },
            "type": "carpet"
           }
          ],
          "choropleth": [
           {
            "colorbar": {
             "outlinewidth": 0,
             "ticks": ""
            },
            "type": "choropleth"
           }
          ],
          "contour": [
           {
            "colorbar": {
             "outlinewidth": 0,
             "ticks": ""
            },
            "colorscale": [
             [
              0,
              "#0d0887"
             ],
             [
              0.1111111111111111,
              "#46039f"
             ],
             [
              0.2222222222222222,
              "#7201a8"
             ],
             [
              0.3333333333333333,
              "#9c179e"
             ],
             [
              0.4444444444444444,
              "#bd3786"
             ],
             [
              0.5555555555555556,
              "#d8576b"
             ],
             [
              0.6666666666666666,
              "#ed7953"
             ],
             [
              0.7777777777777778,
              "#fb9f3a"
             ],
             [
              0.8888888888888888,
              "#fdca26"
             ],
             [
              1,
              "#f0f921"
             ]
            ],
            "type": "contour"
           }
          ],
          "contourcarpet": [
           {
            "colorbar": {
             "outlinewidth": 0,
             "ticks": ""
            },
            "type": "contourcarpet"
           }
          ],
          "heatmap": [
           {
            "colorbar": {
             "outlinewidth": 0,
             "ticks": ""
            },
            "colorscale": [
             [
              0,
              "#0d0887"
             ],
             [
              0.1111111111111111,
              "#46039f"
             ],
             [
              0.2222222222222222,
              "#7201a8"
             ],
             [
              0.3333333333333333,
              "#9c179e"
             ],
             [
              0.4444444444444444,
              "#bd3786"
             ],
             [
              0.5555555555555556,
              "#d8576b"
             ],
             [
              0.6666666666666666,
              "#ed7953"
             ],
             [
              0.7777777777777778,
              "#fb9f3a"
             ],
             [
              0.8888888888888888,
              "#fdca26"
             ],
             [
              1,
              "#f0f921"
             ]
            ],
            "type": "heatmap"
           }
          ],
          "heatmapgl": [
           {
            "colorbar": {
             "outlinewidth": 0,
             "ticks": ""
            },
            "colorscale": [
             [
              0,
              "#0d0887"
             ],
             [
              0.1111111111111111,
              "#46039f"
             ],
             [
              0.2222222222222222,
              "#7201a8"
             ],
             [
              0.3333333333333333,
              "#9c179e"
             ],
             [
              0.4444444444444444,
              "#bd3786"
             ],
             [
              0.5555555555555556,
              "#d8576b"
             ],
             [
              0.6666666666666666,
              "#ed7953"
             ],
             [
              0.7777777777777778,
              "#fb9f3a"
             ],
             [
              0.8888888888888888,
              "#fdca26"
             ],
             [
              1,
              "#f0f921"
             ]
            ],
            "type": "heatmapgl"
           }
          ],
          "histogram": [
           {
            "marker": {
             "pattern": {
              "fillmode": "overlay",
              "size": 10,
              "solidity": 0.2
             }
            },
            "type": "histogram"
           }
          ],
          "histogram2d": [
           {
            "colorbar": {
             "outlinewidth": 0,
             "ticks": ""
            },
            "colorscale": [
             [
              0,
              "#0d0887"
             ],
             [
              0.1111111111111111,
              "#46039f"
             ],
             [
              0.2222222222222222,
              "#7201a8"
             ],
             [
              0.3333333333333333,
              "#9c179e"
             ],
             [
              0.4444444444444444,
              "#bd3786"
             ],
             [
              0.5555555555555556,
              "#d8576b"
             ],
             [
              0.6666666666666666,
              "#ed7953"
             ],
             [
              0.7777777777777778,
              "#fb9f3a"
             ],
             [
              0.8888888888888888,
              "#fdca26"
             ],
             [
              1,
              "#f0f921"
             ]
            ],
            "type": "histogram2d"
           }
          ],
          "histogram2dcontour": [
           {
            "colorbar": {
             "outlinewidth": 0,
             "ticks": ""
            },
            "colorscale": [
             [
              0,
              "#0d0887"
             ],
             [
              0.1111111111111111,
              "#46039f"
             ],
             [
              0.2222222222222222,
              "#7201a8"
             ],
             [
              0.3333333333333333,
              "#9c179e"
             ],
             [
              0.4444444444444444,
              "#bd3786"
             ],
             [
              0.5555555555555556,
              "#d8576b"
             ],
             [
              0.6666666666666666,
              "#ed7953"
             ],
             [
              0.7777777777777778,
              "#fb9f3a"
             ],
             [
              0.8888888888888888,
              "#fdca26"
             ],
             [
              1,
              "#f0f921"
             ]
            ],
            "type": "histogram2dcontour"
           }
          ],
          "mesh3d": [
           {
            "colorbar": {
             "outlinewidth": 0,
             "ticks": ""
            },
            "type": "mesh3d"
           }
          ],
          "parcoords": [
           {
            "line": {
             "colorbar": {
              "outlinewidth": 0,
              "ticks": ""
             }
            },
            "type": "parcoords"
           }
          ],
          "pie": [
           {
            "automargin": true,
            "type": "pie"
           }
          ],
          "scatter": [
           {
            "fillpattern": {
             "fillmode": "overlay",
             "size": 10,
             "solidity": 0.2
            },
            "type": "scatter"
           }
          ],
          "scatter3d": [
           {
            "line": {
             "colorbar": {
              "outlinewidth": 0,
              "ticks": ""
             }
            },
            "marker": {
             "colorbar": {
              "outlinewidth": 0,
              "ticks": ""
             }
            },
            "type": "scatter3d"
           }
          ],
          "scattercarpet": [
           {
            "marker": {
             "colorbar": {
              "outlinewidth": 0,
              "ticks": ""
             }
            },
            "type": "scattercarpet"
           }
          ],
          "scattergeo": [
           {
            "marker": {
             "colorbar": {
              "outlinewidth": 0,
              "ticks": ""
             }
            },
            "type": "scattergeo"
           }
          ],
          "scattergl": [
           {
            "marker": {
             "colorbar": {
              "outlinewidth": 0,
              "ticks": ""
             }
            },
            "type": "scattergl"
           }
          ],
          "scattermapbox": [
           {
            "marker": {
             "colorbar": {
              "outlinewidth": 0,
              "ticks": ""
             }
            },
            "type": "scattermapbox"
           }
          ],
          "scatterpolar": [
           {
            "marker": {
             "colorbar": {
              "outlinewidth": 0,
              "ticks": ""
             }
            },
            "type": "scatterpolar"
           }
          ],
          "scatterpolargl": [
           {
            "marker": {
             "colorbar": {
              "outlinewidth": 0,
              "ticks": ""
             }
            },
            "type": "scatterpolargl"
           }
          ],
          "scatterternary": [
           {
            "marker": {
             "colorbar": {
              "outlinewidth": 0,
              "ticks": ""
             }
            },
            "type": "scatterternary"
           }
          ],
          "surface": [
           {
            "colorbar": {
             "outlinewidth": 0,
             "ticks": ""
            },
            "colorscale": [
             [
              0,
              "#0d0887"
             ],
             [
              0.1111111111111111,
              "#46039f"
             ],
             [
              0.2222222222222222,
              "#7201a8"
             ],
             [
              0.3333333333333333,
              "#9c179e"
             ],
             [
              0.4444444444444444,
              "#bd3786"
             ],
             [
              0.5555555555555556,
              "#d8576b"
             ],
             [
              0.6666666666666666,
              "#ed7953"
             ],
             [
              0.7777777777777778,
              "#fb9f3a"
             ],
             [
              0.8888888888888888,
              "#fdca26"
             ],
             [
              1,
              "#f0f921"
             ]
            ],
            "type": "surface"
           }
          ],
          "table": [
           {
            "cells": {
             "fill": {
              "color": "#EBF0F8"
             },
             "line": {
              "color": "white"
             }
            },
            "header": {
             "fill": {
              "color": "#C8D4E3"
             },
             "line": {
              "color": "white"
             }
            },
            "type": "table"
           }
          ]
         },
         "layout": {
          "annotationdefaults": {
           "arrowcolor": "#2a3f5f",
           "arrowhead": 0,
           "arrowwidth": 1
          },
          "autotypenumbers": "strict",
          "coloraxis": {
           "colorbar": {
            "outlinewidth": 0,
            "ticks": ""
           }
          },
          "colorscale": {
           "diverging": [
            [
             0,
             "#8e0152"
            ],
            [
             0.1,
             "#c51b7d"
            ],
            [
             0.2,
             "#de77ae"
            ],
            [
             0.3,
             "#f1b6da"
            ],
            [
             0.4,
             "#fde0ef"
            ],
            [
             0.5,
             "#f7f7f7"
            ],
            [
             0.6,
             "#e6f5d0"
            ],
            [
             0.7,
             "#b8e186"
            ],
            [
             0.8,
             "#7fbc41"
            ],
            [
             0.9,
             "#4d9221"
            ],
            [
             1,
             "#276419"
            ]
           ],
           "sequential": [
            [
             0,
             "#0d0887"
            ],
            [
             0.1111111111111111,
             "#46039f"
            ],
            [
             0.2222222222222222,
             "#7201a8"
            ],
            [
             0.3333333333333333,
             "#9c179e"
            ],
            [
             0.4444444444444444,
             "#bd3786"
            ],
            [
             0.5555555555555556,
             "#d8576b"
            ],
            [
             0.6666666666666666,
             "#ed7953"
            ],
            [
             0.7777777777777778,
             "#fb9f3a"
            ],
            [
             0.8888888888888888,
             "#fdca26"
            ],
            [
             1,
             "#f0f921"
            ]
           ],
           "sequentialminus": [
            [
             0,
             "#0d0887"
            ],
            [
             0.1111111111111111,
             "#46039f"
            ],
            [
             0.2222222222222222,
             "#7201a8"
            ],
            [
             0.3333333333333333,
             "#9c179e"
            ],
            [
             0.4444444444444444,
             "#bd3786"
            ],
            [
             0.5555555555555556,
             "#d8576b"
            ],
            [
             0.6666666666666666,
             "#ed7953"
            ],
            [
             0.7777777777777778,
             "#fb9f3a"
            ],
            [
             0.8888888888888888,
             "#fdca26"
            ],
            [
             1,
             "#f0f921"
            ]
           ]
          },
          "colorway": [
           "#636efa",
           "#EF553B",
           "#00cc96",
           "#ab63fa",
           "#FFA15A",
           "#19d3f3",
           "#FF6692",
           "#B6E880",
           "#FF97FF",
           "#FECB52"
          ],
          "font": {
           "color": "#2a3f5f"
          },
          "geo": {
           "bgcolor": "white",
           "lakecolor": "white",
           "landcolor": "#E5ECF6",
           "showlakes": true,
           "showland": true,
           "subunitcolor": "white"
          },
          "hoverlabel": {
           "align": "left"
          },
          "hovermode": "closest",
          "mapbox": {
           "style": "light"
          },
          "paper_bgcolor": "white",
          "plot_bgcolor": "#E5ECF6",
          "polar": {
           "angularaxis": {
            "gridcolor": "white",
            "linecolor": "white",
            "ticks": ""
           },
           "bgcolor": "#E5ECF6",
           "radialaxis": {
            "gridcolor": "white",
            "linecolor": "white",
            "ticks": ""
           }
          },
          "scene": {
           "xaxis": {
            "backgroundcolor": "#E5ECF6",
            "gridcolor": "white",
            "gridwidth": 2,
            "linecolor": "white",
            "showbackground": true,
            "ticks": "",
            "zerolinecolor": "white"
           },
           "yaxis": {
            "backgroundcolor": "#E5ECF6",
            "gridcolor": "white",
            "gridwidth": 2,
            "linecolor": "white",
            "showbackground": true,
            "ticks": "",
            "zerolinecolor": "white"
           },
           "zaxis": {
            "backgroundcolor": "#E5ECF6",
            "gridcolor": "white",
            "gridwidth": 2,
            "linecolor": "white",
            "showbackground": true,
            "ticks": "",
            "zerolinecolor": "white"
           }
          },
          "shapedefaults": {
           "line": {
            "color": "#2a3f5f"
           }
          },
          "ternary": {
           "aaxis": {
            "gridcolor": "white",
            "linecolor": "white",
            "ticks": ""
           },
           "baxis": {
            "gridcolor": "white",
            "linecolor": "white",
            "ticks": ""
           },
           "bgcolor": "#E5ECF6",
           "caxis": {
            "gridcolor": "white",
            "linecolor": "white",
            "ticks": ""
           }
          },
          "title": {
           "x": 0.05
          },
          "xaxis": {
           "automargin": true,
           "gridcolor": "white",
           "linecolor": "white",
           "ticks": "",
           "title": {
            "standoff": 15
           },
           "zerolinecolor": "white",
           "zerolinewidth": 2
          },
          "yaxis": {
           "automargin": true,
           "gridcolor": "white",
           "linecolor": "white",
           "ticks": "",
           "title": {
            "standoff": 15
           },
           "zerolinecolor": "white",
           "zerolinewidth": 2
          }
         }
        },
        "updatemenus": [
         {
          "buttons": [
           {
            "args": [
             {
              "visible": [
               true,
               false,
               false,
               false
              ]
             }
            ],
            "args2": [
             {
              "visible": [
               false,
               true,
               true,
               true
              ]
             }
            ],
            "label": "19127213",
            "method": "update",
            "visible": true
           },
           {
            "args": [
             {
              "visible": [
               false,
               true,
               false,
               false
              ]
             }
            ],
            "args2": [
             {
              "visible": [
               true,
               false,
               true,
               true
              ]
             }
            ],
            "label": "45775137",
            "method": "update",
            "visible": true
           },
           {
            "args": [
             {
              "visible": [
               false,
               false,
               true,
               false
              ]
             }
            ],
            "args2": [
             {
              "visible": [
               true,
               true,
               false,
               true
              ]
             }
            ],
            "label": "40221329",
            "method": "update",
            "visible": true
           },
           {
            "args": [
             {
              "visible": [
               false,
               false,
               false,
               true
              ]
             }
            ],
            "args2": [
             {
              "visible": [
               true,
               true,
               true,
               false
              ]
             }
            ],
            "label": "19126251",
            "method": "update",
            "visible": true
           }
          ],
          "direction": "right",
          "showactive": true,
          "type": "buttons",
          "x": 0.7,
          "y": 1.3
         }
        ],
        "xaxis": {
         "rangeslider": {
          "autorange": true,
          "range": [
           "2129-01-04 18:00:00",
           "2129-01-05 02:00:00"
          ]
         }
        }
       }
      }
     },
     "metadata": {},
     "output_type": "display_data"
    },
    {
     "data": {
      "application/vnd.plotly.v1+json": {
       "config": {
        "plotlyServerURL": "https://plot.ly"
       },
       "data": [
        {
         "name": "43011850, ['mL']",
         "type": "scatter",
         "visible": true,
         "x": [
          "2129-01-03 19:00:00"
         ],
         "y": [
          1
         ]
        },
        {
         "name": "36249736, ['mL']",
         "type": "scatter",
         "visible": true,
         "x": [
          "2129-01-05 03:00:00"
         ],
         "y": [
          100
         ]
        },
        {
         "name": "19079250, ['mL']",
         "type": "scatter",
         "visible": true,
         "x": [
          "2129-01-05 03:00:00"
         ],
         "y": [
          6
         ]
        },
        {
         "name": "734281, ['mL']",
         "type": "scatter",
         "visible": true,
         "x": [
          "2129-01-05 13:00:00",
          "2129-01-05 13:00:00"
         ],
         "y": [
          2.7692,
          2.7692
         ]
        }
       ],
       "layout": {
        "showlegend": true,
        "template": {
         "data": {
          "bar": [
           {
            "error_x": {
             "color": "#2a3f5f"
            },
            "error_y": {
             "color": "#2a3f5f"
            },
            "marker": {
             "line": {
              "color": "#E5ECF6",
              "width": 0.5
             },
             "pattern": {
              "fillmode": "overlay",
              "size": 10,
              "solidity": 0.2
             }
            },
            "type": "bar"
           }
          ],
          "barpolar": [
           {
            "marker": {
             "line": {
              "color": "#E5ECF6",
              "width": 0.5
             },
             "pattern": {
              "fillmode": "overlay",
              "size": 10,
              "solidity": 0.2
             }
            },
            "type": "barpolar"
           }
          ],
          "carpet": [
           {
            "aaxis": {
             "endlinecolor": "#2a3f5f",
             "gridcolor": "white",
             "linecolor": "white",
             "minorgridcolor": "white",
             "startlinecolor": "#2a3f5f"
            },
            "baxis": {
             "endlinecolor": "#2a3f5f",
             "gridcolor": "white",
             "linecolor": "white",
             "minorgridcolor": "white",
             "startlinecolor": "#2a3f5f"
            },
            "type": "carpet"
           }
          ],
          "choropleth": [
           {
            "colorbar": {
             "outlinewidth": 0,
             "ticks": ""
            },
            "type": "choropleth"
           }
          ],
          "contour": [
           {
            "colorbar": {
             "outlinewidth": 0,
             "ticks": ""
            },
            "colorscale": [
             [
              0,
              "#0d0887"
             ],
             [
              0.1111111111111111,
              "#46039f"
             ],
             [
              0.2222222222222222,
              "#7201a8"
             ],
             [
              0.3333333333333333,
              "#9c179e"
             ],
             [
              0.4444444444444444,
              "#bd3786"
             ],
             [
              0.5555555555555556,
              "#d8576b"
             ],
             [
              0.6666666666666666,
              "#ed7953"
             ],
             [
              0.7777777777777778,
              "#fb9f3a"
             ],
             [
              0.8888888888888888,
              "#fdca26"
             ],
             [
              1,
              "#f0f921"
             ]
            ],
            "type": "contour"
           }
          ],
          "contourcarpet": [
           {
            "colorbar": {
             "outlinewidth": 0,
             "ticks": ""
            },
            "type": "contourcarpet"
           }
          ],
          "heatmap": [
           {
            "colorbar": {
             "outlinewidth": 0,
             "ticks": ""
            },
            "colorscale": [
             [
              0,
              "#0d0887"
             ],
             [
              0.1111111111111111,
              "#46039f"
             ],
             [
              0.2222222222222222,
              "#7201a8"
             ],
             [
              0.3333333333333333,
              "#9c179e"
             ],
             [
              0.4444444444444444,
              "#bd3786"
             ],
             [
              0.5555555555555556,
              "#d8576b"
             ],
             [
              0.6666666666666666,
              "#ed7953"
             ],
             [
              0.7777777777777778,
              "#fb9f3a"
             ],
             [
              0.8888888888888888,
              "#fdca26"
             ],
             [
              1,
              "#f0f921"
             ]
            ],
            "type": "heatmap"
           }
          ],
          "heatmapgl": [
           {
            "colorbar": {
             "outlinewidth": 0,
             "ticks": ""
            },
            "colorscale": [
             [
              0,
              "#0d0887"
             ],
             [
              0.1111111111111111,
              "#46039f"
             ],
             [
              0.2222222222222222,
              "#7201a8"
             ],
             [
              0.3333333333333333,
              "#9c179e"
             ],
             [
              0.4444444444444444,
              "#bd3786"
             ],
             [
              0.5555555555555556,
              "#d8576b"
             ],
             [
              0.6666666666666666,
              "#ed7953"
             ],
             [
              0.7777777777777778,
              "#fb9f3a"
             ],
             [
              0.8888888888888888,
              "#fdca26"
             ],
             [
              1,
              "#f0f921"
             ]
            ],
            "type": "heatmapgl"
           }
          ],
          "histogram": [
           {
            "marker": {
             "pattern": {
              "fillmode": "overlay",
              "size": 10,
              "solidity": 0.2
             }
            },
            "type": "histogram"
           }
          ],
          "histogram2d": [
           {
            "colorbar": {
             "outlinewidth": 0,
             "ticks": ""
            },
            "colorscale": [
             [
              0,
              "#0d0887"
             ],
             [
              0.1111111111111111,
              "#46039f"
             ],
             [
              0.2222222222222222,
              "#7201a8"
             ],
             [
              0.3333333333333333,
              "#9c179e"
             ],
             [
              0.4444444444444444,
              "#bd3786"
             ],
             [
              0.5555555555555556,
              "#d8576b"
             ],
             [
              0.6666666666666666,
              "#ed7953"
             ],
             [
              0.7777777777777778,
              "#fb9f3a"
             ],
             [
              0.8888888888888888,
              "#fdca26"
             ],
             [
              1,
              "#f0f921"
             ]
            ],
            "type": "histogram2d"
           }
          ],
          "histogram2dcontour": [
           {
            "colorbar": {
             "outlinewidth": 0,
             "ticks": ""
            },
            "colorscale": [
             [
              0,
              "#0d0887"
             ],
             [
              0.1111111111111111,
              "#46039f"
             ],
             [
              0.2222222222222222,
              "#7201a8"
             ],
             [
              0.3333333333333333,
              "#9c179e"
             ],
             [
              0.4444444444444444,
              "#bd3786"
             ],
             [
              0.5555555555555556,
              "#d8576b"
             ],
             [
              0.6666666666666666,
              "#ed7953"
             ],
             [
              0.7777777777777778,
              "#fb9f3a"
             ],
             [
              0.8888888888888888,
              "#fdca26"
             ],
             [
              1,
              "#f0f921"
             ]
            ],
            "type": "histogram2dcontour"
           }
          ],
          "mesh3d": [
           {
            "colorbar": {
             "outlinewidth": 0,
             "ticks": ""
            },
            "type": "mesh3d"
           }
          ],
          "parcoords": [
           {
            "line": {
             "colorbar": {
              "outlinewidth": 0,
              "ticks": ""
             }
            },
            "type": "parcoords"
           }
          ],
          "pie": [
           {
            "automargin": true,
            "type": "pie"
           }
          ],
          "scatter": [
           {
            "fillpattern": {
             "fillmode": "overlay",
             "size": 10,
             "solidity": 0.2
            },
            "type": "scatter"
           }
          ],
          "scatter3d": [
           {
            "line": {
             "colorbar": {
              "outlinewidth": 0,
              "ticks": ""
             }
            },
            "marker": {
             "colorbar": {
              "outlinewidth": 0,
              "ticks": ""
             }
            },
            "type": "scatter3d"
           }
          ],
          "scattercarpet": [
           {
            "marker": {
             "colorbar": {
              "outlinewidth": 0,
              "ticks": ""
             }
            },
            "type": "scattercarpet"
           }
          ],
          "scattergeo": [
           {
            "marker": {
             "colorbar": {
              "outlinewidth": 0,
              "ticks": ""
             }
            },
            "type": "scattergeo"
           }
          ],
          "scattergl": [
           {
            "marker": {
             "colorbar": {
              "outlinewidth": 0,
              "ticks": ""
             }
            },
            "type": "scattergl"
           }
          ],
          "scattermapbox": [
           {
            "marker": {
             "colorbar": {
              "outlinewidth": 0,
              "ticks": ""
             }
            },
            "type": "scattermapbox"
           }
          ],
          "scatterpolar": [
           {
            "marker": {
             "colorbar": {
              "outlinewidth": 0,
              "ticks": ""
             }
            },
            "type": "scatterpolar"
           }
          ],
          "scatterpolargl": [
           {
            "marker": {
             "colorbar": {
              "outlinewidth": 0,
              "ticks": ""
             }
            },
            "type": "scatterpolargl"
           }
          ],
          "scatterternary": [
           {
            "marker": {
             "colorbar": {
              "outlinewidth": 0,
              "ticks": ""
             }
            },
            "type": "scatterternary"
           }
          ],
          "surface": [
           {
            "colorbar": {
             "outlinewidth": 0,
             "ticks": ""
            },
            "colorscale": [
             [
              0,
              "#0d0887"
             ],
             [
              0.1111111111111111,
              "#46039f"
             ],
             [
              0.2222222222222222,
              "#7201a8"
             ],
             [
              0.3333333333333333,
              "#9c179e"
             ],
             [
              0.4444444444444444,
              "#bd3786"
             ],
             [
              0.5555555555555556,
              "#d8576b"
             ],
             [
              0.6666666666666666,
              "#ed7953"
             ],
             [
              0.7777777777777778,
              "#fb9f3a"
             ],
             [
              0.8888888888888888,
              "#fdca26"
             ],
             [
              1,
              "#f0f921"
             ]
            ],
            "type": "surface"
           }
          ],
          "table": [
           {
            "cells": {
             "fill": {
              "color": "#EBF0F8"
             },
             "line": {
              "color": "white"
             }
            },
            "header": {
             "fill": {
              "color": "#C8D4E3"
             },
             "line": {
              "color": "white"
             }
            },
            "type": "table"
           }
          ]
         },
         "layout": {
          "annotationdefaults": {
           "arrowcolor": "#2a3f5f",
           "arrowhead": 0,
           "arrowwidth": 1
          },
          "autotypenumbers": "strict",
          "coloraxis": {
           "colorbar": {
            "outlinewidth": 0,
            "ticks": ""
           }
          },
          "colorscale": {
           "diverging": [
            [
             0,
             "#8e0152"
            ],
            [
             0.1,
             "#c51b7d"
            ],
            [
             0.2,
             "#de77ae"
            ],
            [
             0.3,
             "#f1b6da"
            ],
            [
             0.4,
             "#fde0ef"
            ],
            [
             0.5,
             "#f7f7f7"
            ],
            [
             0.6,
             "#e6f5d0"
            ],
            [
             0.7,
             "#b8e186"
            ],
            [
             0.8,
             "#7fbc41"
            ],
            [
             0.9,
             "#4d9221"
            ],
            [
             1,
             "#276419"
            ]
           ],
           "sequential": [
            [
             0,
             "#0d0887"
            ],
            [
             0.1111111111111111,
             "#46039f"
            ],
            [
             0.2222222222222222,
             "#7201a8"
            ],
            [
             0.3333333333333333,
             "#9c179e"
            ],
            [
             0.4444444444444444,
             "#bd3786"
            ],
            [
             0.5555555555555556,
             "#d8576b"
            ],
            [
             0.6666666666666666,
             "#ed7953"
            ],
            [
             0.7777777777777778,
             "#fb9f3a"
            ],
            [
             0.8888888888888888,
             "#fdca26"
            ],
            [
             1,
             "#f0f921"
            ]
           ],
           "sequentialminus": [
            [
             0,
             "#0d0887"
            ],
            [
             0.1111111111111111,
             "#46039f"
            ],
            [
             0.2222222222222222,
             "#7201a8"
            ],
            [
             0.3333333333333333,
             "#9c179e"
            ],
            [
             0.4444444444444444,
             "#bd3786"
            ],
            [
             0.5555555555555556,
             "#d8576b"
            ],
            [
             0.6666666666666666,
             "#ed7953"
            ],
            [
             0.7777777777777778,
             "#fb9f3a"
            ],
            [
             0.8888888888888888,
             "#fdca26"
            ],
            [
             1,
             "#f0f921"
            ]
           ]
          },
          "colorway": [
           "#636efa",
           "#EF553B",
           "#00cc96",
           "#ab63fa",
           "#FFA15A",
           "#19d3f3",
           "#FF6692",
           "#B6E880",
           "#FF97FF",
           "#FECB52"
          ],
          "font": {
           "color": "#2a3f5f"
          },
          "geo": {
           "bgcolor": "white",
           "lakecolor": "white",
           "landcolor": "#E5ECF6",
           "showlakes": true,
           "showland": true,
           "subunitcolor": "white"
          },
          "hoverlabel": {
           "align": "left"
          },
          "hovermode": "closest",
          "mapbox": {
           "style": "light"
          },
          "paper_bgcolor": "white",
          "plot_bgcolor": "#E5ECF6",
          "polar": {
           "angularaxis": {
            "gridcolor": "white",
            "linecolor": "white",
            "ticks": ""
           },
           "bgcolor": "#E5ECF6",
           "radialaxis": {
            "gridcolor": "white",
            "linecolor": "white",
            "ticks": ""
           }
          },
          "scene": {
           "xaxis": {
            "backgroundcolor": "#E5ECF6",
            "gridcolor": "white",
            "gridwidth": 2,
            "linecolor": "white",
            "showbackground": true,
            "ticks": "",
            "zerolinecolor": "white"
           },
           "yaxis": {
            "backgroundcolor": "#E5ECF6",
            "gridcolor": "white",
            "gridwidth": 2,
            "linecolor": "white",
            "showbackground": true,
            "ticks": "",
            "zerolinecolor": "white"
           },
           "zaxis": {
            "backgroundcolor": "#E5ECF6",
            "gridcolor": "white",
            "gridwidth": 2,
            "linecolor": "white",
            "showbackground": true,
            "ticks": "",
            "zerolinecolor": "white"
           }
          },
          "shapedefaults": {
           "line": {
            "color": "#2a3f5f"
           }
          },
          "ternary": {
           "aaxis": {
            "gridcolor": "white",
            "linecolor": "white",
            "ticks": ""
           },
           "baxis": {
            "gridcolor": "white",
            "linecolor": "white",
            "ticks": ""
           },
           "bgcolor": "#E5ECF6",
           "caxis": {
            "gridcolor": "white",
            "linecolor": "white",
            "ticks": ""
           }
          },
          "title": {
           "x": 0.05
          },
          "xaxis": {
           "automargin": true,
           "gridcolor": "white",
           "linecolor": "white",
           "ticks": "",
           "title": {
            "standoff": 15
           },
           "zerolinecolor": "white",
           "zerolinewidth": 2
          },
          "yaxis": {
           "automargin": true,
           "gridcolor": "white",
           "linecolor": "white",
           "ticks": "",
           "title": {
            "standoff": 15
           },
           "zerolinecolor": "white",
           "zerolinewidth": 2
          }
         }
        },
        "updatemenus": [
         {
          "buttons": [
           {
            "args": [
             {
              "visible": [
               true,
               false,
               false,
               false
              ]
             }
            ],
            "args2": [
             {
              "visible": [
               false,
               true,
               true,
               true
              ]
             }
            ],
            "label": "43011850",
            "method": "update",
            "visible": true
           },
           {
            "args": [
             {
              "visible": [
               false,
               true,
               false,
               false
              ]
             }
            ],
            "args2": [
             {
              "visible": [
               true,
               false,
               true,
               true
              ]
             }
            ],
            "label": "36249736",
            "method": "update",
            "visible": true
           },
           {
            "args": [
             {
              "visible": [
               false,
               false,
               true,
               false
              ]
             }
            ],
            "args2": [
             {
              "visible": [
               true,
               true,
               false,
               true
              ]
             }
            ],
            "label": "19079250",
            "method": "update",
            "visible": true
           },
           {
            "args": [
             {
              "visible": [
               false,
               false,
               false,
               true
              ]
             }
            ],
            "args2": [
             {
              "visible": [
               true,
               true,
               true,
               false
              ]
             }
            ],
            "label": "734281",
            "method": "update",
            "visible": true
           }
          ],
          "direction": "right",
          "showactive": true,
          "type": "buttons",
          "x": 0.7,
          "y": 1.3
         }
        ],
        "xaxis": {
         "rangeslider": {
          "autorange": true,
          "range": [
           "2129-01-04 18:00:00",
           "2129-01-05 02:00:00"
          ]
         }
        }
       }
      }
     },
     "metadata": {},
     "output_type": "display_data"
    },
    {
     "data": {
      "application/vnd.plotly.v1+json": {
       "config": {
        "plotlyServerURL": "https://plot.ly"
       },
       "data": [
        {
         "name": "19019418, ['CAP']",
         "type": "scatter",
         "visible": true,
         "x": [
          "2129-01-04 08:00:00"
         ],
         "y": [
          1
         ]
        }
       ],
       "layout": {
        "showlegend": true,
        "template": {
         "data": {
          "bar": [
           {
            "error_x": {
             "color": "#2a3f5f"
            },
            "error_y": {
             "color": "#2a3f5f"
            },
            "marker": {
             "line": {
              "color": "#E5ECF6",
              "width": 0.5
             },
             "pattern": {
              "fillmode": "overlay",
              "size": 10,
              "solidity": 0.2
             }
            },
            "type": "bar"
           }
          ],
          "barpolar": [
           {
            "marker": {
             "line": {
              "color": "#E5ECF6",
              "width": 0.5
             },
             "pattern": {
              "fillmode": "overlay",
              "size": 10,
              "solidity": 0.2
             }
            },
            "type": "barpolar"
           }
          ],
          "carpet": [
           {
            "aaxis": {
             "endlinecolor": "#2a3f5f",
             "gridcolor": "white",
             "linecolor": "white",
             "minorgridcolor": "white",
             "startlinecolor": "#2a3f5f"
            },
            "baxis": {
             "endlinecolor": "#2a3f5f",
             "gridcolor": "white",
             "linecolor": "white",
             "minorgridcolor": "white",
             "startlinecolor": "#2a3f5f"
            },
            "type": "carpet"
           }
          ],
          "choropleth": [
           {
            "colorbar": {
             "outlinewidth": 0,
             "ticks": ""
            },
            "type": "choropleth"
           }
          ],
          "contour": [
           {
            "colorbar": {
             "outlinewidth": 0,
             "ticks": ""
            },
            "colorscale": [
             [
              0,
              "#0d0887"
             ],
             [
              0.1111111111111111,
              "#46039f"
             ],
             [
              0.2222222222222222,
              "#7201a8"
             ],
             [
              0.3333333333333333,
              "#9c179e"
             ],
             [
              0.4444444444444444,
              "#bd3786"
             ],
             [
              0.5555555555555556,
              "#d8576b"
             ],
             [
              0.6666666666666666,
              "#ed7953"
             ],
             [
              0.7777777777777778,
              "#fb9f3a"
             ],
             [
              0.8888888888888888,
              "#fdca26"
             ],
             [
              1,
              "#f0f921"
             ]
            ],
            "type": "contour"
           }
          ],
          "contourcarpet": [
           {
            "colorbar": {
             "outlinewidth": 0,
             "ticks": ""
            },
            "type": "contourcarpet"
           }
          ],
          "heatmap": [
           {
            "colorbar": {
             "outlinewidth": 0,
             "ticks": ""
            },
            "colorscale": [
             [
              0,
              "#0d0887"
             ],
             [
              0.1111111111111111,
              "#46039f"
             ],
             [
              0.2222222222222222,
              "#7201a8"
             ],
             [
              0.3333333333333333,
              "#9c179e"
             ],
             [
              0.4444444444444444,
              "#bd3786"
             ],
             [
              0.5555555555555556,
              "#d8576b"
             ],
             [
              0.6666666666666666,
              "#ed7953"
             ],
             [
              0.7777777777777778,
              "#fb9f3a"
             ],
             [
              0.8888888888888888,
              "#fdca26"
             ],
             [
              1,
              "#f0f921"
             ]
            ],
            "type": "heatmap"
           }
          ],
          "heatmapgl": [
           {
            "colorbar": {
             "outlinewidth": 0,
             "ticks": ""
            },
            "colorscale": [
             [
              0,
              "#0d0887"
             ],
             [
              0.1111111111111111,
              "#46039f"
             ],
             [
              0.2222222222222222,
              "#7201a8"
             ],
             [
              0.3333333333333333,
              "#9c179e"
             ],
             [
              0.4444444444444444,
              "#bd3786"
             ],
             [
              0.5555555555555556,
              "#d8576b"
             ],
             [
              0.6666666666666666,
              "#ed7953"
             ],
             [
              0.7777777777777778,
              "#fb9f3a"
             ],
             [
              0.8888888888888888,
              "#fdca26"
             ],
             [
              1,
              "#f0f921"
             ]
            ],
            "type": "heatmapgl"
           }
          ],
          "histogram": [
           {
            "marker": {
             "pattern": {
              "fillmode": "overlay",
              "size": 10,
              "solidity": 0.2
             }
            },
            "type": "histogram"
           }
          ],
          "histogram2d": [
           {
            "colorbar": {
             "outlinewidth": 0,
             "ticks": ""
            },
            "colorscale": [
             [
              0,
              "#0d0887"
             ],
             [
              0.1111111111111111,
              "#46039f"
             ],
             [
              0.2222222222222222,
              "#7201a8"
             ],
             [
              0.3333333333333333,
              "#9c179e"
             ],
             [
              0.4444444444444444,
              "#bd3786"
             ],
             [
              0.5555555555555556,
              "#d8576b"
             ],
             [
              0.6666666666666666,
              "#ed7953"
             ],
             [
              0.7777777777777778,
              "#fb9f3a"
             ],
             [
              0.8888888888888888,
              "#fdca26"
             ],
             [
              1,
              "#f0f921"
             ]
            ],
            "type": "histogram2d"
           }
          ],
          "histogram2dcontour": [
           {
            "colorbar": {
             "outlinewidth": 0,
             "ticks": ""
            },
            "colorscale": [
             [
              0,
              "#0d0887"
             ],
             [
              0.1111111111111111,
              "#46039f"
             ],
             [
              0.2222222222222222,
              "#7201a8"
             ],
             [
              0.3333333333333333,
              "#9c179e"
             ],
             [
              0.4444444444444444,
              "#bd3786"
             ],
             [
              0.5555555555555556,
              "#d8576b"
             ],
             [
              0.6666666666666666,
              "#ed7953"
             ],
             [
              0.7777777777777778,
              "#fb9f3a"
             ],
             [
              0.8888888888888888,
              "#fdca26"
             ],
             [
              1,
              "#f0f921"
             ]
            ],
            "type": "histogram2dcontour"
           }
          ],
          "mesh3d": [
           {
            "colorbar": {
             "outlinewidth": 0,
             "ticks": ""
            },
            "type": "mesh3d"
           }
          ],
          "parcoords": [
           {
            "line": {
             "colorbar": {
              "outlinewidth": 0,
              "ticks": ""
             }
            },
            "type": "parcoords"
           }
          ],
          "pie": [
           {
            "automargin": true,
            "type": "pie"
           }
          ],
          "scatter": [
           {
            "fillpattern": {
             "fillmode": "overlay",
             "size": 10,
             "solidity": 0.2
            },
            "type": "scatter"
           }
          ],
          "scatter3d": [
           {
            "line": {
             "colorbar": {
              "outlinewidth": 0,
              "ticks": ""
             }
            },
            "marker": {
             "colorbar": {
              "outlinewidth": 0,
              "ticks": ""
             }
            },
            "type": "scatter3d"
           }
          ],
          "scattercarpet": [
           {
            "marker": {
             "colorbar": {
              "outlinewidth": 0,
              "ticks": ""
             }
            },
            "type": "scattercarpet"
           }
          ],
          "scattergeo": [
           {
            "marker": {
             "colorbar": {
              "outlinewidth": 0,
              "ticks": ""
             }
            },
            "type": "scattergeo"
           }
          ],
          "scattergl": [
           {
            "marker": {
             "colorbar": {
              "outlinewidth": 0,
              "ticks": ""
             }
            },
            "type": "scattergl"
           }
          ],
          "scattermapbox": [
           {
            "marker": {
             "colorbar": {
              "outlinewidth": 0,
              "ticks": ""
             }
            },
            "type": "scattermapbox"
           }
          ],
          "scatterpolar": [
           {
            "marker": {
             "colorbar": {
              "outlinewidth": 0,
              "ticks": ""
             }
            },
            "type": "scatterpolar"
           }
          ],
          "scatterpolargl": [
           {
            "marker": {
             "colorbar": {
              "outlinewidth": 0,
              "ticks": ""
             }
            },
            "type": "scatterpolargl"
           }
          ],
          "scatterternary": [
           {
            "marker": {
             "colorbar": {
              "outlinewidth": 0,
              "ticks": ""
             }
            },
            "type": "scatterternary"
           }
          ],
          "surface": [
           {
            "colorbar": {
             "outlinewidth": 0,
             "ticks": ""
            },
            "colorscale": [
             [
              0,
              "#0d0887"
             ],
             [
              0.1111111111111111,
              "#46039f"
             ],
             [
              0.2222222222222222,
              "#7201a8"
             ],
             [
              0.3333333333333333,
              "#9c179e"
             ],
             [
              0.4444444444444444,
              "#bd3786"
             ],
             [
              0.5555555555555556,
              "#d8576b"
             ],
             [
              0.6666666666666666,
              "#ed7953"
             ],
             [
              0.7777777777777778,
              "#fb9f3a"
             ],
             [
              0.8888888888888888,
              "#fdca26"
             ],
             [
              1,
              "#f0f921"
             ]
            ],
            "type": "surface"
           }
          ],
          "table": [
           {
            "cells": {
             "fill": {
              "color": "#EBF0F8"
             },
             "line": {
              "color": "white"
             }
            },
            "header": {
             "fill": {
              "color": "#C8D4E3"
             },
             "line": {
              "color": "white"
             }
            },
            "type": "table"
           }
          ]
         },
         "layout": {
          "annotationdefaults": {
           "arrowcolor": "#2a3f5f",
           "arrowhead": 0,
           "arrowwidth": 1
          },
          "autotypenumbers": "strict",
          "coloraxis": {
           "colorbar": {
            "outlinewidth": 0,
            "ticks": ""
           }
          },
          "colorscale": {
           "diverging": [
            [
             0,
             "#8e0152"
            ],
            [
             0.1,
             "#c51b7d"
            ],
            [
             0.2,
             "#de77ae"
            ],
            [
             0.3,
             "#f1b6da"
            ],
            [
             0.4,
             "#fde0ef"
            ],
            [
             0.5,
             "#f7f7f7"
            ],
            [
             0.6,
             "#e6f5d0"
            ],
            [
             0.7,
             "#b8e186"
            ],
            [
             0.8,
             "#7fbc41"
            ],
            [
             0.9,
             "#4d9221"
            ],
            [
             1,
             "#276419"
            ]
           ],
           "sequential": [
            [
             0,
             "#0d0887"
            ],
            [
             0.1111111111111111,
             "#46039f"
            ],
            [
             0.2222222222222222,
             "#7201a8"
            ],
            [
             0.3333333333333333,
             "#9c179e"
            ],
            [
             0.4444444444444444,
             "#bd3786"
            ],
            [
             0.5555555555555556,
             "#d8576b"
            ],
            [
             0.6666666666666666,
             "#ed7953"
            ],
            [
             0.7777777777777778,
             "#fb9f3a"
            ],
            [
             0.8888888888888888,
             "#fdca26"
            ],
            [
             1,
             "#f0f921"
            ]
           ],
           "sequentialminus": [
            [
             0,
             "#0d0887"
            ],
            [
             0.1111111111111111,
             "#46039f"
            ],
            [
             0.2222222222222222,
             "#7201a8"
            ],
            [
             0.3333333333333333,
             "#9c179e"
            ],
            [
             0.4444444444444444,
             "#bd3786"
            ],
            [
             0.5555555555555556,
             "#d8576b"
            ],
            [
             0.6666666666666666,
             "#ed7953"
            ],
            [
             0.7777777777777778,
             "#fb9f3a"
            ],
            [
             0.8888888888888888,
             "#fdca26"
            ],
            [
             1,
             "#f0f921"
            ]
           ]
          },
          "colorway": [
           "#636efa",
           "#EF553B",
           "#00cc96",
           "#ab63fa",
           "#FFA15A",
           "#19d3f3",
           "#FF6692",
           "#B6E880",
           "#FF97FF",
           "#FECB52"
          ],
          "font": {
           "color": "#2a3f5f"
          },
          "geo": {
           "bgcolor": "white",
           "lakecolor": "white",
           "landcolor": "#E5ECF6",
           "showlakes": true,
           "showland": true,
           "subunitcolor": "white"
          },
          "hoverlabel": {
           "align": "left"
          },
          "hovermode": "closest",
          "mapbox": {
           "style": "light"
          },
          "paper_bgcolor": "white",
          "plot_bgcolor": "#E5ECF6",
          "polar": {
           "angularaxis": {
            "gridcolor": "white",
            "linecolor": "white",
            "ticks": ""
           },
           "bgcolor": "#E5ECF6",
           "radialaxis": {
            "gridcolor": "white",
            "linecolor": "white",
            "ticks": ""
           }
          },
          "scene": {
           "xaxis": {
            "backgroundcolor": "#E5ECF6",
            "gridcolor": "white",
            "gridwidth": 2,
            "linecolor": "white",
            "showbackground": true,
            "ticks": "",
            "zerolinecolor": "white"
           },
           "yaxis": {
            "backgroundcolor": "#E5ECF6",
            "gridcolor": "white",
            "gridwidth": 2,
            "linecolor": "white",
            "showbackground": true,
            "ticks": "",
            "zerolinecolor": "white"
           },
           "zaxis": {
            "backgroundcolor": "#E5ECF6",
            "gridcolor": "white",
            "gridwidth": 2,
            "linecolor": "white",
            "showbackground": true,
            "ticks": "",
            "zerolinecolor": "white"
           }
          },
          "shapedefaults": {
           "line": {
            "color": "#2a3f5f"
           }
          },
          "ternary": {
           "aaxis": {
            "gridcolor": "white",
            "linecolor": "white",
            "ticks": ""
           },
           "baxis": {
            "gridcolor": "white",
            "linecolor": "white",
            "ticks": ""
           },
           "bgcolor": "#E5ECF6",
           "caxis": {
            "gridcolor": "white",
            "linecolor": "white",
            "ticks": ""
           }
          },
          "title": {
           "x": 0.05
          },
          "xaxis": {
           "automargin": true,
           "gridcolor": "white",
           "linecolor": "white",
           "ticks": "",
           "title": {
            "standoff": 15
           },
           "zerolinecolor": "white",
           "zerolinewidth": 2
          },
          "yaxis": {
           "automargin": true,
           "gridcolor": "white",
           "linecolor": "white",
           "ticks": "",
           "title": {
            "standoff": 15
           },
           "zerolinecolor": "white",
           "zerolinewidth": 2
          }
         }
        },
        "updatemenus": [
         {
          "buttons": [
           {
            "args": [
             {
              "visible": [
               true
              ]
             }
            ],
            "args2": [
             {
              "visible": [
               false
              ]
             }
            ],
            "label": "19019418",
            "method": "update",
            "visible": true
           }
          ],
          "direction": "right",
          "showactive": true,
          "type": "buttons",
          "x": 0.7,
          "y": 1.3
         }
        ],
        "xaxis": {
         "rangeslider": {
          "autorange": true,
          "range": [
           "2129-01-04 18:00:00",
           "2129-01-05 02:00:00"
          ]
         }
        }
       }
      }
     },
     "metadata": {},
     "output_type": "display_data"
    },
    {
     "data": {
      "application/vnd.plotly.v1+json": {
       "config": {
        "plotlyServerURL": "https://plot.ly"
       },
       "data": [
        {
         "name": "19019050, ['UDCUP']",
         "type": "scatter",
         "visible": true,
         "x": [
          "2129-01-05 04:00:00"
         ],
         "y": [
          2
         ]
        }
       ],
       "layout": {
        "showlegend": true,
        "template": {
         "data": {
          "bar": [
           {
            "error_x": {
             "color": "#2a3f5f"
            },
            "error_y": {
             "color": "#2a3f5f"
            },
            "marker": {
             "line": {
              "color": "#E5ECF6",
              "width": 0.5
             },
             "pattern": {
              "fillmode": "overlay",
              "size": 10,
              "solidity": 0.2
             }
            },
            "type": "bar"
           }
          ],
          "barpolar": [
           {
            "marker": {
             "line": {
              "color": "#E5ECF6",
              "width": 0.5
             },
             "pattern": {
              "fillmode": "overlay",
              "size": 10,
              "solidity": 0.2
             }
            },
            "type": "barpolar"
           }
          ],
          "carpet": [
           {
            "aaxis": {
             "endlinecolor": "#2a3f5f",
             "gridcolor": "white",
             "linecolor": "white",
             "minorgridcolor": "white",
             "startlinecolor": "#2a3f5f"
            },
            "baxis": {
             "endlinecolor": "#2a3f5f",
             "gridcolor": "white",
             "linecolor": "white",
             "minorgridcolor": "white",
             "startlinecolor": "#2a3f5f"
            },
            "type": "carpet"
           }
          ],
          "choropleth": [
           {
            "colorbar": {
             "outlinewidth": 0,
             "ticks": ""
            },
            "type": "choropleth"
           }
          ],
          "contour": [
           {
            "colorbar": {
             "outlinewidth": 0,
             "ticks": ""
            },
            "colorscale": [
             [
              0,
              "#0d0887"
             ],
             [
              0.1111111111111111,
              "#46039f"
             ],
             [
              0.2222222222222222,
              "#7201a8"
             ],
             [
              0.3333333333333333,
              "#9c179e"
             ],
             [
              0.4444444444444444,
              "#bd3786"
             ],
             [
              0.5555555555555556,
              "#d8576b"
             ],
             [
              0.6666666666666666,
              "#ed7953"
             ],
             [
              0.7777777777777778,
              "#fb9f3a"
             ],
             [
              0.8888888888888888,
              "#fdca26"
             ],
             [
              1,
              "#f0f921"
             ]
            ],
            "type": "contour"
           }
          ],
          "contourcarpet": [
           {
            "colorbar": {
             "outlinewidth": 0,
             "ticks": ""
            },
            "type": "contourcarpet"
           }
          ],
          "heatmap": [
           {
            "colorbar": {
             "outlinewidth": 0,
             "ticks": ""
            },
            "colorscale": [
             [
              0,
              "#0d0887"
             ],
             [
              0.1111111111111111,
              "#46039f"
             ],
             [
              0.2222222222222222,
              "#7201a8"
             ],
             [
              0.3333333333333333,
              "#9c179e"
             ],
             [
              0.4444444444444444,
              "#bd3786"
             ],
             [
              0.5555555555555556,
              "#d8576b"
             ],
             [
              0.6666666666666666,
              "#ed7953"
             ],
             [
              0.7777777777777778,
              "#fb9f3a"
             ],
             [
              0.8888888888888888,
              "#fdca26"
             ],
             [
              1,
              "#f0f921"
             ]
            ],
            "type": "heatmap"
           }
          ],
          "heatmapgl": [
           {
            "colorbar": {
             "outlinewidth": 0,
             "ticks": ""
            },
            "colorscale": [
             [
              0,
              "#0d0887"
             ],
             [
              0.1111111111111111,
              "#46039f"
             ],
             [
              0.2222222222222222,
              "#7201a8"
             ],
             [
              0.3333333333333333,
              "#9c179e"
             ],
             [
              0.4444444444444444,
              "#bd3786"
             ],
             [
              0.5555555555555556,
              "#d8576b"
             ],
             [
              0.6666666666666666,
              "#ed7953"
             ],
             [
              0.7777777777777778,
              "#fb9f3a"
             ],
             [
              0.8888888888888888,
              "#fdca26"
             ],
             [
              1,
              "#f0f921"
             ]
            ],
            "type": "heatmapgl"
           }
          ],
          "histogram": [
           {
            "marker": {
             "pattern": {
              "fillmode": "overlay",
              "size": 10,
              "solidity": 0.2
             }
            },
            "type": "histogram"
           }
          ],
          "histogram2d": [
           {
            "colorbar": {
             "outlinewidth": 0,
             "ticks": ""
            },
            "colorscale": [
             [
              0,
              "#0d0887"
             ],
             [
              0.1111111111111111,
              "#46039f"
             ],
             [
              0.2222222222222222,
              "#7201a8"
             ],
             [
              0.3333333333333333,
              "#9c179e"
             ],
             [
              0.4444444444444444,
              "#bd3786"
             ],
             [
              0.5555555555555556,
              "#d8576b"
             ],
             [
              0.6666666666666666,
              "#ed7953"
             ],
             [
              0.7777777777777778,
              "#fb9f3a"
             ],
             [
              0.8888888888888888,
              "#fdca26"
             ],
             [
              1,
              "#f0f921"
             ]
            ],
            "type": "histogram2d"
           }
          ],
          "histogram2dcontour": [
           {
            "colorbar": {
             "outlinewidth": 0,
             "ticks": ""
            },
            "colorscale": [
             [
              0,
              "#0d0887"
             ],
             [
              0.1111111111111111,
              "#46039f"
             ],
             [
              0.2222222222222222,
              "#7201a8"
             ],
             [
              0.3333333333333333,
              "#9c179e"
             ],
             [
              0.4444444444444444,
              "#bd3786"
             ],
             [
              0.5555555555555556,
              "#d8576b"
             ],
             [
              0.6666666666666666,
              "#ed7953"
             ],
             [
              0.7777777777777778,
              "#fb9f3a"
             ],
             [
              0.8888888888888888,
              "#fdca26"
             ],
             [
              1,
              "#f0f921"
             ]
            ],
            "type": "histogram2dcontour"
           }
          ],
          "mesh3d": [
           {
            "colorbar": {
             "outlinewidth": 0,
             "ticks": ""
            },
            "type": "mesh3d"
           }
          ],
          "parcoords": [
           {
            "line": {
             "colorbar": {
              "outlinewidth": 0,
              "ticks": ""
             }
            },
            "type": "parcoords"
           }
          ],
          "pie": [
           {
            "automargin": true,
            "type": "pie"
           }
          ],
          "scatter": [
           {
            "fillpattern": {
             "fillmode": "overlay",
             "size": 10,
             "solidity": 0.2
            },
            "type": "scatter"
           }
          ],
          "scatter3d": [
           {
            "line": {
             "colorbar": {
              "outlinewidth": 0,
              "ticks": ""
             }
            },
            "marker": {
             "colorbar": {
              "outlinewidth": 0,
              "ticks": ""
             }
            },
            "type": "scatter3d"
           }
          ],
          "scattercarpet": [
           {
            "marker": {
             "colorbar": {
              "outlinewidth": 0,
              "ticks": ""
             }
            },
            "type": "scattercarpet"
           }
          ],
          "scattergeo": [
           {
            "marker": {
             "colorbar": {
              "outlinewidth": 0,
              "ticks": ""
             }
            },
            "type": "scattergeo"
           }
          ],
          "scattergl": [
           {
            "marker": {
             "colorbar": {
              "outlinewidth": 0,
              "ticks": ""
             }
            },
            "type": "scattergl"
           }
          ],
          "scattermapbox": [
           {
            "marker": {
             "colorbar": {
              "outlinewidth": 0,
              "ticks": ""
             }
            },
            "type": "scattermapbox"
           }
          ],
          "scatterpolar": [
           {
            "marker": {
             "colorbar": {
              "outlinewidth": 0,
              "ticks": ""
             }
            },
            "type": "scatterpolar"
           }
          ],
          "scatterpolargl": [
           {
            "marker": {
             "colorbar": {
              "outlinewidth": 0,
              "ticks": ""
             }
            },
            "type": "scatterpolargl"
           }
          ],
          "scatterternary": [
           {
            "marker": {
             "colorbar": {
              "outlinewidth": 0,
              "ticks": ""
             }
            },
            "type": "scatterternary"
           }
          ],
          "surface": [
           {
            "colorbar": {
             "outlinewidth": 0,
             "ticks": ""
            },
            "colorscale": [
             [
              0,
              "#0d0887"
             ],
             [
              0.1111111111111111,
              "#46039f"
             ],
             [
              0.2222222222222222,
              "#7201a8"
             ],
             [
              0.3333333333333333,
              "#9c179e"
             ],
             [
              0.4444444444444444,
              "#bd3786"
             ],
             [
              0.5555555555555556,
              "#d8576b"
             ],
             [
              0.6666666666666666,
              "#ed7953"
             ],
             [
              0.7777777777777778,
              "#fb9f3a"
             ],
             [
              0.8888888888888888,
              "#fdca26"
             ],
             [
              1,
              "#f0f921"
             ]
            ],
            "type": "surface"
           }
          ],
          "table": [
           {
            "cells": {
             "fill": {
              "color": "#EBF0F8"
             },
             "line": {
              "color": "white"
             }
            },
            "header": {
             "fill": {
              "color": "#C8D4E3"
             },
             "line": {
              "color": "white"
             }
            },
            "type": "table"
           }
          ]
         },
         "layout": {
          "annotationdefaults": {
           "arrowcolor": "#2a3f5f",
           "arrowhead": 0,
           "arrowwidth": 1
          },
          "autotypenumbers": "strict",
          "coloraxis": {
           "colorbar": {
            "outlinewidth": 0,
            "ticks": ""
           }
          },
          "colorscale": {
           "diverging": [
            [
             0,
             "#8e0152"
            ],
            [
             0.1,
             "#c51b7d"
            ],
            [
             0.2,
             "#de77ae"
            ],
            [
             0.3,
             "#f1b6da"
            ],
            [
             0.4,
             "#fde0ef"
            ],
            [
             0.5,
             "#f7f7f7"
            ],
            [
             0.6,
             "#e6f5d0"
            ],
            [
             0.7,
             "#b8e186"
            ],
            [
             0.8,
             "#7fbc41"
            ],
            [
             0.9,
             "#4d9221"
            ],
            [
             1,
             "#276419"
            ]
           ],
           "sequential": [
            [
             0,
             "#0d0887"
            ],
            [
             0.1111111111111111,
             "#46039f"
            ],
            [
             0.2222222222222222,
             "#7201a8"
            ],
            [
             0.3333333333333333,
             "#9c179e"
            ],
            [
             0.4444444444444444,
             "#bd3786"
            ],
            [
             0.5555555555555556,
             "#d8576b"
            ],
            [
             0.6666666666666666,
             "#ed7953"
            ],
            [
             0.7777777777777778,
             "#fb9f3a"
            ],
            [
             0.8888888888888888,
             "#fdca26"
            ],
            [
             1,
             "#f0f921"
            ]
           ],
           "sequentialminus": [
            [
             0,
             "#0d0887"
            ],
            [
             0.1111111111111111,
             "#46039f"
            ],
            [
             0.2222222222222222,
             "#7201a8"
            ],
            [
             0.3333333333333333,
             "#9c179e"
            ],
            [
             0.4444444444444444,
             "#bd3786"
            ],
            [
             0.5555555555555556,
             "#d8576b"
            ],
            [
             0.6666666666666666,
             "#ed7953"
            ],
            [
             0.7777777777777778,
             "#fb9f3a"
            ],
            [
             0.8888888888888888,
             "#fdca26"
            ],
            [
             1,
             "#f0f921"
            ]
           ]
          },
          "colorway": [
           "#636efa",
           "#EF553B",
           "#00cc96",
           "#ab63fa",
           "#FFA15A",
           "#19d3f3",
           "#FF6692",
           "#B6E880",
           "#FF97FF",
           "#FECB52"
          ],
          "font": {
           "color": "#2a3f5f"
          },
          "geo": {
           "bgcolor": "white",
           "lakecolor": "white",
           "landcolor": "#E5ECF6",
           "showlakes": true,
           "showland": true,
           "subunitcolor": "white"
          },
          "hoverlabel": {
           "align": "left"
          },
          "hovermode": "closest",
          "mapbox": {
           "style": "light"
          },
          "paper_bgcolor": "white",
          "plot_bgcolor": "#E5ECF6",
          "polar": {
           "angularaxis": {
            "gridcolor": "white",
            "linecolor": "white",
            "ticks": ""
           },
           "bgcolor": "#E5ECF6",
           "radialaxis": {
            "gridcolor": "white",
            "linecolor": "white",
            "ticks": ""
           }
          },
          "scene": {
           "xaxis": {
            "backgroundcolor": "#E5ECF6",
            "gridcolor": "white",
            "gridwidth": 2,
            "linecolor": "white",
            "showbackground": true,
            "ticks": "",
            "zerolinecolor": "white"
           },
           "yaxis": {
            "backgroundcolor": "#E5ECF6",
            "gridcolor": "white",
            "gridwidth": 2,
            "linecolor": "white",
            "showbackground": true,
            "ticks": "",
            "zerolinecolor": "white"
           },
           "zaxis": {
            "backgroundcolor": "#E5ECF6",
            "gridcolor": "white",
            "gridwidth": 2,
            "linecolor": "white",
            "showbackground": true,
            "ticks": "",
            "zerolinecolor": "white"
           }
          },
          "shapedefaults": {
           "line": {
            "color": "#2a3f5f"
           }
          },
          "ternary": {
           "aaxis": {
            "gridcolor": "white",
            "linecolor": "white",
            "ticks": ""
           },
           "baxis": {
            "gridcolor": "white",
            "linecolor": "white",
            "ticks": ""
           },
           "bgcolor": "#E5ECF6",
           "caxis": {
            "gridcolor": "white",
            "linecolor": "white",
            "ticks": ""
           }
          },
          "title": {
           "x": 0.05
          },
          "xaxis": {
           "automargin": true,
           "gridcolor": "white",
           "linecolor": "white",
           "ticks": "",
           "title": {
            "standoff": 15
           },
           "zerolinecolor": "white",
           "zerolinewidth": 2
          },
          "yaxis": {
           "automargin": true,
           "gridcolor": "white",
           "linecolor": "white",
           "ticks": "",
           "title": {
            "standoff": 15
           },
           "zerolinecolor": "white",
           "zerolinewidth": 2
          }
         }
        },
        "updatemenus": [
         {
          "buttons": [
           {
            "args": [
             {
              "visible": [
               true
              ]
             }
            ],
            "args2": [
             {
              "visible": [
               false
              ]
             }
            ],
            "label": "19019050",
            "method": "update",
            "visible": true
           }
          ],
          "direction": "right",
          "showactive": true,
          "type": "buttons",
          "x": 0.7,
          "y": 1.3
         }
        ],
        "xaxis": {
         "rangeslider": {
          "autorange": true,
          "range": [
           "2129-01-04 18:00:00",
           "2129-01-05 02:00:00"
          ]
         }
        }
       }
      }
     },
     "metadata": {},
     "output_type": "display_data"
    }
   ],
   "source": [
    "# TOGGLE GRAPH - not useful\n",
    "\n",
    "patient1 = patient1.sort_values(by='drug_exposure_start_datetime')\n",
    "number_types = patient1.dose_unit_source_value.describe()['unique']\n",
    "\n",
    "#fig3 = make_subplots(rows = 1, cols = number_types, subplot_titles=(patient1.dose_unit_source_value.value_counts().index))\n",
    "colonne = 1\n",
    "\n",
    "for drug_type in patient1.dose_unit_source_value.value_counts().index:\n",
    "    #print(drug_type)\n",
    "    traces = []\n",
    "    buttons = []\n",
    "\n",
    "    # for each drug type, create a liste of traces and buttons\n",
    "    for d in patient1[patient1.dose_unit_source_value == drug_type].drug_concept_id.unique():\n",
    "        temp = patient1[patient1.drug_concept_id == d]\n",
    "\n",
    "        traces.append(go.Scatter(x = temp.drug_exposure_start_datetime, y = temp.quantity, name=f'{d}, {temp.dose_unit_source_value.unique()}', visible = True))\n",
    "        \n",
    "        buttons.append(dict(method='update',\n",
    "                        label=f'{d}',\n",
    "                        visible=True,\n",
    "                        args=[{'visible':[x == d for x in patient1[patient1.dose_unit_source_value == drug_type].drug_concept_id.unique()]}],\n",
    "                        args2=[{'visible':[x != d for x in patient1[patient1.dose_unit_source_value == drug_type].drug_concept_id.unique()]}]\n",
    "                        )\n",
    "                )\n",
    "\n",
    "    # Make the graph with toggle\n",
    "        \n",
    "    # add a button 'All' to toggle them all together    \n",
    "    layout = go.Layout(\n",
    "        updatemenus=[\n",
    "            dict(\n",
    "                type='buttons',\n",
    "                direction='right',\n",
    "                x=0.7,\n",
    "                y=1.3,\n",
    "                showactive=True,\n",
    "                buttons=buttons\n",
    "            )\n",
    "        ],\n",
    "        showlegend=True\n",
    "\n",
    "    )\n",
    "\n",
    "    fig3 = go.Figure(data=traces,layout=layout)\n",
    "    fig3.update_layout(xaxis=dict(rangeslider=dict(autorange=True, range=[patient1_drug1.drug_exposure_start_datetime.min(), patient1_drug1.drug_exposure_start_datetime.max()])))\n",
    "   \n",
    "    fig3.show()\n",
    "\n",
    "\n",
    "\n",
    "\n",
    "# https://plotly.com/python/range-slider/ axes avec plusieurs type d'échelle"
   ]
  },
  {
   "cell_type": "markdown",
   "metadata": {},
   "source": [
    "### Drug_exposure start and end can be different"
   ]
  },
  {
   "cell_type": "code",
   "execution_count": null,
   "metadata": {},
   "outputs": [],
   "source": [
    "# drug_exposure.drug_exposure_start_datetime.value_counts()\n",
    "#drug_exposure.drug_exposure_end_datetime.value_counts()\n",
    "print(drug_exposure.drug_exposure_start_datetime[0], drug_exposure.drug_exposure_end_datetime[0])\n",
    "# Can be different...."
   ]
  },
  {
   "cell_type": "markdown",
   "metadata": {},
   "source": [
    "# Dose Era\n",
    "\n",
    "A Dose Era is defined as a span of time when the Person is assumed to be exposed to a constant dose of a specific active ingredient.\n",
    "\n",
    "Dose Form information is not taken into account. So, if the patient changes between different formulations, or different manufacturers with the same formulation, the Dose Era is still spanning the entire time of exposure to the Ingredient."
   ]
  },
  {
   "cell_type": "code",
   "execution_count": 15,
   "metadata": {},
   "outputs": [
    {
     "data": {
      "text/html": [
       "<div>\n",
       "<style scoped>\n",
       "    .dataframe tbody tr th:only-of-type {\n",
       "        vertical-align: middle;\n",
       "    }\n",
       "\n",
       "    .dataframe tbody tr th {\n",
       "        vertical-align: top;\n",
       "    }\n",
       "\n",
       "    .dataframe thead th {\n",
       "        text-align: right;\n",
       "    }\n",
       "</style>\n",
       "<table border=\"1\" class=\"dataframe\">\n",
       "  <thead>\n",
       "    <tr style=\"text-align: right;\">\n",
       "      <th></th>\n",
       "      <th>dose_era_id</th>\n",
       "      <th>person_id</th>\n",
       "      <th>drug_concept_id</th>\n",
       "      <th>unit_concept_id</th>\n",
       "      <th>dose_value</th>\n",
       "      <th>dose_era_start_date</th>\n",
       "      <th>dose_era_end_date</th>\n",
       "    </tr>\n",
       "  </thead>\n",
       "  <tbody>\n",
       "    <tr>\n",
       "      <th>0</th>\n",
       "      <td>-1101936257632052351</td>\n",
       "      <td>5548892236933978704</td>\n",
       "      <td>902427</td>\n",
       "      <td>8576</td>\n",
       "      <td>10.0</td>\n",
       "      <td>2142-05-14</td>\n",
       "      <td>2142-05-16</td>\n",
       "    </tr>\n",
       "    <tr>\n",
       "      <th>1</th>\n",
       "      <td>9002582707624403415</td>\n",
       "      <td>4985579811051920670</td>\n",
       "      <td>714785</td>\n",
       "      <td>8576</td>\n",
       "      <td>2.5</td>\n",
       "      <td>2110-04-13</td>\n",
       "      <td>2110-04-14</td>\n",
       "    </tr>\n",
       "    <tr>\n",
       "      <th>2</th>\n",
       "      <td>5495900697391314629</td>\n",
       "      <td>-4873075614181207858</td>\n",
       "      <td>1328165</td>\n",
       "      <td>8576</td>\n",
       "      <td>120.0</td>\n",
       "      <td>2148-09-15</td>\n",
       "      <td>2148-09-15</td>\n",
       "    </tr>\n",
       "    <tr>\n",
       "      <th>3</th>\n",
       "      <td>6335084700122752427</td>\n",
       "      <td>-8205283012979532608</td>\n",
       "      <td>1328165</td>\n",
       "      <td>8576</td>\n",
       "      <td>120.0</td>\n",
       "      <td>2189-06-11</td>\n",
       "      <td>2189-06-13</td>\n",
       "    </tr>\n",
       "    <tr>\n",
       "      <th>4</th>\n",
       "      <td>2848105832570024513</td>\n",
       "      <td>-4873075614181207858</td>\n",
       "      <td>1328165</td>\n",
       "      <td>8576</td>\n",
       "      <td>120.0</td>\n",
       "      <td>2147-12-20</td>\n",
       "      <td>2147-12-21</td>\n",
       "    </tr>\n",
       "  </tbody>\n",
       "</table>\n",
       "</div>"
      ],
      "text/plain": [
       "           dose_era_id            person_id  drug_concept_id  unit_concept_id  \\\n",
       "0 -1101936257632052351  5548892236933978704           902427             8576   \n",
       "1  9002582707624403415  4985579811051920670           714785             8576   \n",
       "2  5495900697391314629 -4873075614181207858          1328165             8576   \n",
       "3  6335084700122752427 -8205283012979532608          1328165             8576   \n",
       "4  2848105832570024513 -4873075614181207858          1328165             8576   \n",
       "\n",
       "   dose_value dose_era_start_date dose_era_end_date  \n",
       "0        10.0          2142-05-14        2142-05-16  \n",
       "1         2.5          2110-04-13        2110-04-14  \n",
       "2       120.0          2148-09-15        2148-09-15  \n",
       "3       120.0          2189-06-11        2189-06-13  \n",
       "4       120.0          2147-12-20        2147-12-21  "
      ]
     },
     "execution_count": 15,
     "metadata": {},
     "output_type": "execute_result"
    }
   ],
   "source": [
    "dose_era = pd.read_csv('Data/dose_era.csv')\n",
    "dose_era.head()\n",
    "\n",
    "#dose_era.shape #(117, 7)"
   ]
  },
  {
   "cell_type": "code",
   "execution_count": 13,
   "metadata": {},
   "outputs": [
    {
     "data": {
      "text/plain": [
       "unit_concept_id\n",
       "8576    117\n",
       "Name: count, dtype: int64"
      ]
     },
     "execution_count": 13,
     "metadata": {},
     "output_type": "execute_result"
    }
   ],
   "source": [
    "dose_era.unit_concept_id.value_counts()\n",
    "# 8576 are all in mg.... This is good :) I can go back to drug_concept id, dose_value...."
   ]
  },
  {
   "cell_type": "code",
   "execution_count": 16,
   "metadata": {},
   "outputs": [
    {
     "data": {
      "text/plain": [
       "drug_concept_id\n",
       "1307046    38\n",
       "1328165    12\n",
       "718583     12\n",
       "1383815    11\n",
       "745466     10\n",
       "965748      8\n",
       "750982      7\n",
       "1398937     4\n",
       "1503297     2\n",
       "1560171     2\n",
       "1163944     2\n",
       "1318853     2\n",
       "1154029     2\n",
       "714785      1\n",
       "1353776     1\n",
       "719311      1\n",
       "1353766     1\n",
       "902427      1\n",
       "Name: count, dtype: int64"
      ]
     },
     "execution_count": 16,
     "metadata": {},
     "output_type": "execute_result"
    }
   ],
   "source": [
    "dose_era.drug_concept_id.value_counts()"
   ]
  },
  {
   "cell_type": "markdown",
   "metadata": {},
   "source": [
    "# Drug era\n",
    "\n",
    "**active ingredient**, successive period of drug_exposure to the same ingredent gives drug era\n",
    "\n",
    "A Drug Era is defined as a span of time when the Person is assumed to be exposed to a particular active ingredient. A Drug Era is not the same as a Drug Exposure:\n",
    "Exposures are individual records corresponding to the source when Drug was delivered to the Person, while successive periods of Drug Exposures are combined under certain rules to produce continuous Drug Eras.\n",
    "\n",
    "-> not the same concept_id because here we talk about an ingredient, not a particular drug... diazepam vs diazepam tablet 10mg.  \n",
    "\n",
    "Example:  \n",
    "drug_era: person 3912882389848878631 got 2 exposure to diazepam 723013 between 2129-01-03\t2129-01-05  \n",
    "[6598\t-7540355434127132424\t3912882389848878631\t723013\t2129-01-03\t2129-01-05\t2\t0]   \n",
    "\n",
    "drug_exposure: person 3912882389848878631 got 1 drug_exposure to 723020 within 2129-01-03 19:00:00\tand 2129-01-05 02:00:00\t  \n",
    "[5640\t-4804305780328125843\t3912882389848878631\t723020\t2129-01-03\t2129-01-03 19:00:00\t2129-01-05\t2129-01-05 02:00:00\tNaN\t32838\tNaN\t...\tNaN\t4167540\tNaN\tNaN\t3761046692024108622\tNaN\t51079028620\t45000972\tPO/NG\tTAB]"
   ]
  },
  {
   "cell_type": "code",
   "execution_count": 14,
   "metadata": {},
   "outputs": [
    {
     "data": {
      "text/html": [
       "<div>\n",
       "<style scoped>\n",
       "    .dataframe tbody tr th:only-of-type {\n",
       "        vertical-align: middle;\n",
       "    }\n",
       "\n",
       "    .dataframe tbody tr th {\n",
       "        vertical-align: top;\n",
       "    }\n",
       "\n",
       "    .dataframe thead th {\n",
       "        text-align: right;\n",
       "    }\n",
       "</style>\n",
       "<table border=\"1\" class=\"dataframe\">\n",
       "  <thead>\n",
       "    <tr style=\"text-align: right;\">\n",
       "      <th></th>\n",
       "      <th>dose_era_id</th>\n",
       "      <th>person_id</th>\n",
       "      <th>drug_concept_id</th>\n",
       "      <th>unit_concept_id</th>\n",
       "      <th>dose_value</th>\n",
       "      <th>dose_era_start_date</th>\n",
       "      <th>dose_era_end_date</th>\n",
       "    </tr>\n",
       "  </thead>\n",
       "  <tbody>\n",
       "  </tbody>\n",
       "</table>\n",
       "</div>"
      ],
      "text/plain": [
       "Empty DataFrame\n",
       "Columns: [dose_era_id, person_id, drug_concept_id, unit_concept_id, dose_value, dose_era_start_date, dose_era_end_date]\n",
       "Index: []"
      ]
     },
     "execution_count": 14,
     "metadata": {},
     "output_type": "execute_result"
    }
   ],
   "source": [
    "dose_era[dose_era.person_id == 3912882389848878631] # my patient is not recognized, neither my drug_cncept_id...why ????\n",
    "#patient1[patient1.dose_unit_source_value == drug_type]\n",
    "dose_era[dose_era.drug_concept_id == 19127213]\n",
    "# ne pas mettre de guillements, ça ne fonctionne pas..."
   ]
  },
  {
   "cell_type": "code",
   "execution_count": 4,
   "metadata": {},
   "outputs": [
    {
     "data": {
      "text/html": [
       "<div>\n",
       "<style scoped>\n",
       "    .dataframe tbody tr th:only-of-type {\n",
       "        vertical-align: middle;\n",
       "    }\n",
       "\n",
       "    .dataframe tbody tr th {\n",
       "        vertical-align: top;\n",
       "    }\n",
       "\n",
       "    .dataframe thead th {\n",
       "        text-align: right;\n",
       "    }\n",
       "</style>\n",
       "<table border=\"1\" class=\"dataframe\">\n",
       "  <thead>\n",
       "    <tr style=\"text-align: right;\">\n",
       "      <th></th>\n",
       "      <th>drug_era_id</th>\n",
       "      <th>person_id</th>\n",
       "      <th>drug_concept_id</th>\n",
       "      <th>drug_era_start_date</th>\n",
       "      <th>drug_era_end_date</th>\n",
       "      <th>drug_exposure_count</th>\n",
       "      <th>gap_days</th>\n",
       "    </tr>\n",
       "  </thead>\n",
       "  <tbody>\n",
       "    <tr>\n",
       "      <th>0</th>\n",
       "      <td>-4731852071843461961</td>\n",
       "      <td>-2067961723109232727</td>\n",
       "      <td>1124957</td>\n",
       "      <td>2169-01-21</td>\n",
       "      <td>2169-01-24</td>\n",
       "      <td>1</td>\n",
       "      <td>0</td>\n",
       "    </tr>\n",
       "    <tr>\n",
       "      <th>1</th>\n",
       "      <td>1725818565432188772</td>\n",
       "      <td>-626229666378242477</td>\n",
       "      <td>1368671</td>\n",
       "      <td>2171-11-11</td>\n",
       "      <td>2171-11-16</td>\n",
       "      <td>2</td>\n",
       "      <td>1</td>\n",
       "    </tr>\n",
       "    <tr>\n",
       "      <th>2</th>\n",
       "      <td>3222075720408667327</td>\n",
       "      <td>-626229666378242477</td>\n",
       "      <td>967823</td>\n",
       "      <td>2171-11-11</td>\n",
       "      <td>2171-11-22</td>\n",
       "      <td>12</td>\n",
       "      <td>0</td>\n",
       "    </tr>\n",
       "    <tr>\n",
       "      <th>3</th>\n",
       "      <td>7411613425123823172</td>\n",
       "      <td>579254014084392336</td>\n",
       "      <td>1310149</td>\n",
       "      <td>2115-10-16</td>\n",
       "      <td>2115-10-18</td>\n",
       "      <td>2</td>\n",
       "      <td>0</td>\n",
       "    </tr>\n",
       "    <tr>\n",
       "      <th>4</th>\n",
       "      <td>4265287408545791371</td>\n",
       "      <td>-2312013739856114142</td>\n",
       "      <td>19095164</td>\n",
       "      <td>2116-06-28</td>\n",
       "      <td>2116-07-05</td>\n",
       "      <td>1</td>\n",
       "      <td>0</td>\n",
       "    </tr>\n",
       "  </tbody>\n",
       "</table>\n",
       "</div>"
      ],
      "text/plain": [
       "           drug_era_id            person_id  drug_concept_id  \\\n",
       "0 -4731852071843461961 -2067961723109232727          1124957   \n",
       "1  1725818565432188772  -626229666378242477          1368671   \n",
       "2  3222075720408667327  -626229666378242477           967823   \n",
       "3  7411613425123823172   579254014084392336          1310149   \n",
       "4  4265287408545791371 -2312013739856114142         19095164   \n",
       "\n",
       "  drug_era_start_date drug_era_end_date  drug_exposure_count  gap_days  \n",
       "0          2169-01-21        2169-01-24                    1         0  \n",
       "1          2171-11-11        2171-11-16                    2         1  \n",
       "2          2171-11-11        2171-11-22                   12         0  \n",
       "3          2115-10-16        2115-10-18                    2         0  \n",
       "4          2116-06-28        2116-07-05                    1         0  "
      ]
     },
     "execution_count": 4,
     "metadata": {},
     "output_type": "execute_result"
    }
   ],
   "source": [
    "drug_era = pd.read_csv('Data/drug_era.csv')\n",
    "\n",
    "drug_era.shape #(7931, 7)\n",
    "drug_era.head()"
   ]
  },
  {
   "cell_type": "code",
   "execution_count": null,
   "metadata": {},
   "outputs": [],
   "source": [
    "drug_era.drug_concept_id.value_counts()"
   ]
  },
  {
   "cell_type": "code",
   "execution_count": 5,
   "metadata": {},
   "outputs": [
    {
     "data": {
      "text/html": [
       "<div>\n",
       "<style scoped>\n",
       "    .dataframe tbody tr th:only-of-type {\n",
       "        vertical-align: middle;\n",
       "    }\n",
       "\n",
       "    .dataframe tbody tr th {\n",
       "        vertical-align: top;\n",
       "    }\n",
       "\n",
       "    .dataframe thead th {\n",
       "        text-align: right;\n",
       "    }\n",
       "</style>\n",
       "<table border=\"1\" class=\"dataframe\">\n",
       "  <thead>\n",
       "    <tr style=\"text-align: right;\">\n",
       "      <th></th>\n",
       "      <th>drug_era_id</th>\n",
       "      <th>person_id</th>\n",
       "      <th>drug_concept_id</th>\n",
       "      <th>drug_era_start_date</th>\n",
       "      <th>drug_era_end_date</th>\n",
       "      <th>drug_exposure_count</th>\n",
       "      <th>gap_days</th>\n",
       "    </tr>\n",
       "  </thead>\n",
       "  <tbody>\n",
       "    <tr>\n",
       "      <th>6596</th>\n",
       "      <td>500595522397761829</td>\n",
       "      <td>3912882389848878631</td>\n",
       "      <td>43531944</td>\n",
       "      <td>2129-01-03</td>\n",
       "      <td>2129-01-05</td>\n",
       "      <td>1</td>\n",
       "      <td>0</td>\n",
       "    </tr>\n",
       "    <tr>\n",
       "      <th>6597</th>\n",
       "      <td>6330107922049835930</td>\n",
       "      <td>3912882389848878631</td>\n",
       "      <td>1125315</td>\n",
       "      <td>2129-01-03</td>\n",
       "      <td>2129-01-05</td>\n",
       "      <td>1</td>\n",
       "      <td>0</td>\n",
       "    </tr>\n",
       "    <tr>\n",
       "      <th>6598</th>\n",
       "      <td>-7540355434127132424</td>\n",
       "      <td>3912882389848878631</td>\n",
       "      <td>723013</td>\n",
       "      <td>2129-01-03</td>\n",
       "      <td>2129-01-05</td>\n",
       "      <td>2</td>\n",
       "      <td>0</td>\n",
       "    </tr>\n",
       "    <tr>\n",
       "      <th>6599</th>\n",
       "      <td>7165454045076608944</td>\n",
       "      <td>3912882389848878631</td>\n",
       "      <td>40166605</td>\n",
       "      <td>2129-01-03</td>\n",
       "      <td>2129-01-05</td>\n",
       "      <td>1</td>\n",
       "      <td>0</td>\n",
       "    </tr>\n",
       "    <tr>\n",
       "      <th>6600</th>\n",
       "      <td>-8180642557726588733</td>\n",
       "      <td>3912882389848878631</td>\n",
       "      <td>40164828</td>\n",
       "      <td>2129-01-03</td>\n",
       "      <td>2129-01-05</td>\n",
       "      <td>1</td>\n",
       "      <td>0</td>\n",
       "    </tr>\n",
       "    <tr>\n",
       "      <th>6601</th>\n",
       "      <td>3025930947898329035</td>\n",
       "      <td>3912882389848878631</td>\n",
       "      <td>42873956</td>\n",
       "      <td>2129-01-03</td>\n",
       "      <td>2129-01-05</td>\n",
       "      <td>1</td>\n",
       "      <td>0</td>\n",
       "    </tr>\n",
       "    <tr>\n",
       "      <th>6602</th>\n",
       "      <td>8800459384878548729</td>\n",
       "      <td>3912882389848878631</td>\n",
       "      <td>967823</td>\n",
       "      <td>2129-01-03</td>\n",
       "      <td>2129-01-05</td>\n",
       "      <td>2</td>\n",
       "      <td>0</td>\n",
       "    </tr>\n",
       "    <tr>\n",
       "      <th>6603</th>\n",
       "      <td>-338966274758502286</td>\n",
       "      <td>3912882389848878631</td>\n",
       "      <td>1367571</td>\n",
       "      <td>2129-01-03</td>\n",
       "      <td>2129-01-05</td>\n",
       "      <td>1</td>\n",
       "      <td>0</td>\n",
       "    </tr>\n",
       "    <tr>\n",
       "      <th>6683</th>\n",
       "      <td>1590324940605174808</td>\n",
       "      <td>3912882389848878631</td>\n",
       "      <td>923645</td>\n",
       "      <td>2129-01-04</td>\n",
       "      <td>2129-01-05</td>\n",
       "      <td>1</td>\n",
       "      <td>0</td>\n",
       "    </tr>\n",
       "    <tr>\n",
       "      <th>6684</th>\n",
       "      <td>8866077140124362516</td>\n",
       "      <td>3912882389848878631</td>\n",
       "      <td>1124957</td>\n",
       "      <td>2129-01-04</td>\n",
       "      <td>2129-01-05</td>\n",
       "      <td>4</td>\n",
       "      <td>1</td>\n",
       "    </tr>\n",
       "    <tr>\n",
       "      <th>6690</th>\n",
       "      <td>-1112804010670705686</td>\n",
       "      <td>3912882389848878631</td>\n",
       "      <td>36878782</td>\n",
       "      <td>2129-01-05</td>\n",
       "      <td>2129-01-05</td>\n",
       "      <td>1</td>\n",
       "      <td>0</td>\n",
       "    </tr>\n",
       "    <tr>\n",
       "      <th>6691</th>\n",
       "      <td>-2016335706505619184</td>\n",
       "      <td>3912882389848878631</td>\n",
       "      <td>19111620</td>\n",
       "      <td>2129-01-05</td>\n",
       "      <td>2129-01-05</td>\n",
       "      <td>1</td>\n",
       "      <td>0</td>\n",
       "    </tr>\n",
       "    <tr>\n",
       "      <th>6692</th>\n",
       "      <td>2426943909930076013</td>\n",
       "      <td>3912882389848878631</td>\n",
       "      <td>1560524</td>\n",
       "      <td>2129-01-05</td>\n",
       "      <td>2129-01-05</td>\n",
       "      <td>1</td>\n",
       "      <td>0</td>\n",
       "    </tr>\n",
       "    <tr>\n",
       "      <th>6693</th>\n",
       "      <td>8939824964893766208</td>\n",
       "      <td>3912882389848878631</td>\n",
       "      <td>19137312</td>\n",
       "      <td>2129-01-05</td>\n",
       "      <td>2129-01-05</td>\n",
       "      <td>1</td>\n",
       "      <td>0</td>\n",
       "    </tr>\n",
       "    <tr>\n",
       "      <th>6694</th>\n",
       "      <td>4416439696488798469</td>\n",
       "      <td>3912882389848878631</td>\n",
       "      <td>1177480</td>\n",
       "      <td>2129-01-05</td>\n",
       "      <td>2129-01-05</td>\n",
       "      <td>1</td>\n",
       "      <td>0</td>\n",
       "    </tr>\n",
       "    <tr>\n",
       "      <th>6695</th>\n",
       "      <td>-945752478111843518</td>\n",
       "      <td>3912882389848878631</td>\n",
       "      <td>734275</td>\n",
       "      <td>2129-01-05</td>\n",
       "      <td>2129-01-11</td>\n",
       "      <td>7</td>\n",
       "      <td>6</td>\n",
       "    </tr>\n",
       "  </tbody>\n",
       "</table>\n",
       "</div>"
      ],
      "text/plain": [
       "              drug_era_id            person_id  drug_concept_id  \\\n",
       "6596   500595522397761829  3912882389848878631         43531944   \n",
       "6597  6330107922049835930  3912882389848878631          1125315   \n",
       "6598 -7540355434127132424  3912882389848878631           723013   \n",
       "6599  7165454045076608944  3912882389848878631         40166605   \n",
       "6600 -8180642557726588733  3912882389848878631         40164828   \n",
       "6601  3025930947898329035  3912882389848878631         42873956   \n",
       "6602  8800459384878548729  3912882389848878631           967823   \n",
       "6603  -338966274758502286  3912882389848878631          1367571   \n",
       "6683  1590324940605174808  3912882389848878631           923645   \n",
       "6684  8866077140124362516  3912882389848878631          1124957   \n",
       "6690 -1112804010670705686  3912882389848878631         36878782   \n",
       "6691 -2016335706505619184  3912882389848878631         19111620   \n",
       "6692  2426943909930076013  3912882389848878631          1560524   \n",
       "6693  8939824964893766208  3912882389848878631         19137312   \n",
       "6694  4416439696488798469  3912882389848878631          1177480   \n",
       "6695  -945752478111843518  3912882389848878631           734275   \n",
       "\n",
       "     drug_era_start_date drug_era_end_date  drug_exposure_count  gap_days  \n",
       "6596          2129-01-03        2129-01-05                    1         0  \n",
       "6597          2129-01-03        2129-01-05                    1         0  \n",
       "6598          2129-01-03        2129-01-05                    2         0  \n",
       "6599          2129-01-03        2129-01-05                    1         0  \n",
       "6600          2129-01-03        2129-01-05                    1         0  \n",
       "6601          2129-01-03        2129-01-05                    1         0  \n",
       "6602          2129-01-03        2129-01-05                    2         0  \n",
       "6603          2129-01-03        2129-01-05                    1         0  \n",
       "6683          2129-01-04        2129-01-05                    1         0  \n",
       "6684          2129-01-04        2129-01-05                    4         1  \n",
       "6690          2129-01-05        2129-01-05                    1         0  \n",
       "6691          2129-01-05        2129-01-05                    1         0  \n",
       "6692          2129-01-05        2129-01-05                    1         0  \n",
       "6693          2129-01-05        2129-01-05                    1         0  \n",
       "6694          2129-01-05        2129-01-05                    1         0  \n",
       "6695          2129-01-05        2129-01-11                    7         6  "
      ]
     },
     "execution_count": 5,
     "metadata": {},
     "output_type": "execute_result"
    }
   ],
   "source": [
    "drug_era[drug_era.drug_concept_id == 19127213] # cannot be found...\n",
    "\n",
    "drug_era[drug_era.person_id == 3912882389848878631] # -> ok..."
   ]
  },
  {
   "cell_type": "code",
   "execution_count": null,
   "metadata": {},
   "outputs": [],
   "source": [
    "temp_1 = drug_era.loc[drug_era.person_id == 3912882389848878631, 'drug_concept_id'].unique() #16\n",
    "temp_1.sort()\n",
    "'''\n",
    "drug_era\n",
    "(array([  723013 - \tdiazepam as an ingredient,   734275,   923645,   967823,  1124957,  1125315,\n",
    "         1177480,  1367571,  1560524, 19111620, 19137312, 36878782,\n",
    "        40164828, 40166605, 42873956, 43531944]),\n",
    "\n",
    "drug_exposure\n",
    " array([  723020 - diazepam 10 MG Oral Tablet RxNorm,   734281,  1127433, 19019050, 19019418, 19077513,\n",
    "        19079250, 19126251, 19127213, 19137328, 21125875, 36249736,\n",
    "        40221329, 40232756, 43011850, 45775137]))\n",
    "'''\n",
    "temp_2 = drug_exposure.loc[drug_exposure.person_id == 3912882389848878631, 'drug_concept_id'].unique() #16\n",
    "temp_2.sort()\n",
    "\n",
    "# all the same\n",
    "\n",
    "temp_1, temp_2\n"
   ]
  },
  {
   "cell_type": "code",
   "execution_count": 10,
   "metadata": {},
   "outputs": [
    {
     "data": {
      "text/html": [
       "<div>\n",
       "<style scoped>\n",
       "    .dataframe tbody tr th:only-of-type {\n",
       "        vertical-align: middle;\n",
       "    }\n",
       "\n",
       "    .dataframe tbody tr th {\n",
       "        vertical-align: top;\n",
       "    }\n",
       "\n",
       "    .dataframe thead th {\n",
       "        text-align: right;\n",
       "    }\n",
       "</style>\n",
       "<table border=\"1\" class=\"dataframe\">\n",
       "  <thead>\n",
       "    <tr style=\"text-align: right;\">\n",
       "      <th></th>\n",
       "      <th>dose_era_id</th>\n",
       "      <th>person_id</th>\n",
       "      <th>drug_concept_id</th>\n",
       "      <th>unit_concept_id</th>\n",
       "      <th>dose_value</th>\n",
       "      <th>dose_era_start_date</th>\n",
       "      <th>dose_era_end_date</th>\n",
       "    </tr>\n",
       "  </thead>\n",
       "  <tbody>\n",
       "  </tbody>\n",
       "</table>\n",
       "</div>"
      ],
      "text/plain": [
       "Empty DataFrame\n",
       "Columns: [dose_era_id, person_id, drug_concept_id, unit_concept_id, dose_value, dose_era_start_date, dose_era_end_date]\n",
       "Index: []"
      ]
     },
     "execution_count": 10,
     "metadata": {},
     "output_type": "execute_result"
    }
   ],
   "source": [
    "temp_3 = dose_era.loc[dose_era.person_id == 3912882389848878631]\n",
    "temp_3 # none\n",
    "#temp_3.loc[temp_3.drug_concept_id == 723013]"
   ]
  },
  {
   "cell_type": "code",
   "execution_count": null,
   "metadata": {},
   "outputs": [],
   "source": [
    "temp_exp = drug_exposure.person_id.unique()\n",
    "len(temp_exp) #100\n",
    "temp_drug = drug_era.person_id.unique()\n",
    "len(temp_drug) #100\n",
    "temp_dose = dose_era.person_id.unique()\n",
    "len(temp_dose) #44"
   ]
  },
  {
   "cell_type": "markdown",
   "metadata": {},
   "source": [
    "# drug_strength"
   ]
  },
  {
   "cell_type": "code",
   "execution_count": 17,
   "metadata": {},
   "outputs": [
    {
     "name": "stderr",
     "output_type": "stream",
     "text": [
      "/tmp/ipykernel_5721/1970751477.py:1: DtypeWarning:\n",
      "\n",
      "Columns (5) have mixed types. Specify dtype option on import or set low_memory=False.\n",
      "\n"
     ]
    },
    {
     "data": {
      "text/html": [
       "<div>\n",
       "<style scoped>\n",
       "    .dataframe tbody tr th:only-of-type {\n",
       "        vertical-align: middle;\n",
       "    }\n",
       "\n",
       "    .dataframe tbody tr th {\n",
       "        vertical-align: top;\n",
       "    }\n",
       "\n",
       "    .dataframe thead th {\n",
       "        text-align: right;\n",
       "    }\n",
       "</style>\n",
       "<table border=\"1\" class=\"dataframe\">\n",
       "  <thead>\n",
       "    <tr style=\"text-align: right;\">\n",
       "      <th></th>\n",
       "      <th>drug_concept_id</th>\n",
       "      <th>ingredient_concept_id</th>\n",
       "      <th>amount_value</th>\n",
       "      <th>amount_unit_concept_id</th>\n",
       "      <th>numerator_value</th>\n",
       "      <th>numerator_unit_concept_id</th>\n",
       "      <th>denominator_value</th>\n",
       "      <th>denominator_unit_concept_id</th>\n",
       "      <th>box_size</th>\n",
       "      <th>valid_start_date</th>\n",
       "      <th>valid_end_date</th>\n",
       "      <th>invalid_reason</th>\n",
       "    </tr>\n",
       "  </thead>\n",
       "  <tbody>\n",
       "    <tr>\n",
       "      <th>0</th>\n",
       "      <td>1154535</td>\n",
       "      <td>1154343</td>\n",
       "      <td>0.417</td>\n",
       "      <td>8576</td>\n",
       "      <td>8587.0</td>\n",
       "      <td>19700101</td>\n",
       "      <td>20991231.0</td>\n",
       "      <td>NaN</td>\n",
       "      <td>NaN</td>\n",
       "      <td>NaN</td>\n",
       "      <td>NaN</td>\n",
       "      <td>NaN</td>\n",
       "    </tr>\n",
       "    <tr>\n",
       "      <th>1</th>\n",
       "      <td>1154536</td>\n",
       "      <td>1154343</td>\n",
       "      <td>0.210</td>\n",
       "      <td>8576</td>\n",
       "      <td>8587.0</td>\n",
       "      <td>19700101</td>\n",
       "      <td>20991231.0</td>\n",
       "      <td>NaN</td>\n",
       "      <td>NaN</td>\n",
       "      <td>NaN</td>\n",
       "      <td>NaN</td>\n",
       "      <td>NaN</td>\n",
       "    </tr>\n",
       "    <tr>\n",
       "      <th>2</th>\n",
       "      <td>1731598</td>\n",
       "      <td>1731597</td>\n",
       "      <td>2.000</td>\n",
       "      <td>8576</td>\n",
       "      <td>8587.0</td>\n",
       "      <td>19700101</td>\n",
       "      <td>20991231.0</td>\n",
       "      <td>NaN</td>\n",
       "      <td>NaN</td>\n",
       "      <td>NaN</td>\n",
       "      <td>NaN</td>\n",
       "      <td>NaN</td>\n",
       "    </tr>\n",
       "    <tr>\n",
       "      <th>3</th>\n",
       "      <td>1396092</td>\n",
       "      <td>1396012</td>\n",
       "      <td>225.000</td>\n",
       "      <td>8576</td>\n",
       "      <td>19700101.0</td>\n",
       "      <td>20991231</td>\n",
       "      <td>NaN</td>\n",
       "      <td>NaN</td>\n",
       "      <td>NaN</td>\n",
       "      <td>NaN</td>\n",
       "      <td>NaN</td>\n",
       "      <td>NaN</td>\n",
       "    </tr>\n",
       "    <tr>\n",
       "      <th>4</th>\n",
       "      <td>1517764</td>\n",
       "      <td>1517740</td>\n",
       "      <td>0.002</td>\n",
       "      <td>8576</td>\n",
       "      <td>8587.0</td>\n",
       "      <td>19700101</td>\n",
       "      <td>20991231.0</td>\n",
       "      <td>NaN</td>\n",
       "      <td>NaN</td>\n",
       "      <td>NaN</td>\n",
       "      <td>NaN</td>\n",
       "      <td>NaN</td>\n",
       "    </tr>\n",
       "  </tbody>\n",
       "</table>\n",
       "</div>"
      ],
      "text/plain": [
       "   drug_concept_id  ingredient_concept_id  amount_value  \\\n",
       "0          1154535                1154343         0.417   \n",
       "1          1154536                1154343         0.210   \n",
       "2          1731598                1731597         2.000   \n",
       "3          1396092                1396012       225.000   \n",
       "4          1517764                1517740         0.002   \n",
       "\n",
       "   amount_unit_concept_id  numerator_value numerator_unit_concept_id  \\\n",
       "0                    8576           8587.0                  19700101   \n",
       "1                    8576           8587.0                  19700101   \n",
       "2                    8576           8587.0                  19700101   \n",
       "3                    8576       19700101.0                  20991231   \n",
       "4                    8576           8587.0                  19700101   \n",
       "\n",
       "   denominator_value  denominator_unit_concept_id  box_size  valid_start_date  \\\n",
       "0         20991231.0                          NaN       NaN               NaN   \n",
       "1         20991231.0                          NaN       NaN               NaN   \n",
       "2         20991231.0                          NaN       NaN               NaN   \n",
       "3                NaN                          NaN       NaN               NaN   \n",
       "4         20991231.0                          NaN       NaN               NaN   \n",
       "\n",
       "   valid_end_date  invalid_reason  \n",
       "0             NaN             NaN  \n",
       "1             NaN             NaN  \n",
       "2             NaN             NaN  \n",
       "3             NaN             NaN  \n",
       "4             NaN             NaN  "
      ]
     },
     "execution_count": 17,
     "metadata": {},
     "output_type": "execute_result"
    }
   ],
   "source": [
    "drug_strength = pd.read_csv('Data/DRUG_STRENGTH.csv', sep='\\s+')\n",
    "drug_strength.shape #(200983, 12)\n",
    "\n",
    "'''\n",
    "Columns (5) have mixed types. Specify dtype option on import or set low_memory=False.\n",
    "\n",
    "\n",
    "drug_concept_id                  int64\n",
    "ingredient_concept_id            int64\n",
    "amount_value                   float64\n",
    "amount_unit_concept_id           int64\n",
    "numerator_value                float64\n",
    "numerator_unit_concept_id       object\n",
    "denominator_value              float64\n",
    "denominator_unit_concept_id    float64\n",
    "box_size                       float64\n",
    "valid_start_date               float64\n",
    "valid_end_date                 float64\n",
    "invalid_reason                 float64\n",
    "'''\n",
    "\n",
    "drug_strength.head()"
   ]
  },
  {
   "cell_type": "code",
   "execution_count": 27,
   "metadata": {},
   "outputs": [
    {
     "name": "stdout",
     "output_type": "stream",
     "text": [
      "<class 'pandas.core.frame.DataFrame'>\n",
      "RangeIndex: 200983 entries, 0 to 200982\n",
      "Data columns (total 12 columns):\n",
      " #   Column                       Non-Null Count   Dtype  \n",
      "---  ------                       --------------   -----  \n",
      " 0   drug_concept_id              200983 non-null  int64  \n",
      " 1   ingredient_concept_id        200983 non-null  int64  \n",
      " 2   amount_value                 200983 non-null  float64\n",
      " 3   amount_unit_concept_id       200983 non-null  int64  \n",
      " 4   numerator_value              200983 non-null  float64\n",
      " 5   numerator_unit_concept_id    142454 non-null  object \n",
      " 6   denominator_value            79593 non-null   float64\n",
      " 7   denominator_unit_concept_id  7763 non-null    float64\n",
      " 8   box_size                     0 non-null       float64\n",
      " 9   valid_start_date             0 non-null       float64\n",
      " 10  valid_end_date               0 non-null       float64\n",
      " 11  invalid_reason               0 non-null       float64\n",
      "dtypes: float64(8), int64(3), object(1)\n",
      "memory usage: 18.4+ MB\n"
     ]
    }
   ],
   "source": [
    "drug_strength.info()\n",
    "'''\n",
    "<class 'pandas.core.frame.DataFrame'>\n",
    "RangeIndex: 200983 entries, 0 to 200982\n",
    "Data columns (total 12 columns):\n",
    " #   Column                       Non-Null Count   Dtype  \n",
    "---  ------                       --------------   -----  \n",
    " 0   drug_concept_id              200983 non-null  int64  \n",
    " 1   ingredient_concept_id        200983 non-null  int64  \n",
    " 2   amount_value                 200983 non-null  float64\n",
    " 3   amount_unit_concept_id       200983 non-null  int64  \n",
    " 4   numerator_value              200983 non-null  float64\n",
    " 5   numerator_unit_concept_id    142454 non-null  object \n",
    " 6   denominator_value            79593 non-null   float64\n",
    " 7   denominator_unit_concept_id  7763 non-null    float64\n",
    " 8   box_size                     0 non-null       float64\n",
    " 9   valid_start_date             0 non-null       float64\n",
    " 10  valid_end_date               0 non-null       float64\n",
    " 11  invalid_reason               0 non-null       float64\n",
    "dtypes: float64(8), int64(3), object(1)\n",
    "memory usage: 18.4+ MB\n",
    "'''\n"
   ]
  },
  {
   "cell_type": "code",
   "execution_count": 29,
   "metadata": {},
   "outputs": [
    {
     "data": {
      "text/html": [
       "<div>\n",
       "<style scoped>\n",
       "    .dataframe tbody tr th:only-of-type {\n",
       "        vertical-align: middle;\n",
       "    }\n",
       "\n",
       "    .dataframe tbody tr th {\n",
       "        vertical-align: top;\n",
       "    }\n",
       "\n",
       "    .dataframe thead th {\n",
       "        text-align: right;\n",
       "    }\n",
       "</style>\n",
       "<table border=\"1\" class=\"dataframe\">\n",
       "  <thead>\n",
       "    <tr style=\"text-align: right;\">\n",
       "      <th></th>\n",
       "      <th>drug_concept_id</th>\n",
       "      <th>ingredient_concept_id</th>\n",
       "      <th>amount_value</th>\n",
       "      <th>amount_unit_concept_id</th>\n",
       "      <th>numerator_value</th>\n",
       "      <th>numerator_unit_concept_id</th>\n",
       "      <th>denominator_value</th>\n",
       "      <th>denominator_unit_concept_id</th>\n",
       "      <th>box_size</th>\n",
       "      <th>valid_start_date</th>\n",
       "      <th>valid_end_date</th>\n",
       "      <th>invalid_reason</th>\n",
       "    </tr>\n",
       "  </thead>\n",
       "  <tbody>\n",
       "    <tr>\n",
       "      <th>38328</th>\n",
       "      <td>734281</td>\n",
       "      <td>734275</td>\n",
       "      <td>65.0</td>\n",
       "      <td>8576</td>\n",
       "      <td>8587.0</td>\n",
       "      <td>19700101</td>\n",
       "      <td>20991231.0</td>\n",
       "      <td>NaN</td>\n",
       "      <td>NaN</td>\n",
       "      <td>NaN</td>\n",
       "      <td>NaN</td>\n",
       "      <td>NaN</td>\n",
       "    </tr>\n",
       "  </tbody>\n",
       "</table>\n",
       "</div>"
      ],
      "text/plain": [
       "       drug_concept_id  ingredient_concept_id  amount_value  \\\n",
       "38328           734281                 734275          65.0   \n",
       "\n",
       "       amount_unit_concept_id  numerator_value numerator_unit_concept_id  \\\n",
       "38328                    8576           8587.0                  19700101   \n",
       "\n",
       "       denominator_value  denominator_unit_concept_id  box_size  \\\n",
       "38328         20991231.0                          NaN       NaN   \n",
       "\n",
       "       valid_start_date  valid_end_date  invalid_reason  \n",
       "38328               NaN             NaN             NaN  "
      ]
     },
     "execution_count": 29,
     "metadata": {},
     "output_type": "execute_result"
    }
   ],
   "source": [
    "drug_strength[drug_strength['drug_concept_id']==734281] # it works\n",
    "'''\t\n",
    "phenobarbital 65 MG/ML\n",
    "\n",
    "drug_concept_id\tingredient_concept_id\tamount_value\tamount_unit_concept_id\tnumerator_value\tnumerator_unit_concept_id\tdenominator_value\tdenominator_unit_concept_id\tbox_size\tvalid_start_date\tvalid_end_date\tinvalid_reason\n",
    "734281\t        734275\t                65.0\t            8576\t                8587.0\t    19700101\t                20991231.0\t            NaN\tNaN\tNaN\tNaN\tNaN\n",
    "8576 = mg... should be mg/ml\n",
    "8587 = mL...numeratot ! That's why. check with a TAB and others, check the numerator_unit_conceptid\n",
    "'''"
   ]
  },
  {
   "cell_type": "code",
   "execution_count": 32,
   "metadata": {},
   "outputs": [
    {
     "data": {
      "text/plain": [
       "array([    8576,     8510,     9551, 45744811,     8587,     9573,\n",
       "       45744812, 45744810,     9693, 44819154, 45744813,    32018,\n",
       "          32407, 45744814,     9278,     9439,     9367, 45744816,\n",
       "           8718,     8554, 19700101, 20050911, 20080302, 20080330,\n",
       "       20080629, 20080831, 20080928, 20090201, 20220103, 20070128,\n",
       "       20080427, 20070429, 20060514, 20060226, 20071230, 20050724,\n",
       "       20210405, 20230103, 20220801, 20060709, 20051204, 20070729,\n",
       "       20060402, 20190603, 20180205, 20060115, 20070225, 20051113,\n",
       "       20080601, 20080127, 20180402, 20070527, 20070701, 20200803,\n",
       "       20060312, 20070902, 20070401, 20060730, 20090104, 20190204,\n",
       "       20060827, 20070114, 20190903, 20190401, 20190701, 20180702,\n",
       "       20190506, 20221003, 20210802, 20180806, 20061119, 20061217,\n",
       "       20170807, 20170103, 20220307, 20070930, 20090503, 20081130,\n",
       "       20090531, 20080727, 20081109, 20060604, 20090301, 20061008,\n",
       "       20181203, 20160502, 20210503, 20160801, 20210104, 20200504,\n",
       "       20090705, 20090802, 20090906, 20091004, 20091101, 20091206,\n",
       "       20100103, 20100131, 20100228, 20100404, 20100502, 20100606,\n",
       "       20161003, 20100704, 20100801, 20100905, 20101003, 20101031,\n",
       "       20101205, 20110206, 20110306, 20110403, 20110501, 20110605,\n",
       "       20110703, 20110731, 20110904, 20111002, 20111204, 20180507,\n",
       "       20160606, 20120507, 20120604, 20120702, 20120806, 20120904,\n",
       "       20121001, 20121203, 20130107, 20130204, 20130304, 20130401,\n",
       "       20130506, 20130603, 20130701, 20130805, 20130903, 20131007,\n",
       "       20131104, 20131202, 20140106, 20140203, 20140303, 20140407,\n",
       "       20140505, 20140602, 20141201, 20150302, 20150504, 20150706,\n",
       "       20150908, 20151005])"
      ]
     },
     "execution_count": 32,
     "metadata": {},
     "output_type": "execute_result"
    }
   ],
   "source": [
    "drug_strength.numerator_value.unique() \n",
    "drug_strength.amount_unit_concept_id.unique()"
   ]
  },
  {
   "cell_type": "markdown",
   "metadata": {},
   "source": [
    "# Other RxNorm files"
   ]
  },
  {
   "cell_type": "code",
   "execution_count": 3,
   "metadata": {},
   "outputs": [
    {
     "name": "stdout",
     "output_type": "stream",
     "text": [
      "CONCEPT_CLASS.csv\n"
     ]
    },
    {
     "data": {
      "text/html": [
       "<div>\n",
       "<style scoped>\n",
       "    .dataframe tbody tr th:only-of-type {\n",
       "        vertical-align: middle;\n",
       "    }\n",
       "\n",
       "    .dataframe tbody tr th {\n",
       "        vertical-align: top;\n",
       "    }\n",
       "\n",
       "    .dataframe thead th {\n",
       "        text-align: right;\n",
       "    }\n",
       "</style>\n",
       "<table border=\"1\" class=\"dataframe\">\n",
       "  <thead>\n",
       "    <tr style=\"text-align: right;\">\n",
       "      <th></th>\n",
       "      <th>concept_class_id</th>\n",
       "      <th>concept_class_name</th>\n",
       "      <th>concept_class_concept_id</th>\n",
       "    </tr>\n",
       "  </thead>\n",
       "  <tbody>\n",
       "    <tr>\n",
       "      <th>0</th>\n",
       "      <td>Qualifier Value</td>\n",
       "      <td>Qualifier Value</td>\n",
       "      <td>44819021</td>\n",
       "    </tr>\n",
       "    <tr>\n",
       "      <th>1</th>\n",
       "      <td>Quality Metric</td>\n",
       "      <td>Quality Metric</td>\n",
       "      <td>44819092</td>\n",
       "    </tr>\n",
       "    <tr>\n",
       "      <th>2</th>\n",
       "      <td>Race</td>\n",
       "      <td>Race</td>\n",
       "      <td>44819030</td>\n",
       "    </tr>\n",
       "    <tr>\n",
       "      <th>3</th>\n",
       "      <td>Read</td>\n",
       "      <td>Read</td>\n",
       "      <td>44819273</td>\n",
       "    </tr>\n",
       "    <tr>\n",
       "      <th>4</th>\n",
       "      <td>Record Artifact</td>\n",
       "      <td>Record Artifact</td>\n",
       "      <td>44818999</td>\n",
       "    </tr>\n",
       "  </tbody>\n",
       "</table>\n",
       "</div>"
      ],
      "text/plain": [
       "  concept_class_id concept_class_name  concept_class_concept_id\n",
       "0  Qualifier Value    Qualifier Value                  44819021\n",
       "1   Quality Metric     Quality Metric                  44819092\n",
       "2             Race               Race                  44819030\n",
       "3             Read               Read                  44819273\n",
       "4  Record Artifact    Record Artifact                  44818999"
      ]
     },
     "metadata": {},
     "output_type": "display_data"
    },
    {
     "name": "stdout",
     "output_type": "stream",
     "text": [
      "CONCEPT.csv\n"
     ]
    },
    {
     "name": "stderr",
     "output_type": "stream",
     "text": [
      "/tmp/ipykernel_20524/246075802.py:34: DtypeWarning: Columns (6,9) have mixed types. Specify dtype option on import or set low_memory=False.\n",
      "  temp = pd.read_csv(f'../Downloads/vocabulary_RxNorm/{fich}', sep='\\t')\n"
     ]
    },
    {
     "data": {
      "text/html": [
       "<div>\n",
       "<style scoped>\n",
       "    .dataframe tbody tr th:only-of-type {\n",
       "        vertical-align: middle;\n",
       "    }\n",
       "\n",
       "    .dataframe tbody tr th {\n",
       "        vertical-align: top;\n",
       "    }\n",
       "\n",
       "    .dataframe thead th {\n",
       "        text-align: right;\n",
       "    }\n",
       "</style>\n",
       "<table border=\"1\" class=\"dataframe\">\n",
       "  <thead>\n",
       "    <tr style=\"text-align: right;\">\n",
       "      <th></th>\n",
       "      <th>concept_id</th>\n",
       "      <th>concept_name</th>\n",
       "      <th>domain_id</th>\n",
       "      <th>vocabulary_id</th>\n",
       "      <th>concept_class_id</th>\n",
       "      <th>standard_concept</th>\n",
       "      <th>concept_code</th>\n",
       "      <th>valid_start_date</th>\n",
       "      <th>valid_end_date</th>\n",
       "      <th>invalid_reason</th>\n",
       "    </tr>\n",
       "  </thead>\n",
       "  <tbody>\n",
       "    <tr>\n",
       "      <th>0</th>\n",
       "      <td>1146945</td>\n",
       "      <td>concept.concept_id</td>\n",
       "      <td>Metadata</td>\n",
       "      <td>CDM</td>\n",
       "      <td>Field</td>\n",
       "      <td>S</td>\n",
       "      <td>CDM1</td>\n",
       "      <td>20141111</td>\n",
       "      <td>20991231</td>\n",
       "      <td>NaN</td>\n",
       "    </tr>\n",
       "    <tr>\n",
       "      <th>1</th>\n",
       "      <td>1146954</td>\n",
       "      <td>concept.invalid_reason</td>\n",
       "      <td>Metadata</td>\n",
       "      <td>CDM</td>\n",
       "      <td>Field</td>\n",
       "      <td>S</td>\n",
       "      <td>CDM10</td>\n",
       "      <td>20141111</td>\n",
       "      <td>20991231</td>\n",
       "      <td>NaN</td>\n",
       "    </tr>\n",
       "    <tr>\n",
       "      <th>2</th>\n",
       "      <td>1147044</td>\n",
       "      <td>observation_period.observation_period_id</td>\n",
       "      <td>Metadata</td>\n",
       "      <td>CDM</td>\n",
       "      <td>Field</td>\n",
       "      <td>S</td>\n",
       "      <td>CDM100</td>\n",
       "      <td>20141111</td>\n",
       "      <td>20991231</td>\n",
       "      <td>NaN</td>\n",
       "    </tr>\n",
       "    <tr>\n",
       "      <th>3</th>\n",
       "      <td>756315</td>\n",
       "      <td>metadata.metadata_type_concept_id</td>\n",
       "      <td>Metadata</td>\n",
       "      <td>CDM</td>\n",
       "      <td>Field</td>\n",
       "      <td>S</td>\n",
       "      <td>CDM1000</td>\n",
       "      <td>20210925</td>\n",
       "      <td>20991231</td>\n",
       "      <td>NaN</td>\n",
       "    </tr>\n",
       "    <tr>\n",
       "      <th>4</th>\n",
       "      <td>756316</td>\n",
       "      <td>metadata.name</td>\n",
       "      <td>Metadata</td>\n",
       "      <td>CDM</td>\n",
       "      <td>Field</td>\n",
       "      <td>S</td>\n",
       "      <td>CDM1001</td>\n",
       "      <td>20210925</td>\n",
       "      <td>20991231</td>\n",
       "      <td>NaN</td>\n",
       "    </tr>\n",
       "  </tbody>\n",
       "</table>\n",
       "</div>"
      ],
      "text/plain": [
       "   concept_id                              concept_name domain_id  \\\n",
       "0     1146945                        concept.concept_id  Metadata   \n",
       "1     1146954                    concept.invalid_reason  Metadata   \n",
       "2     1147044  observation_period.observation_period_id  Metadata   \n",
       "3      756315         metadata.metadata_type_concept_id  Metadata   \n",
       "4      756316                             metadata.name  Metadata   \n",
       "\n",
       "  vocabulary_id concept_class_id standard_concept concept_code  \\\n",
       "0           CDM            Field                S         CDM1   \n",
       "1           CDM            Field                S        CDM10   \n",
       "2           CDM            Field                S       CDM100   \n",
       "3           CDM            Field                S      CDM1000   \n",
       "4           CDM            Field                S      CDM1001   \n",
       "\n",
       "   valid_start_date  valid_end_date invalid_reason  \n",
       "0          20141111        20991231            NaN  \n",
       "1          20141111        20991231            NaN  \n",
       "2          20141111        20991231            NaN  \n",
       "3          20210925        20991231            NaN  \n",
       "4          20210925        20991231            NaN  "
      ]
     },
     "metadata": {},
     "output_type": "display_data"
    },
    {
     "name": "stdout",
     "output_type": "stream",
     "text": [
      "CONCEPT_RELATIONSHIP.csv\n"
     ]
    },
    {
     "data": {
      "text/html": [
       "<div>\n",
       "<style scoped>\n",
       "    .dataframe tbody tr th:only-of-type {\n",
       "        vertical-align: middle;\n",
       "    }\n",
       "\n",
       "    .dataframe tbody tr th {\n",
       "        vertical-align: top;\n",
       "    }\n",
       "\n",
       "    .dataframe thead th {\n",
       "        text-align: right;\n",
       "    }\n",
       "</style>\n",
       "<table border=\"1\" class=\"dataframe\">\n",
       "  <thead>\n",
       "    <tr style=\"text-align: right;\">\n",
       "      <th></th>\n",
       "      <th>concept_id_1</th>\n",
       "      <th>concept_id_2</th>\n",
       "      <th>relationship_id</th>\n",
       "      <th>valid_start_date</th>\n",
       "      <th>valid_end_date</th>\n",
       "      <th>invalid_reason</th>\n",
       "    </tr>\n",
       "  </thead>\n",
       "  <tbody>\n",
       "    <tr>\n",
       "      <th>0</th>\n",
       "      <td>42628856</td>\n",
       "      <td>42628856</td>\n",
       "      <td>Mapped from</td>\n",
       "      <td>20160606</td>\n",
       "      <td>20991231</td>\n",
       "      <td>NaN</td>\n",
       "    </tr>\n",
       "    <tr>\n",
       "      <th>1</th>\n",
       "      <td>42628856</td>\n",
       "      <td>42628856</td>\n",
       "      <td>Maps to</td>\n",
       "      <td>20160606</td>\n",
       "      <td>20991231</td>\n",
       "      <td>NaN</td>\n",
       "    </tr>\n",
       "    <tr>\n",
       "      <th>2</th>\n",
       "      <td>42628856</td>\n",
       "      <td>42629622</td>\n",
       "      <td>Tradename of</td>\n",
       "      <td>20160606</td>\n",
       "      <td>20991231</td>\n",
       "      <td>NaN</td>\n",
       "    </tr>\n",
       "    <tr>\n",
       "      <th>3</th>\n",
       "      <td>42628856</td>\n",
       "      <td>45776706</td>\n",
       "      <td>Constitutes</td>\n",
       "      <td>20160606</td>\n",
       "      <td>20991231</td>\n",
       "      <td>NaN</td>\n",
       "    </tr>\n",
       "    <tr>\n",
       "      <th>4</th>\n",
       "      <td>42628857</td>\n",
       "      <td>1318137</td>\n",
       "      <td>RxNorm has ing</td>\n",
       "      <td>20160606</td>\n",
       "      <td>20991231</td>\n",
       "      <td>NaN</td>\n",
       "    </tr>\n",
       "  </tbody>\n",
       "</table>\n",
       "</div>"
      ],
      "text/plain": [
       "   concept_id_1  concept_id_2 relationship_id  valid_start_date  \\\n",
       "0      42628856      42628856     Mapped from          20160606   \n",
       "1      42628856      42628856         Maps to          20160606   \n",
       "2      42628856      42629622    Tradename of          20160606   \n",
       "3      42628856      45776706     Constitutes          20160606   \n",
       "4      42628857       1318137  RxNorm has ing          20160606   \n",
       "\n",
       "   valid_end_date  invalid_reason  \n",
       "0        20991231             NaN  \n",
       "1        20991231             NaN  \n",
       "2        20991231             NaN  \n",
       "3        20991231             NaN  \n",
       "4        20991231             NaN  "
      ]
     },
     "metadata": {},
     "output_type": "display_data"
    },
    {
     "name": "stdout",
     "output_type": "stream",
     "text": [
      "CONCEPT_SYNONYM.csv\n"
     ]
    },
    {
     "data": {
      "text/html": [
       "<div>\n",
       "<style scoped>\n",
       "    .dataframe tbody tr th:only-of-type {\n",
       "        vertical-align: middle;\n",
       "    }\n",
       "\n",
       "    .dataframe tbody tr th {\n",
       "        vertical-align: top;\n",
       "    }\n",
       "\n",
       "    .dataframe thead th {\n",
       "        text-align: right;\n",
       "    }\n",
       "</style>\n",
       "<table border=\"1\" class=\"dataframe\">\n",
       "  <thead>\n",
       "    <tr style=\"text-align: right;\">\n",
       "      <th></th>\n",
       "      <th>concept_id</th>\n",
       "      <th>concept_synonym_name</th>\n",
       "      <th>language_concept_id</th>\n",
       "    </tr>\n",
       "  </thead>\n",
       "  <tbody>\n",
       "    <tr>\n",
       "      <th>0</th>\n",
       "      <td>19000382</td>\n",
       "      <td>Lactobacillus bulgaricus</td>\n",
       "      <td>4180186</td>\n",
       "    </tr>\n",
       "    <tr>\n",
       "      <th>1</th>\n",
       "      <td>19000521</td>\n",
       "      <td>Lariam 250 MG Oral Tablet</td>\n",
       "      <td>4180186</td>\n",
       "    </tr>\n",
       "    <tr>\n",
       "      <th>2</th>\n",
       "      <td>19000811</td>\n",
       "      <td>Lactobacillus casei rhamnosus</td>\n",
       "      <td>4180186</td>\n",
       "    </tr>\n",
       "    <tr>\n",
       "      <th>3</th>\n",
       "      <td>19000821</td>\n",
       "      <td>sulfaisodimidine</td>\n",
       "      <td>4180186</td>\n",
       "    </tr>\n",
       "    <tr>\n",
       "      <th>4</th>\n",
       "      <td>19000824</td>\n",
       "      <td>magaldrate 800 MG per 5 ML Oral Suspension</td>\n",
       "      <td>4180186</td>\n",
       "    </tr>\n",
       "  </tbody>\n",
       "</table>\n",
       "</div>"
      ],
      "text/plain": [
       "   concept_id                        concept_synonym_name  language_concept_id\n",
       "0    19000382                    Lactobacillus bulgaricus              4180186\n",
       "1    19000521                   Lariam 250 MG Oral Tablet              4180186\n",
       "2    19000811               Lactobacillus casei rhamnosus              4180186\n",
       "3    19000821                            sulfaisodimidine              4180186\n",
       "4    19000824  magaldrate 800 MG per 5 ML Oral Suspension              4180186"
      ]
     },
     "metadata": {},
     "output_type": "display_data"
    },
    {
     "name": "stdout",
     "output_type": "stream",
     "text": [
      "DOMAIN.csv\n"
     ]
    },
    {
     "data": {
      "text/html": [
       "<div>\n",
       "<style scoped>\n",
       "    .dataframe tbody tr th:only-of-type {\n",
       "        vertical-align: middle;\n",
       "    }\n",
       "\n",
       "    .dataframe tbody tr th {\n",
       "        vertical-align: top;\n",
       "    }\n",
       "\n",
       "    .dataframe thead th {\n",
       "        text-align: right;\n",
       "    }\n",
       "</style>\n",
       "<table border=\"1\" class=\"dataframe\">\n",
       "  <thead>\n",
       "    <tr style=\"text-align: right;\">\n",
       "      <th></th>\n",
       "      <th>domain_id</th>\n",
       "      <th>domain_name</th>\n",
       "      <th>domain_concept_id</th>\n",
       "    </tr>\n",
       "  </thead>\n",
       "  <tbody>\n",
       "    <tr>\n",
       "      <th>0</th>\n",
       "      <td>Cost</td>\n",
       "      <td>Cost</td>\n",
       "      <td>581456</td>\n",
       "    </tr>\n",
       "    <tr>\n",
       "      <th>1</th>\n",
       "      <td>Condition/Device</td>\n",
       "      <td>Condition/Device</td>\n",
       "      <td>235</td>\n",
       "    </tr>\n",
       "    <tr>\n",
       "      <th>2</th>\n",
       "      <td>Gender</td>\n",
       "      <td>Gender</td>\n",
       "      <td>2</td>\n",
       "    </tr>\n",
       "    <tr>\n",
       "      <th>3</th>\n",
       "      <td>Race</td>\n",
       "      <td>Race</td>\n",
       "      <td>3</td>\n",
       "    </tr>\n",
       "    <tr>\n",
       "      <th>4</th>\n",
       "      <td>Ethnicity</td>\n",
       "      <td>Ethnicity</td>\n",
       "      <td>4</td>\n",
       "    </tr>\n",
       "  </tbody>\n",
       "</table>\n",
       "</div>"
      ],
      "text/plain": [
       "          domain_id       domain_name  domain_concept_id\n",
       "0              Cost              Cost             581456\n",
       "1  Condition/Device  Condition/Device                235\n",
       "2            Gender            Gender                  2\n",
       "3              Race              Race                  3\n",
       "4         Ethnicity         Ethnicity                  4"
      ]
     },
     "metadata": {},
     "output_type": "display_data"
    },
    {
     "name": "stdout",
     "output_type": "stream",
     "text": [
      "RELATIONSHIP.csv\n"
     ]
    },
    {
     "data": {
      "text/html": [
       "<div>\n",
       "<style scoped>\n",
       "    .dataframe tbody tr th:only-of-type {\n",
       "        vertical-align: middle;\n",
       "    }\n",
       "\n",
       "    .dataframe tbody tr th {\n",
       "        vertical-align: top;\n",
       "    }\n",
       "\n",
       "    .dataframe thead th {\n",
       "        text-align: right;\n",
       "    }\n",
       "</style>\n",
       "<table border=\"1\" class=\"dataframe\">\n",
       "  <thead>\n",
       "    <tr style=\"text-align: right;\">\n",
       "      <th></th>\n",
       "      <th>relationship_id</th>\n",
       "      <th>relationship_name</th>\n",
       "      <th>is_hierarchical</th>\n",
       "      <th>defines_ancestry</th>\n",
       "      <th>reverse_relationship_id</th>\n",
       "      <th>relationship_concept_id</th>\n",
       "    </tr>\n",
       "  </thead>\n",
       "  <tbody>\n",
       "    <tr>\n",
       "      <th>0</th>\n",
       "      <td>Has specimen proc</td>\n",
       "      <td>Has specimen procedure (SNOMED)</td>\n",
       "      <td>0</td>\n",
       "      <td>0</td>\n",
       "      <td>Specimen proc of</td>\n",
       "      <td>44818775</td>\n",
       "    </tr>\n",
       "    <tr>\n",
       "      <th>1</th>\n",
       "      <td>Has specimen source</td>\n",
       "      <td>Has specimen source identity (SNOMED)</td>\n",
       "      <td>0</td>\n",
       "      <td>0</td>\n",
       "      <td>Specimen identity of</td>\n",
       "      <td>44818776</td>\n",
       "    </tr>\n",
       "    <tr>\n",
       "      <th>2</th>\n",
       "      <td>Has specimen morph</td>\n",
       "      <td>Has specimen source morphology (SNOMED)</td>\n",
       "      <td>0</td>\n",
       "      <td>0</td>\n",
       "      <td>Specimen morph of</td>\n",
       "      <td>44818777</td>\n",
       "    </tr>\n",
       "    <tr>\n",
       "      <th>3</th>\n",
       "      <td>Has specimen topo</td>\n",
       "      <td>Has specimen source topography (SNOMED)</td>\n",
       "      <td>0</td>\n",
       "      <td>0</td>\n",
       "      <td>Specimen topo of</td>\n",
       "      <td>44818778</td>\n",
       "    </tr>\n",
       "    <tr>\n",
       "      <th>4</th>\n",
       "      <td>Has specimen subst</td>\n",
       "      <td>Has specimen substance (SNOMED)</td>\n",
       "      <td>0</td>\n",
       "      <td>0</td>\n",
       "      <td>Specimen subst of</td>\n",
       "      <td>44818779</td>\n",
       "    </tr>\n",
       "  </tbody>\n",
       "</table>\n",
       "</div>"
      ],
      "text/plain": [
       "       relationship_id                        relationship_name  \\\n",
       "0    Has specimen proc          Has specimen procedure (SNOMED)   \n",
       "1  Has specimen source    Has specimen source identity (SNOMED)   \n",
       "2   Has specimen morph  Has specimen source morphology (SNOMED)   \n",
       "3    Has specimen topo  Has specimen source topography (SNOMED)   \n",
       "4   Has specimen subst          Has specimen substance (SNOMED)   \n",
       "\n",
       "   is_hierarchical  defines_ancestry reverse_relationship_id  \\\n",
       "0                0                 0        Specimen proc of   \n",
       "1                0                 0    Specimen identity of   \n",
       "2                0                 0       Specimen morph of   \n",
       "3                0                 0        Specimen topo of   \n",
       "4                0                 0       Specimen subst of   \n",
       "\n",
       "   relationship_concept_id  \n",
       "0                 44818775  \n",
       "1                 44818776  \n",
       "2                 44818777  \n",
       "3                 44818778  \n",
       "4                 44818779  "
      ]
     },
     "metadata": {},
     "output_type": "display_data"
    },
    {
     "name": "stdout",
     "output_type": "stream",
     "text": [
      "VOCABULARY.csv\n"
     ]
    },
    {
     "data": {
      "text/html": [
       "<div>\n",
       "<style scoped>\n",
       "    .dataframe tbody tr th:only-of-type {\n",
       "        vertical-align: middle;\n",
       "    }\n",
       "\n",
       "    .dataframe tbody tr th {\n",
       "        vertical-align: top;\n",
       "    }\n",
       "\n",
       "    .dataframe thead th {\n",
       "        text-align: right;\n",
       "    }\n",
       "</style>\n",
       "<table border=\"1\" class=\"dataframe\">\n",
       "  <thead>\n",
       "    <tr style=\"text-align: right;\">\n",
       "      <th></th>\n",
       "      <th>vocabulary_id</th>\n",
       "      <th>vocabulary_name</th>\n",
       "      <th>vocabulary_reference</th>\n",
       "      <th>vocabulary_version</th>\n",
       "      <th>vocabulary_concept_id</th>\n",
       "    </tr>\n",
       "  </thead>\n",
       "  <tbody>\n",
       "    <tr>\n",
       "      <th>0</th>\n",
       "      <td>SOPT</td>\n",
       "      <td>Source of Payment Typology (PHDSC)</td>\n",
       "      <td>https://www.nahdo.org/sopt</td>\n",
       "      <td>SOPT Version 9.2</td>\n",
       "      <td>32473</td>\n",
       "    </tr>\n",
       "    <tr>\n",
       "      <th>1</th>\n",
       "      <td>Episode</td>\n",
       "      <td>OMOP Episode</td>\n",
       "      <td>OMOP generated</td>\n",
       "      <td>Episode 20201014</td>\n",
       "      <td>32523</td>\n",
       "    </tr>\n",
       "    <tr>\n",
       "      <th>2</th>\n",
       "      <td>Observation Type</td>\n",
       "      <td>OMOP Observation Type</td>\n",
       "      <td>OMOP generated</td>\n",
       "      <td>NaN</td>\n",
       "      <td>44819129</td>\n",
       "    </tr>\n",
       "    <tr>\n",
       "      <th>3</th>\n",
       "      <td>Procedure Type</td>\n",
       "      <td>OMOP Procedure Occurrence Type</td>\n",
       "      <td>OMOP generated</td>\n",
       "      <td>NaN</td>\n",
       "      <td>44819128</td>\n",
       "    </tr>\n",
       "    <tr>\n",
       "      <th>4</th>\n",
       "      <td>Meas Type</td>\n",
       "      <td>OMOP Measurement Type</td>\n",
       "      <td>OMOP generated</td>\n",
       "      <td>NaN</td>\n",
       "      <td>44819152</td>\n",
       "    </tr>\n",
       "  </tbody>\n",
       "</table>\n",
       "</div>"
      ],
      "text/plain": [
       "      vocabulary_id                     vocabulary_name  \\\n",
       "0              SOPT  Source of Payment Typology (PHDSC)   \n",
       "1           Episode                        OMOP Episode   \n",
       "2  Observation Type               OMOP Observation Type   \n",
       "3    Procedure Type      OMOP Procedure Occurrence Type   \n",
       "4         Meas Type               OMOP Measurement Type   \n",
       "\n",
       "         vocabulary_reference vocabulary_version  vocabulary_concept_id  \n",
       "0  https://www.nahdo.org/sopt   SOPT Version 9.2                  32473  \n",
       "1              OMOP generated   Episode 20201014                  32523  \n",
       "2              OMOP generated                NaN               44819129  \n",
       "3              OMOP generated                NaN               44819128  \n",
       "4              OMOP generated                NaN               44819152  "
      ]
     },
     "metadata": {},
     "output_type": "display_data"
    }
   ],
   "source": [
    "#temp = pd.read_csv('../Downloads/vocabulary_download_v5_{e387ec98-436f-4ec5-9c97-5da7c14b445d}_1710335286650/CONCEPT_ANCESTOR.csv', sep='\\s+')\n",
    "'''\n",
    "# CONCEPT_ANCESTOR.csv _ don't care, this is:\n",
    "ancestor_concept_id\tdescendant_concept_id\tmin_levels_of_separation\tmax_levels_of_separation\n",
    "0\t742267\t40172924\t2\t3\n",
    "1\t701449\t1525417\t1\t1\n",
    "\n",
    "  CONCEPT_CLASS.csv  _\n",
    "  concept_class_id\tconcept_class_name\tconcept_class_concept_id\n",
    "0\tQualifier Value\tQualifier Value\t44819021\n",
    "1\tQuality Metric\tQuality Metric\t44819092\n",
    "  \n",
    "  CONCEPT.csv  \n",
    "  concept_id\tconcept_name\tdomain_id\tvocabulary_id\tconcept_class_id\tstandard_concept\tconcept_code\tvalid_start_date\tvalid_end_date\tinvalid_reason\n",
    "0\t1146945\tconcept.concept_id\tMetadata\tCDM\tField\tS\tCDM1\t20141111\t20991231\tNaN\n",
    "1\t1146954\tconcept.invalid_reason\tMetadata\tCDM\tField\tS\tCDM10\t20141111\t20991231\t\n",
    "shape (516708, 10)\n",
    "\n",
    "concept[concept.concept_name == 'numerator_value'] # cannot find it\n",
    "\n",
    "  CONCEPT_RELATIONSHIP.csv  \n",
    "  concept_id_1\tconcept_id_2\trelationship_id\tvalid_start_date\tvalid_end_date\tinvalid_reason\n",
    "0\t42628856\t42628856\tMapped from\t20160606\t20991231\tNaN\n",
    "1\t42628856\t42628856\tMaps to\t20160606\t20991231\tNaN\n",
    "\n",
    "  CONCEPT_SYNONYM.csv  \n",
    "  concept_id\tconcept_synonym_name\tlanguage_concept_id\n",
    "0\t19000382\tLactobacillus bulgaricus\t4180186\n",
    "1\t19000521\tLariam 250 MG Oral Tablet\t4180186\n",
    "(113673, 3)\n",
    "\n",
    "  DOMAIN.csv sep='\\t'\n",
    "domain_id\tdomain_name\tdomain_concept_id\n",
    "0\tCost\tCost\t581456\n",
    "1\tCondition/Device\tCondition/Device\t235\n",
    "2\tGender\tGender\t2\n",
    "\n",
    " DRUG_STRENGTH.csv  \\s+\n",
    " \n",
    " RELATIONSHIP.csv  \n",
    " relationship_id\trelationship_name\tis_hierarchical\tdefines_ancestry\treverse_relationship_id\trelationship_concept_id\n",
    "0\tHas specimen proc\tHas specimen procedure (SNOMED)\t0\t0\tSpecimen proc of\t44818775\n",
    "1\tHas specimen source\tHas specimen source identity (SNOMED)\t0\t0\tSpecimen identity of\t44818776\n",
    "2\tHas specimen morph\tHas specimen source morphology (SNOMED)\t0\t0\tSpecimen morph of\t44818777\n",
    " \n",
    " VOCABULARY.csv\n",
    "vocabulary_id\tvocabulary_name\tvocabulary_reference\tvocabulary_version\tvocabulary_concept_id\n",
    "0\tSOPT\tSource of Payment Typology (PHDSC)\thttps://www.nahdo.org/sopt\tSOPT Version 9.2\t32473\n",
    "1\tEpisode\tOMOP Episode\tOMOP generated\tEpisode 20201014\t32523\n",
    "2\tObservation Type\tOMOP Observation Type\tOMOP generated\tNaN\t44819129\n",
    "shape (38, 5)\n",
    "\n",
    "\n",
    "'''\n",
    "\n",
    "\n",
    "liste = ['CONCEPT_CLASS.csv', 'CONCEPT.csv','CONCEPT_RELATIONSHIP.csv','CONCEPT_SYNONYM.csv','DOMAIN.csv','RELATIONSHIP.csv', 'VOCABULARY.csv']\n",
    "\n",
    "for fich in liste:\n",
    "    print(fich)\n",
    "    temp = pd.read_csv(f'../Downloads/vocabulary_RxNorm/{fich}', sep='\\t')\n",
    "    display(temp.head())"
   ]
  },
  {
   "cell_type": "code",
   "execution_count": 15,
   "metadata": {},
   "outputs": [
    {
     "name": "stderr",
     "output_type": "stream",
     "text": [
      "/tmp/ipykernel_20524/2293929783.py:2: DtypeWarning: Columns (6,9) have mixed types. Specify dtype option on import or set low_memory=False.\n",
      "  concept = pd.read_csv('../Downloads/vocabulary_RxNorm/CONCEPT.csv', sep='\\t')\n"
     ]
    },
    {
     "data": {
      "text/plain": [
       "(516708, 10)"
      ]
     },
     "execution_count": 15,
     "metadata": {},
     "output_type": "execute_result"
    }
   ],
   "source": [
    "#fich = ['CONCEPT.csv']\n",
    "concept = pd.read_csv('../Downloads/vocabulary_RxNorm/CONCEPT.csv', sep='\\t')\n",
    "concept.shape"
   ]
  },
  {
   "cell_type": "code",
   "execution_count": 17,
   "metadata": {},
   "outputs": [
    {
     "data": {
      "text/html": [
       "<div>\n",
       "<style scoped>\n",
       "    .dataframe tbody tr th:only-of-type {\n",
       "        vertical-align: middle;\n",
       "    }\n",
       "\n",
       "    .dataframe tbody tr th {\n",
       "        vertical-align: top;\n",
       "    }\n",
       "\n",
       "    .dataframe thead th {\n",
       "        text-align: right;\n",
       "    }\n",
       "</style>\n",
       "<table border=\"1\" class=\"dataframe\">\n",
       "  <thead>\n",
       "    <tr style=\"text-align: right;\">\n",
       "      <th></th>\n",
       "      <th>concept_id</th>\n",
       "      <th>concept_name</th>\n",
       "      <th>domain_id</th>\n",
       "      <th>vocabulary_id</th>\n",
       "      <th>concept_class_id</th>\n",
       "      <th>standard_concept</th>\n",
       "      <th>concept_code</th>\n",
       "      <th>valid_start_date</th>\n",
       "      <th>valid_end_date</th>\n",
       "      <th>invalid_reason</th>\n",
       "    </tr>\n",
       "  </thead>\n",
       "  <tbody>\n",
       "  </tbody>\n",
       "</table>\n",
       "</div>"
      ],
      "text/plain": [
       "Empty DataFrame\n",
       "Columns: [concept_id, concept_name, domain_id, vocabulary_id, concept_class_id, standard_concept, concept_code, valid_start_date, valid_end_date, invalid_reason]\n",
       "Index: []"
      ]
     },
     "execution_count": 17,
     "metadata": {},
     "output_type": "execute_result"
    }
   ],
   "source": [
    "concept[concept.concept_name == 'amount_unit_concept_id'] # cannot find it"
   ]
  },
  {
   "cell_type": "code",
   "execution_count": 4,
   "metadata": {},
   "outputs": [
    {
     "data": {
      "text/html": [
       "<div>\n",
       "<style scoped>\n",
       "    .dataframe tbody tr th:only-of-type {\n",
       "        vertical-align: middle;\n",
       "    }\n",
       "\n",
       "    .dataframe tbody tr th {\n",
       "        vertical-align: top;\n",
       "    }\n",
       "\n",
       "    .dataframe thead th {\n",
       "        text-align: right;\n",
       "    }\n",
       "</style>\n",
       "<table border=\"1\" class=\"dataframe\">\n",
       "  <thead>\n",
       "    <tr style=\"text-align: right;\">\n",
       "      <th></th>\n",
       "      <th>concept_id</th>\n",
       "      <th>concept_synonym_name</th>\n",
       "      <th>language_concept_id</th>\n",
       "    </tr>\n",
       "  </thead>\n",
       "  <tbody>\n",
       "    <tr>\n",
       "      <th>0</th>\n",
       "      <td>19000382</td>\n",
       "      <td>Lactobacillus bulgaricus</td>\n",
       "      <td>4180186</td>\n",
       "    </tr>\n",
       "    <tr>\n",
       "      <th>1</th>\n",
       "      <td>19000521</td>\n",
       "      <td>Lariam 250 MG Oral Tablet</td>\n",
       "      <td>4180186</td>\n",
       "    </tr>\n",
       "    <tr>\n",
       "      <th>2</th>\n",
       "      <td>19000811</td>\n",
       "      <td>Lactobacillus casei rhamnosus</td>\n",
       "      <td>4180186</td>\n",
       "    </tr>\n",
       "    <tr>\n",
       "      <th>3</th>\n",
       "      <td>19000821</td>\n",
       "      <td>sulfaisodimidine</td>\n",
       "      <td>4180186</td>\n",
       "    </tr>\n",
       "    <tr>\n",
       "      <th>4</th>\n",
       "      <td>19000824</td>\n",
       "      <td>magaldrate 800 MG per 5 ML Oral Suspension</td>\n",
       "      <td>4180186</td>\n",
       "    </tr>\n",
       "  </tbody>\n",
       "</table>\n",
       "</div>"
      ],
      "text/plain": [
       "   concept_id                        concept_synonym_name  language_concept_id\n",
       "0    19000382                    Lactobacillus bulgaricus              4180186\n",
       "1    19000521                   Lariam 250 MG Oral Tablet              4180186\n",
       "2    19000811               Lactobacillus casei rhamnosus              4180186\n",
       "3    19000821                            sulfaisodimidine              4180186\n",
       "4    19000824  magaldrate 800 MG per 5 ML Oral Suspension              4180186"
      ]
     },
     "execution_count": 4,
     "metadata": {},
     "output_type": "execute_result"
    }
   ],
   "source": [
    "syn = pd.read_csv(f'../Downloads/vocabulary_RxNorm/CONCEPT_SYNONYM.csv', sep='\\t')\n",
    "syn.head()"
   ]
  },
  {
   "cell_type": "code",
   "execution_count": 10,
   "metadata": {},
   "outputs": [
    {
     "data": {
      "text/html": [
       "<div>\n",
       "<style scoped>\n",
       "    .dataframe tbody tr th:only-of-type {\n",
       "        vertical-align: middle;\n",
       "    }\n",
       "\n",
       "    .dataframe tbody tr th {\n",
       "        vertical-align: top;\n",
       "    }\n",
       "\n",
       "    .dataframe thead th {\n",
       "        text-align: right;\n",
       "    }\n",
       "</style>\n",
       "<table border=\"1\" class=\"dataframe\">\n",
       "  <thead>\n",
       "    <tr style=\"text-align: right;\">\n",
       "      <th></th>\n",
       "      <th>concept_id</th>\n",
       "      <th>concept_synonym_name</th>\n",
       "      <th>language_concept_id</th>\n",
       "    </tr>\n",
       "  </thead>\n",
       "  <tbody>\n",
       "  </tbody>\n",
       "</table>\n",
       "</div>"
      ],
      "text/plain": [
       "Empty DataFrame\n",
       "Columns: [concept_id, concept_synonym_name, language_concept_id]\n",
       "Index: []"
      ]
     },
     "execution_count": 10,
     "metadata": {},
     "output_type": "execute_result"
    }
   ],
   "source": [
    "syn.loc[syn.concept_id == 723020] # None\n",
    "syn.loc[syn.language_concept_id == 44819021] # None\n",
    "syn.loc[syn.concept_id == 8576] # None\n",
    "syn.loc[syn.language_concept_id == 8576] # None\n",
    "syn.loc[syn.concept_id == 8576] # None\n",
    "syn.loc[syn.concept_id == 40232756] # None\n",
    "'''\n",
    "8576\tmg\tmilligram\tUnit\tStandard\tValid\tUnit\tUCUM\n",
    "'''"
   ]
  },
  {
   "cell_type": "code",
   "execution_count": 65,
   "metadata": {},
   "outputs": [
    {
     "data": {
      "text/html": [
       "<div>\n",
       "<style scoped>\n",
       "    .dataframe tbody tr th:only-of-type {\n",
       "        vertical-align: middle;\n",
       "    }\n",
       "\n",
       "    .dataframe tbody tr th {\n",
       "        vertical-align: top;\n",
       "    }\n",
       "\n",
       "    .dataframe thead th {\n",
       "        text-align: right;\n",
       "    }\n",
       "</style>\n",
       "<table border=\"1\" class=\"dataframe\">\n",
       "  <thead>\n",
       "    <tr style=\"text-align: right;\">\n",
       "      <th></th>\n",
       "      <th>concept_id</th>\n",
       "      <th>concept_synonym_name</th>\n",
       "      <th>language_concept_id</th>\n",
       "    </tr>\n",
       "  </thead>\n",
       "  <tbody>\n",
       "  </tbody>\n",
       "</table>\n",
       "</div>"
      ],
      "text/plain": [
       "Empty DataFrame\n",
       "Columns: [concept_id, concept_synonym_name, language_concept_id]\n",
       "Index: []"
      ]
     },
     "execution_count": 65,
     "metadata": {},
     "output_type": "execute_result"
    }
   ],
   "source": [
    "syn.loc[syn.concept_id == 40232756] # None\n"
   ]
  },
  {
   "cell_type": "markdown",
   "metadata": {},
   "source": [
    "## 2b_concept, 2b_concept_relationship\n",
    "5.2.2 Concept Names\n",
    "\n",
    "Each concept has one name. Names are always in English. They are imported from the source of the vocabulary. If the source vocabulary has more than one name, the most expressive is selected and the remaining ones are stored in the CONCEPT_SYNONYM table under the same CONCEPT_ID key. Non-English names are recorded in CONCEPT_SYNONYM as well, with the appropriate language concept ID in the LANGUAGE_CONCEPT_ID field. The name is 255 characters long, which means that very long names get truncated and the full-length version recorded as another synonym, which can hold up to 1000 characters.  \n",
    "\n",
    "\n",
    "measurement = 1 measrment/1 person at a certain time.... Not OK !\n",
    "\n",
    "START_DATE, END_DATE, INVALID_REASON are refering to the drug and the name of the drug. Not its expiration date.\n",
    "\n",
    "**Each concept is assigned a domain in the DOMAIN_ID field**, which in contrast to the numerical CONCEPT_ID is a short case-sensitive unique alphanumeric ID for the domain.\n"
   ]
  },
  {
   "cell_type": "code",
   "execution_count": 12,
   "metadata": {},
   "outputs": [
    {
     "name": "stdout",
     "output_type": "stream",
     "text": [
      "2b_concept.csv\n"
     ]
    },
    {
     "data": {
      "text/html": [
       "<div>\n",
       "<style scoped>\n",
       "    .dataframe tbody tr th:only-of-type {\n",
       "        vertical-align: middle;\n",
       "    }\n",
       "\n",
       "    .dataframe tbody tr th {\n",
       "        vertical-align: top;\n",
       "    }\n",
       "\n",
       "    .dataframe thead th {\n",
       "        text-align: right;\n",
       "    }\n",
       "</style>\n",
       "<table border=\"1\" class=\"dataframe\">\n",
       "  <thead>\n",
       "    <tr style=\"text-align: right;\">\n",
       "      <th></th>\n",
       "      <th>concept_id</th>\n",
       "      <th>concept_name</th>\n",
       "      <th>domain_id</th>\n",
       "      <th>vocabulary_id</th>\n",
       "      <th>concept_class_id</th>\n",
       "      <th>standard_concept</th>\n",
       "      <th>concept_code</th>\n",
       "      <th>valid_start_DATE</th>\n",
       "      <th>valid_end_DATE</th>\n",
       "      <th>invalid_reason</th>\n",
       "    </tr>\n",
       "  </thead>\n",
       "  <tbody>\n",
       "    <tr>\n",
       "      <th>0</th>\n",
       "      <td>2000011360</td>\n",
       "      <td>Caffeine Citrate 1 Syringe</td>\n",
       "      <td>Drug</td>\n",
       "      <td>mimiciv_drug_ndc</td>\n",
       "      <td>Prescription Drug</td>\n",
       "      <td>NaN</td>\n",
       "      <td>Caffeine Citrate 1 Syringe</td>\n",
       "      <td>1970-01-01</td>\n",
       "      <td>2099-12-31</td>\n",
       "      <td>NaN</td>\n",
       "    </tr>\n",
       "    <tr>\n",
       "      <th>1</th>\n",
       "      <td>2000010536</td>\n",
       "      <td>Acetaminophen</td>\n",
       "      <td>Drug</td>\n",
       "      <td>mimiciv_drug_ndc</td>\n",
       "      <td>Prescription Drug</td>\n",
       "      <td>NaN</td>\n",
       "      <td>ACETAMINOPHEN (RECTAL)</td>\n",
       "      <td>1970-01-01</td>\n",
       "      <td>2099-12-31</td>\n",
       "      <td>NaN</td>\n",
       "    </tr>\n",
       "    <tr>\n",
       "      <th>2</th>\n",
       "      <td>2000011213</td>\n",
       "      <td>Melatonin 1 MG</td>\n",
       "      <td>Drug</td>\n",
       "      <td>mimiciv_drug_ndc</td>\n",
       "      <td>Prescription Drug</td>\n",
       "      <td>NaN</td>\n",
       "      <td>melatonin 1</td>\n",
       "      <td>1970-01-01</td>\n",
       "      <td>2099-12-31</td>\n",
       "      <td>NaN</td>\n",
       "    </tr>\n",
       "    <tr>\n",
       "      <th>3</th>\n",
       "      <td>2000011355</td>\n",
       "      <td>0.9% Sodium Chloride 100 mL Bag</td>\n",
       "      <td>Drug</td>\n",
       "      <td>mimiciv_drug_ndc</td>\n",
       "      <td>Prescription Drug</td>\n",
       "      <td>NaN</td>\n",
       "      <td>0.9% Sodium Chloride 100 mL Bag</td>\n",
       "      <td>1970-01-01</td>\n",
       "      <td>2099-12-31</td>\n",
       "      <td>NaN</td>\n",
       "    </tr>\n",
       "    <tr>\n",
       "      <th>4</th>\n",
       "      <td>2000010313</td>\n",
       "      <td>Vancomycin</td>\n",
       "      <td>Drug</td>\n",
       "      <td>mimiciv_drug_ndc</td>\n",
       "      <td>Prescription Drug</td>\n",
       "      <td>NaN</td>\n",
       "      <td>Vancomycin ophthalmic 50mg/ml bottle</td>\n",
       "      <td>1970-01-01</td>\n",
       "      <td>2099-12-31</td>\n",
       "      <td>NaN</td>\n",
       "    </tr>\n",
       "  </tbody>\n",
       "</table>\n",
       "</div>"
      ],
      "text/plain": [
       "   concept_id                     concept_name domain_id     vocabulary_id  \\\n",
       "0  2000011360       Caffeine Citrate 1 Syringe      Drug  mimiciv_drug_ndc   \n",
       "1  2000010536                    Acetaminophen      Drug  mimiciv_drug_ndc   \n",
       "2  2000011213                   Melatonin 1 MG      Drug  mimiciv_drug_ndc   \n",
       "3  2000011355  0.9% Sodium Chloride 100 mL Bag      Drug  mimiciv_drug_ndc   \n",
       "4  2000010313                       Vancomycin      Drug  mimiciv_drug_ndc   \n",
       "\n",
       "    concept_class_id standard_concept                          concept_code  \\\n",
       "0  Prescription Drug              NaN            Caffeine Citrate 1 Syringe   \n",
       "1  Prescription Drug              NaN               ACETAMINOPHEN (RECTAL)    \n",
       "2  Prescription Drug              NaN                           melatonin 1   \n",
       "3  Prescription Drug              NaN       0.9% Sodium Chloride 100 mL Bag   \n",
       "4  Prescription Drug              NaN  Vancomycin ophthalmic 50mg/ml bottle   \n",
       "\n",
       "  valid_start_DATE valid_end_DATE  invalid_reason  \n",
       "0       1970-01-01     2099-12-31             NaN  \n",
       "1       1970-01-01     2099-12-31             NaN  \n",
       "2       1970-01-01     2099-12-31             NaN  \n",
       "3       1970-01-01     2099-12-31             NaN  \n",
       "4       1970-01-01     2099-12-31             NaN  "
      ]
     },
     "metadata": {},
     "output_type": "display_data"
    },
    {
     "name": "stdout",
     "output_type": "stream",
     "text": [
      "cohort_attribute.csv\n"
     ]
    },
    {
     "data": {
      "text/html": [
       "<div>\n",
       "<style scoped>\n",
       "    .dataframe tbody tr th:only-of-type {\n",
       "        vertical-align: middle;\n",
       "    }\n",
       "\n",
       "    .dataframe tbody tr th {\n",
       "        vertical-align: top;\n",
       "    }\n",
       "\n",
       "    .dataframe thead th {\n",
       "        text-align: right;\n",
       "    }\n",
       "</style>\n",
       "<table border=\"1\" class=\"dataframe\">\n",
       "  <thead>\n",
       "    <tr style=\"text-align: right;\">\n",
       "      <th></th>\n",
       "      <th>cohort_definition_id</th>\n",
       "      <th>subject_id</th>\n",
       "      <th>cohort_start_date</th>\n",
       "      <th>cohort_end_date</th>\n",
       "      <th>attribute_definition_id</th>\n",
       "      <th>value_as_number</th>\n",
       "      <th>value_as_concept_id</th>\n",
       "    </tr>\n",
       "  </thead>\n",
       "  <tbody>\n",
       "  </tbody>\n",
       "</table>\n",
       "</div>"
      ],
      "text/plain": [
       "Empty DataFrame\n",
       "Columns: [cohort_definition_id, subject_id, cohort_start_date, cohort_end_date, attribute_definition_id, value_as_number, value_as_concept_id]\n",
       "Index: []"
      ]
     },
     "metadata": {},
     "output_type": "display_data"
    },
    {
     "name": "stdout",
     "output_type": "stream",
     "text": [
      "death.csv\n"
     ]
    },
    {
     "data": {
      "text/html": [
       "<div>\n",
       "<style scoped>\n",
       "    .dataframe tbody tr th:only-of-type {\n",
       "        vertical-align: middle;\n",
       "    }\n",
       "\n",
       "    .dataframe tbody tr th {\n",
       "        vertical-align: top;\n",
       "    }\n",
       "\n",
       "    .dataframe thead th {\n",
       "        text-align: right;\n",
       "    }\n",
       "</style>\n",
       "<table border=\"1\" class=\"dataframe\">\n",
       "  <thead>\n",
       "    <tr style=\"text-align: right;\">\n",
       "      <th></th>\n",
       "      <th>person_id</th>\n",
       "      <th>death_date</th>\n",
       "      <th>death_datetime</th>\n",
       "      <th>death_type_concept_id</th>\n",
       "      <th>cause_concept_id</th>\n",
       "      <th>cause_source_value</th>\n",
       "      <th>cause_source_concept_id</th>\n",
       "    </tr>\n",
       "  </thead>\n",
       "  <tbody>\n",
       "    <tr>\n",
       "      <th>0</th>\n",
       "      <td>-2312013739856114142</td>\n",
       "      <td>2116-07-05</td>\n",
       "      <td>2116-07-05 08:05:00</td>\n",
       "      <td>32817</td>\n",
       "      <td>0</td>\n",
       "      <td>NaN</td>\n",
       "      <td>0</td>\n",
       "    </tr>\n",
       "    <tr>\n",
       "      <th>1</th>\n",
       "      <td>-7671795861352464589</td>\n",
       "      <td>2115-10-12</td>\n",
       "      <td>2115-10-12 00:00:00</td>\n",
       "      <td>32817</td>\n",
       "      <td>0</td>\n",
       "      <td>NaN</td>\n",
       "      <td>0</td>\n",
       "    </tr>\n",
       "    <tr>\n",
       "      <th>2</th>\n",
       "      <td>1194579079287927665</td>\n",
       "      <td>2177-03-29</td>\n",
       "      <td>2177-03-29 14:15:00</td>\n",
       "      <td>32817</td>\n",
       "      <td>0</td>\n",
       "      <td>NaN</td>\n",
       "      <td>0</td>\n",
       "    </tr>\n",
       "    <tr>\n",
       "      <th>3</th>\n",
       "      <td>579254014084392336</td>\n",
       "      <td>2117-03-24</td>\n",
       "      <td>2117-03-24 00:01:00</td>\n",
       "      <td>32817</td>\n",
       "      <td>0</td>\n",
       "      <td>NaN</td>\n",
       "      <td>0</td>\n",
       "    </tr>\n",
       "    <tr>\n",
       "      <th>4</th>\n",
       "      <td>-4353160957725823366</td>\n",
       "      <td>2146-07-12</td>\n",
       "      <td>2146-07-12 00:00:00</td>\n",
       "      <td>32817</td>\n",
       "      <td>0</td>\n",
       "      <td>NaN</td>\n",
       "      <td>0</td>\n",
       "    </tr>\n",
       "  </tbody>\n",
       "</table>\n",
       "</div>"
      ],
      "text/plain": [
       "             person_id  death_date       death_datetime  \\\n",
       "0 -2312013739856114142  2116-07-05  2116-07-05 08:05:00   \n",
       "1 -7671795861352464589  2115-10-12  2115-10-12 00:00:00   \n",
       "2  1194579079287927665  2177-03-29  2177-03-29 14:15:00   \n",
       "3   579254014084392336  2117-03-24  2117-03-24 00:01:00   \n",
       "4 -4353160957725823366  2146-07-12  2146-07-12 00:00:00   \n",
       "\n",
       "   death_type_concept_id  cause_concept_id  cause_source_value  \\\n",
       "0                  32817                 0                 NaN   \n",
       "1                  32817                 0                 NaN   \n",
       "2                  32817                 0                 NaN   \n",
       "3                  32817                 0                 NaN   \n",
       "4                  32817                 0                 NaN   \n",
       "\n",
       "   cause_source_concept_id  \n",
       "0                        0  \n",
       "1                        0  \n",
       "2                        0  \n",
       "3                        0  \n",
       "4                        0  "
      ]
     },
     "metadata": {},
     "output_type": "display_data"
    },
    {
     "name": "stdout",
     "output_type": "stream",
     "text": [
      "location.csv\n"
     ]
    },
    {
     "data": {
      "text/html": [
       "<div>\n",
       "<style scoped>\n",
       "    .dataframe tbody tr th:only-of-type {\n",
       "        vertical-align: middle;\n",
       "    }\n",
       "\n",
       "    .dataframe tbody tr th {\n",
       "        vertical-align: top;\n",
       "    }\n",
       "\n",
       "    .dataframe thead th {\n",
       "        text-align: right;\n",
       "    }\n",
       "</style>\n",
       "<table border=\"1\" class=\"dataframe\">\n",
       "  <thead>\n",
       "    <tr style=\"text-align: right;\">\n",
       "      <th></th>\n",
       "      <th>location_id</th>\n",
       "      <th>address_1</th>\n",
       "      <th>address_2</th>\n",
       "      <th>city</th>\n",
       "      <th>state</th>\n",
       "      <th>zip</th>\n",
       "      <th>county</th>\n",
       "      <th>location_source_value</th>\n",
       "    </tr>\n",
       "  </thead>\n",
       "  <tbody>\n",
       "    <tr>\n",
       "      <th>0</th>\n",
       "      <td>1</td>\n",
       "      <td>NaN</td>\n",
       "      <td>NaN</td>\n",
       "      <td>NaN</td>\n",
       "      <td>MA</td>\n",
       "      <td>NaN</td>\n",
       "      <td>NaN</td>\n",
       "      <td>Beth Israel Hospital</td>\n",
       "    </tr>\n",
       "  </tbody>\n",
       "</table>\n",
       "</div>"
      ],
      "text/plain": [
       "   location_id  address_1  address_2  city state  zip  county  \\\n",
       "0            1        NaN        NaN   NaN    MA  NaN     NaN   \n",
       "\n",
       "  location_source_value  \n",
       "0  Beth Israel Hospital  "
      ]
     },
     "metadata": {},
     "output_type": "display_data"
    },
    {
     "name": "stdout",
     "output_type": "stream",
     "text": [
      "observation_period.csv\n"
     ]
    },
    {
     "data": {
      "text/html": [
       "<div>\n",
       "<style scoped>\n",
       "    .dataframe tbody tr th:only-of-type {\n",
       "        vertical-align: middle;\n",
       "    }\n",
       "\n",
       "    .dataframe tbody tr th {\n",
       "        vertical-align: top;\n",
       "    }\n",
       "\n",
       "    .dataframe thead th {\n",
       "        text-align: right;\n",
       "    }\n",
       "</style>\n",
       "<table border=\"1\" class=\"dataframe\">\n",
       "  <thead>\n",
       "    <tr style=\"text-align: right;\">\n",
       "      <th></th>\n",
       "      <th>observation_period_id</th>\n",
       "      <th>person_id</th>\n",
       "      <th>observation_period_start_date</th>\n",
       "      <th>observation_period_end_date</th>\n",
       "      <th>period_type_concept_id</th>\n",
       "    </tr>\n",
       "  </thead>\n",
       "  <tbody>\n",
       "    <tr>\n",
       "      <th>0</th>\n",
       "      <td>-422211212329812262</td>\n",
       "      <td>-7391666713304457659</td>\n",
       "      <td>2110-11-30</td>\n",
       "      <td>2110-12-10</td>\n",
       "      <td>32828</td>\n",
       "    </tr>\n",
       "    <tr>\n",
       "      <th>1</th>\n",
       "      <td>-4759444374091930779</td>\n",
       "      <td>-8254164865273971123</td>\n",
       "      <td>2150-03-05</td>\n",
       "      <td>2151-01-25</td>\n",
       "      <td>32828</td>\n",
       "    </tr>\n",
       "    <tr>\n",
       "      <th>2</th>\n",
       "      <td>2583710258594541919</td>\n",
       "      <td>-8205283012979532608</td>\n",
       "      <td>2189-06-09</td>\n",
       "      <td>2189-06-13</td>\n",
       "      <td>32828</td>\n",
       "    </tr>\n",
       "    <tr>\n",
       "      <th>3</th>\n",
       "      <td>-8621531794134526280</td>\n",
       "      <td>8090044958540695372</td>\n",
       "      <td>2143-03-10</td>\n",
       "      <td>2148-02-05</td>\n",
       "      <td>32828</td>\n",
       "    </tr>\n",
       "    <tr>\n",
       "      <th>4</th>\n",
       "      <td>-6927702067122852728</td>\n",
       "      <td>3589912774911670296</td>\n",
       "      <td>2153-09-15</td>\n",
       "      <td>2153-09-25</td>\n",
       "      <td>32828</td>\n",
       "    </tr>\n",
       "  </tbody>\n",
       "</table>\n",
       "</div>"
      ],
      "text/plain": [
       "   observation_period_id            person_id observation_period_start_date  \\\n",
       "0    -422211212329812262 -7391666713304457659                    2110-11-30   \n",
       "1   -4759444374091930779 -8254164865273971123                    2150-03-05   \n",
       "2    2583710258594541919 -8205283012979532608                    2189-06-09   \n",
       "3   -8621531794134526280  8090044958540695372                    2143-03-10   \n",
       "4   -6927702067122852728  3589912774911670296                    2153-09-15   \n",
       "\n",
       "  observation_period_end_date  period_type_concept_id  \n",
       "0                  2110-12-10                   32828  \n",
       "1                  2151-01-25                   32828  \n",
       "2                  2189-06-13                   32828  \n",
       "3                  2148-02-05                   32828  \n",
       "4                  2153-09-25                   32828  "
      ]
     },
     "metadata": {},
     "output_type": "display_data"
    },
    {
     "name": "stdout",
     "output_type": "stream",
     "text": [
      "visit_detail.csv\n"
     ]
    },
    {
     "data": {
      "text/html": [
       "<div>\n",
       "<style scoped>\n",
       "    .dataframe tbody tr th:only-of-type {\n",
       "        vertical-align: middle;\n",
       "    }\n",
       "\n",
       "    .dataframe tbody tr th {\n",
       "        vertical-align: top;\n",
       "    }\n",
       "\n",
       "    .dataframe thead th {\n",
       "        text-align: right;\n",
       "    }\n",
       "</style>\n",
       "<table border=\"1\" class=\"dataframe\">\n",
       "  <thead>\n",
       "    <tr style=\"text-align: right;\">\n",
       "      <th></th>\n",
       "      <th>visit_detail_id</th>\n",
       "      <th>person_id</th>\n",
       "      <th>visit_detail_concept_id</th>\n",
       "      <th>visit_detail_start_date</th>\n",
       "      <th>visit_detail_start_datetime</th>\n",
       "      <th>visit_detail_end_date</th>\n",
       "      <th>visit_detail_end_datetime</th>\n",
       "      <th>visit_detail_type_concept_id</th>\n",
       "      <th>provider_id</th>\n",
       "      <th>care_site_id</th>\n",
       "      <th>admitting_source_concept_id</th>\n",
       "      <th>discharge_to_concept_id</th>\n",
       "      <th>preceding_visit_detail_id</th>\n",
       "      <th>visit_detail_source_value</th>\n",
       "      <th>visit_detail_source_concept_id</th>\n",
       "      <th>admitting_source_value</th>\n",
       "      <th>discharge_to_source_value</th>\n",
       "      <th>visit_detail_parent_id</th>\n",
       "      <th>visit_occurrence_id</th>\n",
       "    </tr>\n",
       "  </thead>\n",
       "  <tbody>\n",
       "    <tr>\n",
       "      <th>0</th>\n",
       "      <td>-1757828362327778468</td>\n",
       "      <td>3129727379702505063</td>\n",
       "      <td>8870</td>\n",
       "      <td>2197-04-17</td>\n",
       "      <td>2197-04-17 09:48:00</td>\n",
       "      <td>2197-04-17</td>\n",
       "      <td>2197-04-17 11:44:19</td>\n",
       "      <td>32817</td>\n",
       "      <td>NaN</td>\n",
       "      <td>-3.633440e+18</td>\n",
       "      <td>8870.0</td>\n",
       "      <td>NaN</td>\n",
       "      <td>NaN</td>\n",
       "      <td>10002930|25282382|38481760</td>\n",
       "      <td>2000001903</td>\n",
       "      <td>EMERGENCY ROOM</td>\n",
       "      <td>NaN</td>\n",
       "      <td>NaN</td>\n",
       "      <td>-9127810274408915712</td>\n",
       "    </tr>\n",
       "    <tr>\n",
       "      <th>1</th>\n",
       "      <td>-4357165027259445573</td>\n",
       "      <td>3129727379702505063</td>\n",
       "      <td>8870</td>\n",
       "      <td>2197-04-16</td>\n",
       "      <td>2197-04-16 22:57:00</td>\n",
       "      <td>2197-04-17</td>\n",
       "      <td>2197-04-17 09:48:00</td>\n",
       "      <td>32817</td>\n",
       "      <td>NaN</td>\n",
       "      <td>6.888076e+18</td>\n",
       "      <td>8870.0</td>\n",
       "      <td>NaN</td>\n",
       "      <td>NaN</td>\n",
       "      <td>10002930|25282382|35169671</td>\n",
       "      <td>2000001901</td>\n",
       "      <td>EMERGENCY ROOM</td>\n",
       "      <td>NaN</td>\n",
       "      <td>NaN</td>\n",
       "      <td>-9127810274408915712</td>\n",
       "    </tr>\n",
       "    <tr>\n",
       "      <th>2</th>\n",
       "      <td>8055254568125344353</td>\n",
       "      <td>3129727379702505063</td>\n",
       "      <td>581385</td>\n",
       "      <td>2197-04-16</td>\n",
       "      <td>2197-04-16 22:57:00</td>\n",
       "      <td>2197-04-16</td>\n",
       "      <td>2197-04-16 22:57:00</td>\n",
       "      <td>32817</td>\n",
       "      <td>NaN</td>\n",
       "      <td>NaN</td>\n",
       "      <td>8870.0</td>\n",
       "      <td>NaN</td>\n",
       "      <td>NaN</td>\n",
       "      <td>10002930|25282382</td>\n",
       "      <td>2000001805</td>\n",
       "      <td>EMERGENCY ROOM</td>\n",
       "      <td>NaN</td>\n",
       "      <td>NaN</td>\n",
       "      <td>-9127810274408915712</td>\n",
       "    </tr>\n",
       "    <tr>\n",
       "      <th>3</th>\n",
       "      <td>-9202240471022785074</td>\n",
       "      <td>1741351032930224901</td>\n",
       "      <td>32037</td>\n",
       "      <td>2177-07-14</td>\n",
       "      <td>2177-07-14 20:38:00</td>\n",
       "      <td>2177-07-15</td>\n",
       "      <td>2177-07-15 16:08:36</td>\n",
       "      <td>32817</td>\n",
       "      <td>NaN</td>\n",
       "      <td>7.883370e+18</td>\n",
       "      <td>8870.0</td>\n",
       "      <td>581476.0</td>\n",
       "      <td>-3.849978e+18</td>\n",
       "      <td>10037928|22490490|30229866</td>\n",
       "      <td>2000001622</td>\n",
       "      <td>Emergency Department</td>\n",
       "      <td>HOME HEALTH CARE</td>\n",
       "      <td>NaN</td>\n",
       "      <td>3736965967695233281</td>\n",
       "    </tr>\n",
       "    <tr>\n",
       "      <th>4</th>\n",
       "      <td>-3849978153133518996</td>\n",
       "      <td>1741351032930224901</td>\n",
       "      <td>8870</td>\n",
       "      <td>2177-07-14</td>\n",
       "      <td>2177-07-14 14:52:00</td>\n",
       "      <td>2177-07-14</td>\n",
       "      <td>2177-07-14 20:38:00</td>\n",
       "      <td>32817</td>\n",
       "      <td>NaN</td>\n",
       "      <td>6.888076e+18</td>\n",
       "      <td>8870.0</td>\n",
       "      <td>32037.0</td>\n",
       "      <td>NaN</td>\n",
       "      <td>10037928|22490490|35750269</td>\n",
       "      <td>2000001901</td>\n",
       "      <td>EMERGENCY ROOM</td>\n",
       "      <td>Medical/Surgical Intensive Care Unit (MICU/SICU)</td>\n",
       "      <td>NaN</td>\n",
       "      <td>3736965967695233281</td>\n",
       "    </tr>\n",
       "  </tbody>\n",
       "</table>\n",
       "</div>"
      ],
      "text/plain": [
       "       visit_detail_id            person_id  visit_detail_concept_id  \\\n",
       "0 -1757828362327778468  3129727379702505063                     8870   \n",
       "1 -4357165027259445573  3129727379702505063                     8870   \n",
       "2  8055254568125344353  3129727379702505063                   581385   \n",
       "3 -9202240471022785074  1741351032930224901                    32037   \n",
       "4 -3849978153133518996  1741351032930224901                     8870   \n",
       "\n",
       "  visit_detail_start_date visit_detail_start_datetime visit_detail_end_date  \\\n",
       "0              2197-04-17         2197-04-17 09:48:00            2197-04-17   \n",
       "1              2197-04-16         2197-04-16 22:57:00            2197-04-17   \n",
       "2              2197-04-16         2197-04-16 22:57:00            2197-04-16   \n",
       "3              2177-07-14         2177-07-14 20:38:00            2177-07-15   \n",
       "4              2177-07-14         2177-07-14 14:52:00            2177-07-14   \n",
       "\n",
       "  visit_detail_end_datetime  visit_detail_type_concept_id  provider_id  \\\n",
       "0       2197-04-17 11:44:19                         32817          NaN   \n",
       "1       2197-04-17 09:48:00                         32817          NaN   \n",
       "2       2197-04-16 22:57:00                         32817          NaN   \n",
       "3       2177-07-15 16:08:36                         32817          NaN   \n",
       "4       2177-07-14 20:38:00                         32817          NaN   \n",
       "\n",
       "   care_site_id  admitting_source_concept_id  discharge_to_concept_id  \\\n",
       "0 -3.633440e+18                       8870.0                      NaN   \n",
       "1  6.888076e+18                       8870.0                      NaN   \n",
       "2           NaN                       8870.0                      NaN   \n",
       "3  7.883370e+18                       8870.0                 581476.0   \n",
       "4  6.888076e+18                       8870.0                  32037.0   \n",
       "\n",
       "   preceding_visit_detail_id   visit_detail_source_value  \\\n",
       "0                        NaN  10002930|25282382|38481760   \n",
       "1                        NaN  10002930|25282382|35169671   \n",
       "2                        NaN           10002930|25282382   \n",
       "3              -3.849978e+18  10037928|22490490|30229866   \n",
       "4                        NaN  10037928|22490490|35750269   \n",
       "\n",
       "   visit_detail_source_concept_id admitting_source_value  \\\n",
       "0                      2000001903         EMERGENCY ROOM   \n",
       "1                      2000001901         EMERGENCY ROOM   \n",
       "2                      2000001805         EMERGENCY ROOM   \n",
       "3                      2000001622   Emergency Department   \n",
       "4                      2000001901         EMERGENCY ROOM   \n",
       "\n",
       "                          discharge_to_source_value  visit_detail_parent_id  \\\n",
       "0                                               NaN                     NaN   \n",
       "1                                               NaN                     NaN   \n",
       "2                                               NaN                     NaN   \n",
       "3                                  HOME HEALTH CARE                     NaN   \n",
       "4  Medical/Surgical Intensive Care Unit (MICU/SICU)                     NaN   \n",
       "\n",
       "   visit_occurrence_id  \n",
       "0 -9127810274408915712  \n",
       "1 -9127810274408915712  \n",
       "2 -9127810274408915712  \n",
       "3  3736965967695233281  \n",
       "4  3736965967695233281  "
      ]
     },
     "metadata": {},
     "output_type": "display_data"
    },
    {
     "name": "stdout",
     "output_type": "stream",
     "text": [
      "2b_concept_relationship.csv\n"
     ]
    },
    {
     "data": {
      "text/html": [
       "<div>\n",
       "<style scoped>\n",
       "    .dataframe tbody tr th:only-of-type {\n",
       "        vertical-align: middle;\n",
       "    }\n",
       "\n",
       "    .dataframe tbody tr th {\n",
       "        vertical-align: top;\n",
       "    }\n",
       "\n",
       "    .dataframe thead th {\n",
       "        text-align: right;\n",
       "    }\n",
       "</style>\n",
       "<table border=\"1\" class=\"dataframe\">\n",
       "  <thead>\n",
       "    <tr style=\"text-align: right;\">\n",
       "      <th></th>\n",
       "      <th>concept_id_1</th>\n",
       "      <th>concept_id_2</th>\n",
       "      <th>relationship_id</th>\n",
       "      <th>valid_start_DATE</th>\n",
       "      <th>valid_end_DATE</th>\n",
       "      <th>invalid_reason</th>\n",
       "    </tr>\n",
       "  </thead>\n",
       "  <tbody>\n",
       "    <tr>\n",
       "      <th>0</th>\n",
       "      <td>2000003069</td>\n",
       "      <td>4022792</td>\n",
       "      <td>Maps to</td>\n",
       "      <td>1970-01-01</td>\n",
       "      <td>2099-12-31</td>\n",
       "      <td>NaN</td>\n",
       "    </tr>\n",
       "    <tr>\n",
       "      <th>1</th>\n",
       "      <td>2000010663</td>\n",
       "      <td>40164921</td>\n",
       "      <td>Maps to</td>\n",
       "      <td>1970-01-01</td>\n",
       "      <td>2099-12-31</td>\n",
       "      <td>NaN</td>\n",
       "    </tr>\n",
       "    <tr>\n",
       "      <th>2</th>\n",
       "      <td>2000020189</td>\n",
       "      <td>38001595</td>\n",
       "      <td>Maps to</td>\n",
       "      <td>1970-01-01</td>\n",
       "      <td>2099-12-31</td>\n",
       "      <td>NaN</td>\n",
       "    </tr>\n",
       "    <tr>\n",
       "      <th>3</th>\n",
       "      <td>2000020866</td>\n",
       "      <td>38001445</td>\n",
       "      <td>Maps to</td>\n",
       "      <td>1970-01-01</td>\n",
       "      <td>2099-12-31</td>\n",
       "      <td>NaN</td>\n",
       "    </tr>\n",
       "    <tr>\n",
       "      <th>4</th>\n",
       "      <td>2000020336</td>\n",
       "      <td>38001223</td>\n",
       "      <td>Maps to</td>\n",
       "      <td>1970-01-01</td>\n",
       "      <td>2099-12-31</td>\n",
       "      <td>NaN</td>\n",
       "    </tr>\n",
       "  </tbody>\n",
       "</table>\n",
       "</div>"
      ],
      "text/plain": [
       "   concept_id_1  concept_id_2 relationship_id valid_start_DATE valid_end_DATE  \\\n",
       "0    2000003069       4022792         Maps to       1970-01-01     2099-12-31   \n",
       "1    2000010663      40164921         Maps to       1970-01-01     2099-12-31   \n",
       "2    2000020189      38001595         Maps to       1970-01-01     2099-12-31   \n",
       "3    2000020866      38001445         Maps to       1970-01-01     2099-12-31   \n",
       "4    2000020336      38001223         Maps to       1970-01-01     2099-12-31   \n",
       "\n",
       "   invalid_reason  \n",
       "0             NaN  \n",
       "1             NaN  \n",
       "2             NaN  \n",
       "3             NaN  \n",
       "4             NaN  "
      ]
     },
     "metadata": {},
     "output_type": "display_data"
    },
    {
     "name": "stdout",
     "output_type": "stream",
     "text": [
      "cohort.csv\n"
     ]
    },
    {
     "data": {
      "text/html": [
       "<div>\n",
       "<style scoped>\n",
       "    .dataframe tbody tr th:only-of-type {\n",
       "        vertical-align: middle;\n",
       "    }\n",
       "\n",
       "    .dataframe tbody tr th {\n",
       "        vertical-align: top;\n",
       "    }\n",
       "\n",
       "    .dataframe thead th {\n",
       "        text-align: right;\n",
       "    }\n",
       "</style>\n",
       "<table border=\"1\" class=\"dataframe\">\n",
       "  <thead>\n",
       "    <tr style=\"text-align: right;\">\n",
       "      <th></th>\n",
       "      <th>cohort_definition_id</th>\n",
       "      <th>subject_id</th>\n",
       "      <th>cohort_start_date</th>\n",
       "      <th>cohort_end_date</th>\n",
       "    </tr>\n",
       "  </thead>\n",
       "  <tbody>\n",
       "  </tbody>\n",
       "</table>\n",
       "</div>"
      ],
      "text/plain": [
       "Empty DataFrame\n",
       "Columns: [cohort_definition_id, subject_id, cohort_start_date, cohort_end_date]\n",
       "Index: []"
      ]
     },
     "metadata": {},
     "output_type": "display_data"
    },
    {
     "name": "stdout",
     "output_type": "stream",
     "text": [
      "device_exposure.csv\n"
     ]
    },
    {
     "data": {
      "text/html": [
       "<div>\n",
       "<style scoped>\n",
       "    .dataframe tbody tr th:only-of-type {\n",
       "        vertical-align: middle;\n",
       "    }\n",
       "\n",
       "    .dataframe tbody tr th {\n",
       "        vertical-align: top;\n",
       "    }\n",
       "\n",
       "    .dataframe thead th {\n",
       "        text-align: right;\n",
       "    }\n",
       "</style>\n",
       "<table border=\"1\" class=\"dataframe\">\n",
       "  <thead>\n",
       "    <tr style=\"text-align: right;\">\n",
       "      <th></th>\n",
       "      <th>device_exposure_id</th>\n",
       "      <th>person_id</th>\n",
       "      <th>device_concept_id</th>\n",
       "      <th>device_exposure_start_date</th>\n",
       "      <th>device_exposure_start_datetime</th>\n",
       "      <th>device_exposure_end_date</th>\n",
       "      <th>device_exposure_end_datetime</th>\n",
       "      <th>device_type_concept_id</th>\n",
       "      <th>unique_device_id</th>\n",
       "      <th>quantity</th>\n",
       "      <th>provider_id</th>\n",
       "      <th>visit_occurrence_id</th>\n",
       "      <th>visit_detail_id</th>\n",
       "      <th>device_source_value</th>\n",
       "      <th>device_source_concept_id</th>\n",
       "    </tr>\n",
       "  </thead>\n",
       "  <tbody>\n",
       "    <tr>\n",
       "      <th>0</th>\n",
       "      <td>-6080797302205697410</td>\n",
       "      <td>-626229666378242477</td>\n",
       "      <td>45768171</td>\n",
       "      <td>2171-11-14</td>\n",
       "      <td>2171-11-14 13:00:00</td>\n",
       "      <td>2171-11-14</td>\n",
       "      <td>2171-11-14 13:00:00</td>\n",
       "      <td>32817</td>\n",
       "      <td>NaN</td>\n",
       "      <td>NaN</td>\n",
       "      <td>NaN</td>\n",
       "      <td>-1486256937339039377</td>\n",
       "      <td>NaN</td>\n",
       "      <td>224087</td>\n",
       "      <td>2000030021</td>\n",
       "    </tr>\n",
       "    <tr>\n",
       "      <th>1</th>\n",
       "      <td>-5973025877998015677</td>\n",
       "      <td>-626229666378242477</td>\n",
       "      <td>45768171</td>\n",
       "      <td>2171-11-14</td>\n",
       "      <td>2171-11-14 20:00:00</td>\n",
       "      <td>2171-11-14</td>\n",
       "      <td>2171-11-14 20:00:00</td>\n",
       "      <td>32817</td>\n",
       "      <td>NaN</td>\n",
       "      <td>NaN</td>\n",
       "      <td>NaN</td>\n",
       "      <td>-1486256937339039377</td>\n",
       "      <td>NaN</td>\n",
       "      <td>224087</td>\n",
       "      <td>2000030021</td>\n",
       "    </tr>\n",
       "    <tr>\n",
       "      <th>2</th>\n",
       "      <td>-8106791820473225988</td>\n",
       "      <td>-626229666378242477</td>\n",
       "      <td>45768171</td>\n",
       "      <td>2171-11-14</td>\n",
       "      <td>2171-11-14 11:28:00</td>\n",
       "      <td>2171-11-14</td>\n",
       "      <td>2171-11-14 11:28:00</td>\n",
       "      <td>32817</td>\n",
       "      <td>NaN</td>\n",
       "      <td>NaN</td>\n",
       "      <td>NaN</td>\n",
       "      <td>-1486256937339039377</td>\n",
       "      <td>NaN</td>\n",
       "      <td>224087</td>\n",
       "      <td>2000030021</td>\n",
       "    </tr>\n",
       "    <tr>\n",
       "      <th>3</th>\n",
       "      <td>4432515289879643590</td>\n",
       "      <td>-626229666378242477</td>\n",
       "      <td>45768171</td>\n",
       "      <td>2171-11-14</td>\n",
       "      <td>2171-11-14 17:00:00</td>\n",
       "      <td>2171-11-14</td>\n",
       "      <td>2171-11-14 17:00:00</td>\n",
       "      <td>32817</td>\n",
       "      <td>NaN</td>\n",
       "      <td>NaN</td>\n",
       "      <td>NaN</td>\n",
       "      <td>-1486256937339039377</td>\n",
       "      <td>NaN</td>\n",
       "      <td>224087</td>\n",
       "      <td>2000030021</td>\n",
       "    </tr>\n",
       "    <tr>\n",
       "      <th>4</th>\n",
       "      <td>1718665515813261089</td>\n",
       "      <td>-626229666378242477</td>\n",
       "      <td>45768171</td>\n",
       "      <td>2171-11-14</td>\n",
       "      <td>2171-11-14 15:00:00</td>\n",
       "      <td>2171-11-14</td>\n",
       "      <td>2171-11-14 15:00:00</td>\n",
       "      <td>32817</td>\n",
       "      <td>NaN</td>\n",
       "      <td>NaN</td>\n",
       "      <td>NaN</td>\n",
       "      <td>-1486256937339039377</td>\n",
       "      <td>NaN</td>\n",
       "      <td>224087</td>\n",
       "      <td>2000030021</td>\n",
       "    </tr>\n",
       "  </tbody>\n",
       "</table>\n",
       "</div>"
      ],
      "text/plain": [
       "    device_exposure_id           person_id  device_concept_id  \\\n",
       "0 -6080797302205697410 -626229666378242477           45768171   \n",
       "1 -5973025877998015677 -626229666378242477           45768171   \n",
       "2 -8106791820473225988 -626229666378242477           45768171   \n",
       "3  4432515289879643590 -626229666378242477           45768171   \n",
       "4  1718665515813261089 -626229666378242477           45768171   \n",
       "\n",
       "  device_exposure_start_date device_exposure_start_datetime  \\\n",
       "0                 2171-11-14            2171-11-14 13:00:00   \n",
       "1                 2171-11-14            2171-11-14 20:00:00   \n",
       "2                 2171-11-14            2171-11-14 11:28:00   \n",
       "3                 2171-11-14            2171-11-14 17:00:00   \n",
       "4                 2171-11-14            2171-11-14 15:00:00   \n",
       "\n",
       "  device_exposure_end_date device_exposure_end_datetime  \\\n",
       "0               2171-11-14          2171-11-14 13:00:00   \n",
       "1               2171-11-14          2171-11-14 20:00:00   \n",
       "2               2171-11-14          2171-11-14 11:28:00   \n",
       "3               2171-11-14          2171-11-14 17:00:00   \n",
       "4               2171-11-14          2171-11-14 15:00:00   \n",
       "\n",
       "   device_type_concept_id  unique_device_id  quantity  provider_id  \\\n",
       "0                   32817               NaN       NaN          NaN   \n",
       "1                   32817               NaN       NaN          NaN   \n",
       "2                   32817               NaN       NaN          NaN   \n",
       "3                   32817               NaN       NaN          NaN   \n",
       "4                   32817               NaN       NaN          NaN   \n",
       "\n",
       "   visit_occurrence_id  visit_detail_id  device_source_value  \\\n",
       "0 -1486256937339039377              NaN               224087   \n",
       "1 -1486256937339039377              NaN               224087   \n",
       "2 -1486256937339039377              NaN               224087   \n",
       "3 -1486256937339039377              NaN               224087   \n",
       "4 -1486256937339039377              NaN               224087   \n",
       "\n",
       "   device_source_concept_id  \n",
       "0                2000030021  \n",
       "1                2000030021  \n",
       "2                2000030021  \n",
       "3                2000030021  \n",
       "4                2000030021  "
      ]
     },
     "metadata": {},
     "output_type": "display_data"
    },
    {
     "name": "stdout",
     "output_type": "stream",
     "text": [
      "measurement.csv\n"
     ]
    },
    {
     "name": "stderr",
     "output_type": "stream",
     "text": [
      "/tmp/ipykernel_11458/1342704.py:10: DtypeWarning: Columns (16) have mixed types. Specify dtype option on import or set low_memory=False.\n",
      "  temp = pd.read_csv(f'../Downloads/Data/{fich}')#, sep='\\t')\n"
     ]
    },
    {
     "data": {
      "text/html": [
       "<div>\n",
       "<style scoped>\n",
       "    .dataframe tbody tr th:only-of-type {\n",
       "        vertical-align: middle;\n",
       "    }\n",
       "\n",
       "    .dataframe tbody tr th {\n",
       "        vertical-align: top;\n",
       "    }\n",
       "\n",
       "    .dataframe thead th {\n",
       "        text-align: right;\n",
       "    }\n",
       "</style>\n",
       "<table border=\"1\" class=\"dataframe\">\n",
       "  <thead>\n",
       "    <tr style=\"text-align: right;\">\n",
       "      <th></th>\n",
       "      <th>measurement_id</th>\n",
       "      <th>person_id</th>\n",
       "      <th>measurement_concept_id</th>\n",
       "      <th>measurement_date</th>\n",
       "      <th>measurement_datetime</th>\n",
       "      <th>measurement_time</th>\n",
       "      <th>measurement_type_concept_id</th>\n",
       "      <th>operator_concept_id</th>\n",
       "      <th>value_as_number</th>\n",
       "      <th>value_as_concept_id</th>\n",
       "      <th>unit_concept_id</th>\n",
       "      <th>range_low</th>\n",
       "      <th>range_high</th>\n",
       "      <th>provider_id</th>\n",
       "      <th>visit_occurrence_id</th>\n",
       "      <th>visit_detail_id</th>\n",
       "      <th>measurement_source_value</th>\n",
       "      <th>measurement_source_concept_id</th>\n",
       "      <th>unit_source_value</th>\n",
       "      <th>value_source_value</th>\n",
       "    </tr>\n",
       "  </thead>\n",
       "  <tbody>\n",
       "    <tr>\n",
       "      <th>0</th>\n",
       "      <td>7620661609057829801</td>\n",
       "      <td>-7437341330444582833</td>\n",
       "      <td>3007913</td>\n",
       "      <td>2113-09-14</td>\n",
       "      <td>2113-09-14 10:41:00</td>\n",
       "      <td>NaN</td>\n",
       "      <td>32856</td>\n",
       "      <td>NaN</td>\n",
       "      <td>586.0</td>\n",
       "      <td>NaN</td>\n",
       "      <td>8876.0</td>\n",
       "      <td>NaN</td>\n",
       "      <td>NaN</td>\n",
       "      <td>NaN</td>\n",
       "      <td>3697313480337443666</td>\n",
       "      <td>NaN</td>\n",
       "      <td>50801</td>\n",
       "      <td>2.000001e+09</td>\n",
       "      <td>mm Hg</td>\n",
       "      <td>586</td>\n",
       "    </tr>\n",
       "    <tr>\n",
       "      <th>1</th>\n",
       "      <td>-6166868866082303206</td>\n",
       "      <td>-2312013739856114142</td>\n",
       "      <td>3012501</td>\n",
       "      <td>2116-07-05</td>\n",
       "      <td>2116-07-05 05:51:00</td>\n",
       "      <td>NaN</td>\n",
       "      <td>32856</td>\n",
       "      <td>NaN</td>\n",
       "      <td>-4.0</td>\n",
       "      <td>NaN</td>\n",
       "      <td>9557.0</td>\n",
       "      <td>NaN</td>\n",
       "      <td>NaN</td>\n",
       "      <td>NaN</td>\n",
       "      <td>-5005846256467230136</td>\n",
       "      <td>NaN</td>\n",
       "      <td>50802</td>\n",
       "      <td>2.000001e+09</td>\n",
       "      <td>mEq/L</td>\n",
       "      <td>-4</td>\n",
       "    </tr>\n",
       "    <tr>\n",
       "      <th>2</th>\n",
       "      <td>-5240588523649662838</td>\n",
       "      <td>-4234372750442829205</td>\n",
       "      <td>3012501</td>\n",
       "      <td>2154-01-02</td>\n",
       "      <td>2154-01-02 20:18:00</td>\n",
       "      <td>NaN</td>\n",
       "      <td>32856</td>\n",
       "      <td>NaN</td>\n",
       "      <td>-2.0</td>\n",
       "      <td>NaN</td>\n",
       "      <td>9557.0</td>\n",
       "      <td>NaN</td>\n",
       "      <td>NaN</td>\n",
       "      <td>NaN</td>\n",
       "      <td>-5317261811030552609</td>\n",
       "      <td>NaN</td>\n",
       "      <td>50802</td>\n",
       "      <td>2.000001e+09</td>\n",
       "      <td>mEq/L</td>\n",
       "      <td>-2</td>\n",
       "    </tr>\n",
       "    <tr>\n",
       "      <th>3</th>\n",
       "      <td>6455538495061268502</td>\n",
       "      <td>8805478484003283429</td>\n",
       "      <td>3012501</td>\n",
       "      <td>2114-06-20</td>\n",
       "      <td>2114-06-20 09:59:00</td>\n",
       "      <td>NaN</td>\n",
       "      <td>32856</td>\n",
       "      <td>NaN</td>\n",
       "      <td>3.0</td>\n",
       "      <td>NaN</td>\n",
       "      <td>9557.0</td>\n",
       "      <td>NaN</td>\n",
       "      <td>NaN</td>\n",
       "      <td>NaN</td>\n",
       "      <td>4821424463988433938</td>\n",
       "      <td>NaN</td>\n",
       "      <td>50802</td>\n",
       "      <td>2.000001e+09</td>\n",
       "      <td>mEq/L</td>\n",
       "      <td>3</td>\n",
       "    </tr>\n",
       "    <tr>\n",
       "      <th>4</th>\n",
       "      <td>8972684215776493449</td>\n",
       "      <td>6339505631013617478</td>\n",
       "      <td>3012501</td>\n",
       "      <td>2111-11-15</td>\n",
       "      <td>2111-11-15 03:09:00</td>\n",
       "      <td>NaN</td>\n",
       "      <td>32856</td>\n",
       "      <td>NaN</td>\n",
       "      <td>-2.0</td>\n",
       "      <td>NaN</td>\n",
       "      <td>9557.0</td>\n",
       "      <td>NaN</td>\n",
       "      <td>NaN</td>\n",
       "      <td>NaN</td>\n",
       "      <td>-6354047184485090226</td>\n",
       "      <td>NaN</td>\n",
       "      <td>50802</td>\n",
       "      <td>2.000001e+09</td>\n",
       "      <td>mEq/L</td>\n",
       "      <td>-2</td>\n",
       "    </tr>\n",
       "  </tbody>\n",
       "</table>\n",
       "</div>"
      ],
      "text/plain": [
       "        measurement_id            person_id  measurement_concept_id  \\\n",
       "0  7620661609057829801 -7437341330444582833                 3007913   \n",
       "1 -6166868866082303206 -2312013739856114142                 3012501   \n",
       "2 -5240588523649662838 -4234372750442829205                 3012501   \n",
       "3  6455538495061268502  8805478484003283429                 3012501   \n",
       "4  8972684215776493449  6339505631013617478                 3012501   \n",
       "\n",
       "  measurement_date measurement_datetime  measurement_time  \\\n",
       "0       2113-09-14  2113-09-14 10:41:00               NaN   \n",
       "1       2116-07-05  2116-07-05 05:51:00               NaN   \n",
       "2       2154-01-02  2154-01-02 20:18:00               NaN   \n",
       "3       2114-06-20  2114-06-20 09:59:00               NaN   \n",
       "4       2111-11-15  2111-11-15 03:09:00               NaN   \n",
       "\n",
       "   measurement_type_concept_id  operator_concept_id  value_as_number  \\\n",
       "0                        32856                  NaN            586.0   \n",
       "1                        32856                  NaN             -4.0   \n",
       "2                        32856                  NaN             -2.0   \n",
       "3                        32856                  NaN              3.0   \n",
       "4                        32856                  NaN             -2.0   \n",
       "\n",
       "   value_as_concept_id  unit_concept_id  range_low  range_high  provider_id  \\\n",
       "0                  NaN           8876.0        NaN         NaN          NaN   \n",
       "1                  NaN           9557.0        NaN         NaN          NaN   \n",
       "2                  NaN           9557.0        NaN         NaN          NaN   \n",
       "3                  NaN           9557.0        NaN         NaN          NaN   \n",
       "4                  NaN           9557.0        NaN         NaN          NaN   \n",
       "\n",
       "   visit_occurrence_id  visit_detail_id measurement_source_value  \\\n",
       "0  3697313480337443666              NaN                    50801   \n",
       "1 -5005846256467230136              NaN                    50802   \n",
       "2 -5317261811030552609              NaN                    50802   \n",
       "3  4821424463988433938              NaN                    50802   \n",
       "4 -6354047184485090226              NaN                    50802   \n",
       "\n",
       "   measurement_source_concept_id unit_source_value value_source_value  \n",
       "0                   2.000001e+09             mm Hg                586  \n",
       "1                   2.000001e+09             mEq/L                 -4  \n",
       "2                   2.000001e+09             mEq/L                 -2  \n",
       "3                   2.000001e+09             mEq/L                  3  \n",
       "4                   2.000001e+09             mEq/L                 -2  "
      ]
     },
     "metadata": {},
     "output_type": "display_data"
    },
    {
     "name": "stdout",
     "output_type": "stream",
     "text": [
      "payer_plan_period.csv\n"
     ]
    },
    {
     "data": {
      "text/html": [
       "<div>\n",
       "<style scoped>\n",
       "    .dataframe tbody tr th:only-of-type {\n",
       "        vertical-align: middle;\n",
       "    }\n",
       "\n",
       "    .dataframe tbody tr th {\n",
       "        vertical-align: top;\n",
       "    }\n",
       "\n",
       "    .dataframe thead th {\n",
       "        text-align: right;\n",
       "    }\n",
       "</style>\n",
       "<table border=\"1\" class=\"dataframe\">\n",
       "  <thead>\n",
       "    <tr style=\"text-align: right;\">\n",
       "      <th></th>\n",
       "      <th>payer_plan_period_id</th>\n",
       "      <th>person_id</th>\n",
       "      <th>payer_plan_period_start_date</th>\n",
       "      <th>payer_plan_period_end_date</th>\n",
       "      <th>payer_concept_id</th>\n",
       "      <th>payer_source_value</th>\n",
       "      <th>payer_source_concept_id</th>\n",
       "      <th>plan_concept_id</th>\n",
       "      <th>plan_source_value</th>\n",
       "      <th>plan_source_concept_id</th>\n",
       "      <th>sponsor_concept_id</th>\n",
       "      <th>sponsor_source_value</th>\n",
       "      <th>sponsor_source_concept_id</th>\n",
       "      <th>family_source_value</th>\n",
       "      <th>stop_reason_concept_id</th>\n",
       "      <th>stop_reason_source_value</th>\n",
       "      <th>stop_reason_source_concept_id</th>\n",
       "    </tr>\n",
       "  </thead>\n",
       "  <tbody>\n",
       "  </tbody>\n",
       "</table>\n",
       "</div>"
      ],
      "text/plain": [
       "Empty DataFrame\n",
       "Columns: [payer_plan_period_id, person_id, payer_plan_period_start_date, payer_plan_period_end_date, payer_concept_id, payer_source_value, payer_source_concept_id, plan_concept_id, plan_source_value, plan_source_concept_id, sponsor_concept_id, sponsor_source_value, sponsor_source_concept_id, family_source_value, stop_reason_concept_id, stop_reason_source_value, stop_reason_source_concept_id]\n",
       "Index: []"
      ]
     },
     "metadata": {},
     "output_type": "display_data"
    },
    {
     "name": "stdout",
     "output_type": "stream",
     "text": [
      "visit_occurrence.csv\n"
     ]
    },
    {
     "data": {
      "text/html": [
       "<div>\n",
       "<style scoped>\n",
       "    .dataframe tbody tr th:only-of-type {\n",
       "        vertical-align: middle;\n",
       "    }\n",
       "\n",
       "    .dataframe tbody tr th {\n",
       "        vertical-align: top;\n",
       "    }\n",
       "\n",
       "    .dataframe thead th {\n",
       "        text-align: right;\n",
       "    }\n",
       "</style>\n",
       "<table border=\"1\" class=\"dataframe\">\n",
       "  <thead>\n",
       "    <tr style=\"text-align: right;\">\n",
       "      <th></th>\n",
       "      <th>visit_occurrence_id</th>\n",
       "      <th>person_id</th>\n",
       "      <th>visit_concept_id</th>\n",
       "      <th>visit_start_date</th>\n",
       "      <th>visit_start_datetime</th>\n",
       "      <th>visit_end_date</th>\n",
       "      <th>visit_end_datetime</th>\n",
       "      <th>visit_type_concept_id</th>\n",
       "      <th>provider_id</th>\n",
       "      <th>care_site_id</th>\n",
       "      <th>visit_source_value</th>\n",
       "      <th>visit_source_concept_id</th>\n",
       "      <th>admitting_source_concept_id</th>\n",
       "      <th>admitting_source_value</th>\n",
       "      <th>discharge_to_concept_id</th>\n",
       "      <th>discharge_to_source_value</th>\n",
       "      <th>preceding_visit_occurrence_id</th>\n",
       "    </tr>\n",
       "  </thead>\n",
       "  <tbody>\n",
       "    <tr>\n",
       "      <th>0</th>\n",
       "      <td>-4406053801395356975</td>\n",
       "      <td>4783904755296699562</td>\n",
       "      <td>38004207</td>\n",
       "      <td>2112-11-06</td>\n",
       "      <td>2112-11-06 11:05:00</td>\n",
       "      <td>2112-11-06</td>\n",
       "      <td>2112-11-06 11:05:00</td>\n",
       "      <td>32817</td>\n",
       "      <td>NaN</td>\n",
       "      <td>NaN</td>\n",
       "      <td>10035631|2112-11-06</td>\n",
       "      <td>2000001801</td>\n",
       "      <td>NaN</td>\n",
       "      <td>NaN</td>\n",
       "      <td>NaN</td>\n",
       "      <td>NaN</td>\n",
       "      <td>-3.100296e+18</td>\n",
       "    </tr>\n",
       "    <tr>\n",
       "      <th>1</th>\n",
       "      <td>2636026522589494723</td>\n",
       "      <td>-6225647829918357531</td>\n",
       "      <td>38004207</td>\n",
       "      <td>2153-10-17</td>\n",
       "      <td>2153-10-17 14:23:00</td>\n",
       "      <td>2153-10-17</td>\n",
       "      <td>2153-10-17 14:23:00</td>\n",
       "      <td>32817</td>\n",
       "      <td>NaN</td>\n",
       "      <td>NaN</td>\n",
       "      <td>10019003|2153-10-17</td>\n",
       "      <td>2000001801</td>\n",
       "      <td>NaN</td>\n",
       "      <td>NaN</td>\n",
       "      <td>NaN</td>\n",
       "      <td>NaN</td>\n",
       "      <td>-2.238366e+18</td>\n",
       "    </tr>\n",
       "    <tr>\n",
       "      <th>2</th>\n",
       "      <td>-8900473297538187901</td>\n",
       "      <td>7918537411740862407</td>\n",
       "      <td>38004207</td>\n",
       "      <td>2130-10-10</td>\n",
       "      <td>2130-10-10 16:20:00</td>\n",
       "      <td>2130-10-10</td>\n",
       "      <td>2130-10-10 16:20:00</td>\n",
       "      <td>32817</td>\n",
       "      <td>NaN</td>\n",
       "      <td>NaN</td>\n",
       "      <td>10020306|2130-10-10</td>\n",
       "      <td>2000001801</td>\n",
       "      <td>NaN</td>\n",
       "      <td>NaN</td>\n",
       "      <td>NaN</td>\n",
       "      <td>NaN</td>\n",
       "      <td>-8.600570e+18</td>\n",
       "    </tr>\n",
       "    <tr>\n",
       "      <th>3</th>\n",
       "      <td>-8091470952174089624</td>\n",
       "      <td>-6225647829918357531</td>\n",
       "      <td>38004207</td>\n",
       "      <td>2155-04-20</td>\n",
       "      <td>2155-04-20 09:00:00</td>\n",
       "      <td>2155-04-20</td>\n",
       "      <td>2155-04-20 09:00:00</td>\n",
       "      <td>32817</td>\n",
       "      <td>NaN</td>\n",
       "      <td>NaN</td>\n",
       "      <td>10019003|2155-04-20</td>\n",
       "      <td>2000001801</td>\n",
       "      <td>NaN</td>\n",
       "      <td>NaN</td>\n",
       "      <td>NaN</td>\n",
       "      <td>NaN</td>\n",
       "      <td>4.782862e+18</td>\n",
       "    </tr>\n",
       "    <tr>\n",
       "      <th>4</th>\n",
       "      <td>8144493519470334167</td>\n",
       "      <td>7155255168997124770</td>\n",
       "      <td>38004207</td>\n",
       "      <td>2147-07-08</td>\n",
       "      <td>2147-07-08 08:20:00</td>\n",
       "      <td>2147-07-08</td>\n",
       "      <td>2147-07-08 08:20:00</td>\n",
       "      <td>32817</td>\n",
       "      <td>NaN</td>\n",
       "      <td>NaN</td>\n",
       "      <td>10014354|2147-07-08</td>\n",
       "      <td>2000001801</td>\n",
       "      <td>NaN</td>\n",
       "      <td>NaN</td>\n",
       "      <td>NaN</td>\n",
       "      <td>NaN</td>\n",
       "      <td>-3.275690e+18</td>\n",
       "    </tr>\n",
       "  </tbody>\n",
       "</table>\n",
       "</div>"
      ],
      "text/plain": [
       "   visit_occurrence_id            person_id  visit_concept_id  \\\n",
       "0 -4406053801395356975  4783904755296699562          38004207   \n",
       "1  2636026522589494723 -6225647829918357531          38004207   \n",
       "2 -8900473297538187901  7918537411740862407          38004207   \n",
       "3 -8091470952174089624 -6225647829918357531          38004207   \n",
       "4  8144493519470334167  7155255168997124770          38004207   \n",
       "\n",
       "  visit_start_date visit_start_datetime visit_end_date   visit_end_datetime  \\\n",
       "0       2112-11-06  2112-11-06 11:05:00     2112-11-06  2112-11-06 11:05:00   \n",
       "1       2153-10-17  2153-10-17 14:23:00     2153-10-17  2153-10-17 14:23:00   \n",
       "2       2130-10-10  2130-10-10 16:20:00     2130-10-10  2130-10-10 16:20:00   \n",
       "3       2155-04-20  2155-04-20 09:00:00     2155-04-20  2155-04-20 09:00:00   \n",
       "4       2147-07-08  2147-07-08 08:20:00     2147-07-08  2147-07-08 08:20:00   \n",
       "\n",
       "   visit_type_concept_id  provider_id  care_site_id   visit_source_value  \\\n",
       "0                  32817          NaN           NaN  10035631|2112-11-06   \n",
       "1                  32817          NaN           NaN  10019003|2153-10-17   \n",
       "2                  32817          NaN           NaN  10020306|2130-10-10   \n",
       "3                  32817          NaN           NaN  10019003|2155-04-20   \n",
       "4                  32817          NaN           NaN  10014354|2147-07-08   \n",
       "\n",
       "   visit_source_concept_id  admitting_source_concept_id  \\\n",
       "0               2000001801                          NaN   \n",
       "1               2000001801                          NaN   \n",
       "2               2000001801                          NaN   \n",
       "3               2000001801                          NaN   \n",
       "4               2000001801                          NaN   \n",
       "\n",
       "  admitting_source_value  discharge_to_concept_id discharge_to_source_value  \\\n",
       "0                    NaN                      NaN                       NaN   \n",
       "1                    NaN                      NaN                       NaN   \n",
       "2                    NaN                      NaN                       NaN   \n",
       "3                    NaN                      NaN                       NaN   \n",
       "4                    NaN                      NaN                       NaN   \n",
       "\n",
       "   preceding_visit_occurrence_id  \n",
       "0                  -3.100296e+18  \n",
       "1                  -2.238366e+18  \n",
       "2                  -8.600570e+18  \n",
       "3                   4.782862e+18  \n",
       "4                  -3.275690e+18  "
      ]
     },
     "metadata": {},
     "output_type": "display_data"
    },
    {
     "name": "stdout",
     "output_type": "stream",
     "text": [
      "2b_vocabulary.csv\n"
     ]
    },
    {
     "data": {
      "text/html": [
       "<div>\n",
       "<style scoped>\n",
       "    .dataframe tbody tr th:only-of-type {\n",
       "        vertical-align: middle;\n",
       "    }\n",
       "\n",
       "    .dataframe tbody tr th {\n",
       "        vertical-align: top;\n",
       "    }\n",
       "\n",
       "    .dataframe thead th {\n",
       "        text-align: right;\n",
       "    }\n",
       "</style>\n",
       "<table border=\"1\" class=\"dataframe\">\n",
       "  <thead>\n",
       "    <tr style=\"text-align: right;\">\n",
       "      <th></th>\n",
       "      <th>vocabulary_id</th>\n",
       "      <th>vocabulary_name</th>\n",
       "      <th>vocabulary_reference</th>\n",
       "      <th>vocabulary_version</th>\n",
       "      <th>vocabulary_concept_id</th>\n",
       "    </tr>\n",
       "  </thead>\n",
       "  <tbody>\n",
       "    <tr>\n",
       "      <th>0</th>\n",
       "      <td>mimiciv_micro_organism</td>\n",
       "      <td>mimiciv_micro_organism</td>\n",
       "      <td>Odysseus generated</td>\n",
       "      <td>NaN</td>\n",
       "      <td>2110000014</td>\n",
       "    </tr>\n",
       "    <tr>\n",
       "      <th>1</th>\n",
       "      <td>mimiciv_drug_route</td>\n",
       "      <td>mimiciv_drug_route</td>\n",
       "      <td>Odysseus generated</td>\n",
       "      <td>NaN</td>\n",
       "      <td>2110000005</td>\n",
       "    </tr>\n",
       "    <tr>\n",
       "      <th>2</th>\n",
       "      <td>mimiciv_obs_insurance</td>\n",
       "      <td>mimiciv_obs_insurance</td>\n",
       "      <td>Odysseus generated</td>\n",
       "      <td>NaN</td>\n",
       "      <td>2110000019</td>\n",
       "    </tr>\n",
       "    <tr>\n",
       "      <th>3</th>\n",
       "      <td>mimiciv_cond_chartevents_value</td>\n",
       "      <td>mimiciv_cond_chartevents_value</td>\n",
       "      <td>Odysseus generated</td>\n",
       "      <td>NaN</td>\n",
       "      <td>2110000002</td>\n",
       "    </tr>\n",
       "    <tr>\n",
       "      <th>4</th>\n",
       "      <td>mimiciv_vis_admission_location</td>\n",
       "      <td>mimiciv_vis_admission_location</td>\n",
       "      <td>Odysseus generated</td>\n",
       "      <td>NaN</td>\n",
       "      <td>2110000025</td>\n",
       "    </tr>\n",
       "  </tbody>\n",
       "</table>\n",
       "</div>"
      ],
      "text/plain": [
       "                    vocabulary_id                 vocabulary_name  \\\n",
       "0          mimiciv_micro_organism          mimiciv_micro_organism   \n",
       "1              mimiciv_drug_route              mimiciv_drug_route   \n",
       "2           mimiciv_obs_insurance           mimiciv_obs_insurance   \n",
       "3  mimiciv_cond_chartevents_value  mimiciv_cond_chartevents_value   \n",
       "4  mimiciv_vis_admission_location  mimiciv_vis_admission_location   \n",
       "\n",
       "  vocabulary_reference  vocabulary_version  vocabulary_concept_id  \n",
       "0   Odysseus generated                 NaN             2110000014  \n",
       "1   Odysseus generated                 NaN             2110000005  \n",
       "2   Odysseus generated                 NaN             2110000019  \n",
       "3   Odysseus generated                 NaN             2110000002  \n",
       "4   Odysseus generated                 NaN             2110000025  "
      ]
     },
     "metadata": {},
     "output_type": "display_data"
    },
    {
     "name": "stdout",
     "output_type": "stream",
     "text": [
      "cohort_definition.csv\n"
     ]
    },
    {
     "data": {
      "text/html": [
       "<div>\n",
       "<style scoped>\n",
       "    .dataframe tbody tr th:only-of-type {\n",
       "        vertical-align: middle;\n",
       "    }\n",
       "\n",
       "    .dataframe tbody tr th {\n",
       "        vertical-align: top;\n",
       "    }\n",
       "\n",
       "    .dataframe thead th {\n",
       "        text-align: right;\n",
       "    }\n",
       "</style>\n",
       "<table border=\"1\" class=\"dataframe\">\n",
       "  <thead>\n",
       "    <tr style=\"text-align: right;\">\n",
       "      <th></th>\n",
       "      <th>cohort_definition_id</th>\n",
       "      <th>cohort_definition_name</th>\n",
       "      <th>cohort_definition_description</th>\n",
       "      <th>definition_type_concept_id</th>\n",
       "      <th>cohort_definition_syntax</th>\n",
       "      <th>subject_concept_id</th>\n",
       "      <th>cohort_initiation_date</th>\n",
       "    </tr>\n",
       "  </thead>\n",
       "  <tbody>\n",
       "  </tbody>\n",
       "</table>\n",
       "</div>"
      ],
      "text/plain": [
       "Empty DataFrame\n",
       "Columns: [cohort_definition_id, cohort_definition_name, cohort_definition_description, definition_type_concept_id, cohort_definition_syntax, subject_concept_id, cohort_initiation_date]\n",
       "Index: []"
      ]
     },
     "metadata": {},
     "output_type": "display_data"
    },
    {
     "name": "stdout",
     "output_type": "stream",
     "text": [
      "dose_era.csv\n"
     ]
    },
    {
     "data": {
      "text/html": [
       "<div>\n",
       "<style scoped>\n",
       "    .dataframe tbody tr th:only-of-type {\n",
       "        vertical-align: middle;\n",
       "    }\n",
       "\n",
       "    .dataframe tbody tr th {\n",
       "        vertical-align: top;\n",
       "    }\n",
       "\n",
       "    .dataframe thead th {\n",
       "        text-align: right;\n",
       "    }\n",
       "</style>\n",
       "<table border=\"1\" class=\"dataframe\">\n",
       "  <thead>\n",
       "    <tr style=\"text-align: right;\">\n",
       "      <th></th>\n",
       "      <th>dose_era_id</th>\n",
       "      <th>person_id</th>\n",
       "      <th>drug_concept_id</th>\n",
       "      <th>unit_concept_id</th>\n",
       "      <th>dose_value</th>\n",
       "      <th>dose_era_start_date</th>\n",
       "      <th>dose_era_end_date</th>\n",
       "    </tr>\n",
       "  </thead>\n",
       "  <tbody>\n",
       "    <tr>\n",
       "      <th>0</th>\n",
       "      <td>-1101936257632052351</td>\n",
       "      <td>5548892236933978704</td>\n",
       "      <td>902427</td>\n",
       "      <td>8576</td>\n",
       "      <td>10.0</td>\n",
       "      <td>2142-05-14</td>\n",
       "      <td>2142-05-16</td>\n",
       "    </tr>\n",
       "    <tr>\n",
       "      <th>1</th>\n",
       "      <td>9002582707624403415</td>\n",
       "      <td>4985579811051920670</td>\n",
       "      <td>714785</td>\n",
       "      <td>8576</td>\n",
       "      <td>2.5</td>\n",
       "      <td>2110-04-13</td>\n",
       "      <td>2110-04-14</td>\n",
       "    </tr>\n",
       "    <tr>\n",
       "      <th>2</th>\n",
       "      <td>5495900697391314629</td>\n",
       "      <td>-4873075614181207858</td>\n",
       "      <td>1328165</td>\n",
       "      <td>8576</td>\n",
       "      <td>120.0</td>\n",
       "      <td>2148-09-15</td>\n",
       "      <td>2148-09-15</td>\n",
       "    </tr>\n",
       "    <tr>\n",
       "      <th>3</th>\n",
       "      <td>6335084700122752427</td>\n",
       "      <td>-8205283012979532608</td>\n",
       "      <td>1328165</td>\n",
       "      <td>8576</td>\n",
       "      <td>120.0</td>\n",
       "      <td>2189-06-11</td>\n",
       "      <td>2189-06-13</td>\n",
       "    </tr>\n",
       "    <tr>\n",
       "      <th>4</th>\n",
       "      <td>2848105832570024513</td>\n",
       "      <td>-4873075614181207858</td>\n",
       "      <td>1328165</td>\n",
       "      <td>8576</td>\n",
       "      <td>120.0</td>\n",
       "      <td>2147-12-20</td>\n",
       "      <td>2147-12-21</td>\n",
       "    </tr>\n",
       "  </tbody>\n",
       "</table>\n",
       "</div>"
      ],
      "text/plain": [
       "           dose_era_id            person_id  drug_concept_id  unit_concept_id  \\\n",
       "0 -1101936257632052351  5548892236933978704           902427             8576   \n",
       "1  9002582707624403415  4985579811051920670           714785             8576   \n",
       "2  5495900697391314629 -4873075614181207858          1328165             8576   \n",
       "3  6335084700122752427 -8205283012979532608          1328165             8576   \n",
       "4  2848105832570024513 -4873075614181207858          1328165             8576   \n",
       "\n",
       "   dose_value dose_era_start_date dose_era_end_date  \n",
       "0        10.0          2142-05-14        2142-05-16  \n",
       "1         2.5          2110-04-13        2110-04-14  \n",
       "2       120.0          2148-09-15        2148-09-15  \n",
       "3       120.0          2189-06-11        2189-06-13  \n",
       "4       120.0          2147-12-20        2147-12-21  "
      ]
     },
     "metadata": {},
     "output_type": "display_data"
    },
    {
     "name": "stdout",
     "output_type": "stream",
     "text": [
      "metadata.csv\n"
     ]
    },
    {
     "data": {
      "text/html": [
       "<div>\n",
       "<style scoped>\n",
       "    .dataframe tbody tr th:only-of-type {\n",
       "        vertical-align: middle;\n",
       "    }\n",
       "\n",
       "    .dataframe tbody tr th {\n",
       "        vertical-align: top;\n",
       "    }\n",
       "\n",
       "    .dataframe thead th {\n",
       "        text-align: right;\n",
       "    }\n",
       "</style>\n",
       "<table border=\"1\" class=\"dataframe\">\n",
       "  <thead>\n",
       "    <tr style=\"text-align: right;\">\n",
       "      <th></th>\n",
       "      <th>metadata_concept_id</th>\n",
       "      <th>metadata_type_concept_id</th>\n",
       "      <th>name</th>\n",
       "      <th>value_as_string</th>\n",
       "      <th>value_as_concept_id</th>\n",
       "      <th>metadata_date</th>\n",
       "      <th>metadata_datetime</th>\n",
       "    </tr>\n",
       "  </thead>\n",
       "  <tbody>\n",
       "  </tbody>\n",
       "</table>\n",
       "</div>"
      ],
      "text/plain": [
       "Empty DataFrame\n",
       "Columns: [metadata_concept_id, metadata_type_concept_id, name, value_as_string, value_as_concept_id, metadata_date, metadata_datetime]\n",
       "Index: []"
      ]
     },
     "metadata": {},
     "output_type": "display_data"
    },
    {
     "name": "stdout",
     "output_type": "stream",
     "text": [
      "person.csv\n"
     ]
    },
    {
     "data": {
      "text/html": [
       "<div>\n",
       "<style scoped>\n",
       "    .dataframe tbody tr th:only-of-type {\n",
       "        vertical-align: middle;\n",
       "    }\n",
       "\n",
       "    .dataframe tbody tr th {\n",
       "        vertical-align: top;\n",
       "    }\n",
       "\n",
       "    .dataframe thead th {\n",
       "        text-align: right;\n",
       "    }\n",
       "</style>\n",
       "<table border=\"1\" class=\"dataframe\">\n",
       "  <thead>\n",
       "    <tr style=\"text-align: right;\">\n",
       "      <th></th>\n",
       "      <th>person_id</th>\n",
       "      <th>gender_concept_id</th>\n",
       "      <th>year_of_birth</th>\n",
       "      <th>month_of_birth</th>\n",
       "      <th>day_of_birth</th>\n",
       "      <th>birth_datetime</th>\n",
       "      <th>race_concept_id</th>\n",
       "      <th>ethnicity_concept_id</th>\n",
       "      <th>location_id</th>\n",
       "      <th>provider_id</th>\n",
       "      <th>care_site_id</th>\n",
       "      <th>person_source_value</th>\n",
       "      <th>gender_source_value</th>\n",
       "      <th>gender_source_concept_id</th>\n",
       "      <th>race_source_value</th>\n",
       "      <th>race_source_concept_id</th>\n",
       "      <th>ethnicity_source_value</th>\n",
       "      <th>ethnicity_source_concept_id</th>\n",
       "    </tr>\n",
       "  </thead>\n",
       "  <tbody>\n",
       "    <tr>\n",
       "      <th>0</th>\n",
       "      <td>3589912774911670296</td>\n",
       "      <td>8507</td>\n",
       "      <td>2095</td>\n",
       "      <td>NaN</td>\n",
       "      <td>NaN</td>\n",
       "      <td>NaN</td>\n",
       "      <td>0</td>\n",
       "      <td>38003563</td>\n",
       "      <td>NaN</td>\n",
       "      <td>NaN</td>\n",
       "      <td>NaN</td>\n",
       "      <td>10009628</td>\n",
       "      <td>M</td>\n",
       "      <td>0</td>\n",
       "      <td>NaN</td>\n",
       "      <td>0</td>\n",
       "      <td>HISPANIC/LATINO</td>\n",
       "      <td>2000001408</td>\n",
       "    </tr>\n",
       "    <tr>\n",
       "      <th>1</th>\n",
       "      <td>-3210373572193940939</td>\n",
       "      <td>8507</td>\n",
       "      <td>2079</td>\n",
       "      <td>NaN</td>\n",
       "      <td>NaN</td>\n",
       "      <td>NaN</td>\n",
       "      <td>0</td>\n",
       "      <td>38003563</td>\n",
       "      <td>NaN</td>\n",
       "      <td>NaN</td>\n",
       "      <td>NaN</td>\n",
       "      <td>10011398</td>\n",
       "      <td>M</td>\n",
       "      <td>0</td>\n",
       "      <td>NaN</td>\n",
       "      <td>0</td>\n",
       "      <td>HISPANIC/LATINO</td>\n",
       "      <td>2000001408</td>\n",
       "    </tr>\n",
       "    <tr>\n",
       "      <th>2</th>\n",
       "      <td>-775517641933593374</td>\n",
       "      <td>8507</td>\n",
       "      <td>2149</td>\n",
       "      <td>NaN</td>\n",
       "      <td>NaN</td>\n",
       "      <td>NaN</td>\n",
       "      <td>8516</td>\n",
       "      <td>0</td>\n",
       "      <td>NaN</td>\n",
       "      <td>NaN</td>\n",
       "      <td>NaN</td>\n",
       "      <td>10004235</td>\n",
       "      <td>M</td>\n",
       "      <td>0</td>\n",
       "      <td>BLACK/AFRICAN AMERICAN</td>\n",
       "      <td>2000001406</td>\n",
       "      <td>NaN</td>\n",
       "      <td>0</td>\n",
       "    </tr>\n",
       "    <tr>\n",
       "      <th>3</th>\n",
       "      <td>-2575767131279873665</td>\n",
       "      <td>8507</td>\n",
       "      <td>2050</td>\n",
       "      <td>NaN</td>\n",
       "      <td>NaN</td>\n",
       "      <td>NaN</td>\n",
       "      <td>8516</td>\n",
       "      <td>0</td>\n",
       "      <td>NaN</td>\n",
       "      <td>NaN</td>\n",
       "      <td>NaN</td>\n",
       "      <td>10024043</td>\n",
       "      <td>M</td>\n",
       "      <td>0</td>\n",
       "      <td>BLACK/AFRICAN AMERICAN</td>\n",
       "      <td>2000001406</td>\n",
       "      <td>NaN</td>\n",
       "      <td>0</td>\n",
       "    </tr>\n",
       "    <tr>\n",
       "      <th>4</th>\n",
       "      <td>-8970844422700220177</td>\n",
       "      <td>8507</td>\n",
       "      <td>2114</td>\n",
       "      <td>NaN</td>\n",
       "      <td>NaN</td>\n",
       "      <td>NaN</td>\n",
       "      <td>8527</td>\n",
       "      <td>0</td>\n",
       "      <td>NaN</td>\n",
       "      <td>NaN</td>\n",
       "      <td>NaN</td>\n",
       "      <td>10038933</td>\n",
       "      <td>M</td>\n",
       "      <td>0</td>\n",
       "      <td>WHITE</td>\n",
       "      <td>2000001404</td>\n",
       "      <td>NaN</td>\n",
       "      <td>0</td>\n",
       "    </tr>\n",
       "  </tbody>\n",
       "</table>\n",
       "</div>"
      ],
      "text/plain": [
       "             person_id  gender_concept_id  year_of_birth  month_of_birth  \\\n",
       "0  3589912774911670296               8507           2095             NaN   \n",
       "1 -3210373572193940939               8507           2079             NaN   \n",
       "2  -775517641933593374               8507           2149             NaN   \n",
       "3 -2575767131279873665               8507           2050             NaN   \n",
       "4 -8970844422700220177               8507           2114             NaN   \n",
       "\n",
       "   day_of_birth  birth_datetime  race_concept_id  ethnicity_concept_id  \\\n",
       "0           NaN             NaN                0              38003563   \n",
       "1           NaN             NaN                0              38003563   \n",
       "2           NaN             NaN             8516                     0   \n",
       "3           NaN             NaN             8516                     0   \n",
       "4           NaN             NaN             8527                     0   \n",
       "\n",
       "   location_id  provider_id  care_site_id  person_source_value  \\\n",
       "0          NaN          NaN           NaN             10009628   \n",
       "1          NaN          NaN           NaN             10011398   \n",
       "2          NaN          NaN           NaN             10004235   \n",
       "3          NaN          NaN           NaN             10024043   \n",
       "4          NaN          NaN           NaN             10038933   \n",
       "\n",
       "  gender_source_value  gender_source_concept_id       race_source_value  \\\n",
       "0                   M                         0                     NaN   \n",
       "1                   M                         0                     NaN   \n",
       "2                   M                         0  BLACK/AFRICAN AMERICAN   \n",
       "3                   M                         0  BLACK/AFRICAN AMERICAN   \n",
       "4                   M                         0                   WHITE   \n",
       "\n",
       "   race_source_concept_id ethnicity_source_value  ethnicity_source_concept_id  \n",
       "0                       0        HISPANIC/LATINO                   2000001408  \n",
       "1                       0        HISPANIC/LATINO                   2000001408  \n",
       "2              2000001406                    NaN                            0  \n",
       "3              2000001406                    NaN                            0  \n",
       "4              2000001404                    NaN                            0  "
      ]
     },
     "metadata": {},
     "output_type": "display_data"
    },
    {
     "name": "stdout",
     "output_type": "stream",
     "text": [
      "attribute_definition.csv\n"
     ]
    },
    {
     "data": {
      "text/html": [
       "<div>\n",
       "<style scoped>\n",
       "    .dataframe tbody tr th:only-of-type {\n",
       "        vertical-align: middle;\n",
       "    }\n",
       "\n",
       "    .dataframe tbody tr th {\n",
       "        vertical-align: top;\n",
       "    }\n",
       "\n",
       "    .dataframe thead th {\n",
       "        text-align: right;\n",
       "    }\n",
       "</style>\n",
       "<table border=\"1\" class=\"dataframe\">\n",
       "  <thead>\n",
       "    <tr style=\"text-align: right;\">\n",
       "      <th></th>\n",
       "      <th>attribute_definition_id</th>\n",
       "      <th>attribute_name</th>\n",
       "      <th>attribute_description</th>\n",
       "      <th>attribute_type_concept_id</th>\n",
       "      <th>attribute_syntax</th>\n",
       "    </tr>\n",
       "  </thead>\n",
       "  <tbody>\n",
       "  </tbody>\n",
       "</table>\n",
       "</div>"
      ],
      "text/plain": [
       "Empty DataFrame\n",
       "Columns: [attribute_definition_id, attribute_name, attribute_description, attribute_type_concept_id, attribute_syntax]\n",
       "Index: []"
      ]
     },
     "metadata": {},
     "output_type": "display_data"
    },
    {
     "name": "stdout",
     "output_type": "stream",
     "text": [
      "condition_era.csv\n"
     ]
    },
    {
     "data": {
      "text/html": [
       "<div>\n",
       "<style scoped>\n",
       "    .dataframe tbody tr th:only-of-type {\n",
       "        vertical-align: middle;\n",
       "    }\n",
       "\n",
       "    .dataframe tbody tr th {\n",
       "        vertical-align: top;\n",
       "    }\n",
       "\n",
       "    .dataframe thead th {\n",
       "        text-align: right;\n",
       "    }\n",
       "</style>\n",
       "<table border=\"1\" class=\"dataframe\">\n",
       "  <thead>\n",
       "    <tr style=\"text-align: right;\">\n",
       "      <th></th>\n",
       "      <th>condition_era_id</th>\n",
       "      <th>person_id</th>\n",
       "      <th>condition_concept_id</th>\n",
       "      <th>condition_era_start_date</th>\n",
       "      <th>condition_era_end_date</th>\n",
       "      <th>condition_occurrence_count</th>\n",
       "    </tr>\n",
       "  </thead>\n",
       "  <tbody>\n",
       "    <tr>\n",
       "      <th>0</th>\n",
       "      <td>-4017843510320986981</td>\n",
       "      <td>-8254164865273971123</td>\n",
       "      <td>4140598</td>\n",
       "      <td>2150-03-11</td>\n",
       "      <td>2150-04-04</td>\n",
       "      <td>256</td>\n",
       "    </tr>\n",
       "    <tr>\n",
       "      <th>1</th>\n",
       "      <td>-7667301639797895423</td>\n",
       "      <td>7131048714591189903</td>\n",
       "      <td>434610</td>\n",
       "      <td>2189-05-22</td>\n",
       "      <td>2189-05-25</td>\n",
       "      <td>1</td>\n",
       "    </tr>\n",
       "    <tr>\n",
       "      <th>2</th>\n",
       "      <td>-7455077195684470206</td>\n",
       "      <td>7131048714591189903</td>\n",
       "      <td>201826</td>\n",
       "      <td>2189-05-22</td>\n",
       "      <td>2189-05-25</td>\n",
       "      <td>1</td>\n",
       "    </tr>\n",
       "    <tr>\n",
       "      <th>3</th>\n",
       "      <td>-4223886229831787734</td>\n",
       "      <td>7131048714591189903</td>\n",
       "      <td>437827</td>\n",
       "      <td>2189-05-22</td>\n",
       "      <td>2189-05-25</td>\n",
       "      <td>1</td>\n",
       "    </tr>\n",
       "    <tr>\n",
       "      <th>4</th>\n",
       "      <td>-8340460082370905381</td>\n",
       "      <td>7131048714591189903</td>\n",
       "      <td>27674</td>\n",
       "      <td>2189-05-22</td>\n",
       "      <td>2189-05-25</td>\n",
       "      <td>1</td>\n",
       "    </tr>\n",
       "  </tbody>\n",
       "</table>\n",
       "</div>"
      ],
      "text/plain": [
       "      condition_era_id            person_id  condition_concept_id  \\\n",
       "0 -4017843510320986981 -8254164865273971123               4140598   \n",
       "1 -7667301639797895423  7131048714591189903                434610   \n",
       "2 -7455077195684470206  7131048714591189903                201826   \n",
       "3 -4223886229831787734  7131048714591189903                437827   \n",
       "4 -8340460082370905381  7131048714591189903                 27674   \n",
       "\n",
       "  condition_era_start_date condition_era_end_date  condition_occurrence_count  \n",
       "0               2150-03-11             2150-04-04                         256  \n",
       "1               2189-05-22             2189-05-25                           1  \n",
       "2               2189-05-22             2189-05-25                           1  \n",
       "3               2189-05-22             2189-05-25                           1  \n",
       "4               2189-05-22             2189-05-25                           1  "
      ]
     },
     "metadata": {},
     "output_type": "display_data"
    },
    {
     "name": "stdout",
     "output_type": "stream",
     "text": [
      "drug_era.csv\n"
     ]
    },
    {
     "data": {
      "text/html": [
       "<div>\n",
       "<style scoped>\n",
       "    .dataframe tbody tr th:only-of-type {\n",
       "        vertical-align: middle;\n",
       "    }\n",
       "\n",
       "    .dataframe tbody tr th {\n",
       "        vertical-align: top;\n",
       "    }\n",
       "\n",
       "    .dataframe thead th {\n",
       "        text-align: right;\n",
       "    }\n",
       "</style>\n",
       "<table border=\"1\" class=\"dataframe\">\n",
       "  <thead>\n",
       "    <tr style=\"text-align: right;\">\n",
       "      <th></th>\n",
       "      <th>drug_era_id</th>\n",
       "      <th>person_id</th>\n",
       "      <th>drug_concept_id</th>\n",
       "      <th>drug_era_start_date</th>\n",
       "      <th>drug_era_end_date</th>\n",
       "      <th>drug_exposure_count</th>\n",
       "      <th>gap_days</th>\n",
       "    </tr>\n",
       "  </thead>\n",
       "  <tbody>\n",
       "    <tr>\n",
       "      <th>0</th>\n",
       "      <td>-4731852071843461961</td>\n",
       "      <td>-2067961723109232727</td>\n",
       "      <td>1124957</td>\n",
       "      <td>2169-01-21</td>\n",
       "      <td>2169-01-24</td>\n",
       "      <td>1</td>\n",
       "      <td>0</td>\n",
       "    </tr>\n",
       "    <tr>\n",
       "      <th>1</th>\n",
       "      <td>1725818565432188772</td>\n",
       "      <td>-626229666378242477</td>\n",
       "      <td>1368671</td>\n",
       "      <td>2171-11-11</td>\n",
       "      <td>2171-11-16</td>\n",
       "      <td>2</td>\n",
       "      <td>1</td>\n",
       "    </tr>\n",
       "    <tr>\n",
       "      <th>2</th>\n",
       "      <td>3222075720408667327</td>\n",
       "      <td>-626229666378242477</td>\n",
       "      <td>967823</td>\n",
       "      <td>2171-11-11</td>\n",
       "      <td>2171-11-22</td>\n",
       "      <td>12</td>\n",
       "      <td>0</td>\n",
       "    </tr>\n",
       "    <tr>\n",
       "      <th>3</th>\n",
       "      <td>7411613425123823172</td>\n",
       "      <td>579254014084392336</td>\n",
       "      <td>1310149</td>\n",
       "      <td>2115-10-16</td>\n",
       "      <td>2115-10-18</td>\n",
       "      <td>2</td>\n",
       "      <td>0</td>\n",
       "    </tr>\n",
       "    <tr>\n",
       "      <th>4</th>\n",
       "      <td>4265287408545791371</td>\n",
       "      <td>-2312013739856114142</td>\n",
       "      <td>19095164</td>\n",
       "      <td>2116-06-28</td>\n",
       "      <td>2116-07-05</td>\n",
       "      <td>1</td>\n",
       "      <td>0</td>\n",
       "    </tr>\n",
       "  </tbody>\n",
       "</table>\n",
       "</div>"
      ],
      "text/plain": [
       "           drug_era_id            person_id  drug_concept_id  \\\n",
       "0 -4731852071843461961 -2067961723109232727          1124957   \n",
       "1  1725818565432188772  -626229666378242477          1368671   \n",
       "2  3222075720408667327  -626229666378242477           967823   \n",
       "3  7411613425123823172   579254014084392336          1310149   \n",
       "4  4265287408545791371 -2312013739856114142         19095164   \n",
       "\n",
       "  drug_era_start_date drug_era_end_date  drug_exposure_count  gap_days  \n",
       "0          2169-01-21        2169-01-24                    1         0  \n",
       "1          2171-11-11        2171-11-16                    2         1  \n",
       "2          2171-11-11        2171-11-22                   12         0  \n",
       "3          2115-10-16        2115-10-18                    2         0  \n",
       "4          2116-06-28        2116-07-05                    1         0  "
      ]
     },
     "metadata": {},
     "output_type": "display_data"
    },
    {
     "name": "stdout",
     "output_type": "stream",
     "text": [
      "note.csv\n"
     ]
    },
    {
     "data": {
      "text/html": [
       "<div>\n",
       "<style scoped>\n",
       "    .dataframe tbody tr th:only-of-type {\n",
       "        vertical-align: middle;\n",
       "    }\n",
       "\n",
       "    .dataframe tbody tr th {\n",
       "        vertical-align: top;\n",
       "    }\n",
       "\n",
       "    .dataframe thead th {\n",
       "        text-align: right;\n",
       "    }\n",
       "</style>\n",
       "<table border=\"1\" class=\"dataframe\">\n",
       "  <thead>\n",
       "    <tr style=\"text-align: right;\">\n",
       "      <th></th>\n",
       "      <th>note_id</th>\n",
       "      <th>person_id</th>\n",
       "      <th>note_date</th>\n",
       "      <th>note_datetime</th>\n",
       "      <th>note_type_concept_id</th>\n",
       "      <th>note_class_concept_id</th>\n",
       "      <th>note_title</th>\n",
       "      <th>note_text</th>\n",
       "      <th>encoding_concept_id</th>\n",
       "      <th>language_concept_id</th>\n",
       "      <th>provider_id</th>\n",
       "      <th>visit_occurrence_id</th>\n",
       "      <th>visit_detail_id</th>\n",
       "      <th>note_source_value</th>\n",
       "    </tr>\n",
       "  </thead>\n",
       "  <tbody>\n",
       "  </tbody>\n",
       "</table>\n",
       "</div>"
      ],
      "text/plain": [
       "Empty DataFrame\n",
       "Columns: [note_id, person_id, note_date, note_datetime, note_type_concept_id, note_class_concept_id, note_title, note_text, encoding_concept_id, language_concept_id, provider_id, visit_occurrence_id, visit_detail_id, note_source_value]\n",
       "Index: []"
      ]
     },
     "metadata": {},
     "output_type": "display_data"
    },
    {
     "name": "stdout",
     "output_type": "stream",
     "text": [
      "procedure_occurrence.csv\n"
     ]
    },
    {
     "data": {
      "text/html": [
       "<div>\n",
       "<style scoped>\n",
       "    .dataframe tbody tr th:only-of-type {\n",
       "        vertical-align: middle;\n",
       "    }\n",
       "\n",
       "    .dataframe tbody tr th {\n",
       "        vertical-align: top;\n",
       "    }\n",
       "\n",
       "    .dataframe thead th {\n",
       "        text-align: right;\n",
       "    }\n",
       "</style>\n",
       "<table border=\"1\" class=\"dataframe\">\n",
       "  <thead>\n",
       "    <tr style=\"text-align: right;\">\n",
       "      <th></th>\n",
       "      <th>procedure_occurrence_id</th>\n",
       "      <th>person_id</th>\n",
       "      <th>procedure_concept_id</th>\n",
       "      <th>procedure_date</th>\n",
       "      <th>procedure_datetime</th>\n",
       "      <th>procedure_type_concept_id</th>\n",
       "      <th>modifier_concept_id</th>\n",
       "      <th>quantity</th>\n",
       "      <th>provider_id</th>\n",
       "      <th>visit_occurrence_id</th>\n",
       "      <th>visit_detail_id</th>\n",
       "      <th>procedure_source_value</th>\n",
       "      <th>procedure_source_concept_id</th>\n",
       "      <th>modifier_source_value</th>\n",
       "    </tr>\n",
       "  </thead>\n",
       "  <tbody>\n",
       "    <tr>\n",
       "      <th>0</th>\n",
       "      <td>-6348795981381799385</td>\n",
       "      <td>4783904755296699562</td>\n",
       "      <td>2102720</td>\n",
       "      <td>2113-07-18</td>\n",
       "      <td>2113-07-18 14:55:00</td>\n",
       "      <td>32821</td>\n",
       "      <td>0</td>\n",
       "      <td>1.0</td>\n",
       "      <td>NaN</td>\n",
       "      <td>-433474223361412760</td>\n",
       "      <td>NaN</td>\n",
       "      <td>19301</td>\n",
       "      <td>2102720</td>\n",
       "      <td>NaN</td>\n",
       "    </tr>\n",
       "    <tr>\n",
       "      <th>1</th>\n",
       "      <td>7881544392229438243</td>\n",
       "      <td>7918537411740862407</td>\n",
       "      <td>2102732</td>\n",
       "      <td>2129-10-30</td>\n",
       "      <td>2129-10-30 13:20:00</td>\n",
       "      <td>32821</td>\n",
       "      <td>0</td>\n",
       "      <td>1.0</td>\n",
       "      <td>NaN</td>\n",
       "      <td>7730200099818586525</td>\n",
       "      <td>NaN</td>\n",
       "      <td>19303</td>\n",
       "      <td>2102732</td>\n",
       "      <td>NaN</td>\n",
       "    </tr>\n",
       "    <tr>\n",
       "      <th>2</th>\n",
       "      <td>-5408721103708766509</td>\n",
       "      <td>4498126063475867818</td>\n",
       "      <td>2104913</td>\n",
       "      <td>2157-07-18</td>\n",
       "      <td>2157-07-18 16:49:00</td>\n",
       "      <td>32821</td>\n",
       "      <td>0</td>\n",
       "      <td>1.0</td>\n",
       "      <td>NaN</td>\n",
       "      <td>2514722389640694708</td>\n",
       "      <td>NaN</td>\n",
       "      <td>27235</td>\n",
       "      <td>2104913</td>\n",
       "      <td>NaN</td>\n",
       "    </tr>\n",
       "    <tr>\n",
       "      <th>3</th>\n",
       "      <td>5368606506786851886</td>\n",
       "      <td>8090044958540695372</td>\n",
       "      <td>42742532</td>\n",
       "      <td>2143-03-19</td>\n",
       "      <td>2143-03-19 12:00:00</td>\n",
       "      <td>32821</td>\n",
       "      <td>0</td>\n",
       "      <td>1.0</td>\n",
       "      <td>NaN</td>\n",
       "      <td>6734319289435533605</td>\n",
       "      <td>NaN</td>\n",
       "      <td>36252</td>\n",
       "      <td>42742532</td>\n",
       "      <td>NaN</td>\n",
       "    </tr>\n",
       "    <tr>\n",
       "      <th>4</th>\n",
       "      <td>-8177080120515460365</td>\n",
       "      <td>5863607150722936210</td>\n",
       "      <td>2108296</td>\n",
       "      <td>2142-07-07</td>\n",
       "      <td>2142-07-07 16:40:00</td>\n",
       "      <td>32821</td>\n",
       "      <td>0</td>\n",
       "      <td>1.0</td>\n",
       "      <td>NaN</td>\n",
       "      <td>-5935156580867756808</td>\n",
       "      <td>NaN</td>\n",
       "      <td>36830</td>\n",
       "      <td>2108296</td>\n",
       "      <td>NaN</td>\n",
       "    </tr>\n",
       "  </tbody>\n",
       "</table>\n",
       "</div>"
      ],
      "text/plain": [
       "   procedure_occurrence_id            person_id  procedure_concept_id  \\\n",
       "0     -6348795981381799385  4783904755296699562               2102720   \n",
       "1      7881544392229438243  7918537411740862407               2102732   \n",
       "2     -5408721103708766509  4498126063475867818               2104913   \n",
       "3      5368606506786851886  8090044958540695372              42742532   \n",
       "4     -8177080120515460365  5863607150722936210               2108296   \n",
       "\n",
       "  procedure_date   procedure_datetime  procedure_type_concept_id  \\\n",
       "0     2113-07-18  2113-07-18 14:55:00                      32821   \n",
       "1     2129-10-30  2129-10-30 13:20:00                      32821   \n",
       "2     2157-07-18  2157-07-18 16:49:00                      32821   \n",
       "3     2143-03-19  2143-03-19 12:00:00                      32821   \n",
       "4     2142-07-07  2142-07-07 16:40:00                      32821   \n",
       "\n",
       "   modifier_concept_id  quantity  provider_id  visit_occurrence_id  \\\n",
       "0                    0       1.0          NaN  -433474223361412760   \n",
       "1                    0       1.0          NaN  7730200099818586525   \n",
       "2                    0       1.0          NaN  2514722389640694708   \n",
       "3                    0       1.0          NaN  6734319289435533605   \n",
       "4                    0       1.0          NaN -5935156580867756808   \n",
       "\n",
       "   visit_detail_id procedure_source_value  procedure_source_concept_id  \\\n",
       "0              NaN                  19301                      2102720   \n",
       "1              NaN                  19303                      2102732   \n",
       "2              NaN                  27235                      2104913   \n",
       "3              NaN                  36252                     42742532   \n",
       "4              NaN                  36830                      2108296   \n",
       "\n",
       "   modifier_source_value  \n",
       "0                    NaN  \n",
       "1                    NaN  \n",
       "2                    NaN  \n",
       "3                    NaN  \n",
       "4                    NaN  "
      ]
     },
     "metadata": {},
     "output_type": "display_data"
    },
    {
     "name": "stdout",
     "output_type": "stream",
     "text": [
      "care_site.csv\n"
     ]
    },
    {
     "data": {
      "text/html": [
       "<div>\n",
       "<style scoped>\n",
       "    .dataframe tbody tr th:only-of-type {\n",
       "        vertical-align: middle;\n",
       "    }\n",
       "\n",
       "    .dataframe tbody tr th {\n",
       "        vertical-align: top;\n",
       "    }\n",
       "\n",
       "    .dataframe thead th {\n",
       "        text-align: right;\n",
       "    }\n",
       "</style>\n",
       "<table border=\"1\" class=\"dataframe\">\n",
       "  <thead>\n",
       "    <tr style=\"text-align: right;\">\n",
       "      <th></th>\n",
       "      <th>care_site_id</th>\n",
       "      <th>care_site_name</th>\n",
       "      <th>place_of_service_concept_id</th>\n",
       "      <th>location_id</th>\n",
       "      <th>care_site_source_value</th>\n",
       "      <th>place_of_service_source_value</th>\n",
       "    </tr>\n",
       "  </thead>\n",
       "  <tbody>\n",
       "    <tr>\n",
       "      <th>0</th>\n",
       "      <td>7482024270134467590</td>\n",
       "      <td>Med/Surg/GYN</td>\n",
       "      <td>NaN</td>\n",
       "      <td>1</td>\n",
       "      <td>Med/Surg/GYN</td>\n",
       "      <td>Med/Surg/GYN</td>\n",
       "    </tr>\n",
       "    <tr>\n",
       "      <th>1</th>\n",
       "      <td>6872771148744744676</td>\n",
       "      <td>Trauma SICU (TSICU)</td>\n",
       "      <td>NaN</td>\n",
       "      <td>1</td>\n",
       "      <td>Trauma SICU (TSICU)</td>\n",
       "      <td>Trauma SICU (TSICU)</td>\n",
       "    </tr>\n",
       "    <tr>\n",
       "      <th>2</th>\n",
       "      <td>4662258935512879919</td>\n",
       "      <td>Unknown</td>\n",
       "      <td>NaN</td>\n",
       "      <td>1</td>\n",
       "      <td>Unknown</td>\n",
       "      <td>Unknown</td>\n",
       "    </tr>\n",
       "    <tr>\n",
       "      <th>3</th>\n",
       "      <td>-2501038380264497908</td>\n",
       "      <td>Med/Surg</td>\n",
       "      <td>NaN</td>\n",
       "      <td>1</td>\n",
       "      <td>Med/Surg</td>\n",
       "      <td>Med/Surg</td>\n",
       "    </tr>\n",
       "    <tr>\n",
       "      <th>4</th>\n",
       "      <td>8603684584038321926</td>\n",
       "      <td>Observation</td>\n",
       "      <td>NaN</td>\n",
       "      <td>1</td>\n",
       "      <td>Observation</td>\n",
       "      <td>Observation</td>\n",
       "    </tr>\n",
       "  </tbody>\n",
       "</table>\n",
       "</div>"
      ],
      "text/plain": [
       "          care_site_id       care_site_name  place_of_service_concept_id  \\\n",
       "0  7482024270134467590         Med/Surg/GYN                          NaN   \n",
       "1  6872771148744744676  Trauma SICU (TSICU)                          NaN   \n",
       "2  4662258935512879919              Unknown                          NaN   \n",
       "3 -2501038380264497908             Med/Surg                          NaN   \n",
       "4  8603684584038321926          Observation                          NaN   \n",
       "\n",
       "   location_id care_site_source_value place_of_service_source_value  \n",
       "0            1           Med/Surg/GYN                  Med/Surg/GYN  \n",
       "1            1    Trauma SICU (TSICU)           Trauma SICU (TSICU)  \n",
       "2            1                Unknown                       Unknown  \n",
       "3            1               Med/Surg                      Med/Surg  \n",
       "4            1            Observation                   Observation  "
      ]
     },
     "metadata": {},
     "output_type": "display_data"
    },
    {
     "name": "stdout",
     "output_type": "stream",
     "text": [
      "condition_occurrence.csv\n"
     ]
    },
    {
     "data": {
      "text/html": [
       "<div>\n",
       "<style scoped>\n",
       "    .dataframe tbody tr th:only-of-type {\n",
       "        vertical-align: middle;\n",
       "    }\n",
       "\n",
       "    .dataframe tbody tr th {\n",
       "        vertical-align: top;\n",
       "    }\n",
       "\n",
       "    .dataframe thead th {\n",
       "        text-align: right;\n",
       "    }\n",
       "</style>\n",
       "<table border=\"1\" class=\"dataframe\">\n",
       "  <thead>\n",
       "    <tr style=\"text-align: right;\">\n",
       "      <th></th>\n",
       "      <th>condition_occurrence_id</th>\n",
       "      <th>person_id</th>\n",
       "      <th>condition_concept_id</th>\n",
       "      <th>condition_start_date</th>\n",
       "      <th>condition_start_datetime</th>\n",
       "      <th>condition_end_date</th>\n",
       "      <th>condition_end_datetime</th>\n",
       "      <th>condition_type_concept_id</th>\n",
       "      <th>stop_reason</th>\n",
       "      <th>provider_id</th>\n",
       "      <th>visit_occurrence_id</th>\n",
       "      <th>visit_detail_id</th>\n",
       "      <th>condition_source_value</th>\n",
       "      <th>condition_source_concept_id</th>\n",
       "      <th>condition_status_source_value</th>\n",
       "      <th>condition_status_concept_id</th>\n",
       "    </tr>\n",
       "  </thead>\n",
       "  <tbody>\n",
       "    <tr>\n",
       "      <th>0</th>\n",
       "      <td>7000818053728441484</td>\n",
       "      <td>1741351032930224901</td>\n",
       "      <td>196523</td>\n",
       "      <td>2179-07-24</td>\n",
       "      <td>2179-07-24 18:21:00</td>\n",
       "      <td>2179-07-28</td>\n",
       "      <td>2179-07-28 15:54:00</td>\n",
       "      <td>32821</td>\n",
       "      <td>NaN</td>\n",
       "      <td>NaN</td>\n",
       "      <td>-5779522865065417426</td>\n",
       "      <td>NaN</td>\n",
       "      <td>78791</td>\n",
       "      <td>44824628</td>\n",
       "      <td>NaN</td>\n",
       "      <td>NaN</td>\n",
       "    </tr>\n",
       "    <tr>\n",
       "      <th>1</th>\n",
       "      <td>-3514320024333679102</td>\n",
       "      <td>1741351032930224901</td>\n",
       "      <td>436659</td>\n",
       "      <td>2179-07-24</td>\n",
       "      <td>2179-07-24 18:21:00</td>\n",
       "      <td>2179-07-28</td>\n",
       "      <td>2179-07-28 15:54:00</td>\n",
       "      <td>32821</td>\n",
       "      <td>NaN</td>\n",
       "      <td>NaN</td>\n",
       "      <td>-5779522865065417426</td>\n",
       "      <td>NaN</td>\n",
       "      <td>2809</td>\n",
       "      <td>44828816</td>\n",
       "      <td>NaN</td>\n",
       "      <td>NaN</td>\n",
       "    </tr>\n",
       "    <tr>\n",
       "      <th>2</th>\n",
       "      <td>-6297447354934110463</td>\n",
       "      <td>1741351032930224901</td>\n",
       "      <td>435515</td>\n",
       "      <td>2179-07-24</td>\n",
       "      <td>2179-07-24 18:21:00</td>\n",
       "      <td>2179-07-28</td>\n",
       "      <td>2179-07-28 15:54:00</td>\n",
       "      <td>32821</td>\n",
       "      <td>NaN</td>\n",
       "      <td>NaN</td>\n",
       "      <td>-5779522865065417426</td>\n",
       "      <td>NaN</td>\n",
       "      <td>2761</td>\n",
       "      <td>44822952</td>\n",
       "      <td>NaN</td>\n",
       "      <td>NaN</td>\n",
       "    </tr>\n",
       "    <tr>\n",
       "      <th>3</th>\n",
       "      <td>3131132784874295309</td>\n",
       "      <td>1741351032930224901</td>\n",
       "      <td>436096</td>\n",
       "      <td>2179-07-24</td>\n",
       "      <td>2179-07-24 18:21:00</td>\n",
       "      <td>2179-07-28</td>\n",
       "      <td>2179-07-28 15:54:00</td>\n",
       "      <td>32821</td>\n",
       "      <td>NaN</td>\n",
       "      <td>NaN</td>\n",
       "      <td>-5779522865065417426</td>\n",
       "      <td>NaN</td>\n",
       "      <td>33829</td>\n",
       "      <td>44834629</td>\n",
       "      <td>NaN</td>\n",
       "      <td>NaN</td>\n",
       "    </tr>\n",
       "    <tr>\n",
       "      <th>4</th>\n",
       "      <td>2246709778332812674</td>\n",
       "      <td>1741351032930224901</td>\n",
       "      <td>440383</td>\n",
       "      <td>2179-07-24</td>\n",
       "      <td>2179-07-24 18:21:00</td>\n",
       "      <td>2179-07-28</td>\n",
       "      <td>2179-07-28 15:54:00</td>\n",
       "      <td>32821</td>\n",
       "      <td>NaN</td>\n",
       "      <td>NaN</td>\n",
       "      <td>-5779522865065417426</td>\n",
       "      <td>NaN</td>\n",
       "      <td>311</td>\n",
       "      <td>44833421</td>\n",
       "      <td>NaN</td>\n",
       "      <td>NaN</td>\n",
       "    </tr>\n",
       "  </tbody>\n",
       "</table>\n",
       "</div>"
      ],
      "text/plain": [
       "   condition_occurrence_id            person_id  condition_concept_id  \\\n",
       "0      7000818053728441484  1741351032930224901                196523   \n",
       "1     -3514320024333679102  1741351032930224901                436659   \n",
       "2     -6297447354934110463  1741351032930224901                435515   \n",
       "3      3131132784874295309  1741351032930224901                436096   \n",
       "4      2246709778332812674  1741351032930224901                440383   \n",
       "\n",
       "  condition_start_date condition_start_datetime condition_end_date  \\\n",
       "0           2179-07-24      2179-07-24 18:21:00         2179-07-28   \n",
       "1           2179-07-24      2179-07-24 18:21:00         2179-07-28   \n",
       "2           2179-07-24      2179-07-24 18:21:00         2179-07-28   \n",
       "3           2179-07-24      2179-07-24 18:21:00         2179-07-28   \n",
       "4           2179-07-24      2179-07-24 18:21:00         2179-07-28   \n",
       "\n",
       "  condition_end_datetime  condition_type_concept_id  stop_reason  provider_id  \\\n",
       "0    2179-07-28 15:54:00                      32821          NaN          NaN   \n",
       "1    2179-07-28 15:54:00                      32821          NaN          NaN   \n",
       "2    2179-07-28 15:54:00                      32821          NaN          NaN   \n",
       "3    2179-07-28 15:54:00                      32821          NaN          NaN   \n",
       "4    2179-07-28 15:54:00                      32821          NaN          NaN   \n",
       "\n",
       "   visit_occurrence_id  visit_detail_id condition_source_value  \\\n",
       "0 -5779522865065417426              NaN                78791     \n",
       "1 -5779522865065417426              NaN                2809      \n",
       "2 -5779522865065417426              NaN                2761      \n",
       "3 -5779522865065417426              NaN                33829     \n",
       "4 -5779522865065417426              NaN                311       \n",
       "\n",
       "   condition_source_concept_id  condition_status_source_value  \\\n",
       "0                     44824628                            NaN   \n",
       "1                     44828816                            NaN   \n",
       "2                     44822952                            NaN   \n",
       "3                     44834629                            NaN   \n",
       "4                     44833421                            NaN   \n",
       "\n",
       "   condition_status_concept_id  \n",
       "0                          NaN  \n",
       "1                          NaN  \n",
       "2                          NaN  \n",
       "3                          NaN  \n",
       "4                          NaN  "
      ]
     },
     "metadata": {},
     "output_type": "display_data"
    },
    {
     "name": "stdout",
     "output_type": "stream",
     "text": [
      "drug_exposure.csv\n"
     ]
    },
    {
     "data": {
      "text/html": [
       "<div>\n",
       "<style scoped>\n",
       "    .dataframe tbody tr th:only-of-type {\n",
       "        vertical-align: middle;\n",
       "    }\n",
       "\n",
       "    .dataframe tbody tr th {\n",
       "        vertical-align: top;\n",
       "    }\n",
       "\n",
       "    .dataframe thead th {\n",
       "        text-align: right;\n",
       "    }\n",
       "</style>\n",
       "<table border=\"1\" class=\"dataframe\">\n",
       "  <thead>\n",
       "    <tr style=\"text-align: right;\">\n",
       "      <th></th>\n",
       "      <th>drug_exposure_id</th>\n",
       "      <th>person_id</th>\n",
       "      <th>drug_concept_id</th>\n",
       "      <th>drug_exposure_start_date</th>\n",
       "      <th>drug_exposure_start_datetime</th>\n",
       "      <th>drug_exposure_end_date</th>\n",
       "      <th>drug_exposure_end_datetime</th>\n",
       "      <th>verbatim_end_date</th>\n",
       "      <th>drug_type_concept_id</th>\n",
       "      <th>stop_reason</th>\n",
       "      <th>...</th>\n",
       "      <th>sig</th>\n",
       "      <th>route_concept_id</th>\n",
       "      <th>lot_number</th>\n",
       "      <th>provider_id</th>\n",
       "      <th>visit_occurrence_id</th>\n",
       "      <th>visit_detail_id</th>\n",
       "      <th>drug_source_value</th>\n",
       "      <th>drug_source_concept_id</th>\n",
       "      <th>route_source_value</th>\n",
       "      <th>dose_unit_source_value</th>\n",
       "    </tr>\n",
       "  </thead>\n",
       "  <tbody>\n",
       "    <tr>\n",
       "      <th>0</th>\n",
       "      <td>294884377115777655</td>\n",
       "      <td>1741351032930224901</td>\n",
       "      <td>40166274</td>\n",
       "      <td>2177-07-16</td>\n",
       "      <td>2177-07-16 22:00:00</td>\n",
       "      <td>2177-07-17</td>\n",
       "      <td>2177-07-17 21:00:00</td>\n",
       "      <td>NaN</td>\n",
       "      <td>32838</td>\n",
       "      <td>NaN</td>\n",
       "      <td>...</td>\n",
       "      <td>NaN</td>\n",
       "      <td>4142048</td>\n",
       "      <td>NaN</td>\n",
       "      <td>NaN</td>\n",
       "      <td>3736965967695233281</td>\n",
       "      <td>NaN</td>\n",
       "      <td>00002751001</td>\n",
       "      <td>45144375</td>\n",
       "      <td>SC</td>\n",
       "      <td>VIAL</td>\n",
       "    </tr>\n",
       "    <tr>\n",
       "      <th>1</th>\n",
       "      <td>-3609243742606366340</td>\n",
       "      <td>1741351032930224901</td>\n",
       "      <td>40166274</td>\n",
       "      <td>2177-07-17</td>\n",
       "      <td>2177-07-17 19:00:00</td>\n",
       "      <td>2177-07-18</td>\n",
       "      <td>2177-07-18 18:00:00</td>\n",
       "      <td>NaN</td>\n",
       "      <td>32838</td>\n",
       "      <td>NaN</td>\n",
       "      <td>...</td>\n",
       "      <td>NaN</td>\n",
       "      <td>4142048</td>\n",
       "      <td>NaN</td>\n",
       "      <td>NaN</td>\n",
       "      <td>3736965967695233281</td>\n",
       "      <td>NaN</td>\n",
       "      <td>00002751001</td>\n",
       "      <td>45144375</td>\n",
       "      <td>SC</td>\n",
       "      <td>VIAL</td>\n",
       "    </tr>\n",
       "    <tr>\n",
       "      <th>2</th>\n",
       "      <td>-6865345241721388581</td>\n",
       "      <td>1741351032930224901</td>\n",
       "      <td>40166274</td>\n",
       "      <td>2177-07-15</td>\n",
       "      <td>2177-07-15 19:00:00</td>\n",
       "      <td>2177-07-16</td>\n",
       "      <td>2177-07-16 18:00:00</td>\n",
       "      <td>NaN</td>\n",
       "      <td>32838</td>\n",
       "      <td>NaN</td>\n",
       "      <td>...</td>\n",
       "      <td>NaN</td>\n",
       "      <td>4142048</td>\n",
       "      <td>NaN</td>\n",
       "      <td>NaN</td>\n",
       "      <td>3736965967695233281</td>\n",
       "      <td>NaN</td>\n",
       "      <td>00002751001</td>\n",
       "      <td>45144375</td>\n",
       "      <td>SC</td>\n",
       "      <td>VIAL</td>\n",
       "    </tr>\n",
       "    <tr>\n",
       "      <th>3</th>\n",
       "      <td>-826223020394544622</td>\n",
       "      <td>1741351032930224901</td>\n",
       "      <td>40166274</td>\n",
       "      <td>2177-07-21</td>\n",
       "      <td>2177-07-21 22:00:00</td>\n",
       "      <td>2177-07-22</td>\n",
       "      <td>2177-07-22 21:00:00</td>\n",
       "      <td>NaN</td>\n",
       "      <td>32838</td>\n",
       "      <td>NaN</td>\n",
       "      <td>...</td>\n",
       "      <td>NaN</td>\n",
       "      <td>4142048</td>\n",
       "      <td>NaN</td>\n",
       "      <td>NaN</td>\n",
       "      <td>3736965967695233281</td>\n",
       "      <td>NaN</td>\n",
       "      <td>00002751001</td>\n",
       "      <td>45144375</td>\n",
       "      <td>SC</td>\n",
       "      <td>VIAL</td>\n",
       "    </tr>\n",
       "    <tr>\n",
       "      <th>4</th>\n",
       "      <td>2417954811860157314</td>\n",
       "      <td>1741351032930224901</td>\n",
       "      <td>40166274</td>\n",
       "      <td>2177-07-18</td>\n",
       "      <td>2177-07-18 23:00:00</td>\n",
       "      <td>2177-07-19</td>\n",
       "      <td>2177-07-19 22:00:00</td>\n",
       "      <td>NaN</td>\n",
       "      <td>32838</td>\n",
       "      <td>NaN</td>\n",
       "      <td>...</td>\n",
       "      <td>NaN</td>\n",
       "      <td>4142048</td>\n",
       "      <td>NaN</td>\n",
       "      <td>NaN</td>\n",
       "      <td>3736965967695233281</td>\n",
       "      <td>NaN</td>\n",
       "      <td>00002751001</td>\n",
       "      <td>45144375</td>\n",
       "      <td>SC</td>\n",
       "      <td>VIAL</td>\n",
       "    </tr>\n",
       "  </tbody>\n",
       "</table>\n",
       "<p>5 rows × 23 columns</p>\n",
       "</div>"
      ],
      "text/plain": [
       "      drug_exposure_id            person_id  drug_concept_id  \\\n",
       "0   294884377115777655  1741351032930224901         40166274   \n",
       "1 -3609243742606366340  1741351032930224901         40166274   \n",
       "2 -6865345241721388581  1741351032930224901         40166274   \n",
       "3  -826223020394544622  1741351032930224901         40166274   \n",
       "4  2417954811860157314  1741351032930224901         40166274   \n",
       "\n",
       "  drug_exposure_start_date drug_exposure_start_datetime  \\\n",
       "0               2177-07-16          2177-07-16 22:00:00   \n",
       "1               2177-07-17          2177-07-17 19:00:00   \n",
       "2               2177-07-15          2177-07-15 19:00:00   \n",
       "3               2177-07-21          2177-07-21 22:00:00   \n",
       "4               2177-07-18          2177-07-18 23:00:00   \n",
       "\n",
       "  drug_exposure_end_date drug_exposure_end_datetime  verbatim_end_date  \\\n",
       "0             2177-07-17        2177-07-17 21:00:00                NaN   \n",
       "1             2177-07-18        2177-07-18 18:00:00                NaN   \n",
       "2             2177-07-16        2177-07-16 18:00:00                NaN   \n",
       "3             2177-07-22        2177-07-22 21:00:00                NaN   \n",
       "4             2177-07-19        2177-07-19 22:00:00                NaN   \n",
       "\n",
       "   drug_type_concept_id  stop_reason  ...  sig  route_concept_id  lot_number  \\\n",
       "0                 32838          NaN  ...  NaN           4142048         NaN   \n",
       "1                 32838          NaN  ...  NaN           4142048         NaN   \n",
       "2                 32838          NaN  ...  NaN           4142048         NaN   \n",
       "3                 32838          NaN  ...  NaN           4142048         NaN   \n",
       "4                 32838          NaN  ...  NaN           4142048         NaN   \n",
       "\n",
       "   provider_id  visit_occurrence_id  visit_detail_id  drug_source_value  \\\n",
       "0          NaN  3736965967695233281              NaN        00002751001   \n",
       "1          NaN  3736965967695233281              NaN        00002751001   \n",
       "2          NaN  3736965967695233281              NaN        00002751001   \n",
       "3          NaN  3736965967695233281              NaN        00002751001   \n",
       "4          NaN  3736965967695233281              NaN        00002751001   \n",
       "\n",
       "   drug_source_concept_id  route_source_value dose_unit_source_value  \n",
       "0                45144375                  SC                   VIAL  \n",
       "1                45144375                  SC                   VIAL  \n",
       "2                45144375                  SC                   VIAL  \n",
       "3                45144375                  SC                   VIAL  \n",
       "4                45144375                  SC                   VIAL  \n",
       "\n",
       "[5 rows x 23 columns]"
      ]
     },
     "metadata": {},
     "output_type": "display_data"
    },
    {
     "name": "stdout",
     "output_type": "stream",
     "text": [
      "note_nlp.csv\n"
     ]
    },
    {
     "data": {
      "text/html": [
       "<div>\n",
       "<style scoped>\n",
       "    .dataframe tbody tr th:only-of-type {\n",
       "        vertical-align: middle;\n",
       "    }\n",
       "\n",
       "    .dataframe tbody tr th {\n",
       "        vertical-align: top;\n",
       "    }\n",
       "\n",
       "    .dataframe thead th {\n",
       "        text-align: right;\n",
       "    }\n",
       "</style>\n",
       "<table border=\"1\" class=\"dataframe\">\n",
       "  <thead>\n",
       "    <tr style=\"text-align: right;\">\n",
       "      <th></th>\n",
       "      <th>note_nlp_id</th>\n",
       "      <th>note_id</th>\n",
       "      <th>section_concept_id</th>\n",
       "      <th>snippet</th>\n",
       "      <th>offset</th>\n",
       "      <th>lexical_variant</th>\n",
       "      <th>note_nlp_concept_id</th>\n",
       "      <th>note_nlp_source_concept_id</th>\n",
       "      <th>nlp_system</th>\n",
       "      <th>nlp_date</th>\n",
       "      <th>nlp_datetime</th>\n",
       "      <th>term_exists</th>\n",
       "      <th>term_temporal</th>\n",
       "      <th>term_modifiers</th>\n",
       "    </tr>\n",
       "  </thead>\n",
       "  <tbody>\n",
       "  </tbody>\n",
       "</table>\n",
       "</div>"
      ],
      "text/plain": [
       "Empty DataFrame\n",
       "Columns: [note_nlp_id, note_id, section_concept_id, snippet, offset, lexical_variant, note_nlp_concept_id, note_nlp_source_concept_id, nlp_system, nlp_date, nlp_datetime, term_exists, term_temporal, term_modifiers]\n",
       "Index: []"
      ]
     },
     "metadata": {},
     "output_type": "display_data"
    },
    {
     "name": "stdout",
     "output_type": "stream",
     "text": [
      "provider.csv\n"
     ]
    },
    {
     "data": {
      "text/html": [
       "<div>\n",
       "<style scoped>\n",
       "    .dataframe tbody tr th:only-of-type {\n",
       "        vertical-align: middle;\n",
       "    }\n",
       "\n",
       "    .dataframe tbody tr th {\n",
       "        vertical-align: top;\n",
       "    }\n",
       "\n",
       "    .dataframe thead th {\n",
       "        text-align: right;\n",
       "    }\n",
       "</style>\n",
       "<table border=\"1\" class=\"dataframe\">\n",
       "  <thead>\n",
       "    <tr style=\"text-align: right;\">\n",
       "      <th></th>\n",
       "      <th>provider_id</th>\n",
       "      <th>provider_name</th>\n",
       "      <th>npi</th>\n",
       "      <th>dea</th>\n",
       "      <th>specialty_concept_id</th>\n",
       "      <th>care_site_id</th>\n",
       "      <th>year_of_birth</th>\n",
       "      <th>gender_concept_id</th>\n",
       "      <th>provider_source_value</th>\n",
       "      <th>specialty_source_value</th>\n",
       "      <th>specialty_source_concept_id</th>\n",
       "      <th>gender_source_value</th>\n",
       "      <th>gender_source_concept_id</th>\n",
       "    </tr>\n",
       "  </thead>\n",
       "  <tbody>\n",
       "  </tbody>\n",
       "</table>\n",
       "</div>"
      ],
      "text/plain": [
       "Empty DataFrame\n",
       "Columns: [provider_id, provider_name, npi, dea, specialty_concept_id, care_site_id, year_of_birth, gender_concept_id, provider_source_value, specialty_source_value, specialty_source_concept_id, gender_source_value, gender_source_concept_id]\n",
       "Index: []"
      ]
     },
     "metadata": {},
     "output_type": "display_data"
    },
    {
     "name": "stdout",
     "output_type": "stream",
     "text": [
      "cdm_source.csv\n"
     ]
    },
    {
     "data": {
      "text/html": [
       "<div>\n",
       "<style scoped>\n",
       "    .dataframe tbody tr th:only-of-type {\n",
       "        vertical-align: middle;\n",
       "    }\n",
       "\n",
       "    .dataframe tbody tr th {\n",
       "        vertical-align: top;\n",
       "    }\n",
       "\n",
       "    .dataframe thead th {\n",
       "        text-align: right;\n",
       "    }\n",
       "</style>\n",
       "<table border=\"1\" class=\"dataframe\">\n",
       "  <thead>\n",
       "    <tr style=\"text-align: right;\">\n",
       "      <th></th>\n",
       "      <th>cdm_source_name</th>\n",
       "      <th>cdm_source_abbreviation</th>\n",
       "      <th>cdm_holder</th>\n",
       "      <th>source_description</th>\n",
       "      <th>source_documentation_reference</th>\n",
       "      <th>cdm_etl_reference</th>\n",
       "      <th>source_release_date</th>\n",
       "      <th>cdm_release_date</th>\n",
       "      <th>cdm_version</th>\n",
       "      <th>vocabulary_version</th>\n",
       "    </tr>\n",
       "  </thead>\n",
       "  <tbody>\n",
       "    <tr>\n",
       "      <th>0</th>\n",
       "      <td>MIMIC IV</td>\n",
       "      <td>mimiciv</td>\n",
       "      <td>PhysioNet</td>\n",
       "      <td>MIMIC-IV is a publicly available database of p...</td>\n",
       "      <td>https://mimic-iv.mit.edu/docs/</td>\n",
       "      <td>https://github.com/OHDSI/MIMIC/</td>\n",
       "      <td>2020-09-01</td>\n",
       "      <td>2021-05-03</td>\n",
       "      <td>5.3.1</td>\n",
       "      <td>v5.0 10-SEP-20</td>\n",
       "    </tr>\n",
       "  </tbody>\n",
       "</table>\n",
       "</div>"
      ],
      "text/plain": [
       "  cdm_source_name cdm_source_abbreviation cdm_holder  \\\n",
       "0        MIMIC IV                 mimiciv  PhysioNet   \n",
       "\n",
       "                                  source_description  \\\n",
       "0  MIMIC-IV is a publicly available database of p...   \n",
       "\n",
       "   source_documentation_reference                cdm_etl_reference  \\\n",
       "0  https://mimic-iv.mit.edu/docs/  https://github.com/OHDSI/MIMIC/   \n",
       "\n",
       "  source_release_date cdm_release_date cdm_version vocabulary_version  \n",
       "0          2020-09-01       2021-05-03       5.3.1     v5.0 10-SEP-20  "
      ]
     },
     "metadata": {},
     "output_type": "display_data"
    },
    {
     "name": "stdout",
     "output_type": "stream",
     "text": [
      "cost.csv\n"
     ]
    },
    {
     "data": {
      "text/html": [
       "<div>\n",
       "<style scoped>\n",
       "    .dataframe tbody tr th:only-of-type {\n",
       "        vertical-align: middle;\n",
       "    }\n",
       "\n",
       "    .dataframe tbody tr th {\n",
       "        vertical-align: top;\n",
       "    }\n",
       "\n",
       "    .dataframe thead th {\n",
       "        text-align: right;\n",
       "    }\n",
       "</style>\n",
       "<table border=\"1\" class=\"dataframe\">\n",
       "  <thead>\n",
       "    <tr style=\"text-align: right;\">\n",
       "      <th></th>\n",
       "      <th>cost_id</th>\n",
       "      <th>cost_event_id</th>\n",
       "      <th>cost_domain_id</th>\n",
       "      <th>cost_type_concept_id</th>\n",
       "      <th>currency_concept_id</th>\n",
       "      <th>total_charge</th>\n",
       "      <th>total_cost</th>\n",
       "      <th>total_paid</th>\n",
       "      <th>paid_by_payer</th>\n",
       "      <th>paid_by_patient</th>\n",
       "      <th>...</th>\n",
       "      <th>paid_patient_deductible</th>\n",
       "      <th>paid_by_primary</th>\n",
       "      <th>paid_ingredient_cost</th>\n",
       "      <th>paid_dispensing_fee</th>\n",
       "      <th>payer_plan_period_id</th>\n",
       "      <th>amount_allowed</th>\n",
       "      <th>revenue_code_concept_id</th>\n",
       "      <th>revenue_code_source_value</th>\n",
       "      <th>drg_concept_id</th>\n",
       "      <th>drg_source_value</th>\n",
       "    </tr>\n",
       "  </thead>\n",
       "  <tbody>\n",
       "  </tbody>\n",
       "</table>\n",
       "<p>0 rows × 22 columns</p>\n",
       "</div>"
      ],
      "text/plain": [
       "Empty DataFrame\n",
       "Columns: [cost_id, cost_event_id, cost_domain_id, cost_type_concept_id, currency_concept_id, total_charge, total_cost, total_paid, paid_by_payer, paid_by_patient, paid_patient_copay, paid_patient_coinsurance, paid_patient_deductible, paid_by_primary, paid_ingredient_cost, paid_dispensing_fee, payer_plan_period_id, amount_allowed, revenue_code_concept_id, revenue_code_source_value, drg_concept_id, drg_source_value]\n",
       "Index: []\n",
       "\n",
       "[0 rows x 22 columns]"
      ]
     },
     "metadata": {},
     "output_type": "display_data"
    },
    {
     "name": "stdout",
     "output_type": "stream",
     "text": [
      "fact_relationship.csv\n"
     ]
    },
    {
     "data": {
      "text/html": [
       "<div>\n",
       "<style scoped>\n",
       "    .dataframe tbody tr th:only-of-type {\n",
       "        vertical-align: middle;\n",
       "    }\n",
       "\n",
       "    .dataframe tbody tr th {\n",
       "        vertical-align: top;\n",
       "    }\n",
       "\n",
       "    .dataframe thead th {\n",
       "        text-align: right;\n",
       "    }\n",
       "</style>\n",
       "<table border=\"1\" class=\"dataframe\">\n",
       "  <thead>\n",
       "    <tr style=\"text-align: right;\">\n",
       "      <th></th>\n",
       "      <th>domain_concept_id_1</th>\n",
       "      <th>fact_id_1</th>\n",
       "      <th>domain_concept_id_2</th>\n",
       "      <th>fact_id_2</th>\n",
       "      <th>relationship_concept_id</th>\n",
       "    </tr>\n",
       "  </thead>\n",
       "  <tbody>\n",
       "    <tr>\n",
       "      <th>0</th>\n",
       "      <td>21</td>\n",
       "      <td>-1528338048118240227</td>\n",
       "      <td>21</td>\n",
       "      <td>-2626995764797704161</td>\n",
       "      <td>581436</td>\n",
       "    </tr>\n",
       "    <tr>\n",
       "      <th>1</th>\n",
       "      <td>21</td>\n",
       "      <td>-4413670399601597669</td>\n",
       "      <td>21</td>\n",
       "      <td>-5035119046096715237</td>\n",
       "      <td>581436</td>\n",
       "    </tr>\n",
       "    <tr>\n",
       "      <th>2</th>\n",
       "      <td>21</td>\n",
       "      <td>62647581672888119</td>\n",
       "      <td>21</td>\n",
       "      <td>7870255279990651748</td>\n",
       "      <td>581436</td>\n",
       "    </tr>\n",
       "    <tr>\n",
       "      <th>3</th>\n",
       "      <td>21</td>\n",
       "      <td>8612006927123919607</td>\n",
       "      <td>21</td>\n",
       "      <td>-2294747223347562162</td>\n",
       "      <td>581436</td>\n",
       "    </tr>\n",
       "    <tr>\n",
       "      <th>4</th>\n",
       "      <td>21</td>\n",
       "      <td>5642509002092905641</td>\n",
       "      <td>21</td>\n",
       "      <td>59077947031565658</td>\n",
       "      <td>581436</td>\n",
       "    </tr>\n",
       "  </tbody>\n",
       "</table>\n",
       "</div>"
      ],
      "text/plain": [
       "   domain_concept_id_1            fact_id_1  domain_concept_id_2  \\\n",
       "0                   21 -1528338048118240227                   21   \n",
       "1                   21 -4413670399601597669                   21   \n",
       "2                   21    62647581672888119                   21   \n",
       "3                   21  8612006927123919607                   21   \n",
       "4                   21  5642509002092905641                   21   \n",
       "\n",
       "             fact_id_2  relationship_concept_id  \n",
       "0 -2626995764797704161                   581436  \n",
       "1 -5035119046096715237                   581436  \n",
       "2  7870255279990651748                   581436  \n",
       "3 -2294747223347562162                   581436  \n",
       "4    59077947031565658                   581436  "
      ]
     },
     "metadata": {},
     "output_type": "display_data"
    },
    {
     "name": "stdout",
     "output_type": "stream",
     "text": [
      "observation.csv\n"
     ]
    },
    {
     "data": {
      "text/html": [
       "<div>\n",
       "<style scoped>\n",
       "    .dataframe tbody tr th:only-of-type {\n",
       "        vertical-align: middle;\n",
       "    }\n",
       "\n",
       "    .dataframe tbody tr th {\n",
       "        vertical-align: top;\n",
       "    }\n",
       "\n",
       "    .dataframe thead th {\n",
       "        text-align: right;\n",
       "    }\n",
       "</style>\n",
       "<table border=\"1\" class=\"dataframe\">\n",
       "  <thead>\n",
       "    <tr style=\"text-align: right;\">\n",
       "      <th></th>\n",
       "      <th>observation_id</th>\n",
       "      <th>person_id</th>\n",
       "      <th>observation_concept_id</th>\n",
       "      <th>observation_date</th>\n",
       "      <th>observation_datetime</th>\n",
       "      <th>observation_type_concept_id</th>\n",
       "      <th>value_as_number</th>\n",
       "      <th>value_as_string</th>\n",
       "      <th>value_as_concept_id</th>\n",
       "      <th>qualifier_concept_id</th>\n",
       "      <th>unit_concept_id</th>\n",
       "      <th>provider_id</th>\n",
       "      <th>visit_occurrence_id</th>\n",
       "      <th>visit_detail_id</th>\n",
       "      <th>observation_source_value</th>\n",
       "      <th>observation_source_concept_id</th>\n",
       "      <th>unit_source_value</th>\n",
       "      <th>qualifier_source_value</th>\n",
       "    </tr>\n",
       "  </thead>\n",
       "  <tbody>\n",
       "    <tr>\n",
       "      <th>0</th>\n",
       "      <td>-7221215846302395378</td>\n",
       "      <td>7131048714591189903</td>\n",
       "      <td>4215685</td>\n",
       "      <td>2189-05-22</td>\n",
       "      <td>2189-05-22 23:18:00</td>\n",
       "      <td>32821</td>\n",
       "      <td>NaN</td>\n",
       "      <td>NaN</td>\n",
       "      <td>NaN</td>\n",
       "      <td>NaN</td>\n",
       "      <td>NaN</td>\n",
       "      <td>NaN</td>\n",
       "      <td>1832418602869683763</td>\n",
       "      <td>NaN</td>\n",
       "      <td>V4972</td>\n",
       "      <td>44827368</td>\n",
       "      <td>NaN</td>\n",
       "      <td>NaN</td>\n",
       "    </tr>\n",
       "    <tr>\n",
       "      <th>1</th>\n",
       "      <td>-9113461341871004757</td>\n",
       "      <td>7131048714591189903</td>\n",
       "      <td>440922</td>\n",
       "      <td>2189-05-22</td>\n",
       "      <td>2189-05-22 23:18:00</td>\n",
       "      <td>32821</td>\n",
       "      <td>NaN</td>\n",
       "      <td>NaN</td>\n",
       "      <td>NaN</td>\n",
       "      <td>NaN</td>\n",
       "      <td>NaN</td>\n",
       "      <td>NaN</td>\n",
       "      <td>1832418602869683763</td>\n",
       "      <td>NaN</td>\n",
       "      <td>V5867</td>\n",
       "      <td>44820462</td>\n",
       "      <td>NaN</td>\n",
       "      <td>NaN</td>\n",
       "    </tr>\n",
       "    <tr>\n",
       "      <th>2</th>\n",
       "      <td>-6378179537712623650</td>\n",
       "      <td>7131048714591189903</td>\n",
       "      <td>44784283</td>\n",
       "      <td>2189-05-22</td>\n",
       "      <td>2189-05-22 23:18:00</td>\n",
       "      <td>32821</td>\n",
       "      <td>NaN</td>\n",
       "      <td>NaN</td>\n",
       "      <td>NaN</td>\n",
       "      <td>NaN</td>\n",
       "      <td>NaN</td>\n",
       "      <td>NaN</td>\n",
       "      <td>1832418602869683763</td>\n",
       "      <td>NaN</td>\n",
       "      <td>V0481</td>\n",
       "      <td>44837741</td>\n",
       "      <td>NaN</td>\n",
       "      <td>NaN</td>\n",
       "    </tr>\n",
       "    <tr>\n",
       "      <th>3</th>\n",
       "      <td>-3000731179192887483</td>\n",
       "      <td>7131048714591189903</td>\n",
       "      <td>4296248</td>\n",
       "      <td>2189-05-22</td>\n",
       "      <td>2189-05-22 23:18:00</td>\n",
       "      <td>32817</td>\n",
       "      <td>NaN</td>\n",
       "      <td>Septicemia &amp; Disseminated Infections</td>\n",
       "      <td>0.0</td>\n",
       "      <td>NaN</td>\n",
       "      <td>NaN</td>\n",
       "      <td>NaN</td>\n",
       "      <td>1832418602869683763</td>\n",
       "      <td>NaN</td>\n",
       "      <td>7203</td>\n",
       "      <td>0</td>\n",
       "      <td>NaN</td>\n",
       "      <td>NaN</td>\n",
       "    </tr>\n",
       "    <tr>\n",
       "      <th>4</th>\n",
       "      <td>-8633553265894813739</td>\n",
       "      <td>7131048714591189903</td>\n",
       "      <td>4296248</td>\n",
       "      <td>2189-05-22</td>\n",
       "      <td>2189-05-22 23:18:00</td>\n",
       "      <td>32817</td>\n",
       "      <td>NaN</td>\n",
       "      <td>Septicemia &amp; Disseminated Infections</td>\n",
       "      <td>0.0</td>\n",
       "      <td>NaN</td>\n",
       "      <td>NaN</td>\n",
       "      <td>NaN</td>\n",
       "      <td>1832418602869683763</td>\n",
       "      <td>NaN</td>\n",
       "      <td>7203</td>\n",
       "      <td>0</td>\n",
       "      <td>NaN</td>\n",
       "      <td>NaN</td>\n",
       "    </tr>\n",
       "  </tbody>\n",
       "</table>\n",
       "</div>"
      ],
      "text/plain": [
       "        observation_id            person_id  observation_concept_id  \\\n",
       "0 -7221215846302395378  7131048714591189903                 4215685   \n",
       "1 -9113461341871004757  7131048714591189903                  440922   \n",
       "2 -6378179537712623650  7131048714591189903                44784283   \n",
       "3 -3000731179192887483  7131048714591189903                 4296248   \n",
       "4 -8633553265894813739  7131048714591189903                 4296248   \n",
       "\n",
       "  observation_date observation_datetime  observation_type_concept_id  \\\n",
       "0       2189-05-22  2189-05-22 23:18:00                        32821   \n",
       "1       2189-05-22  2189-05-22 23:18:00                        32821   \n",
       "2       2189-05-22  2189-05-22 23:18:00                        32821   \n",
       "3       2189-05-22  2189-05-22 23:18:00                        32817   \n",
       "4       2189-05-22  2189-05-22 23:18:00                        32817   \n",
       "\n",
       "   value_as_number                       value_as_string  value_as_concept_id  \\\n",
       "0              NaN                                   NaN                  NaN   \n",
       "1              NaN                                   NaN                  NaN   \n",
       "2              NaN                                   NaN                  NaN   \n",
       "3              NaN  Septicemia & Disseminated Infections                  0.0   \n",
       "4              NaN  Septicemia & Disseminated Infections                  0.0   \n",
       "\n",
       "   qualifier_concept_id  unit_concept_id  provider_id  visit_occurrence_id  \\\n",
       "0                   NaN              NaN          NaN  1832418602869683763   \n",
       "1                   NaN              NaN          NaN  1832418602869683763   \n",
       "2                   NaN              NaN          NaN  1832418602869683763   \n",
       "3                   NaN              NaN          NaN  1832418602869683763   \n",
       "4                   NaN              NaN          NaN  1832418602869683763   \n",
       "\n",
       "   visit_detail_id observation_source_value  observation_source_concept_id  \\\n",
       "0              NaN                  V4972                         44827368   \n",
       "1              NaN                  V5867                         44820462   \n",
       "2              NaN                  V0481                         44837741   \n",
       "3              NaN                     7203                              0   \n",
       "4              NaN                     7203                              0   \n",
       "\n",
       "   unit_source_value  qualifier_source_value  \n",
       "0                NaN                     NaN  \n",
       "1                NaN                     NaN  \n",
       "2                NaN                     NaN  \n",
       "3                NaN                     NaN  \n",
       "4                NaN                     NaN  "
      ]
     },
     "metadata": {},
     "output_type": "display_data"
    },
    {
     "name": "stdout",
     "output_type": "stream",
     "text": [
      "specimen.csv\n"
     ]
    },
    {
     "data": {
      "text/html": [
       "<div>\n",
       "<style scoped>\n",
       "    .dataframe tbody tr th:only-of-type {\n",
       "        vertical-align: middle;\n",
       "    }\n",
       "\n",
       "    .dataframe tbody tr th {\n",
       "        vertical-align: top;\n",
       "    }\n",
       "\n",
       "    .dataframe thead th {\n",
       "        text-align: right;\n",
       "    }\n",
       "</style>\n",
       "<table border=\"1\" class=\"dataframe\">\n",
       "  <thead>\n",
       "    <tr style=\"text-align: right;\">\n",
       "      <th></th>\n",
       "      <th>specimen_id</th>\n",
       "      <th>person_id</th>\n",
       "      <th>specimen_concept_id</th>\n",
       "      <th>specimen_type_concept_id</th>\n",
       "      <th>specimen_date</th>\n",
       "      <th>specimen_datetime</th>\n",
       "      <th>quantity</th>\n",
       "      <th>unit_concept_id</th>\n",
       "      <th>anatomic_site_concept_id</th>\n",
       "      <th>disease_status_concept_id</th>\n",
       "      <th>specimen_source_id</th>\n",
       "      <th>specimen_source_value</th>\n",
       "      <th>unit_source_value</th>\n",
       "      <th>anatomic_site_source_value</th>\n",
       "      <th>disease_status_source_value</th>\n",
       "    </tr>\n",
       "  </thead>\n",
       "  <tbody>\n",
       "    <tr>\n",
       "      <th>0</th>\n",
       "      <td>-5102033398575528989</td>\n",
       "      <td>4668337230155062633</td>\n",
       "      <td>4001183</td>\n",
       "      <td>32856</td>\n",
       "      <td>2117-07-16</td>\n",
       "      <td>2117-07-16 10:00:00</td>\n",
       "      <td>NaN</td>\n",
       "      <td>NaN</td>\n",
       "      <td>0</td>\n",
       "      <td>0</td>\n",
       "      <td>{\"subject_id\":10021487,\"hadm_id\":20429160,\"mic...</td>\n",
       "      <td>70003</td>\n",
       "      <td>NaN</td>\n",
       "      <td>NaN</td>\n",
       "      <td>NaN</td>\n",
       "    </tr>\n",
       "    <tr>\n",
       "      <th>1</th>\n",
       "      <td>5035924384215166531</td>\n",
       "      <td>2288881942133868955</td>\n",
       "      <td>4001183</td>\n",
       "      <td>32856</td>\n",
       "      <td>2157-11-20</td>\n",
       "      <td>2157-11-20 12:20:00</td>\n",
       "      <td>NaN</td>\n",
       "      <td>NaN</td>\n",
       "      <td>0</td>\n",
       "      <td>0</td>\n",
       "      <td>{\"subject_id\":10001217,\"hadm_id\":24597018,\"mic...</td>\n",
       "      <td>70003</td>\n",
       "      <td>NaN</td>\n",
       "      <td>NaN</td>\n",
       "      <td>NaN</td>\n",
       "    </tr>\n",
       "    <tr>\n",
       "      <th>2</th>\n",
       "      <td>4680974717267536012</td>\n",
       "      <td>3192038106523208432</td>\n",
       "      <td>4001183</td>\n",
       "      <td>32856</td>\n",
       "      <td>2136-04-19</td>\n",
       "      <td>2136-04-19 14:33:00</td>\n",
       "      <td>NaN</td>\n",
       "      <td>NaN</td>\n",
       "      <td>0</td>\n",
       "      <td>0</td>\n",
       "      <td>{\"subject_id\":10007795,\"hadm_id\":28477357,\"mic...</td>\n",
       "      <td>70003</td>\n",
       "      <td>NaN</td>\n",
       "      <td>NaN</td>\n",
       "      <td>NaN</td>\n",
       "    </tr>\n",
       "    <tr>\n",
       "      <th>3</th>\n",
       "      <td>1036293910445291253</td>\n",
       "      <td>3192038106523208432</td>\n",
       "      <td>4001183</td>\n",
       "      <td>32856</td>\n",
       "      <td>2136-05-05</td>\n",
       "      <td>2136-05-05 11:00:00</td>\n",
       "      <td>NaN</td>\n",
       "      <td>NaN</td>\n",
       "      <td>0</td>\n",
       "      <td>0</td>\n",
       "      <td>{\"subject_id\":10007795,\"hadm_id\":25135483,\"mic...</td>\n",
       "      <td>70003</td>\n",
       "      <td>NaN</td>\n",
       "      <td>NaN</td>\n",
       "      <td>NaN</td>\n",
       "    </tr>\n",
       "    <tr>\n",
       "      <th>4</th>\n",
       "      <td>4665676571104609028</td>\n",
       "      <td>3192038106523208432</td>\n",
       "      <td>4001183</td>\n",
       "      <td>32856</td>\n",
       "      <td>2136-04-27</td>\n",
       "      <td>2136-04-27 00:00:00</td>\n",
       "      <td>NaN</td>\n",
       "      <td>NaN</td>\n",
       "      <td>0</td>\n",
       "      <td>0</td>\n",
       "      <td>{\"subject_id\":10007795,\"hadm_id\":null,\"microev...</td>\n",
       "      <td>70003</td>\n",
       "      <td>NaN</td>\n",
       "      <td>NaN</td>\n",
       "      <td>NaN</td>\n",
       "    </tr>\n",
       "  </tbody>\n",
       "</table>\n",
       "</div>"
      ],
      "text/plain": [
       "           specimen_id            person_id  specimen_concept_id  \\\n",
       "0 -5102033398575528989  4668337230155062633              4001183   \n",
       "1  5035924384215166531  2288881942133868955              4001183   \n",
       "2  4680974717267536012  3192038106523208432              4001183   \n",
       "3  1036293910445291253  3192038106523208432              4001183   \n",
       "4  4665676571104609028  3192038106523208432              4001183   \n",
       "\n",
       "   specimen_type_concept_id specimen_date    specimen_datetime  quantity  \\\n",
       "0                     32856    2117-07-16  2117-07-16 10:00:00       NaN   \n",
       "1                     32856    2157-11-20  2157-11-20 12:20:00       NaN   \n",
       "2                     32856    2136-04-19  2136-04-19 14:33:00       NaN   \n",
       "3                     32856    2136-05-05  2136-05-05 11:00:00       NaN   \n",
       "4                     32856    2136-04-27  2136-04-27 00:00:00       NaN   \n",
       "\n",
       "   unit_concept_id  anatomic_site_concept_id  disease_status_concept_id  \\\n",
       "0              NaN                         0                          0   \n",
       "1              NaN                         0                          0   \n",
       "2              NaN                         0                          0   \n",
       "3              NaN                         0                          0   \n",
       "4              NaN                         0                          0   \n",
       "\n",
       "                                  specimen_source_id  specimen_source_value  \\\n",
       "0  {\"subject_id\":10021487,\"hadm_id\":20429160,\"mic...                  70003   \n",
       "1  {\"subject_id\":10001217,\"hadm_id\":24597018,\"mic...                  70003   \n",
       "2  {\"subject_id\":10007795,\"hadm_id\":28477357,\"mic...                  70003   \n",
       "3  {\"subject_id\":10007795,\"hadm_id\":25135483,\"mic...                  70003   \n",
       "4  {\"subject_id\":10007795,\"hadm_id\":null,\"microev...                  70003   \n",
       "\n",
       "   unit_source_value  anatomic_site_source_value  disease_status_source_value  \n",
       "0                NaN                         NaN                          NaN  \n",
       "1                NaN                         NaN                          NaN  \n",
       "2                NaN                         NaN                          NaN  \n",
       "3                NaN                         NaN                          NaN  \n",
       "4                NaN                         NaN                          NaN  "
      ]
     },
     "metadata": {},
     "output_type": "display_data"
    }
   ],
   "source": [
    "liste = ['2b_concept.csv','cohort_attribute.csv','death.csv','location.csv','observation_period.csv','visit_detail.csv',\n",
    "         '2b_concept_relationship.csv','cohort.csv','device_exposure.csv','measurement.csv','payer_plan_period.csv','visit_occurrence.csv',\n",
    "         '2b_vocabulary.csv','cohort_definition.csv','dose_era.csv','metadata.csv','person.csv',\n",
    "         'attribute_definition.csv','condition_era.csv','drug_era.csv','note.csv','procedure_occurrence.csv',\n",
    "         'care_site.csv','condition_occurrence.csv','drug_exposure.csv','note_nlp.csv','provider.csv',\n",
    "         'cdm_source.csv','cost.csv','fact_relationship.csv','observation.csv','specimen.csv']\n",
    "\n",
    "for fich in liste:\n",
    "    print(fich)\n",
    "    temp = pd.read_csv(f'../Downloads/Data/{fich}')#, sep='\\t')\n",
    "    display(temp.head())\n",
    "\n",
    "# measurement -> units ?\n",
    "# 2b_concept -W Drug name ?"
   ]
  },
  {
   "cell_type": "code",
   "execution_count": 14,
   "metadata": {},
   "outputs": [
    {
     "name": "stderr",
     "output_type": "stream",
     "text": [
      "/tmp/ipykernel_11458/2246964919.py:2: DtypeWarning: Columns (16) have mixed types. Specify dtype option on import or set low_memory=False.\n",
      "  mea = pd.read_csv(f'../Downloads/Data/{fich}')#, sep='\\t')\n"
     ]
    }
   ],
   "source": [
    "fich = 'measurement.csv'\n",
    "mea = pd.read_csv(f'../Downloads/Data/{fich}')#, sep='\\t')\n",
    "print(mea.shape) #(338550, 20)\n",
    "\n",
    "fich = '2b_concept.csv'\n",
    "twob_con = pd.read_csv(f'../Downloads/Data/{fich}')#, sep='\\t')\n",
    "print(twob_con.shape) #(3885, 10)\n",
    "\n",
    "# measurement -> units ?\n",
    "# 2b_concept -W Drug name ?"
   ]
  },
  {
   "cell_type": "code",
   "execution_count": 25,
   "metadata": {},
   "outputs": [
    {
     "data": {
      "text/plain": [
       "unit_source_value\n",
       "mmHg        58321\n",
       "%           33430\n",
       "mEq/L       23145\n",
       "mg/dL       22902\n",
       "insp/min    21782\n",
       "            ...  \n",
       "hrs             1\n",
       "GPL             1\n",
       "MPL             1\n",
       "mL/min          1\n",
       "U/g/Hb          1\n",
       "Name: count, Length: 71, dtype: int64"
      ]
     },
     "execution_count": 25,
     "metadata": {},
     "output_type": "execute_result"
    }
   ],
   "source": [
    "mea.head() # measurment is 1 measurment.... so depends on people and so.... I can use the unit_source_value alright, but nothing to o with what I want !!!!\n",
    "mea.loc[mea.unit_concept_id == 8576] # Nope\n",
    "\n",
    "mea.unit_source_value.value_counts() # ok, but not the dictionnary as I want"
   ]
  },
  {
   "cell_type": "code",
   "execution_count": 17,
   "metadata": {},
   "outputs": [
    {
     "name": "stdout",
     "output_type": "stream",
     "text": [
      "(3885, 10)\n"
     ]
    },
    {
     "data": {
      "text/html": [
       "<div>\n",
       "<style scoped>\n",
       "    .dataframe tbody tr th:only-of-type {\n",
       "        vertical-align: middle;\n",
       "    }\n",
       "\n",
       "    .dataframe tbody tr th {\n",
       "        vertical-align: top;\n",
       "    }\n",
       "\n",
       "    .dataframe thead th {\n",
       "        text-align: right;\n",
       "    }\n",
       "</style>\n",
       "<table border=\"1\" class=\"dataframe\">\n",
       "  <thead>\n",
       "    <tr style=\"text-align: right;\">\n",
       "      <th></th>\n",
       "      <th>concept_id</th>\n",
       "      <th>concept_name</th>\n",
       "      <th>domain_id</th>\n",
       "      <th>vocabulary_id</th>\n",
       "      <th>concept_class_id</th>\n",
       "      <th>standard_concept</th>\n",
       "      <th>concept_code</th>\n",
       "      <th>valid_start_DATE</th>\n",
       "      <th>valid_end_DATE</th>\n",
       "      <th>invalid_reason</th>\n",
       "    </tr>\n",
       "  </thead>\n",
       "  <tbody>\n",
       "    <tr>\n",
       "      <th>0</th>\n",
       "      <td>2000011360</td>\n",
       "      <td>Caffeine Citrate 1 Syringe</td>\n",
       "      <td>Drug</td>\n",
       "      <td>mimiciv_drug_ndc</td>\n",
       "      <td>Prescription Drug</td>\n",
       "      <td>NaN</td>\n",
       "      <td>Caffeine Citrate 1 Syringe</td>\n",
       "      <td>1970-01-01</td>\n",
       "      <td>2099-12-31</td>\n",
       "      <td>NaN</td>\n",
       "    </tr>\n",
       "    <tr>\n",
       "      <th>1</th>\n",
       "      <td>2000010536</td>\n",
       "      <td>Acetaminophen</td>\n",
       "      <td>Drug</td>\n",
       "      <td>mimiciv_drug_ndc</td>\n",
       "      <td>Prescription Drug</td>\n",
       "      <td>NaN</td>\n",
       "      <td>ACETAMINOPHEN (RECTAL)</td>\n",
       "      <td>1970-01-01</td>\n",
       "      <td>2099-12-31</td>\n",
       "      <td>NaN</td>\n",
       "    </tr>\n",
       "    <tr>\n",
       "      <th>2</th>\n",
       "      <td>2000011213</td>\n",
       "      <td>Melatonin 1 MG</td>\n",
       "      <td>Drug</td>\n",
       "      <td>mimiciv_drug_ndc</td>\n",
       "      <td>Prescription Drug</td>\n",
       "      <td>NaN</td>\n",
       "      <td>melatonin 1</td>\n",
       "      <td>1970-01-01</td>\n",
       "      <td>2099-12-31</td>\n",
       "      <td>NaN</td>\n",
       "    </tr>\n",
       "    <tr>\n",
       "      <th>3</th>\n",
       "      <td>2000011355</td>\n",
       "      <td>0.9% Sodium Chloride 100 mL Bag</td>\n",
       "      <td>Drug</td>\n",
       "      <td>mimiciv_drug_ndc</td>\n",
       "      <td>Prescription Drug</td>\n",
       "      <td>NaN</td>\n",
       "      <td>0.9% Sodium Chloride 100 mL Bag</td>\n",
       "      <td>1970-01-01</td>\n",
       "      <td>2099-12-31</td>\n",
       "      <td>NaN</td>\n",
       "    </tr>\n",
       "    <tr>\n",
       "      <th>4</th>\n",
       "      <td>2000010313</td>\n",
       "      <td>Vancomycin</td>\n",
       "      <td>Drug</td>\n",
       "      <td>mimiciv_drug_ndc</td>\n",
       "      <td>Prescription Drug</td>\n",
       "      <td>NaN</td>\n",
       "      <td>Vancomycin ophthalmic 50mg/ml bottle</td>\n",
       "      <td>1970-01-01</td>\n",
       "      <td>2099-12-31</td>\n",
       "      <td>NaN</td>\n",
       "    </tr>\n",
       "  </tbody>\n",
       "</table>\n",
       "</div>"
      ],
      "text/plain": [
       "   concept_id                     concept_name domain_id     vocabulary_id  \\\n",
       "0  2000011360       Caffeine Citrate 1 Syringe      Drug  mimiciv_drug_ndc   \n",
       "1  2000010536                    Acetaminophen      Drug  mimiciv_drug_ndc   \n",
       "2  2000011213                   Melatonin 1 MG      Drug  mimiciv_drug_ndc   \n",
       "3  2000011355  0.9% Sodium Chloride 100 mL Bag      Drug  mimiciv_drug_ndc   \n",
       "4  2000010313                       Vancomycin      Drug  mimiciv_drug_ndc   \n",
       "\n",
       "    concept_class_id standard_concept                          concept_code  \\\n",
       "0  Prescription Drug              NaN            Caffeine Citrate 1 Syringe   \n",
       "1  Prescription Drug              NaN               ACETAMINOPHEN (RECTAL)    \n",
       "2  Prescription Drug              NaN                           melatonin 1   \n",
       "3  Prescription Drug              NaN       0.9% Sodium Chloride 100 mL Bag   \n",
       "4  Prescription Drug              NaN  Vancomycin ophthalmic 50mg/ml bottle   \n",
       "\n",
       "  valid_start_DATE valid_end_DATE  invalid_reason  \n",
       "0       1970-01-01     2099-12-31             NaN  \n",
       "1       1970-01-01     2099-12-31             NaN  \n",
       "2       1970-01-01     2099-12-31             NaN  \n",
       "3       1970-01-01     2099-12-31             NaN  \n",
       "4       1970-01-01     2099-12-31             NaN  "
      ]
     },
     "execution_count": 17,
     "metadata": {},
     "output_type": "execute_result"
    }
   ],
   "source": [
    "twob_con.head()\n"
   ]
  },
  {
   "cell_type": "markdown",
   "metadata": {},
   "source": [
    "# Dico / Nom des médoc:\n",
    "2b_concept.\n",
    "Mais je n'ai pas leur concept_id ok.... why ????"
   ]
  },
  {
   "cell_type": "code",
   "execution_count": 34,
   "metadata": {},
   "outputs": [
    {
     "data": {
      "text/plain": [
       "count    3885.0\n",
       "mean        1.0\n",
       "std         0.0\n",
       "min         1.0\n",
       "25%         1.0\n",
       "50%         1.0\n",
       "75%         1.0\n",
       "max         1.0\n",
       "Name: count, dtype: float64"
      ]
     },
     "execution_count": 34,
     "metadata": {},
     "output_type": "execute_result"
    }
   ],
   "source": [
    "#twob_con.loc[twob_con.concept_id = 723020] # None\n",
    "\n",
    "twob_con.concept_id.value_counts().describe() # 1 everywhere. concept_id being the primary key.... But doesn't fit with my values earlier, like 723020.*\n",
    "twob_con.concept_name.value_counts().describe() # not 1 everywhere -> several medoc. medicine .\n",
    "twob_con[twob_con.concept_name == 'Vancomycin'] # concept_id being the primary key.... But doesn't fit with my values earlier, like 723020.\n",
    "\n",
    "'''\n",
    "SOMETIMES, SOME ARE THE SAME? BUT WRITTEN DIFFERENTLY\n",
    "\tconcept_id\tconcept_name\tdomain_id\tvocabulary_id\tconcept_class_id\tstandard_concept\tconcept_code\tvalid_start_DATE\tvalid_end_DATE\tinvalid_reason\n",
    "4\t2000010313\tVancomycin\tDrug\tmimiciv_drug_ndc\tPrescription Drug\tNaN\tVancomycin ophthalmic 50mg/ml bottle\t1970-01-01\t2099-12-31\tNaN\n",
    "134\t2000011142\tVancomycin\tDrug\tmimiciv_drug_ndc\tPrescription Drug\tNaN\tVancomycin fortified opthalmic 50mg/ml\t1970-01-01\t2099-12-31\tNaN\n",
    "211\t2000011334\tVancomycin\tDrug\tmimiciv_drug_ndc\tPrescription Drug\tNaN\tVancomycin ophthalmic solution 50mg/ml\t1970-01-01\t2099-12-31\tNaN\n",
    "411\t2000010294\tVancomycin\tDrug\tmimiciv_drug_ndc\tPrescription Drug\tNaN\tvancoMYCIN for nasal inhalation 200 mg / 2 mL\t1970-01-01\t2099-12-31\tNaN\n",
    "1020\t2000010348\tVancomycin\tDrug\tmimiciv_drug_ndc\tPrescription Drug\tNaN\tvancoMYCIN for inhalation 200 mg / 2 mL\t1970-01-01\t2099-12-31\tNaN\n",
    "1086\t2000010020\tVancomycin\tDrug\tmimiciv_drug_ndc\tPrescription Drug\tNaN\tVancomycin HCl 1GM FROZ. BAG\t1970-01-01\t2099-12-31\tNaN\n",
    "1371\t2000010621\tVancomycin\tDrug\tmimiciv_drug_ndc\tPrescription Drug\tNaN\tVancomycin Enema 200mg/100ml ns\t1970-01-01\t2099-12-31\tNaN\n",
    "1384\t2000011343\tVancomycin\tDrug\tmimiciv_drug_ndc\tPrescription Drug\tNaN\tVancomycin Enema Vancomycin 1mg/ml\t1970-01-01\t2099-12-31\tNaN\n",
    "\n",
    "concept name - medoc de départ\n",
    "concept code - nom donné dans les BDD\n",
    "\n",
    "\n",
    "'''\n",
    "\n",
    "#Ok. Cool le nom des médoc', mais pourquoi, je n'ai pas leur concept_id..."
   ]
  },
  {
   "cell_type": "code",
   "execution_count": 38,
   "metadata": {},
   "outputs": [
    {
     "name": "stdout",
     "output_type": "stream",
     "text": [
      "(7716, 6)\n"
     ]
    },
    {
     "data": {
      "text/html": [
       "<div>\n",
       "<style scoped>\n",
       "    .dataframe tbody tr th:only-of-type {\n",
       "        vertical-align: middle;\n",
       "    }\n",
       "\n",
       "    .dataframe tbody tr th {\n",
       "        vertical-align: top;\n",
       "    }\n",
       "\n",
       "    .dataframe thead th {\n",
       "        text-align: right;\n",
       "    }\n",
       "</style>\n",
       "<table border=\"1\" class=\"dataframe\">\n",
       "  <thead>\n",
       "    <tr style=\"text-align: right;\">\n",
       "      <th></th>\n",
       "      <th>concept_id_1</th>\n",
       "      <th>concept_id_2</th>\n",
       "      <th>relationship_id</th>\n",
       "      <th>valid_start_DATE</th>\n",
       "      <th>valid_end_DATE</th>\n",
       "      <th>invalid_reason</th>\n",
       "    </tr>\n",
       "  </thead>\n",
       "  <tbody>\n",
       "    <tr>\n",
       "      <th>0</th>\n",
       "      <td>2000003069</td>\n",
       "      <td>4022792</td>\n",
       "      <td>Maps to</td>\n",
       "      <td>1970-01-01</td>\n",
       "      <td>2099-12-31</td>\n",
       "      <td>NaN</td>\n",
       "    </tr>\n",
       "    <tr>\n",
       "      <th>1</th>\n",
       "      <td>2000010663</td>\n",
       "      <td>40164921</td>\n",
       "      <td>Maps to</td>\n",
       "      <td>1970-01-01</td>\n",
       "      <td>2099-12-31</td>\n",
       "      <td>NaN</td>\n",
       "    </tr>\n",
       "    <tr>\n",
       "      <th>2</th>\n",
       "      <td>2000020189</td>\n",
       "      <td>38001595</td>\n",
       "      <td>Maps to</td>\n",
       "      <td>1970-01-01</td>\n",
       "      <td>2099-12-31</td>\n",
       "      <td>NaN</td>\n",
       "    </tr>\n",
       "    <tr>\n",
       "      <th>3</th>\n",
       "      <td>2000020866</td>\n",
       "      <td>38001445</td>\n",
       "      <td>Maps to</td>\n",
       "      <td>1970-01-01</td>\n",
       "      <td>2099-12-31</td>\n",
       "      <td>NaN</td>\n",
       "    </tr>\n",
       "    <tr>\n",
       "      <th>4</th>\n",
       "      <td>2000020336</td>\n",
       "      <td>38001223</td>\n",
       "      <td>Maps to</td>\n",
       "      <td>1970-01-01</td>\n",
       "      <td>2099-12-31</td>\n",
       "      <td>NaN</td>\n",
       "    </tr>\n",
       "    <tr>\n",
       "      <th>...</th>\n",
       "      <td>...</td>\n",
       "      <td>...</td>\n",
       "      <td>...</td>\n",
       "      <td>...</td>\n",
       "      <td>...</td>\n",
       "      <td>...</td>\n",
       "    </tr>\n",
       "    <tr>\n",
       "      <th>7711</th>\n",
       "      <td>4078442</td>\n",
       "      <td>2000004053</td>\n",
       "      <td>Mapped from</td>\n",
       "      <td>1970-01-01</td>\n",
       "      <td>2099-12-31</td>\n",
       "      <td>NaN</td>\n",
       "    </tr>\n",
       "    <tr>\n",
       "      <th>7712</th>\n",
       "      <td>4078442</td>\n",
       "      <td>2000004125</td>\n",
       "      <td>Mapped from</td>\n",
       "      <td>1970-01-01</td>\n",
       "      <td>2099-12-31</td>\n",
       "      <td>NaN</td>\n",
       "    </tr>\n",
       "    <tr>\n",
       "      <th>7713</th>\n",
       "      <td>4078442</td>\n",
       "      <td>2000004083</td>\n",
       "      <td>Mapped from</td>\n",
       "      <td>1970-01-01</td>\n",
       "      <td>2099-12-31</td>\n",
       "      <td>NaN</td>\n",
       "    </tr>\n",
       "    <tr>\n",
       "      <th>7714</th>\n",
       "      <td>4078442</td>\n",
       "      <td>2000004015</td>\n",
       "      <td>Mapped from</td>\n",
       "      <td>1970-01-01</td>\n",
       "      <td>2099-12-31</td>\n",
       "      <td>NaN</td>\n",
       "    </tr>\n",
       "    <tr>\n",
       "      <th>7715</th>\n",
       "      <td>4078442</td>\n",
       "      <td>2000004096</td>\n",
       "      <td>Mapped from</td>\n",
       "      <td>1970-01-01</td>\n",
       "      <td>2099-12-31</td>\n",
       "      <td>NaN</td>\n",
       "    </tr>\n",
       "  </tbody>\n",
       "</table>\n",
       "<p>7716 rows × 6 columns</p>\n",
       "</div>"
      ],
      "text/plain": [
       "      concept_id_1  concept_id_2 relationship_id valid_start_DATE  \\\n",
       "0       2000003069       4022792         Maps to       1970-01-01   \n",
       "1       2000010663      40164921         Maps to       1970-01-01   \n",
       "2       2000020189      38001595         Maps to       1970-01-01   \n",
       "3       2000020866      38001445         Maps to       1970-01-01   \n",
       "4       2000020336      38001223         Maps to       1970-01-01   \n",
       "...            ...           ...             ...              ...   \n",
       "7711       4078442    2000004053     Mapped from       1970-01-01   \n",
       "7712       4078442    2000004125     Mapped from       1970-01-01   \n",
       "7713       4078442    2000004083     Mapped from       1970-01-01   \n",
       "7714       4078442    2000004015     Mapped from       1970-01-01   \n",
       "7715       4078442    2000004096     Mapped from       1970-01-01   \n",
       "\n",
       "     valid_end_DATE  invalid_reason  \n",
       "0        2099-12-31             NaN  \n",
       "1        2099-12-31             NaN  \n",
       "2        2099-12-31             NaN  \n",
       "3        2099-12-31             NaN  \n",
       "4        2099-12-31             NaN  \n",
       "...             ...             ...  \n",
       "7711     2099-12-31             NaN  \n",
       "7712     2099-12-31             NaN  \n",
       "7713     2099-12-31             NaN  \n",
       "7714     2099-12-31             NaN  \n",
       "7715     2099-12-31             NaN  \n",
       "\n",
       "[7716 rows x 6 columns]"
      ]
     },
     "execution_count": 38,
     "metadata": {},
     "output_type": "execute_result"
    }
   ],
   "source": [
    "fich = '2b_concept_relationship.csv'\n",
    "twob_con_rel = pd.read_csv(f'../Downloads/Data/{fich}')#, sep='\\t')\n",
    "print(twob_con_rel.shape) #(7716, 6)\n",
    "twob_con_rel\n",
    "\n",
    "twob_con_rel.info() #concept_id        3885 non-null   int64"
   ]
  },
  {
   "cell_type": "code",
   "execution_count": 67,
   "metadata": {},
   "outputs": [
    {
     "data": {
      "text/html": [
       "<div>\n",
       "<style scoped>\n",
       "    .dataframe tbody tr th:only-of-type {\n",
       "        vertical-align: middle;\n",
       "    }\n",
       "\n",
       "    .dataframe tbody tr th {\n",
       "        vertical-align: top;\n",
       "    }\n",
       "\n",
       "    .dataframe thead th {\n",
       "        text-align: right;\n",
       "    }\n",
       "</style>\n",
       "<table border=\"1\" class=\"dataframe\">\n",
       "  <thead>\n",
       "    <tr style=\"text-align: right;\">\n",
       "      <th></th>\n",
       "      <th>concept_id_1</th>\n",
       "      <th>concept_id_2</th>\n",
       "      <th>relationship_id</th>\n",
       "      <th>valid_start_DATE</th>\n",
       "      <th>valid_end_DATE</th>\n",
       "      <th>invalid_reason</th>\n",
       "    </tr>\n",
       "  </thead>\n",
       "  <tbody>\n",
       "  </tbody>\n",
       "</table>\n",
       "</div>"
      ],
      "text/plain": [
       "Empty DataFrame\n",
       "Columns: [concept_id_1, concept_id_2, relationship_id, valid_start_DATE, valid_end_DATE, invalid_reason]\n",
       "Index: []"
      ]
     },
     "execution_count": 67,
     "metadata": {},
     "output_type": "execute_result"
    }
   ],
   "source": [
    "twob_con_rel.loc[twob_con_rel.concept_id_1 == 2000010348] \n",
    "''' \n",
    "    concept_id_1\tconcept_id_2\trelationship_id\tvalid_start_DATE\tvalid_end_DATE\tinvalid_reason\n",
    "872\t2000010348\t    1707687\t        Maps to\t        1970-01-01\t        2099-12-31      \tNaN\n",
    "'''\n",
    "twob_con_rel.loc[twob_con_rel.concept_id_2 == 40232756] # 1707687 being the ingredient\n"
   ]
  },
  {
   "cell_type": "code",
   "execution_count": 71,
   "metadata": {},
   "outputs": [
    {
     "name": "stdout",
     "output_type": "stream",
     "text": [
      "<class 'pandas.core.frame.DataFrame'>\n",
      "RangeIndex: 7716 entries, 0 to 7715\n",
      "Data columns (total 6 columns):\n",
      " #   Column            Non-Null Count  Dtype  \n",
      "---  ------            --------------  -----  \n",
      " 0   concept_id_1      7716 non-null   int64  \n",
      " 1   concept_id_2      7716 non-null   int64  \n",
      " 2   relationship_id   7716 non-null   object \n",
      " 3   valid_start_DATE  7716 non-null   object \n",
      " 4   valid_end_DATE    7716 non-null   object \n",
      " 5   invalid_reason    0 non-null      float64\n",
      "dtypes: float64(1), int64(2), object(3)\n",
      "memory usage: 361.8+ KB\n"
     ]
    }
   ],
   "source": [
    "twob_con_rel.info() #concept_id        3885 non-null   int64"
   ]
  },
  {
   "cell_type": "code",
   "execution_count": 66,
   "metadata": {},
   "outputs": [
    {
     "data": {
      "text/html": [
       "<div>\n",
       "<style scoped>\n",
       "    .dataframe tbody tr th:only-of-type {\n",
       "        vertical-align: middle;\n",
       "    }\n",
       "\n",
       "    .dataframe tbody tr th {\n",
       "        vertical-align: top;\n",
       "    }\n",
       "\n",
       "    .dataframe thead th {\n",
       "        text-align: right;\n",
       "    }\n",
       "</style>\n",
       "<table border=\"1\" class=\"dataframe\">\n",
       "  <thead>\n",
       "    <tr style=\"text-align: right;\">\n",
       "      <th></th>\n",
       "      <th>concept_id_1</th>\n",
       "      <th>concept_id_2</th>\n",
       "      <th>relationship_id</th>\n",
       "      <th>valid_start_DATE</th>\n",
       "      <th>valid_end_DATE</th>\n",
       "      <th>invalid_reason</th>\n",
       "    </tr>\n",
       "  </thead>\n",
       "  <tbody>\n",
       "  </tbody>\n",
       "</table>\n",
       "</div>"
      ],
      "text/plain": [
       "Empty DataFrame\n",
       "Columns: [concept_id_1, concept_id_2, relationship_id, valid_start_DATE, valid_end_DATE, invalid_reason]\n",
       "Index: []"
      ]
     },
     "execution_count": 66,
     "metadata": {},
     "output_type": "execute_result"
    }
   ],
   "source": [
    "twob_con_rel.loc[twob_con_rel.concept_id_1 == 40232756]  # None"
   ]
  },
  {
   "cell_type": "code",
   "execution_count": 49,
   "metadata": {},
   "outputs": [
    {
     "data": {
      "text/plain": [
       "concept_id_1\n",
       "4078442       73\n",
       "4001225       16\n",
       "4171047       15\n",
       "968426        13\n",
       "4141149       12\n",
       "              ..\n",
       "2000010662     1\n",
       "2000026270     1\n",
       "2000011212     1\n",
       "2000026279     1\n",
       "2000020750     1\n",
       "Name: count, Length: 6593, dtype: int64"
      ]
     },
     "execution_count": 49,
     "metadata": {},
     "output_type": "execute_result"
    }
   ],
   "source": [
    "\n",
    "twob_con_rel.concept_id_1.value_counts() # several/number"
   ]
  },
  {
   "cell_type": "code",
   "execution_count": 50,
   "metadata": {},
   "outputs": [
    {
     "data": {
      "text/plain": [
       "concept_id_2\n",
       "4078442       73\n",
       "4001225       16\n",
       "4171047       15\n",
       "968426        13\n",
       "4141149       12\n",
       "              ..\n",
       "38001575       1\n",
       "1748959        1\n",
       "38001591       1\n",
       "705944         1\n",
       "2000004096     1\n",
       "Name: count, Length: 6593, dtype: int64"
      ]
     },
     "execution_count": 50,
     "metadata": {},
     "output_type": "execute_result"
    }
   ],
   "source": [
    "twob_con_rel.concept_id_2.value_counts() # several/number"
   ]
  }
 ],
 "metadata": {
  "kernelspec": {
   "display_name": "Python 3",
   "language": "python",
   "name": "python3"
  },
  "language_info": {
   "codemirror_mode": {
    "name": "ipython",
    "version": 3
   },
   "file_extension": ".py",
   "mimetype": "text/x-python",
   "name": "python",
   "nbconvert_exporter": "python",
   "pygments_lexer": "ipython3",
   "version": "3.10.12"
  }
 },
 "nbformat": 4,
 "nbformat_minor": 2
}
