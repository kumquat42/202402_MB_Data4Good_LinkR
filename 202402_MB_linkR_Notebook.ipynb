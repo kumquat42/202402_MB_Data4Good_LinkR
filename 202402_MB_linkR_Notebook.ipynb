{
 "cells": [
  {
   "cell_type": "markdown",
   "metadata": {},
   "source": [
    "# LinkR - plugin Prescription"
   ]
  },
  {
   "cell_type": "code",
   "execution_count": 2,
   "metadata": {},
   "outputs": [],
   "source": [
    "# Librairies:\n",
    "\n",
    "import pandas as pd\n",
    "import seaborn as sns\n",
    "import matplotlib as plt\n",
    "import plotly.io as pio\n",
    "import plotly.express as px\n",
    "import plotly.graph_objs as go\n",
    "from plotly.subplots import make_subplots\n"
   ]
  },
  {
   "cell_type": "markdown",
   "metadata": {},
   "source": [
    "# Drug Exposure"
   ]
  },
  {
   "cell_type": "code",
   "execution_count": 3,
   "metadata": {},
   "outputs": [
    {
     "name": "stdout",
     "output_type": "stream",
     "text": [
      "(18229, 23)\n",
      "<class 'pandas.core.frame.DataFrame'>\n",
      "RangeIndex: 18229 entries, 0 to 18228\n",
      "Data columns (total 23 columns):\n",
      " #   Column                        Non-Null Count  Dtype  \n",
      "---  ------                        --------------  -----  \n",
      " 0   drug_exposure_id              18229 non-null  int64  \n",
      " 1   person_id                     18229 non-null  int64  \n",
      " 2   drug_concept_id               18229 non-null  int64  \n",
      " 3   drug_exposure_start_date      18229 non-null  object \n",
      " 4   drug_exposure_start_datetime  18229 non-null  object \n",
      " 5   drug_exposure_end_date        18229 non-null  object \n",
      " 6   drug_exposure_end_datetime    18229 non-null  object \n",
      " 7   verbatim_end_date             0 non-null      float64\n",
      " 8   drug_type_concept_id          18229 non-null  int64  \n",
      " 9   stop_reason                   0 non-null      float64\n",
      " 10  refills                       0 non-null      float64\n",
      " 11  quantity                      18220 non-null  float64\n",
      " 12  days_supply                   0 non-null      float64\n",
      " 13  sig                           0 non-null      float64\n",
      " 14  route_concept_id              18229 non-null  int64  \n",
      " 15  lot_number                    0 non-null      float64\n",
      " 16  provider_id                   0 non-null      float64\n",
      " 17  visit_occurrence_id           18229 non-null  int64  \n",
      " 18  visit_detail_id               0 non-null      float64\n",
      " 19  drug_source_value             18229 non-null  object \n",
      " 20  drug_source_concept_id        18229 non-null  int64  \n",
      " 21  route_source_value            18223 non-null  object \n",
      " 22  dose_unit_source_value        18220 non-null  object \n",
      "dtypes: float64(9), int64(7), object(7)\n",
      "memory usage: 3.2+ MB\n"
     ]
    }
   ],
   "source": [
    "drug_exposure = pd.read_csv('Data/drug_exposure.csv')\n",
    "print(drug_exposure.shape) #(18229, 23)\n",
    "'''\n",
    "['drug_exposure_id', 'person_id', 'drug_concept_id',\n",
    "       'drug_exposure_start_date', 'drug_exposure_start_datetime',\n",
    "       'drug_exposure_end_date', 'drug_exposure_end_datetime',\n",
    "       'verbatim_end_date', 'drug_type_concept_id', 'stop_reason', 'refills',\n",
    "       'quantity', 'days_supply', 'sig', 'route_concept_id', 'lot_number',\n",
    "       'provider_id', 'visit_occurrence_id', 'visit_detail_id',\n",
    "       'drug_source_value', 'drug_source_concept_id', 'route_source_value',\n",
    "       'dose_unit_source_value']\n",
    "'''\n",
    "drug_exposure.person_id.value_counts()\n",
    "'''\n",
    "person_id\n",
    " 7155255168997124770    1182\n",
    " 4783904755296699562     791\n",
    " 8090044958540695372     716\n",
    "-3908355835367628651     687\n",
    " 7131048714591189903     644\n",
    "                        ... \n",
    "-2575767131279873665      37\n",
    "-4183220989401122518      34\n",
    " 1740609625029317924      26\n",
    " 3912882389848878631      24\n",
    "-8769042030325953499      18\n",
    "'''\n",
    "drug_exposure.info()\n",
    "'''\n",
    "<class 'pandas.core.frame.DataFrame'>\n",
    "RangeIndex: 18229 entries, 0 to 18228\n",
    "Data columns (total 23 columns):\n",
    " #   Column                        Non-Null Count  Dtype  \n",
    "---  ------                        --------------  -----  \n",
    " 0   drug_exposure_id              18229 non-null  int64  \n",
    " 1   person_id                     18229 non-null  int64  \n",
    " 2   drug_concept_id               18229 non-null  int64  \n",
    " 3   drug_exposure_start_date      18229 non-null  object \n",
    " 4   drug_exposure_start_datetime  18229 non-null  object \n",
    " 5   drug_exposure_end_date        18229 non-null  object \n",
    " 6   drug_exposure_end_datetime    18229 non-null  object \n",
    " 7   verbatim_end_date             0 non-null      float64\n",
    " 8   drug_type_concept_id          18229 non-null  int64  \n",
    " 9   stop_reason                   0 non-null      float64\n",
    " 10  refills                       0 non-null      float64\n",
    " 11  quantity                      18220 non-null  float64\n",
    " 12  days_supply                   0 non-null      float64\n",
    " 13  sig                           0 non-null      float64\n",
    " 14  route_concept_id              18229 non-null  int64  \n",
    " 15  lot_number                    0 non-null      float64\n",
    " 16  provider_id                   0 non-null      float64\n",
    " 17  visit_occurrence_id           18229 non-null  int64  \n",
    " 18  visit_detail_id               0 non-null      float64\n",
    " 19  drug_source_value             18229 non-null  object \n",
    " 20  drug_source_concept_id        18229 non-null  int64  \n",
    " 21  route_source_value            18223 non-null  object \n",
    " 22  dose_unit_source_value        18220 non-null  object \n",
    " '''\n",
    "\n",
    "drug_exposure.head()\n",
    "\n",
    "liste_non_null = ['drug_exposure_id', 'person_id', 'drug_concept_id',  'drug_exposure_start_date', 'drug_exposure_start_datetime',\n",
    "       'drug_exposure_end_date', 'drug_exposure_end_datetime', 'drug_type_concept_id',   'quantity',\n",
    "       'route_concept_id', 'visit_occurrence_id', 'drug_source_value', 'drug_source_concept_id', 'route_source_value', 'dose_unit_source_value']\n"
   ]
  },
  {
   "cell_type": "code",
   "execution_count": null,
   "metadata": {},
   "outputs": [],
   "source": [
    "drug_exposure.describe()\n"
   ]
  },
  {
   "cell_type": "code",
   "execution_count": 17,
   "metadata": {},
   "outputs": [
    {
     "data": {
      "text/plain": [
       "0        32838\n",
       "1        32838\n",
       "2        32838\n",
       "3        32838\n",
       "4        32838\n",
       "         ...  \n",
       "18224    32838\n",
       "18225    32838\n",
       "18226    32838\n",
       "18227    32838\n",
       "18228    32838\n",
       "Name: drug_type_concept_id, Length: 18229, dtype: int64"
      ]
     },
     "execution_count": 17,
     "metadata": {},
     "output_type": "execute_result"
    }
   ],
   "source": [
    "drug_exposure.drug_type_concept_id"
   ]
  },
  {
   "cell_type": "markdown",
   "metadata": {},
   "source": [
    "### Patient 1: 3912882389848878631\n",
    "On se concentre sur un premier cas avec 24 lignes pour 1 personne: \n",
    "Attention, c'est un integer, pas un texte. Ne pas mettre de ''\n"
   ]
  },
  {
   "cell_type": "code",
   "execution_count": 4,
   "metadata": {},
   "outputs": [
    {
     "data": {
      "text/html": [
       "<div>\n",
       "<style scoped>\n",
       "    .dataframe tbody tr th:only-of-type {\n",
       "        vertical-align: middle;\n",
       "    }\n",
       "\n",
       "    .dataframe tbody tr th {\n",
       "        vertical-align: top;\n",
       "    }\n",
       "\n",
       "    .dataframe thead th {\n",
       "        text-align: right;\n",
       "    }\n",
       "</style>\n",
       "<table border=\"1\" class=\"dataframe\">\n",
       "  <thead>\n",
       "    <tr style=\"text-align: right;\">\n",
       "      <th></th>\n",
       "      <th>drug_exposure_id</th>\n",
       "      <th>person_id</th>\n",
       "      <th>drug_concept_id</th>\n",
       "      <th>drug_exposure_start_date</th>\n",
       "      <th>drug_exposure_start_datetime</th>\n",
       "      <th>drug_exposure_end_date</th>\n",
       "      <th>drug_exposure_end_datetime</th>\n",
       "      <th>drug_type_concept_id</th>\n",
       "      <th>quantity</th>\n",
       "      <th>route_concept_id</th>\n",
       "      <th>visit_occurrence_id</th>\n",
       "      <th>drug_source_value</th>\n",
       "      <th>drug_source_concept_id</th>\n",
       "      <th>route_source_value</th>\n",
       "      <th>dose_unit_source_value</th>\n",
       "    </tr>\n",
       "  </thead>\n",
       "  <tbody>\n",
       "    <tr>\n",
       "      <th>5622</th>\n",
       "      <td>6996991851384754967</td>\n",
       "      <td>3912882389848878631</td>\n",
       "      <td>40232756</td>\n",
       "      <td>2129-01-05</td>\n",
       "      <td>2129-01-05 00:00:00</td>\n",
       "      <td>2129-01-05</td>\n",
       "      <td>2129-01-05 01:00:00</td>\n",
       "      <td>32838</td>\n",
       "      <td>1.5000</td>\n",
       "      <td>4167540</td>\n",
       "      <td>3761046692024108622</td>\n",
       "      <td>00406055262</td>\n",
       "      <td>45266765</td>\n",
       "      <td>PO/NG</td>\n",
       "      <td>TAB</td>\n",
       "    </tr>\n",
       "    <tr>\n",
       "      <th>5623</th>\n",
       "      <td>-2528282390097198867</td>\n",
       "      <td>3912882389848878631</td>\n",
       "      <td>40232756</td>\n",
       "      <td>2129-01-04</td>\n",
       "      <td>2129-01-04 18:00:00</td>\n",
       "      <td>2129-01-04</td>\n",
       "      <td>2129-01-04 23:00:00</td>\n",
       "      <td>32838</td>\n",
       "      <td>0.5000</td>\n",
       "      <td>4167540</td>\n",
       "      <td>3761046692024108622</td>\n",
       "      <td>00406055262</td>\n",
       "      <td>45266765</td>\n",
       "      <td>PO/NG</td>\n",
       "      <td>TAB</td>\n",
       "    </tr>\n",
       "    <tr>\n",
       "      <th>5624</th>\n",
       "      <td>8598302712376844332</td>\n",
       "      <td>3912882389848878631</td>\n",
       "      <td>40232756</td>\n",
       "      <td>2129-01-05</td>\n",
       "      <td>2129-01-05 02:00:00</td>\n",
       "      <td>2129-01-05</td>\n",
       "      <td>2129-01-05 02:00:00</td>\n",
       "      <td>32838</td>\n",
       "      <td>1.0000</td>\n",
       "      <td>4167540</td>\n",
       "      <td>3761046692024108622</td>\n",
       "      <td>00406055262</td>\n",
       "      <td>45266765</td>\n",
       "      <td>PO/NG</td>\n",
       "      <td>TAB</td>\n",
       "    </tr>\n",
       "    <tr>\n",
       "      <th>5625</th>\n",
       "      <td>4557254971515693852</td>\n",
       "      <td>3912882389848878631</td>\n",
       "      <td>40232756</td>\n",
       "      <td>2129-01-04</td>\n",
       "      <td>2129-01-04 21:00:00</td>\n",
       "      <td>2129-01-04</td>\n",
       "      <td>2129-01-04 23:00:00</td>\n",
       "      <td>32838</td>\n",
       "      <td>1.0000</td>\n",
       "      <td>4167540</td>\n",
       "      <td>3761046692024108622</td>\n",
       "      <td>00406055262</td>\n",
       "      <td>45266765</td>\n",
       "      <td>PO/NG</td>\n",
       "      <td>TAB</td>\n",
       "    </tr>\n",
       "    <tr>\n",
       "      <th>5626</th>\n",
       "      <td>-290668764010704253</td>\n",
       "      <td>3912882389848878631</td>\n",
       "      <td>40221329</td>\n",
       "      <td>2129-01-05</td>\n",
       "      <td>2129-01-05 02:00:00</td>\n",
       "      <td>2129-01-05</td>\n",
       "      <td>2129-01-05 02:00:00</td>\n",
       "      <td>32838</td>\n",
       "      <td>1.0000</td>\n",
       "      <td>4171047</td>\n",
       "      <td>3761046692024108622</td>\n",
       "      <td>00409127332</td>\n",
       "      <td>45266797</td>\n",
       "      <td>IV</td>\n",
       "      <td>SYR</td>\n",
       "    </tr>\n",
       "    <tr>\n",
       "      <th>5627</th>\n",
       "      <td>1423514582191454168</td>\n",
       "      <td>3912882389848878631</td>\n",
       "      <td>36249736</td>\n",
       "      <td>2129-01-05</td>\n",
       "      <td>2129-01-05 03:00:00</td>\n",
       "      <td>2129-01-05</td>\n",
       "      <td>2129-01-05 18:00:00</td>\n",
       "      <td>32838</td>\n",
       "      <td>100.0000</td>\n",
       "      <td>4171047</td>\n",
       "      <td>3761046692024108622</td>\n",
       "      <td>00409792337</td>\n",
       "      <td>44891855</td>\n",
       "      <td>IV</td>\n",
       "      <td>mL</td>\n",
       "    </tr>\n",
       "    <tr>\n",
       "      <th>5628</th>\n",
       "      <td>700275630367800584</td>\n",
       "      <td>3912882389848878631</td>\n",
       "      <td>19126251</td>\n",
       "      <td>2129-01-10</td>\n",
       "      <td>2129-01-10 08:00:00</td>\n",
       "      <td>2129-01-10</td>\n",
       "      <td>2129-01-10 08:00:00</td>\n",
       "      <td>32838</td>\n",
       "      <td>0.5625</td>\n",
       "      <td>4167540</td>\n",
       "      <td>3761046692024108622</td>\n",
       "      <td>00603150858</td>\n",
       "      <td>45130527</td>\n",
       "      <td>PO/NG</td>\n",
       "      <td>SYR</td>\n",
       "    </tr>\n",
       "    <tr>\n",
       "      <th>5629</th>\n",
       "      <td>-345527215447771312</td>\n",
       "      <td>3912882389848878631</td>\n",
       "      <td>19126251</td>\n",
       "      <td>2129-01-11</td>\n",
       "      <td>2129-01-11 08:00:00</td>\n",
       "      <td>2129-01-11</td>\n",
       "      <td>2129-01-11 08:00:00</td>\n",
       "      <td>32838</td>\n",
       "      <td>0.2813</td>\n",
       "      <td>4167540</td>\n",
       "      <td>3761046692024108622</td>\n",
       "      <td>00603150858</td>\n",
       "      <td>45130527</td>\n",
       "      <td>PO/NG</td>\n",
       "      <td>SYR</td>\n",
       "    </tr>\n",
       "    <tr>\n",
       "      <th>5630</th>\n",
       "      <td>-992298387767609339</td>\n",
       "      <td>3912882389848878631</td>\n",
       "      <td>19126251</td>\n",
       "      <td>2129-01-08</td>\n",
       "      <td>2129-01-08 08:00:00</td>\n",
       "      <td>2129-01-08</td>\n",
       "      <td>2129-01-08 08:00:00</td>\n",
       "      <td>32838</td>\n",
       "      <td>1.1250</td>\n",
       "      <td>4167540</td>\n",
       "      <td>3761046692024108622</td>\n",
       "      <td>00603150858</td>\n",
       "      <td>45130527</td>\n",
       "      <td>PO/NG</td>\n",
       "      <td>SYR</td>\n",
       "    </tr>\n",
       "    <tr>\n",
       "      <th>5631</th>\n",
       "      <td>6012719603598400287</td>\n",
       "      <td>3912882389848878631</td>\n",
       "      <td>19126251</td>\n",
       "      <td>2129-01-06</td>\n",
       "      <td>2129-01-06 08:00:00</td>\n",
       "      <td>2129-01-06</td>\n",
       "      <td>2129-01-06 08:00:00</td>\n",
       "      <td>32838</td>\n",
       "      <td>2.2500</td>\n",
       "      <td>4167540</td>\n",
       "      <td>3761046692024108622</td>\n",
       "      <td>00603150858</td>\n",
       "      <td>45130527</td>\n",
       "      <td>PO/NG</td>\n",
       "      <td>SYR</td>\n",
       "    </tr>\n",
       "    <tr>\n",
       "      <th>5632</th>\n",
       "      <td>7845585426484018192</td>\n",
       "      <td>3912882389848878631</td>\n",
       "      <td>734281</td>\n",
       "      <td>2129-01-05</td>\n",
       "      <td>2129-01-05 13:00:00</td>\n",
       "      <td>2129-01-05</td>\n",
       "      <td>2129-01-05 13:00:00</td>\n",
       "      <td>32838</td>\n",
       "      <td>2.7692</td>\n",
       "      <td>4171047</td>\n",
       "      <td>3761046692024108622</td>\n",
       "      <td>00641047625</td>\n",
       "      <td>45216207</td>\n",
       "      <td>IV</td>\n",
       "      <td>mL</td>\n",
       "    </tr>\n",
       "    <tr>\n",
       "      <th>5633</th>\n",
       "      <td>-3065974858089804864</td>\n",
       "      <td>3912882389848878631</td>\n",
       "      <td>734281</td>\n",
       "      <td>2129-01-05</td>\n",
       "      <td>2129-01-05 13:00:00</td>\n",
       "      <td>2129-01-05</td>\n",
       "      <td>2129-01-05 18:00:00</td>\n",
       "      <td>32838</td>\n",
       "      <td>2.7692</td>\n",
       "      <td>4171047</td>\n",
       "      <td>3761046692024108622</td>\n",
       "      <td>00641047625</td>\n",
       "      <td>45216207</td>\n",
       "      <td>IV</td>\n",
       "      <td>mL</td>\n",
       "    </tr>\n",
       "    <tr>\n",
       "      <th>5634</th>\n",
       "      <td>-2645922204242395989</td>\n",
       "      <td>3912882389848878631</td>\n",
       "      <td>19079250</td>\n",
       "      <td>2129-01-05</td>\n",
       "      <td>2129-01-05 03:00:00</td>\n",
       "      <td>2129-01-05</td>\n",
       "      <td>2129-01-05 18:00:00</td>\n",
       "      <td>32838</td>\n",
       "      <td>6.0000</td>\n",
       "      <td>4171047</td>\n",
       "      <td>3761046692024108622</td>\n",
       "      <td>00641047725</td>\n",
       "      <td>44926659</td>\n",
       "      <td>IV</td>\n",
       "      <td>mL</td>\n",
       "    </tr>\n",
       "    <tr>\n",
       "      <th>5635</th>\n",
       "      <td>-6600566077470540957</td>\n",
       "      <td>3912882389848878631</td>\n",
       "      <td>21125875</td>\n",
       "      <td>2129-01-05</td>\n",
       "      <td>2129-01-05 08:00:00</td>\n",
       "      <td>2129-01-05</td>\n",
       "      <td>2129-01-05 18:00:00</td>\n",
       "      <td>32838</td>\n",
       "      <td>1.0000</td>\n",
       "      <td>4167540</td>\n",
       "      <td>3761046692024108622</td>\n",
       "      <td>00904053061</td>\n",
       "      <td>45165542</td>\n",
       "      <td>PO/NG</td>\n",
       "      <td>TAB</td>\n",
       "    </tr>\n",
       "    <tr>\n",
       "      <th>5636</th>\n",
       "      <td>8139119374042756604</td>\n",
       "      <td>3912882389848878631</td>\n",
       "      <td>19137328</td>\n",
       "      <td>2129-01-05</td>\n",
       "      <td>2129-01-05 08:00:00</td>\n",
       "      <td>2129-01-05</td>\n",
       "      <td>2129-01-05 18:00:00</td>\n",
       "      <td>32838</td>\n",
       "      <td>1.0000</td>\n",
       "      <td>4167540</td>\n",
       "      <td>3761046692024108622</td>\n",
       "      <td>00904054460</td>\n",
       "      <td>45114473</td>\n",
       "      <td>PO/NG</td>\n",
       "      <td>TAB</td>\n",
       "    </tr>\n",
       "    <tr>\n",
       "      <th>5637</th>\n",
       "      <td>-3408295941477030482</td>\n",
       "      <td>3912882389848878631</td>\n",
       "      <td>19019418</td>\n",
       "      <td>2129-01-04</td>\n",
       "      <td>2129-01-04 08:00:00</td>\n",
       "      <td>2129-01-05</td>\n",
       "      <td>2129-01-05 18:00:00</td>\n",
       "      <td>32838</td>\n",
       "      <td>1.0000</td>\n",
       "      <td>4132161</td>\n",
       "      <td>3761046692024108622</td>\n",
       "      <td>00904568461</td>\n",
       "      <td>44841893</td>\n",
       "      <td>PO</td>\n",
       "      <td>CAP</td>\n",
       "    </tr>\n",
       "    <tr>\n",
       "      <th>5638</th>\n",
       "      <td>-3343601482655155228</td>\n",
       "      <td>3912882389848878631</td>\n",
       "      <td>45775137</td>\n",
       "      <td>2129-01-03</td>\n",
       "      <td>2129-01-03 19:00:00</td>\n",
       "      <td>2129-01-05</td>\n",
       "      <td>2129-01-05 18:00:00</td>\n",
       "      <td>32838</td>\n",
       "      <td>1.0000</td>\n",
       "      <td>4302612</td>\n",
       "      <td>3761046692024108622</td>\n",
       "      <td>19515089452</td>\n",
       "      <td>45873718</td>\n",
       "      <td>IM</td>\n",
       "      <td>SYR</td>\n",
       "    </tr>\n",
       "    <tr>\n",
       "      <th>5639</th>\n",
       "      <td>-1076779580276771548</td>\n",
       "      <td>3912882389848878631</td>\n",
       "      <td>1127433</td>\n",
       "      <td>2129-01-03</td>\n",
       "      <td>2129-01-03 20:00:00</td>\n",
       "      <td>2129-01-05</td>\n",
       "      <td>2129-01-05 18:00:00</td>\n",
       "      <td>32838</td>\n",
       "      <td>2.0000</td>\n",
       "      <td>4167540</td>\n",
       "      <td>3761046692024108622</td>\n",
       "      <td>51079000220</td>\n",
       "      <td>45325177</td>\n",
       "      <td>PO/NG</td>\n",
       "      <td>TAB</td>\n",
       "    </tr>\n",
       "    <tr>\n",
       "      <th>5640</th>\n",
       "      <td>-4804305780328125843</td>\n",
       "      <td>3912882389848878631</td>\n",
       "      <td>723020</td>\n",
       "      <td>2129-01-03</td>\n",
       "      <td>2129-01-03 19:00:00</td>\n",
       "      <td>2129-01-05</td>\n",
       "      <td>2129-01-05 02:00:00</td>\n",
       "      <td>32838</td>\n",
       "      <td>1.0000</td>\n",
       "      <td>4167540</td>\n",
       "      <td>3761046692024108622</td>\n",
       "      <td>51079028620</td>\n",
       "      <td>45000972</td>\n",
       "      <td>PO/NG</td>\n",
       "      <td>TAB</td>\n",
       "    </tr>\n",
       "    <tr>\n",
       "      <th>5641</th>\n",
       "      <td>-2002420539696298274</td>\n",
       "      <td>3912882389848878631</td>\n",
       "      <td>19077513</td>\n",
       "      <td>2129-01-05</td>\n",
       "      <td>2129-01-05 08:00:00</td>\n",
       "      <td>2129-01-05</td>\n",
       "      <td>2129-01-05 18:00:00</td>\n",
       "      <td>32838</td>\n",
       "      <td>1.0000</td>\n",
       "      <td>4167540</td>\n",
       "      <td>3761046692024108622</td>\n",
       "      <td>62584089701</td>\n",
       "      <td>44954855</td>\n",
       "      <td>PO/NG</td>\n",
       "      <td>TAB</td>\n",
       "    </tr>\n",
       "    <tr>\n",
       "      <th>5642</th>\n",
       "      <td>-6958167977848852902</td>\n",
       "      <td>3912882389848878631</td>\n",
       "      <td>43011850</td>\n",
       "      <td>2129-01-03</td>\n",
       "      <td>2129-01-03 19:00:00</td>\n",
       "      <td>2129-01-05</td>\n",
       "      <td>2129-01-05 10:00:00</td>\n",
       "      <td>32838</td>\n",
       "      <td>1.0000</td>\n",
       "      <td>4142048</td>\n",
       "      <td>3761046692024108622</td>\n",
       "      <td>63323026201</td>\n",
       "      <td>44955074</td>\n",
       "      <td>SC</td>\n",
       "      <td>mL</td>\n",
       "    </tr>\n",
       "    <tr>\n",
       "      <th>5643</th>\n",
       "      <td>8859302285208559102</td>\n",
       "      <td>3912882389848878631</td>\n",
       "      <td>19019050</td>\n",
       "      <td>2129-01-05</td>\n",
       "      <td>2129-01-05 04:00:00</td>\n",
       "      <td>2129-01-05</td>\n",
       "      <td>2129-01-05 18:00:00</td>\n",
       "      <td>32838</td>\n",
       "      <td>2.0000</td>\n",
       "      <td>4132161</td>\n",
       "      <td>3761046692024108622</td>\n",
       "      <td>68094050361</td>\n",
       "      <td>44905769</td>\n",
       "      <td>PO</td>\n",
       "      <td>UDCUP</td>\n",
       "    </tr>\n",
       "    <tr>\n",
       "      <th>5644</th>\n",
       "      <td>-8668154338303612643</td>\n",
       "      <td>3912882389848878631</td>\n",
       "      <td>19127213</td>\n",
       "      <td>2129-01-05</td>\n",
       "      <td>2129-01-05 03:00:00</td>\n",
       "      <td>2129-01-05</td>\n",
       "      <td>2129-01-05 18:00:00</td>\n",
       "      <td>32838</td>\n",
       "      <td>0.3000</td>\n",
       "      <td>4171047</td>\n",
       "      <td>3761046692024108622</td>\n",
       "      <td>Sodium Chloride 0.9%  Flush 10 mL Syringe</td>\n",
       "      <td>2000011396</td>\n",
       "      <td>IV</td>\n",
       "      <td>SYR</td>\n",
       "    </tr>\n",
       "    <tr>\n",
       "      <th>5645</th>\n",
       "      <td>8330931891712023563</td>\n",
       "      <td>3912882389848878631</td>\n",
       "      <td>19127213</td>\n",
       "      <td>2129-01-03</td>\n",
       "      <td>2129-01-03 19:00:00</td>\n",
       "      <td>2129-01-05</td>\n",
       "      <td>2129-01-05 18:00:00</td>\n",
       "      <td>32838</td>\n",
       "      <td>0.3000</td>\n",
       "      <td>4171047</td>\n",
       "      <td>3761046692024108622</td>\n",
       "      <td>Sodium Chloride 0.9%  Flush 10 mL Syringe</td>\n",
       "      <td>2000011396</td>\n",
       "      <td>IV</td>\n",
       "      <td>SYR</td>\n",
       "    </tr>\n",
       "  </tbody>\n",
       "</table>\n",
       "</div>"
      ],
      "text/plain": [
       "         drug_exposure_id            person_id  drug_concept_id  \\\n",
       "5622  6996991851384754967  3912882389848878631         40232756   \n",
       "5623 -2528282390097198867  3912882389848878631         40232756   \n",
       "5624  8598302712376844332  3912882389848878631         40232756   \n",
       "5625  4557254971515693852  3912882389848878631         40232756   \n",
       "5626  -290668764010704253  3912882389848878631         40221329   \n",
       "5627  1423514582191454168  3912882389848878631         36249736   \n",
       "5628   700275630367800584  3912882389848878631         19126251   \n",
       "5629  -345527215447771312  3912882389848878631         19126251   \n",
       "5630  -992298387767609339  3912882389848878631         19126251   \n",
       "5631  6012719603598400287  3912882389848878631         19126251   \n",
       "5632  7845585426484018192  3912882389848878631           734281   \n",
       "5633 -3065974858089804864  3912882389848878631           734281   \n",
       "5634 -2645922204242395989  3912882389848878631         19079250   \n",
       "5635 -6600566077470540957  3912882389848878631         21125875   \n",
       "5636  8139119374042756604  3912882389848878631         19137328   \n",
       "5637 -3408295941477030482  3912882389848878631         19019418   \n",
       "5638 -3343601482655155228  3912882389848878631         45775137   \n",
       "5639 -1076779580276771548  3912882389848878631          1127433   \n",
       "5640 -4804305780328125843  3912882389848878631           723020   \n",
       "5641 -2002420539696298274  3912882389848878631         19077513   \n",
       "5642 -6958167977848852902  3912882389848878631         43011850   \n",
       "5643  8859302285208559102  3912882389848878631         19019050   \n",
       "5644 -8668154338303612643  3912882389848878631         19127213   \n",
       "5645  8330931891712023563  3912882389848878631         19127213   \n",
       "\n",
       "     drug_exposure_start_date drug_exposure_start_datetime  \\\n",
       "5622               2129-01-05          2129-01-05 00:00:00   \n",
       "5623               2129-01-04          2129-01-04 18:00:00   \n",
       "5624               2129-01-05          2129-01-05 02:00:00   \n",
       "5625               2129-01-04          2129-01-04 21:00:00   \n",
       "5626               2129-01-05          2129-01-05 02:00:00   \n",
       "5627               2129-01-05          2129-01-05 03:00:00   \n",
       "5628               2129-01-10          2129-01-10 08:00:00   \n",
       "5629               2129-01-11          2129-01-11 08:00:00   \n",
       "5630               2129-01-08          2129-01-08 08:00:00   \n",
       "5631               2129-01-06          2129-01-06 08:00:00   \n",
       "5632               2129-01-05          2129-01-05 13:00:00   \n",
       "5633               2129-01-05          2129-01-05 13:00:00   \n",
       "5634               2129-01-05          2129-01-05 03:00:00   \n",
       "5635               2129-01-05          2129-01-05 08:00:00   \n",
       "5636               2129-01-05          2129-01-05 08:00:00   \n",
       "5637               2129-01-04          2129-01-04 08:00:00   \n",
       "5638               2129-01-03          2129-01-03 19:00:00   \n",
       "5639               2129-01-03          2129-01-03 20:00:00   \n",
       "5640               2129-01-03          2129-01-03 19:00:00   \n",
       "5641               2129-01-05          2129-01-05 08:00:00   \n",
       "5642               2129-01-03          2129-01-03 19:00:00   \n",
       "5643               2129-01-05          2129-01-05 04:00:00   \n",
       "5644               2129-01-05          2129-01-05 03:00:00   \n",
       "5645               2129-01-03          2129-01-03 19:00:00   \n",
       "\n",
       "     drug_exposure_end_date drug_exposure_end_datetime  drug_type_concept_id  \\\n",
       "5622             2129-01-05        2129-01-05 01:00:00                 32838   \n",
       "5623             2129-01-04        2129-01-04 23:00:00                 32838   \n",
       "5624             2129-01-05        2129-01-05 02:00:00                 32838   \n",
       "5625             2129-01-04        2129-01-04 23:00:00                 32838   \n",
       "5626             2129-01-05        2129-01-05 02:00:00                 32838   \n",
       "5627             2129-01-05        2129-01-05 18:00:00                 32838   \n",
       "5628             2129-01-10        2129-01-10 08:00:00                 32838   \n",
       "5629             2129-01-11        2129-01-11 08:00:00                 32838   \n",
       "5630             2129-01-08        2129-01-08 08:00:00                 32838   \n",
       "5631             2129-01-06        2129-01-06 08:00:00                 32838   \n",
       "5632             2129-01-05        2129-01-05 13:00:00                 32838   \n",
       "5633             2129-01-05        2129-01-05 18:00:00                 32838   \n",
       "5634             2129-01-05        2129-01-05 18:00:00                 32838   \n",
       "5635             2129-01-05        2129-01-05 18:00:00                 32838   \n",
       "5636             2129-01-05        2129-01-05 18:00:00                 32838   \n",
       "5637             2129-01-05        2129-01-05 18:00:00                 32838   \n",
       "5638             2129-01-05        2129-01-05 18:00:00                 32838   \n",
       "5639             2129-01-05        2129-01-05 18:00:00                 32838   \n",
       "5640             2129-01-05        2129-01-05 02:00:00                 32838   \n",
       "5641             2129-01-05        2129-01-05 18:00:00                 32838   \n",
       "5642             2129-01-05        2129-01-05 10:00:00                 32838   \n",
       "5643             2129-01-05        2129-01-05 18:00:00                 32838   \n",
       "5644             2129-01-05        2129-01-05 18:00:00                 32838   \n",
       "5645             2129-01-05        2129-01-05 18:00:00                 32838   \n",
       "\n",
       "      quantity  route_concept_id  visit_occurrence_id  \\\n",
       "5622    1.5000           4167540  3761046692024108622   \n",
       "5623    0.5000           4167540  3761046692024108622   \n",
       "5624    1.0000           4167540  3761046692024108622   \n",
       "5625    1.0000           4167540  3761046692024108622   \n",
       "5626    1.0000           4171047  3761046692024108622   \n",
       "5627  100.0000           4171047  3761046692024108622   \n",
       "5628    0.5625           4167540  3761046692024108622   \n",
       "5629    0.2813           4167540  3761046692024108622   \n",
       "5630    1.1250           4167540  3761046692024108622   \n",
       "5631    2.2500           4167540  3761046692024108622   \n",
       "5632    2.7692           4171047  3761046692024108622   \n",
       "5633    2.7692           4171047  3761046692024108622   \n",
       "5634    6.0000           4171047  3761046692024108622   \n",
       "5635    1.0000           4167540  3761046692024108622   \n",
       "5636    1.0000           4167540  3761046692024108622   \n",
       "5637    1.0000           4132161  3761046692024108622   \n",
       "5638    1.0000           4302612  3761046692024108622   \n",
       "5639    2.0000           4167540  3761046692024108622   \n",
       "5640    1.0000           4167540  3761046692024108622   \n",
       "5641    1.0000           4167540  3761046692024108622   \n",
       "5642    1.0000           4142048  3761046692024108622   \n",
       "5643    2.0000           4132161  3761046692024108622   \n",
       "5644    0.3000           4171047  3761046692024108622   \n",
       "5645    0.3000           4171047  3761046692024108622   \n",
       "\n",
       "                              drug_source_value  drug_source_concept_id  \\\n",
       "5622                                00406055262                45266765   \n",
       "5623                                00406055262                45266765   \n",
       "5624                                00406055262                45266765   \n",
       "5625                                00406055262                45266765   \n",
       "5626                                00409127332                45266797   \n",
       "5627                                00409792337                44891855   \n",
       "5628                                00603150858                45130527   \n",
       "5629                                00603150858                45130527   \n",
       "5630                                00603150858                45130527   \n",
       "5631                                00603150858                45130527   \n",
       "5632                                00641047625                45216207   \n",
       "5633                                00641047625                45216207   \n",
       "5634                                00641047725                44926659   \n",
       "5635                                00904053061                45165542   \n",
       "5636                                00904054460                45114473   \n",
       "5637                                00904568461                44841893   \n",
       "5638                                19515089452                45873718   \n",
       "5639                                51079000220                45325177   \n",
       "5640                                51079028620                45000972   \n",
       "5641                                62584089701                44954855   \n",
       "5642                                63323026201                44955074   \n",
       "5643                                68094050361                44905769   \n",
       "5644  Sodium Chloride 0.9%  Flush 10 mL Syringe              2000011396   \n",
       "5645  Sodium Chloride 0.9%  Flush 10 mL Syringe              2000011396   \n",
       "\n",
       "     route_source_value dose_unit_source_value  \n",
       "5622              PO/NG                    TAB  \n",
       "5623              PO/NG                    TAB  \n",
       "5624              PO/NG                    TAB  \n",
       "5625              PO/NG                    TAB  \n",
       "5626                 IV                    SYR  \n",
       "5627                 IV                     mL  \n",
       "5628              PO/NG                    SYR  \n",
       "5629              PO/NG                    SYR  \n",
       "5630              PO/NG                    SYR  \n",
       "5631              PO/NG                    SYR  \n",
       "5632                 IV                     mL  \n",
       "5633                 IV                     mL  \n",
       "5634                 IV                     mL  \n",
       "5635              PO/NG                    TAB  \n",
       "5636              PO/NG                    TAB  \n",
       "5637                 PO                    CAP  \n",
       "5638                 IM                    SYR  \n",
       "5639              PO/NG                    TAB  \n",
       "5640              PO/NG                    TAB  \n",
       "5641              PO/NG                    TAB  \n",
       "5642                 SC                     mL  \n",
       "5643                 PO                  UDCUP  \n",
       "5644                 IV                    SYR  \n",
       "5645                 IV                    SYR  "
      ]
     },
     "execution_count": 4,
     "metadata": {},
     "output_type": "execute_result"
    }
   ],
   "source": [
    "patient1 = drug_exposure.loc[drug_exposure['person_id'] == 3912882389848878631, liste_non_null]\n",
    "'''\n",
    "patient1.columns\n",
    "Index(['drug_exposure_id', 'person_id', 'drug_concept_id',\n",
    "       'drug_exposure_start_date', 'drug_exposure_start_datetime',\n",
    "       'drug_exposure_end_date', 'drug_exposure_end_datetime',\n",
    "       'drug_type_concept_id', 'quantity', 'route_concept_id',\n",
    "       'visit_occurrence_id', 'drug_source_value', 'drug_source_concept_id',\n",
    "       'route_source_value', 'dose_unit_source_value'],\n",
    "      dtype='object')\n",
    "'''\n",
    "patient1"
   ]
  },
  {
   "cell_type": "code",
   "execution_count": 9,
   "metadata": {},
   "outputs": [
    {
     "data": {
      "text/html": [
       "<div>\n",
       "<style scoped>\n",
       "    .dataframe tbody tr th:only-of-type {\n",
       "        vertical-align: middle;\n",
       "    }\n",
       "\n",
       "    .dataframe tbody tr th {\n",
       "        vertical-align: top;\n",
       "    }\n",
       "\n",
       "    .dataframe thead th {\n",
       "        text-align: right;\n",
       "    }\n",
       "</style>\n",
       "<table border=\"1\" class=\"dataframe\">\n",
       "  <thead>\n",
       "    <tr style=\"text-align: right;\">\n",
       "      <th></th>\n",
       "      <th>drug_exposure_id</th>\n",
       "      <th>person_id</th>\n",
       "      <th>drug_concept_id</th>\n",
       "      <th>drug_exposure_start_date</th>\n",
       "      <th>drug_exposure_start_datetime</th>\n",
       "      <th>drug_exposure_end_date</th>\n",
       "      <th>drug_exposure_end_datetime</th>\n",
       "      <th>drug_type_concept_id</th>\n",
       "      <th>quantity</th>\n",
       "      <th>route_concept_id</th>\n",
       "      <th>visit_occurrence_id</th>\n",
       "      <th>drug_source_value</th>\n",
       "      <th>drug_source_concept_id</th>\n",
       "      <th>route_source_value</th>\n",
       "      <th>dose_unit_source_value</th>\n",
       "    </tr>\n",
       "  </thead>\n",
       "  <tbody>\n",
       "    <tr>\n",
       "      <th>5640</th>\n",
       "      <td>-4804305780328125843</td>\n",
       "      <td>3912882389848878631</td>\n",
       "      <td>723020</td>\n",
       "      <td>2129-01-03</td>\n",
       "      <td>2129-01-03 19:00:00</td>\n",
       "      <td>2129-01-05</td>\n",
       "      <td>2129-01-05 02:00:00</td>\n",
       "      <td>32838</td>\n",
       "      <td>1.0</td>\n",
       "      <td>4167540</td>\n",
       "      <td>3761046692024108622</td>\n",
       "      <td>51079028620</td>\n",
       "      <td>45000972</td>\n",
       "      <td>PO/NG</td>\n",
       "      <td>TAB</td>\n",
       "    </tr>\n",
       "    <tr>\n",
       "      <th>5639</th>\n",
       "      <td>-1076779580276771548</td>\n",
       "      <td>3912882389848878631</td>\n",
       "      <td>1127433</td>\n",
       "      <td>2129-01-03</td>\n",
       "      <td>2129-01-03 20:00:00</td>\n",
       "      <td>2129-01-05</td>\n",
       "      <td>2129-01-05 18:00:00</td>\n",
       "      <td>32838</td>\n",
       "      <td>2.0</td>\n",
       "      <td>4167540</td>\n",
       "      <td>3761046692024108622</td>\n",
       "      <td>51079000220</td>\n",
       "      <td>45325177</td>\n",
       "      <td>PO/NG</td>\n",
       "      <td>TAB</td>\n",
       "    </tr>\n",
       "    <tr>\n",
       "      <th>5623</th>\n",
       "      <td>-2528282390097198867</td>\n",
       "      <td>3912882389848878631</td>\n",
       "      <td>40232756</td>\n",
       "      <td>2129-01-04</td>\n",
       "      <td>2129-01-04 18:00:00</td>\n",
       "      <td>2129-01-04</td>\n",
       "      <td>2129-01-04 23:00:00</td>\n",
       "      <td>32838</td>\n",
       "      <td>0.5</td>\n",
       "      <td>4167540</td>\n",
       "      <td>3761046692024108622</td>\n",
       "      <td>00406055262</td>\n",
       "      <td>45266765</td>\n",
       "      <td>PO/NG</td>\n",
       "      <td>TAB</td>\n",
       "    </tr>\n",
       "    <tr>\n",
       "      <th>5625</th>\n",
       "      <td>4557254971515693852</td>\n",
       "      <td>3912882389848878631</td>\n",
       "      <td>40232756</td>\n",
       "      <td>2129-01-04</td>\n",
       "      <td>2129-01-04 21:00:00</td>\n",
       "      <td>2129-01-04</td>\n",
       "      <td>2129-01-04 23:00:00</td>\n",
       "      <td>32838</td>\n",
       "      <td>1.0</td>\n",
       "      <td>4167540</td>\n",
       "      <td>3761046692024108622</td>\n",
       "      <td>00406055262</td>\n",
       "      <td>45266765</td>\n",
       "      <td>PO/NG</td>\n",
       "      <td>TAB</td>\n",
       "    </tr>\n",
       "    <tr>\n",
       "      <th>5622</th>\n",
       "      <td>6996991851384754967</td>\n",
       "      <td>3912882389848878631</td>\n",
       "      <td>40232756</td>\n",
       "      <td>2129-01-05</td>\n",
       "      <td>2129-01-05 00:00:00</td>\n",
       "      <td>2129-01-05</td>\n",
       "      <td>2129-01-05 01:00:00</td>\n",
       "      <td>32838</td>\n",
       "      <td>1.5</td>\n",
       "      <td>4167540</td>\n",
       "      <td>3761046692024108622</td>\n",
       "      <td>00406055262</td>\n",
       "      <td>45266765</td>\n",
       "      <td>PO/NG</td>\n",
       "      <td>TAB</td>\n",
       "    </tr>\n",
       "    <tr>\n",
       "      <th>5624</th>\n",
       "      <td>8598302712376844332</td>\n",
       "      <td>3912882389848878631</td>\n",
       "      <td>40232756</td>\n",
       "      <td>2129-01-05</td>\n",
       "      <td>2129-01-05 02:00:00</td>\n",
       "      <td>2129-01-05</td>\n",
       "      <td>2129-01-05 02:00:00</td>\n",
       "      <td>32838</td>\n",
       "      <td>1.0</td>\n",
       "      <td>4167540</td>\n",
       "      <td>3761046692024108622</td>\n",
       "      <td>00406055262</td>\n",
       "      <td>45266765</td>\n",
       "      <td>PO/NG</td>\n",
       "      <td>TAB</td>\n",
       "    </tr>\n",
       "    <tr>\n",
       "      <th>5635</th>\n",
       "      <td>-6600566077470540957</td>\n",
       "      <td>3912882389848878631</td>\n",
       "      <td>21125875</td>\n",
       "      <td>2129-01-05</td>\n",
       "      <td>2129-01-05 08:00:00</td>\n",
       "      <td>2129-01-05</td>\n",
       "      <td>2129-01-05 18:00:00</td>\n",
       "      <td>32838</td>\n",
       "      <td>1.0</td>\n",
       "      <td>4167540</td>\n",
       "      <td>3761046692024108622</td>\n",
       "      <td>00904053061</td>\n",
       "      <td>45165542</td>\n",
       "      <td>PO/NG</td>\n",
       "      <td>TAB</td>\n",
       "    </tr>\n",
       "    <tr>\n",
       "      <th>5636</th>\n",
       "      <td>8139119374042756604</td>\n",
       "      <td>3912882389848878631</td>\n",
       "      <td>19137328</td>\n",
       "      <td>2129-01-05</td>\n",
       "      <td>2129-01-05 08:00:00</td>\n",
       "      <td>2129-01-05</td>\n",
       "      <td>2129-01-05 18:00:00</td>\n",
       "      <td>32838</td>\n",
       "      <td>1.0</td>\n",
       "      <td>4167540</td>\n",
       "      <td>3761046692024108622</td>\n",
       "      <td>00904054460</td>\n",
       "      <td>45114473</td>\n",
       "      <td>PO/NG</td>\n",
       "      <td>TAB</td>\n",
       "    </tr>\n",
       "    <tr>\n",
       "      <th>5641</th>\n",
       "      <td>-2002420539696298274</td>\n",
       "      <td>3912882389848878631</td>\n",
       "      <td>19077513</td>\n",
       "      <td>2129-01-05</td>\n",
       "      <td>2129-01-05 08:00:00</td>\n",
       "      <td>2129-01-05</td>\n",
       "      <td>2129-01-05 18:00:00</td>\n",
       "      <td>32838</td>\n",
       "      <td>1.0</td>\n",
       "      <td>4167540</td>\n",
       "      <td>3761046692024108622</td>\n",
       "      <td>62584089701</td>\n",
       "      <td>44954855</td>\n",
       "      <td>PO/NG</td>\n",
       "      <td>TAB</td>\n",
       "    </tr>\n",
       "  </tbody>\n",
       "</table>\n",
       "</div>"
      ],
      "text/plain": [
       "         drug_exposure_id            person_id  drug_concept_id  \\\n",
       "5640 -4804305780328125843  3912882389848878631           723020   \n",
       "5639 -1076779580276771548  3912882389848878631          1127433   \n",
       "5623 -2528282390097198867  3912882389848878631         40232756   \n",
       "5625  4557254971515693852  3912882389848878631         40232756   \n",
       "5622  6996991851384754967  3912882389848878631         40232756   \n",
       "5624  8598302712376844332  3912882389848878631         40232756   \n",
       "5635 -6600566077470540957  3912882389848878631         21125875   \n",
       "5636  8139119374042756604  3912882389848878631         19137328   \n",
       "5641 -2002420539696298274  3912882389848878631         19077513   \n",
       "\n",
       "     drug_exposure_start_date drug_exposure_start_datetime  \\\n",
       "5640               2129-01-03          2129-01-03 19:00:00   \n",
       "5639               2129-01-03          2129-01-03 20:00:00   \n",
       "5623               2129-01-04          2129-01-04 18:00:00   \n",
       "5625               2129-01-04          2129-01-04 21:00:00   \n",
       "5622               2129-01-05          2129-01-05 00:00:00   \n",
       "5624               2129-01-05          2129-01-05 02:00:00   \n",
       "5635               2129-01-05          2129-01-05 08:00:00   \n",
       "5636               2129-01-05          2129-01-05 08:00:00   \n",
       "5641               2129-01-05          2129-01-05 08:00:00   \n",
       "\n",
       "     drug_exposure_end_date drug_exposure_end_datetime  drug_type_concept_id  \\\n",
       "5640             2129-01-05        2129-01-05 02:00:00                 32838   \n",
       "5639             2129-01-05        2129-01-05 18:00:00                 32838   \n",
       "5623             2129-01-04        2129-01-04 23:00:00                 32838   \n",
       "5625             2129-01-04        2129-01-04 23:00:00                 32838   \n",
       "5622             2129-01-05        2129-01-05 01:00:00                 32838   \n",
       "5624             2129-01-05        2129-01-05 02:00:00                 32838   \n",
       "5635             2129-01-05        2129-01-05 18:00:00                 32838   \n",
       "5636             2129-01-05        2129-01-05 18:00:00                 32838   \n",
       "5641             2129-01-05        2129-01-05 18:00:00                 32838   \n",
       "\n",
       "      quantity  route_concept_id  visit_occurrence_id drug_source_value  \\\n",
       "5640       1.0           4167540  3761046692024108622       51079028620   \n",
       "5639       2.0           4167540  3761046692024108622       51079000220   \n",
       "5623       0.5           4167540  3761046692024108622       00406055262   \n",
       "5625       1.0           4167540  3761046692024108622       00406055262   \n",
       "5622       1.5           4167540  3761046692024108622       00406055262   \n",
       "5624       1.0           4167540  3761046692024108622       00406055262   \n",
       "5635       1.0           4167540  3761046692024108622       00904053061   \n",
       "5636       1.0           4167540  3761046692024108622       00904054460   \n",
       "5641       1.0           4167540  3761046692024108622       62584089701   \n",
       "\n",
       "      drug_source_concept_id route_source_value dose_unit_source_value  \n",
       "5640                45000972              PO/NG                    TAB  \n",
       "5639                45325177              PO/NG                    TAB  \n",
       "5623                45266765              PO/NG                    TAB  \n",
       "5625                45266765              PO/NG                    TAB  \n",
       "5622                45266765              PO/NG                    TAB  \n",
       "5624                45266765              PO/NG                    TAB  \n",
       "5635                45165542              PO/NG                    TAB  \n",
       "5636                45114473              PO/NG                    TAB  \n",
       "5641                44954855              PO/NG                    TAB  "
      ]
     },
     "execution_count": 9,
     "metadata": {},
     "output_type": "execute_result"
    }
   ],
   "source": [
    "patient1[patient1.dose_unit_source_value == 'TAB']\n",
    "# 9 lignes, des exposure_id différentes, avec des dates différents (2129 ????)\n",
    "# drug_concept_id being the name of the drug I guess, Quantity in Tablettes.\n"
   ]
  },
  {
   "cell_type": "code",
   "execution_count": 5,
   "metadata": {},
   "outputs": [
    {
     "data": {
      "text/html": [
       "<div>\n",
       "<style scoped>\n",
       "    .dataframe tbody tr th:only-of-type {\n",
       "        vertical-align: middle;\n",
       "    }\n",
       "\n",
       "    .dataframe tbody tr th {\n",
       "        vertical-align: top;\n",
       "    }\n",
       "\n",
       "    .dataframe thead th {\n",
       "        text-align: right;\n",
       "    }\n",
       "</style>\n",
       "<table border=\"1\" class=\"dataframe\">\n",
       "  <thead>\n",
       "    <tr style=\"text-align: right;\">\n",
       "      <th></th>\n",
       "      <th>drug_exposure_start_datetime</th>\n",
       "      <th>drug_exposure_end_datetime</th>\n",
       "      <th>quantity</th>\n",
       "      <th>cumulative</th>\n",
       "    </tr>\n",
       "  </thead>\n",
       "  <tbody>\n",
       "    <tr>\n",
       "      <th>5623</th>\n",
       "      <td>2129-01-04 18:00:00</td>\n",
       "      <td>2129-01-04 23:00:00</td>\n",
       "      <td>0.5</td>\n",
       "      <td>0.5</td>\n",
       "    </tr>\n",
       "    <tr>\n",
       "      <th>5625</th>\n",
       "      <td>2129-01-04 21:00:00</td>\n",
       "      <td>2129-01-04 23:00:00</td>\n",
       "      <td>1.0</td>\n",
       "      <td>1.5</td>\n",
       "    </tr>\n",
       "    <tr>\n",
       "      <th>5622</th>\n",
       "      <td>2129-01-05 00:00:00</td>\n",
       "      <td>2129-01-05 01:00:00</td>\n",
       "      <td>1.5</td>\n",
       "      <td>3.0</td>\n",
       "    </tr>\n",
       "    <tr>\n",
       "      <th>5624</th>\n",
       "      <td>2129-01-05 02:00:00</td>\n",
       "      <td>2129-01-05 02:00:00</td>\n",
       "      <td>1.0</td>\n",
       "      <td>4.0</td>\n",
       "    </tr>\n",
       "  </tbody>\n",
       "</table>\n",
       "</div>"
      ],
      "text/plain": [
       "     drug_exposure_start_datetime drug_exposure_end_datetime  quantity  \\\n",
       "5623          2129-01-04 18:00:00        2129-01-04 23:00:00       0.5   \n",
       "5625          2129-01-04 21:00:00        2129-01-04 23:00:00       1.0   \n",
       "5622          2129-01-05 00:00:00        2129-01-05 01:00:00       1.5   \n",
       "5624          2129-01-05 02:00:00        2129-01-05 02:00:00       1.0   \n",
       "\n",
       "      cumulative  \n",
       "5623         0.5  \n",
       "5625         1.5  \n",
       "5622         3.0  \n",
       "5624         4.0  "
      ]
     },
     "execution_count": 5,
     "metadata": {},
     "output_type": "execute_result"
    }
   ],
   "source": [
    "patient1_drug1 = patient1.loc[patient1.drug_concept_id==40232756,['drug_exposure_start_datetime', 'drug_exposure_end_datetime', 'quantity']].sort_values(by='drug_exposure_start_datetime')\n",
    "\n",
    "\n",
    "\n",
    "patient1_drug1['cumulative'] = [0.5, 1.5, 3.0, 4.0]\n",
    "\n",
    "\n",
    "\n",
    "# ne fonctionne pas comme ça, car les date ne sont pas correct.... il faut prendre datetime déjà, puis trier en fonction du temps.\n",
    "# il faut faire avec plotly un graph pour choisir le medoc.\n",
    "# il faut calculer le cumulatif ou non ?\n",
    "patient1_drug1\n"
   ]
  },
  {
   "cell_type": "code",
   "execution_count": 63,
   "metadata": {},
   "outputs": [
    {
     "data": {
      "text/plain": [
       "'2129-01-04 18:00:00'"
      ]
     },
     "execution_count": 63,
     "metadata": {},
     "output_type": "execute_result"
    }
   ],
   "source": [
    "patient1_drug1.drug_exposure_start_datetime.min()"
   ]
  },
  {
   "cell_type": "code",
   "execution_count": 25,
   "metadata": {},
   "outputs": [
    {
     "data": {
      "application/vnd.plotly.v1+json": {
       "config": {
        "plotlyServerURL": "https://plot.ly"
       },
       "data": [
        {
         "type": "scatter",
         "x": [
          "2129-01-04 18:00:00",
          "2129-01-04 21:00:00",
          "2129-01-05 00:00:00",
          "2129-01-05 02:00:00"
         ],
         "xaxis": "x",
         "y": [
          0.5,
          1,
          1.5,
          1
         ],
         "yaxis": "y"
        },
        {
         "type": "scatter",
         "x": [
          "2129-01-04 18:00:00",
          "2129-01-04 21:00:00",
          "2129-01-05 00:00:00",
          "2129-01-05 02:00:00"
         ],
         "xaxis": "x2",
         "y": [
          0.5,
          1.5,
          3,
          4
         ],
         "yaxis": "y2"
        }
       ],
       "layout": {
        "annotations": [
         {
          "font": {
           "size": 16
          },
          "showarrow": false,
          "text": "not cumulative",
          "x": 0.225,
          "xanchor": "center",
          "xref": "paper",
          "y": 1,
          "yanchor": "bottom",
          "yref": "paper"
         },
         {
          "font": {
           "size": 16
          },
          "showarrow": false,
          "text": "cumulative",
          "x": 0.775,
          "xanchor": "center",
          "xref": "paper",
          "y": 1,
          "yanchor": "bottom",
          "yref": "paper"
         }
        ],
        "template": {
         "data": {
          "bar": [
           {
            "error_x": {
             "color": "#2a3f5f"
            },
            "error_y": {
             "color": "#2a3f5f"
            },
            "marker": {
             "line": {
              "color": "#E5ECF6",
              "width": 0.5
             },
             "pattern": {
              "fillmode": "overlay",
              "size": 10,
              "solidity": 0.2
             }
            },
            "type": "bar"
           }
          ],
          "barpolar": [
           {
            "marker": {
             "line": {
              "color": "#E5ECF6",
              "width": 0.5
             },
             "pattern": {
              "fillmode": "overlay",
              "size": 10,
              "solidity": 0.2
             }
            },
            "type": "barpolar"
           }
          ],
          "carpet": [
           {
            "aaxis": {
             "endlinecolor": "#2a3f5f",
             "gridcolor": "white",
             "linecolor": "white",
             "minorgridcolor": "white",
             "startlinecolor": "#2a3f5f"
            },
            "baxis": {
             "endlinecolor": "#2a3f5f",
             "gridcolor": "white",
             "linecolor": "white",
             "minorgridcolor": "white",
             "startlinecolor": "#2a3f5f"
            },
            "type": "carpet"
           }
          ],
          "choropleth": [
           {
            "colorbar": {
             "outlinewidth": 0,
             "ticks": ""
            },
            "type": "choropleth"
           }
          ],
          "contour": [
           {
            "colorbar": {
             "outlinewidth": 0,
             "ticks": ""
            },
            "colorscale": [
             [
              0,
              "#0d0887"
             ],
             [
              0.1111111111111111,
              "#46039f"
             ],
             [
              0.2222222222222222,
              "#7201a8"
             ],
             [
              0.3333333333333333,
              "#9c179e"
             ],
             [
              0.4444444444444444,
              "#bd3786"
             ],
             [
              0.5555555555555556,
              "#d8576b"
             ],
             [
              0.6666666666666666,
              "#ed7953"
             ],
             [
              0.7777777777777778,
              "#fb9f3a"
             ],
             [
              0.8888888888888888,
              "#fdca26"
             ],
             [
              1,
              "#f0f921"
             ]
            ],
            "type": "contour"
           }
          ],
          "contourcarpet": [
           {
            "colorbar": {
             "outlinewidth": 0,
             "ticks": ""
            },
            "type": "contourcarpet"
           }
          ],
          "heatmap": [
           {
            "colorbar": {
             "outlinewidth": 0,
             "ticks": ""
            },
            "colorscale": [
             [
              0,
              "#0d0887"
             ],
             [
              0.1111111111111111,
              "#46039f"
             ],
             [
              0.2222222222222222,
              "#7201a8"
             ],
             [
              0.3333333333333333,
              "#9c179e"
             ],
             [
              0.4444444444444444,
              "#bd3786"
             ],
             [
              0.5555555555555556,
              "#d8576b"
             ],
             [
              0.6666666666666666,
              "#ed7953"
             ],
             [
              0.7777777777777778,
              "#fb9f3a"
             ],
             [
              0.8888888888888888,
              "#fdca26"
             ],
             [
              1,
              "#f0f921"
             ]
            ],
            "type": "heatmap"
           }
          ],
          "heatmapgl": [
           {
            "colorbar": {
             "outlinewidth": 0,
             "ticks": ""
            },
            "colorscale": [
             [
              0,
              "#0d0887"
             ],
             [
              0.1111111111111111,
              "#46039f"
             ],
             [
              0.2222222222222222,
              "#7201a8"
             ],
             [
              0.3333333333333333,
              "#9c179e"
             ],
             [
              0.4444444444444444,
              "#bd3786"
             ],
             [
              0.5555555555555556,
              "#d8576b"
             ],
             [
              0.6666666666666666,
              "#ed7953"
             ],
             [
              0.7777777777777778,
              "#fb9f3a"
             ],
             [
              0.8888888888888888,
              "#fdca26"
             ],
             [
              1,
              "#f0f921"
             ]
            ],
            "type": "heatmapgl"
           }
          ],
          "histogram": [
           {
            "marker": {
             "pattern": {
              "fillmode": "overlay",
              "size": 10,
              "solidity": 0.2
             }
            },
            "type": "histogram"
           }
          ],
          "histogram2d": [
           {
            "colorbar": {
             "outlinewidth": 0,
             "ticks": ""
            },
            "colorscale": [
             [
              0,
              "#0d0887"
             ],
             [
              0.1111111111111111,
              "#46039f"
             ],
             [
              0.2222222222222222,
              "#7201a8"
             ],
             [
              0.3333333333333333,
              "#9c179e"
             ],
             [
              0.4444444444444444,
              "#bd3786"
             ],
             [
              0.5555555555555556,
              "#d8576b"
             ],
             [
              0.6666666666666666,
              "#ed7953"
             ],
             [
              0.7777777777777778,
              "#fb9f3a"
             ],
             [
              0.8888888888888888,
              "#fdca26"
             ],
             [
              1,
              "#f0f921"
             ]
            ],
            "type": "histogram2d"
           }
          ],
          "histogram2dcontour": [
           {
            "colorbar": {
             "outlinewidth": 0,
             "ticks": ""
            },
            "colorscale": [
             [
              0,
              "#0d0887"
             ],
             [
              0.1111111111111111,
              "#46039f"
             ],
             [
              0.2222222222222222,
              "#7201a8"
             ],
             [
              0.3333333333333333,
              "#9c179e"
             ],
             [
              0.4444444444444444,
              "#bd3786"
             ],
             [
              0.5555555555555556,
              "#d8576b"
             ],
             [
              0.6666666666666666,
              "#ed7953"
             ],
             [
              0.7777777777777778,
              "#fb9f3a"
             ],
             [
              0.8888888888888888,
              "#fdca26"
             ],
             [
              1,
              "#f0f921"
             ]
            ],
            "type": "histogram2dcontour"
           }
          ],
          "mesh3d": [
           {
            "colorbar": {
             "outlinewidth": 0,
             "ticks": ""
            },
            "type": "mesh3d"
           }
          ],
          "parcoords": [
           {
            "line": {
             "colorbar": {
              "outlinewidth": 0,
              "ticks": ""
             }
            },
            "type": "parcoords"
           }
          ],
          "pie": [
           {
            "automargin": true,
            "type": "pie"
           }
          ],
          "scatter": [
           {
            "fillpattern": {
             "fillmode": "overlay",
             "size": 10,
             "solidity": 0.2
            },
            "type": "scatter"
           }
          ],
          "scatter3d": [
           {
            "line": {
             "colorbar": {
              "outlinewidth": 0,
              "ticks": ""
             }
            },
            "marker": {
             "colorbar": {
              "outlinewidth": 0,
              "ticks": ""
             }
            },
            "type": "scatter3d"
           }
          ],
          "scattercarpet": [
           {
            "marker": {
             "colorbar": {
              "outlinewidth": 0,
              "ticks": ""
             }
            },
            "type": "scattercarpet"
           }
          ],
          "scattergeo": [
           {
            "marker": {
             "colorbar": {
              "outlinewidth": 0,
              "ticks": ""
             }
            },
            "type": "scattergeo"
           }
          ],
          "scattergl": [
           {
            "marker": {
             "colorbar": {
              "outlinewidth": 0,
              "ticks": ""
             }
            },
            "type": "scattergl"
           }
          ],
          "scattermapbox": [
           {
            "marker": {
             "colorbar": {
              "outlinewidth": 0,
              "ticks": ""
             }
            },
            "type": "scattermapbox"
           }
          ],
          "scatterpolar": [
           {
            "marker": {
             "colorbar": {
              "outlinewidth": 0,
              "ticks": ""
             }
            },
            "type": "scatterpolar"
           }
          ],
          "scatterpolargl": [
           {
            "marker": {
             "colorbar": {
              "outlinewidth": 0,
              "ticks": ""
             }
            },
            "type": "scatterpolargl"
           }
          ],
          "scatterternary": [
           {
            "marker": {
             "colorbar": {
              "outlinewidth": 0,
              "ticks": ""
             }
            },
            "type": "scatterternary"
           }
          ],
          "surface": [
           {
            "colorbar": {
             "outlinewidth": 0,
             "ticks": ""
            },
            "colorscale": [
             [
              0,
              "#0d0887"
             ],
             [
              0.1111111111111111,
              "#46039f"
             ],
             [
              0.2222222222222222,
              "#7201a8"
             ],
             [
              0.3333333333333333,
              "#9c179e"
             ],
             [
              0.4444444444444444,
              "#bd3786"
             ],
             [
              0.5555555555555556,
              "#d8576b"
             ],
             [
              0.6666666666666666,
              "#ed7953"
             ],
             [
              0.7777777777777778,
              "#fb9f3a"
             ],
             [
              0.8888888888888888,
              "#fdca26"
             ],
             [
              1,
              "#f0f921"
             ]
            ],
            "type": "surface"
           }
          ],
          "table": [
           {
            "cells": {
             "fill": {
              "color": "#EBF0F8"
             },
             "line": {
              "color": "white"
             }
            },
            "header": {
             "fill": {
              "color": "#C8D4E3"
             },
             "line": {
              "color": "white"
             }
            },
            "type": "table"
           }
          ]
         },
         "layout": {
          "annotationdefaults": {
           "arrowcolor": "#2a3f5f",
           "arrowhead": 0,
           "arrowwidth": 1
          },
          "autotypenumbers": "strict",
          "coloraxis": {
           "colorbar": {
            "outlinewidth": 0,
            "ticks": ""
           }
          },
          "colorscale": {
           "diverging": [
            [
             0,
             "#8e0152"
            ],
            [
             0.1,
             "#c51b7d"
            ],
            [
             0.2,
             "#de77ae"
            ],
            [
             0.3,
             "#f1b6da"
            ],
            [
             0.4,
             "#fde0ef"
            ],
            [
             0.5,
             "#f7f7f7"
            ],
            [
             0.6,
             "#e6f5d0"
            ],
            [
             0.7,
             "#b8e186"
            ],
            [
             0.8,
             "#7fbc41"
            ],
            [
             0.9,
             "#4d9221"
            ],
            [
             1,
             "#276419"
            ]
           ],
           "sequential": [
            [
             0,
             "#0d0887"
            ],
            [
             0.1111111111111111,
             "#46039f"
            ],
            [
             0.2222222222222222,
             "#7201a8"
            ],
            [
             0.3333333333333333,
             "#9c179e"
            ],
            [
             0.4444444444444444,
             "#bd3786"
            ],
            [
             0.5555555555555556,
             "#d8576b"
            ],
            [
             0.6666666666666666,
             "#ed7953"
            ],
            [
             0.7777777777777778,
             "#fb9f3a"
            ],
            [
             0.8888888888888888,
             "#fdca26"
            ],
            [
             1,
             "#f0f921"
            ]
           ],
           "sequentialminus": [
            [
             0,
             "#0d0887"
            ],
            [
             0.1111111111111111,
             "#46039f"
            ],
            [
             0.2222222222222222,
             "#7201a8"
            ],
            [
             0.3333333333333333,
             "#9c179e"
            ],
            [
             0.4444444444444444,
             "#bd3786"
            ],
            [
             0.5555555555555556,
             "#d8576b"
            ],
            [
             0.6666666666666666,
             "#ed7953"
            ],
            [
             0.7777777777777778,
             "#fb9f3a"
            ],
            [
             0.8888888888888888,
             "#fdca26"
            ],
            [
             1,
             "#f0f921"
            ]
           ]
          },
          "colorway": [
           "#636efa",
           "#EF553B",
           "#00cc96",
           "#ab63fa",
           "#FFA15A",
           "#19d3f3",
           "#FF6692",
           "#B6E880",
           "#FF97FF",
           "#FECB52"
          ],
          "font": {
           "color": "#2a3f5f"
          },
          "geo": {
           "bgcolor": "white",
           "lakecolor": "white",
           "landcolor": "#E5ECF6",
           "showlakes": true,
           "showland": true,
           "subunitcolor": "white"
          },
          "hoverlabel": {
           "align": "left"
          },
          "hovermode": "closest",
          "mapbox": {
           "style": "light"
          },
          "paper_bgcolor": "white",
          "plot_bgcolor": "#E5ECF6",
          "polar": {
           "angularaxis": {
            "gridcolor": "white",
            "linecolor": "white",
            "ticks": ""
           },
           "bgcolor": "#E5ECF6",
           "radialaxis": {
            "gridcolor": "white",
            "linecolor": "white",
            "ticks": ""
           }
          },
          "scene": {
           "xaxis": {
            "backgroundcolor": "#E5ECF6",
            "gridcolor": "white",
            "gridwidth": 2,
            "linecolor": "white",
            "showbackground": true,
            "ticks": "",
            "zerolinecolor": "white"
           },
           "yaxis": {
            "backgroundcolor": "#E5ECF6",
            "gridcolor": "white",
            "gridwidth": 2,
            "linecolor": "white",
            "showbackground": true,
            "ticks": "",
            "zerolinecolor": "white"
           },
           "zaxis": {
            "backgroundcolor": "#E5ECF6",
            "gridcolor": "white",
            "gridwidth": 2,
            "linecolor": "white",
            "showbackground": true,
            "ticks": "",
            "zerolinecolor": "white"
           }
          },
          "shapedefaults": {
           "line": {
            "color": "#2a3f5f"
           }
          },
          "ternary": {
           "aaxis": {
            "gridcolor": "white",
            "linecolor": "white",
            "ticks": ""
           },
           "baxis": {
            "gridcolor": "white",
            "linecolor": "white",
            "ticks": ""
           },
           "bgcolor": "#E5ECF6",
           "caxis": {
            "gridcolor": "white",
            "linecolor": "white",
            "ticks": ""
           }
          },
          "title": {
           "x": 0.05
          },
          "xaxis": {
           "automargin": true,
           "gridcolor": "white",
           "linecolor": "white",
           "ticks": "",
           "title": {
            "standoff": 15
           },
           "zerolinecolor": "white",
           "zerolinewidth": 2
          },
          "yaxis": {
           "automargin": true,
           "gridcolor": "white",
           "linecolor": "white",
           "ticks": "",
           "title": {
            "standoff": 15
           },
           "zerolinecolor": "white",
           "zerolinewidth": 2
          }
         }
        },
        "xaxis": {
         "anchor": "y",
         "domain": [
          0,
          0.45
         ],
         "rangeslider": {
          "autorange": true,
          "range": [
           "2129-01-04 18:00:00",
           "2129-01-05 02:00:00"
          ]
         }
        },
        "xaxis2": {
         "anchor": "y2",
         "domain": [
          0.55,
          1
         ]
        },
        "yaxis": {
         "anchor": "x",
         "domain": [
          0,
          1
         ]
        },
        "yaxis2": {
         "anchor": "x2",
         "domain": [
          0,
          1
         ]
        }
       }
      }
     },
     "metadata": {},
     "output_type": "display_data"
    }
   ],
   "source": [
    "\n",
    "fig = make_subplots(rows = 1, cols = 2, subplot_titles=('not cumulative','cumulative'))\n",
    "fig.add_trace(go.Scatter(x = patient1_drug1.drug_exposure_start_datetime, y = patient1_drug1.quantity), row=1, col=1)\n",
    "fig.update_layout(xaxis=dict(rangeslider=dict(autorange=True, range=[patient1_drug1.drug_exposure_start_datetime.min(), patient1_drug1.drug_exposure_start_datetime.max()])))\n",
    "   \n",
    "fig.add_trace(go.Scatter(x = patient1_drug1.drug_exposure_start_datetime, y = patient1_drug1.cumulative), row=1, col=2)\n",
    "  \n",
    "fig.show()"
   ]
  },
  {
   "cell_type": "code",
   "execution_count": 12,
   "metadata": {},
   "outputs": [
    {
     "data": {
      "application/vnd.plotly.v1+json": {
       "config": {
        "plotlyServerURL": "https://plot.ly"
       },
       "data": [
        {
         "name": "723020, ['TAB']",
         "type": "scatter",
         "x": [
          "2129-01-03 19:00:00"
         ],
         "xaxis": "x",
         "y": [
          1
         ],
         "yaxis": "y"
        },
        {
         "name": "1127433, ['TAB']",
         "type": "scatter",
         "x": [
          "2129-01-03 20:00:00"
         ],
         "xaxis": "x",
         "y": [
          2
         ],
         "yaxis": "y"
        },
        {
         "name": "40232756, ['TAB']",
         "type": "scatter",
         "x": [
          "2129-01-04 18:00:00",
          "2129-01-04 21:00:00",
          "2129-01-05 00:00:00",
          "2129-01-05 02:00:00"
         ],
         "xaxis": "x",
         "y": [
          0.5,
          1,
          1.5,
          1
         ],
         "yaxis": "y"
        },
        {
         "name": "21125875, ['TAB']",
         "type": "scatter",
         "x": [
          "2129-01-05 08:00:00"
         ],
         "xaxis": "x",
         "y": [
          1
         ],
         "yaxis": "y"
        },
        {
         "name": "19137328, ['TAB']",
         "type": "scatter",
         "x": [
          "2129-01-05 08:00:00"
         ],
         "xaxis": "x",
         "y": [
          1
         ],
         "yaxis": "y"
        },
        {
         "name": "19077513, ['TAB']",
         "type": "scatter",
         "x": [
          "2129-01-05 08:00:00"
         ],
         "xaxis": "x",
         "y": [
          1
         ],
         "yaxis": "y"
        },
        {
         "name": "19127213, ['SYR']",
         "type": "scatter",
         "x": [
          "2129-01-03 19:00:00",
          "2129-01-05 03:00:00"
         ],
         "xaxis": "x2",
         "y": [
          0.3,
          0.3
         ],
         "yaxis": "y2"
        },
        {
         "name": "45775137, ['SYR']",
         "type": "scatter",
         "x": [
          "2129-01-03 19:00:00"
         ],
         "xaxis": "x2",
         "y": [
          1
         ],
         "yaxis": "y2"
        },
        {
         "name": "40221329, ['SYR']",
         "type": "scatter",
         "x": [
          "2129-01-05 02:00:00"
         ],
         "xaxis": "x2",
         "y": [
          1
         ],
         "yaxis": "y2"
        },
        {
         "name": "19126251, ['SYR']",
         "type": "scatter",
         "x": [
          "2129-01-06 08:00:00",
          "2129-01-08 08:00:00",
          "2129-01-10 08:00:00",
          "2129-01-11 08:00:00"
         ],
         "xaxis": "x2",
         "y": [
          2.25,
          1.125,
          0.5625,
          0.2813
         ],
         "yaxis": "y2"
        },
        {
         "name": "43011850, ['mL']",
         "type": "scatter",
         "x": [
          "2129-01-03 19:00:00"
         ],
         "xaxis": "x3",
         "y": [
          1
         ],
         "yaxis": "y3"
        },
        {
         "name": "19079250, ['mL']",
         "type": "scatter",
         "x": [
          "2129-01-05 03:00:00"
         ],
         "xaxis": "x3",
         "y": [
          6
         ],
         "yaxis": "y3"
        },
        {
         "name": "36249736, ['mL']",
         "type": "scatter",
         "x": [
          "2129-01-05 03:00:00"
         ],
         "xaxis": "x3",
         "y": [
          100
         ],
         "yaxis": "y3"
        },
        {
         "name": "734281, ['mL']",
         "type": "scatter",
         "x": [
          "2129-01-05 13:00:00",
          "2129-01-05 13:00:00"
         ],
         "xaxis": "x3",
         "y": [
          2.7692,
          2.7692
         ],
         "yaxis": "y3"
        },
        {
         "name": "19019418, ['CAP']",
         "type": "scatter",
         "x": [
          "2129-01-04 08:00:00"
         ],
         "xaxis": "x4",
         "y": [
          1
         ],
         "yaxis": "y4"
        },
        {
         "name": "19019050, ['UDCUP']",
         "type": "scatter",
         "x": [
          "2129-01-05 04:00:00"
         ],
         "xaxis": "x5",
         "y": [
          2
         ],
         "yaxis": "y5"
        }
       ],
       "layout": {
        "annotations": [
         {
          "font": {
           "size": 16
          },
          "showarrow": false,
          "text": "TAB",
          "x": 0.08399999999999999,
          "xanchor": "center",
          "xref": "paper",
          "y": 1,
          "yanchor": "bottom",
          "yref": "paper"
         },
         {
          "font": {
           "size": 16
          },
          "showarrow": false,
          "text": "SYR",
          "x": 0.292,
          "xanchor": "center",
          "xref": "paper",
          "y": 1,
          "yanchor": "bottom",
          "yref": "paper"
         },
         {
          "font": {
           "size": 16
          },
          "showarrow": false,
          "text": "mL",
          "x": 0.5,
          "xanchor": "center",
          "xref": "paper",
          "y": 1,
          "yanchor": "bottom",
          "yref": "paper"
         },
         {
          "font": {
           "size": 16
          },
          "showarrow": false,
          "text": "CAP",
          "x": 0.708,
          "xanchor": "center",
          "xref": "paper",
          "y": 1,
          "yanchor": "bottom",
          "yref": "paper"
         },
         {
          "font": {
           "size": 16
          },
          "showarrow": false,
          "text": "UDCUP",
          "x": 0.9159999999999999,
          "xanchor": "center",
          "xref": "paper",
          "y": 1,
          "yanchor": "bottom",
          "yref": "paper"
         }
        ],
        "template": {
         "data": {
          "bar": [
           {
            "error_x": {
             "color": "#2a3f5f"
            },
            "error_y": {
             "color": "#2a3f5f"
            },
            "marker": {
             "line": {
              "color": "#E5ECF6",
              "width": 0.5
             },
             "pattern": {
              "fillmode": "overlay",
              "size": 10,
              "solidity": 0.2
             }
            },
            "type": "bar"
           }
          ],
          "barpolar": [
           {
            "marker": {
             "line": {
              "color": "#E5ECF6",
              "width": 0.5
             },
             "pattern": {
              "fillmode": "overlay",
              "size": 10,
              "solidity": 0.2
             }
            },
            "type": "barpolar"
           }
          ],
          "carpet": [
           {
            "aaxis": {
             "endlinecolor": "#2a3f5f",
             "gridcolor": "white",
             "linecolor": "white",
             "minorgridcolor": "white",
             "startlinecolor": "#2a3f5f"
            },
            "baxis": {
             "endlinecolor": "#2a3f5f",
             "gridcolor": "white",
             "linecolor": "white",
             "minorgridcolor": "white",
             "startlinecolor": "#2a3f5f"
            },
            "type": "carpet"
           }
          ],
          "choropleth": [
           {
            "colorbar": {
             "outlinewidth": 0,
             "ticks": ""
            },
            "type": "choropleth"
           }
          ],
          "contour": [
           {
            "colorbar": {
             "outlinewidth": 0,
             "ticks": ""
            },
            "colorscale": [
             [
              0,
              "#0d0887"
             ],
             [
              0.1111111111111111,
              "#46039f"
             ],
             [
              0.2222222222222222,
              "#7201a8"
             ],
             [
              0.3333333333333333,
              "#9c179e"
             ],
             [
              0.4444444444444444,
              "#bd3786"
             ],
             [
              0.5555555555555556,
              "#d8576b"
             ],
             [
              0.6666666666666666,
              "#ed7953"
             ],
             [
              0.7777777777777778,
              "#fb9f3a"
             ],
             [
              0.8888888888888888,
              "#fdca26"
             ],
             [
              1,
              "#f0f921"
             ]
            ],
            "type": "contour"
           }
          ],
          "contourcarpet": [
           {
            "colorbar": {
             "outlinewidth": 0,
             "ticks": ""
            },
            "type": "contourcarpet"
           }
          ],
          "heatmap": [
           {
            "colorbar": {
             "outlinewidth": 0,
             "ticks": ""
            },
            "colorscale": [
             [
              0,
              "#0d0887"
             ],
             [
              0.1111111111111111,
              "#46039f"
             ],
             [
              0.2222222222222222,
              "#7201a8"
             ],
             [
              0.3333333333333333,
              "#9c179e"
             ],
             [
              0.4444444444444444,
              "#bd3786"
             ],
             [
              0.5555555555555556,
              "#d8576b"
             ],
             [
              0.6666666666666666,
              "#ed7953"
             ],
             [
              0.7777777777777778,
              "#fb9f3a"
             ],
             [
              0.8888888888888888,
              "#fdca26"
             ],
             [
              1,
              "#f0f921"
             ]
            ],
            "type": "heatmap"
           }
          ],
          "heatmapgl": [
           {
            "colorbar": {
             "outlinewidth": 0,
             "ticks": ""
            },
            "colorscale": [
             [
              0,
              "#0d0887"
             ],
             [
              0.1111111111111111,
              "#46039f"
             ],
             [
              0.2222222222222222,
              "#7201a8"
             ],
             [
              0.3333333333333333,
              "#9c179e"
             ],
             [
              0.4444444444444444,
              "#bd3786"
             ],
             [
              0.5555555555555556,
              "#d8576b"
             ],
             [
              0.6666666666666666,
              "#ed7953"
             ],
             [
              0.7777777777777778,
              "#fb9f3a"
             ],
             [
              0.8888888888888888,
              "#fdca26"
             ],
             [
              1,
              "#f0f921"
             ]
            ],
            "type": "heatmapgl"
           }
          ],
          "histogram": [
           {
            "marker": {
             "pattern": {
              "fillmode": "overlay",
              "size": 10,
              "solidity": 0.2
             }
            },
            "type": "histogram"
           }
          ],
          "histogram2d": [
           {
            "colorbar": {
             "outlinewidth": 0,
             "ticks": ""
            },
            "colorscale": [
             [
              0,
              "#0d0887"
             ],
             [
              0.1111111111111111,
              "#46039f"
             ],
             [
              0.2222222222222222,
              "#7201a8"
             ],
             [
              0.3333333333333333,
              "#9c179e"
             ],
             [
              0.4444444444444444,
              "#bd3786"
             ],
             [
              0.5555555555555556,
              "#d8576b"
             ],
             [
              0.6666666666666666,
              "#ed7953"
             ],
             [
              0.7777777777777778,
              "#fb9f3a"
             ],
             [
              0.8888888888888888,
              "#fdca26"
             ],
             [
              1,
              "#f0f921"
             ]
            ],
            "type": "histogram2d"
           }
          ],
          "histogram2dcontour": [
           {
            "colorbar": {
             "outlinewidth": 0,
             "ticks": ""
            },
            "colorscale": [
             [
              0,
              "#0d0887"
             ],
             [
              0.1111111111111111,
              "#46039f"
             ],
             [
              0.2222222222222222,
              "#7201a8"
             ],
             [
              0.3333333333333333,
              "#9c179e"
             ],
             [
              0.4444444444444444,
              "#bd3786"
             ],
             [
              0.5555555555555556,
              "#d8576b"
             ],
             [
              0.6666666666666666,
              "#ed7953"
             ],
             [
              0.7777777777777778,
              "#fb9f3a"
             ],
             [
              0.8888888888888888,
              "#fdca26"
             ],
             [
              1,
              "#f0f921"
             ]
            ],
            "type": "histogram2dcontour"
           }
          ],
          "mesh3d": [
           {
            "colorbar": {
             "outlinewidth": 0,
             "ticks": ""
            },
            "type": "mesh3d"
           }
          ],
          "parcoords": [
           {
            "line": {
             "colorbar": {
              "outlinewidth": 0,
              "ticks": ""
             }
            },
            "type": "parcoords"
           }
          ],
          "pie": [
           {
            "automargin": true,
            "type": "pie"
           }
          ],
          "scatter": [
           {
            "fillpattern": {
             "fillmode": "overlay",
             "size": 10,
             "solidity": 0.2
            },
            "type": "scatter"
           }
          ],
          "scatter3d": [
           {
            "line": {
             "colorbar": {
              "outlinewidth": 0,
              "ticks": ""
             }
            },
            "marker": {
             "colorbar": {
              "outlinewidth": 0,
              "ticks": ""
             }
            },
            "type": "scatter3d"
           }
          ],
          "scattercarpet": [
           {
            "marker": {
             "colorbar": {
              "outlinewidth": 0,
              "ticks": ""
             }
            },
            "type": "scattercarpet"
           }
          ],
          "scattergeo": [
           {
            "marker": {
             "colorbar": {
              "outlinewidth": 0,
              "ticks": ""
             }
            },
            "type": "scattergeo"
           }
          ],
          "scattergl": [
           {
            "marker": {
             "colorbar": {
              "outlinewidth": 0,
              "ticks": ""
             }
            },
            "type": "scattergl"
           }
          ],
          "scattermapbox": [
           {
            "marker": {
             "colorbar": {
              "outlinewidth": 0,
              "ticks": ""
             }
            },
            "type": "scattermapbox"
           }
          ],
          "scatterpolar": [
           {
            "marker": {
             "colorbar": {
              "outlinewidth": 0,
              "ticks": ""
             }
            },
            "type": "scatterpolar"
           }
          ],
          "scatterpolargl": [
           {
            "marker": {
             "colorbar": {
              "outlinewidth": 0,
              "ticks": ""
             }
            },
            "type": "scatterpolargl"
           }
          ],
          "scatterternary": [
           {
            "marker": {
             "colorbar": {
              "outlinewidth": 0,
              "ticks": ""
             }
            },
            "type": "scatterternary"
           }
          ],
          "surface": [
           {
            "colorbar": {
             "outlinewidth": 0,
             "ticks": ""
            },
            "colorscale": [
             [
              0,
              "#0d0887"
             ],
             [
              0.1111111111111111,
              "#46039f"
             ],
             [
              0.2222222222222222,
              "#7201a8"
             ],
             [
              0.3333333333333333,
              "#9c179e"
             ],
             [
              0.4444444444444444,
              "#bd3786"
             ],
             [
              0.5555555555555556,
              "#d8576b"
             ],
             [
              0.6666666666666666,
              "#ed7953"
             ],
             [
              0.7777777777777778,
              "#fb9f3a"
             ],
             [
              0.8888888888888888,
              "#fdca26"
             ],
             [
              1,
              "#f0f921"
             ]
            ],
            "type": "surface"
           }
          ],
          "table": [
           {
            "cells": {
             "fill": {
              "color": "#EBF0F8"
             },
             "line": {
              "color": "white"
             }
            },
            "header": {
             "fill": {
              "color": "#C8D4E3"
             },
             "line": {
              "color": "white"
             }
            },
            "type": "table"
           }
          ]
         },
         "layout": {
          "annotationdefaults": {
           "arrowcolor": "#2a3f5f",
           "arrowhead": 0,
           "arrowwidth": 1
          },
          "autotypenumbers": "strict",
          "coloraxis": {
           "colorbar": {
            "outlinewidth": 0,
            "ticks": ""
           }
          },
          "colorscale": {
           "diverging": [
            [
             0,
             "#8e0152"
            ],
            [
             0.1,
             "#c51b7d"
            ],
            [
             0.2,
             "#de77ae"
            ],
            [
             0.3,
             "#f1b6da"
            ],
            [
             0.4,
             "#fde0ef"
            ],
            [
             0.5,
             "#f7f7f7"
            ],
            [
             0.6,
             "#e6f5d0"
            ],
            [
             0.7,
             "#b8e186"
            ],
            [
             0.8,
             "#7fbc41"
            ],
            [
             0.9,
             "#4d9221"
            ],
            [
             1,
             "#276419"
            ]
           ],
           "sequential": [
            [
             0,
             "#0d0887"
            ],
            [
             0.1111111111111111,
             "#46039f"
            ],
            [
             0.2222222222222222,
             "#7201a8"
            ],
            [
             0.3333333333333333,
             "#9c179e"
            ],
            [
             0.4444444444444444,
             "#bd3786"
            ],
            [
             0.5555555555555556,
             "#d8576b"
            ],
            [
             0.6666666666666666,
             "#ed7953"
            ],
            [
             0.7777777777777778,
             "#fb9f3a"
            ],
            [
             0.8888888888888888,
             "#fdca26"
            ],
            [
             1,
             "#f0f921"
            ]
           ],
           "sequentialminus": [
            [
             0,
             "#0d0887"
            ],
            [
             0.1111111111111111,
             "#46039f"
            ],
            [
             0.2222222222222222,
             "#7201a8"
            ],
            [
             0.3333333333333333,
             "#9c179e"
            ],
            [
             0.4444444444444444,
             "#bd3786"
            ],
            [
             0.5555555555555556,
             "#d8576b"
            ],
            [
             0.6666666666666666,
             "#ed7953"
            ],
            [
             0.7777777777777778,
             "#fb9f3a"
            ],
            [
             0.8888888888888888,
             "#fdca26"
            ],
            [
             1,
             "#f0f921"
            ]
           ]
          },
          "colorway": [
           "#636efa",
           "#EF553B",
           "#00cc96",
           "#ab63fa",
           "#FFA15A",
           "#19d3f3",
           "#FF6692",
           "#B6E880",
           "#FF97FF",
           "#FECB52"
          ],
          "font": {
           "color": "#2a3f5f"
          },
          "geo": {
           "bgcolor": "white",
           "lakecolor": "white",
           "landcolor": "#E5ECF6",
           "showlakes": true,
           "showland": true,
           "subunitcolor": "white"
          },
          "hoverlabel": {
           "align": "left"
          },
          "hovermode": "closest",
          "mapbox": {
           "style": "light"
          },
          "paper_bgcolor": "white",
          "plot_bgcolor": "#E5ECF6",
          "polar": {
           "angularaxis": {
            "gridcolor": "white",
            "linecolor": "white",
            "ticks": ""
           },
           "bgcolor": "#E5ECF6",
           "radialaxis": {
            "gridcolor": "white",
            "linecolor": "white",
            "ticks": ""
           }
          },
          "scene": {
           "xaxis": {
            "backgroundcolor": "#E5ECF6",
            "gridcolor": "white",
            "gridwidth": 2,
            "linecolor": "white",
            "showbackground": true,
            "ticks": "",
            "zerolinecolor": "white"
           },
           "yaxis": {
            "backgroundcolor": "#E5ECF6",
            "gridcolor": "white",
            "gridwidth": 2,
            "linecolor": "white",
            "showbackground": true,
            "ticks": "",
            "zerolinecolor": "white"
           },
           "zaxis": {
            "backgroundcolor": "#E5ECF6",
            "gridcolor": "white",
            "gridwidth": 2,
            "linecolor": "white",
            "showbackground": true,
            "ticks": "",
            "zerolinecolor": "white"
           }
          },
          "shapedefaults": {
           "line": {
            "color": "#2a3f5f"
           }
          },
          "ternary": {
           "aaxis": {
            "gridcolor": "white",
            "linecolor": "white",
            "ticks": ""
           },
           "baxis": {
            "gridcolor": "white",
            "linecolor": "white",
            "ticks": ""
           },
           "bgcolor": "#E5ECF6",
           "caxis": {
            "gridcolor": "white",
            "linecolor": "white",
            "ticks": ""
           }
          },
          "title": {
           "x": 0.05
          },
          "xaxis": {
           "automargin": true,
           "gridcolor": "white",
           "linecolor": "white",
           "ticks": "",
           "title": {
            "standoff": 15
           },
           "zerolinecolor": "white",
           "zerolinewidth": 2
          },
          "yaxis": {
           "automargin": true,
           "gridcolor": "white",
           "linecolor": "white",
           "ticks": "",
           "title": {
            "standoff": 15
           },
           "zerolinecolor": "white",
           "zerolinewidth": 2
          }
         }
        },
        "xaxis": {
         "anchor": "y",
         "domain": [
          0,
          0.16799999999999998
         ]
        },
        "xaxis2": {
         "anchor": "y2",
         "domain": [
          0.208,
          0.376
         ]
        },
        "xaxis3": {
         "anchor": "y3",
         "domain": [
          0.416,
          0.584
         ]
        },
        "xaxis4": {
         "anchor": "y4",
         "domain": [
          0.624,
          0.792
         ]
        },
        "xaxis5": {
         "anchor": "y5",
         "domain": [
          0.832,
          1
         ]
        },
        "yaxis": {
         "anchor": "x",
         "domain": [
          0,
          1
         ]
        },
        "yaxis2": {
         "anchor": "x2",
         "domain": [
          0,
          1
         ]
        },
        "yaxis3": {
         "anchor": "x3",
         "domain": [
          0,
          1
         ]
        },
        "yaxis4": {
         "anchor": "x4",
         "domain": [
          0,
          1
         ]
        },
        "yaxis5": {
         "anchor": "x5",
         "domain": [
          0,
          1
         ]
        }
       }
      }
     },
     "metadata": {},
     "output_type": "display_data"
    }
   ],
   "source": [
    "patient1 = patient1.sort_values(by='drug_exposure_start_datetime')\n",
    "number_types = patient1.dose_unit_source_value.describe()['unique']\n",
    "\n",
    "fig3 = make_subplots(rows = 1, cols = number_types, subplot_titles=(patient1.dose_unit_source_value.value_counts().index))\n",
    "colonne = 1\n",
    "\n",
    "for drug_type in patient1.dose_unit_source_value.value_counts().index:\n",
    "    #print(drug_type)\n",
    "\n",
    "    for d in patient1[patient1.dose_unit_source_value == drug_type].drug_concept_id.unique():\n",
    "        temp = patient1[patient1.drug_concept_id == d]\n",
    "        #print(temp.dose_unit_source_value.unique())\n",
    "        fig3.add_trace(go.Scatter(x = temp.drug_exposure_start_datetime, y = temp.quantity, name=f'{d}, {temp.dose_unit_source_value.unique()}'), row=1, col=colonne)\n",
    "\n",
    "    colonne += 1\n",
    "\n",
    "fig3.show()\n",
    "\n",
    "# Add curseur de temps, add legendgroup, add selection de chaque drug -> drug selection is already doable as well as time"
   ]
  },
  {
   "cell_type": "code",
   "execution_count": 13,
   "metadata": {},
   "outputs": [
    {
     "data": {
      "application/vnd.plotly.v1+json": {
       "config": {
        "plotlyServerURL": "https://plot.ly"
       },
       "data": [
        {
         "name": "723020, ['TAB']",
         "type": "scatter",
         "visible": true,
         "x": [
          "2129-01-03 19:00:00"
         ],
         "y": [
          1
         ]
        },
        {
         "name": "1127433, ['TAB']",
         "type": "scatter",
         "visible": true,
         "x": [
          "2129-01-03 20:00:00"
         ],
         "y": [
          2
         ]
        },
        {
         "name": "40232756, ['TAB']",
         "type": "scatter",
         "visible": true,
         "x": [
          "2129-01-04 18:00:00",
          "2129-01-04 21:00:00",
          "2129-01-05 00:00:00",
          "2129-01-05 02:00:00"
         ],
         "y": [
          0.5,
          1,
          1.5,
          1
         ]
        },
        {
         "name": "21125875, ['TAB']",
         "type": "scatter",
         "visible": true,
         "x": [
          "2129-01-05 08:00:00"
         ],
         "y": [
          1
         ]
        },
        {
         "name": "19137328, ['TAB']",
         "type": "scatter",
         "visible": true,
         "x": [
          "2129-01-05 08:00:00"
         ],
         "y": [
          1
         ]
        },
        {
         "name": "19077513, ['TAB']",
         "type": "scatter",
         "visible": true,
         "x": [
          "2129-01-05 08:00:00"
         ],
         "y": [
          1
         ]
        }
       ],
       "layout": {
        "showlegend": true,
        "template": {
         "data": {
          "bar": [
           {
            "error_x": {
             "color": "#2a3f5f"
            },
            "error_y": {
             "color": "#2a3f5f"
            },
            "marker": {
             "line": {
              "color": "#E5ECF6",
              "width": 0.5
             },
             "pattern": {
              "fillmode": "overlay",
              "size": 10,
              "solidity": 0.2
             }
            },
            "type": "bar"
           }
          ],
          "barpolar": [
           {
            "marker": {
             "line": {
              "color": "#E5ECF6",
              "width": 0.5
             },
             "pattern": {
              "fillmode": "overlay",
              "size": 10,
              "solidity": 0.2
             }
            },
            "type": "barpolar"
           }
          ],
          "carpet": [
           {
            "aaxis": {
             "endlinecolor": "#2a3f5f",
             "gridcolor": "white",
             "linecolor": "white",
             "minorgridcolor": "white",
             "startlinecolor": "#2a3f5f"
            },
            "baxis": {
             "endlinecolor": "#2a3f5f",
             "gridcolor": "white",
             "linecolor": "white",
             "minorgridcolor": "white",
             "startlinecolor": "#2a3f5f"
            },
            "type": "carpet"
           }
          ],
          "choropleth": [
           {
            "colorbar": {
             "outlinewidth": 0,
             "ticks": ""
            },
            "type": "choropleth"
           }
          ],
          "contour": [
           {
            "colorbar": {
             "outlinewidth": 0,
             "ticks": ""
            },
            "colorscale": [
             [
              0,
              "#0d0887"
             ],
             [
              0.1111111111111111,
              "#46039f"
             ],
             [
              0.2222222222222222,
              "#7201a8"
             ],
             [
              0.3333333333333333,
              "#9c179e"
             ],
             [
              0.4444444444444444,
              "#bd3786"
             ],
             [
              0.5555555555555556,
              "#d8576b"
             ],
             [
              0.6666666666666666,
              "#ed7953"
             ],
             [
              0.7777777777777778,
              "#fb9f3a"
             ],
             [
              0.8888888888888888,
              "#fdca26"
             ],
             [
              1,
              "#f0f921"
             ]
            ],
            "type": "contour"
           }
          ],
          "contourcarpet": [
           {
            "colorbar": {
             "outlinewidth": 0,
             "ticks": ""
            },
            "type": "contourcarpet"
           }
          ],
          "heatmap": [
           {
            "colorbar": {
             "outlinewidth": 0,
             "ticks": ""
            },
            "colorscale": [
             [
              0,
              "#0d0887"
             ],
             [
              0.1111111111111111,
              "#46039f"
             ],
             [
              0.2222222222222222,
              "#7201a8"
             ],
             [
              0.3333333333333333,
              "#9c179e"
             ],
             [
              0.4444444444444444,
              "#bd3786"
             ],
             [
              0.5555555555555556,
              "#d8576b"
             ],
             [
              0.6666666666666666,
              "#ed7953"
             ],
             [
              0.7777777777777778,
              "#fb9f3a"
             ],
             [
              0.8888888888888888,
              "#fdca26"
             ],
             [
              1,
              "#f0f921"
             ]
            ],
            "type": "heatmap"
           }
          ],
          "heatmapgl": [
           {
            "colorbar": {
             "outlinewidth": 0,
             "ticks": ""
            },
            "colorscale": [
             [
              0,
              "#0d0887"
             ],
             [
              0.1111111111111111,
              "#46039f"
             ],
             [
              0.2222222222222222,
              "#7201a8"
             ],
             [
              0.3333333333333333,
              "#9c179e"
             ],
             [
              0.4444444444444444,
              "#bd3786"
             ],
             [
              0.5555555555555556,
              "#d8576b"
             ],
             [
              0.6666666666666666,
              "#ed7953"
             ],
             [
              0.7777777777777778,
              "#fb9f3a"
             ],
             [
              0.8888888888888888,
              "#fdca26"
             ],
             [
              1,
              "#f0f921"
             ]
            ],
            "type": "heatmapgl"
           }
          ],
          "histogram": [
           {
            "marker": {
             "pattern": {
              "fillmode": "overlay",
              "size": 10,
              "solidity": 0.2
             }
            },
            "type": "histogram"
           }
          ],
          "histogram2d": [
           {
            "colorbar": {
             "outlinewidth": 0,
             "ticks": ""
            },
            "colorscale": [
             [
              0,
              "#0d0887"
             ],
             [
              0.1111111111111111,
              "#46039f"
             ],
             [
              0.2222222222222222,
              "#7201a8"
             ],
             [
              0.3333333333333333,
              "#9c179e"
             ],
             [
              0.4444444444444444,
              "#bd3786"
             ],
             [
              0.5555555555555556,
              "#d8576b"
             ],
             [
              0.6666666666666666,
              "#ed7953"
             ],
             [
              0.7777777777777778,
              "#fb9f3a"
             ],
             [
              0.8888888888888888,
              "#fdca26"
             ],
             [
              1,
              "#f0f921"
             ]
            ],
            "type": "histogram2d"
           }
          ],
          "histogram2dcontour": [
           {
            "colorbar": {
             "outlinewidth": 0,
             "ticks": ""
            },
            "colorscale": [
             [
              0,
              "#0d0887"
             ],
             [
              0.1111111111111111,
              "#46039f"
             ],
             [
              0.2222222222222222,
              "#7201a8"
             ],
             [
              0.3333333333333333,
              "#9c179e"
             ],
             [
              0.4444444444444444,
              "#bd3786"
             ],
             [
              0.5555555555555556,
              "#d8576b"
             ],
             [
              0.6666666666666666,
              "#ed7953"
             ],
             [
              0.7777777777777778,
              "#fb9f3a"
             ],
             [
              0.8888888888888888,
              "#fdca26"
             ],
             [
              1,
              "#f0f921"
             ]
            ],
            "type": "histogram2dcontour"
           }
          ],
          "mesh3d": [
           {
            "colorbar": {
             "outlinewidth": 0,
             "ticks": ""
            },
            "type": "mesh3d"
           }
          ],
          "parcoords": [
           {
            "line": {
             "colorbar": {
              "outlinewidth": 0,
              "ticks": ""
             }
            },
            "type": "parcoords"
           }
          ],
          "pie": [
           {
            "automargin": true,
            "type": "pie"
           }
          ],
          "scatter": [
           {
            "fillpattern": {
             "fillmode": "overlay",
             "size": 10,
             "solidity": 0.2
            },
            "type": "scatter"
           }
          ],
          "scatter3d": [
           {
            "line": {
             "colorbar": {
              "outlinewidth": 0,
              "ticks": ""
             }
            },
            "marker": {
             "colorbar": {
              "outlinewidth": 0,
              "ticks": ""
             }
            },
            "type": "scatter3d"
           }
          ],
          "scattercarpet": [
           {
            "marker": {
             "colorbar": {
              "outlinewidth": 0,
              "ticks": ""
             }
            },
            "type": "scattercarpet"
           }
          ],
          "scattergeo": [
           {
            "marker": {
             "colorbar": {
              "outlinewidth": 0,
              "ticks": ""
             }
            },
            "type": "scattergeo"
           }
          ],
          "scattergl": [
           {
            "marker": {
             "colorbar": {
              "outlinewidth": 0,
              "ticks": ""
             }
            },
            "type": "scattergl"
           }
          ],
          "scattermapbox": [
           {
            "marker": {
             "colorbar": {
              "outlinewidth": 0,
              "ticks": ""
             }
            },
            "type": "scattermapbox"
           }
          ],
          "scatterpolar": [
           {
            "marker": {
             "colorbar": {
              "outlinewidth": 0,
              "ticks": ""
             }
            },
            "type": "scatterpolar"
           }
          ],
          "scatterpolargl": [
           {
            "marker": {
             "colorbar": {
              "outlinewidth": 0,
              "ticks": ""
             }
            },
            "type": "scatterpolargl"
           }
          ],
          "scatterternary": [
           {
            "marker": {
             "colorbar": {
              "outlinewidth": 0,
              "ticks": ""
             }
            },
            "type": "scatterternary"
           }
          ],
          "surface": [
           {
            "colorbar": {
             "outlinewidth": 0,
             "ticks": ""
            },
            "colorscale": [
             [
              0,
              "#0d0887"
             ],
             [
              0.1111111111111111,
              "#46039f"
             ],
             [
              0.2222222222222222,
              "#7201a8"
             ],
             [
              0.3333333333333333,
              "#9c179e"
             ],
             [
              0.4444444444444444,
              "#bd3786"
             ],
             [
              0.5555555555555556,
              "#d8576b"
             ],
             [
              0.6666666666666666,
              "#ed7953"
             ],
             [
              0.7777777777777778,
              "#fb9f3a"
             ],
             [
              0.8888888888888888,
              "#fdca26"
             ],
             [
              1,
              "#f0f921"
             ]
            ],
            "type": "surface"
           }
          ],
          "table": [
           {
            "cells": {
             "fill": {
              "color": "#EBF0F8"
             },
             "line": {
              "color": "white"
             }
            },
            "header": {
             "fill": {
              "color": "#C8D4E3"
             },
             "line": {
              "color": "white"
             }
            },
            "type": "table"
           }
          ]
         },
         "layout": {
          "annotationdefaults": {
           "arrowcolor": "#2a3f5f",
           "arrowhead": 0,
           "arrowwidth": 1
          },
          "autotypenumbers": "strict",
          "coloraxis": {
           "colorbar": {
            "outlinewidth": 0,
            "ticks": ""
           }
          },
          "colorscale": {
           "diverging": [
            [
             0,
             "#8e0152"
            ],
            [
             0.1,
             "#c51b7d"
            ],
            [
             0.2,
             "#de77ae"
            ],
            [
             0.3,
             "#f1b6da"
            ],
            [
             0.4,
             "#fde0ef"
            ],
            [
             0.5,
             "#f7f7f7"
            ],
            [
             0.6,
             "#e6f5d0"
            ],
            [
             0.7,
             "#b8e186"
            ],
            [
             0.8,
             "#7fbc41"
            ],
            [
             0.9,
             "#4d9221"
            ],
            [
             1,
             "#276419"
            ]
           ],
           "sequential": [
            [
             0,
             "#0d0887"
            ],
            [
             0.1111111111111111,
             "#46039f"
            ],
            [
             0.2222222222222222,
             "#7201a8"
            ],
            [
             0.3333333333333333,
             "#9c179e"
            ],
            [
             0.4444444444444444,
             "#bd3786"
            ],
            [
             0.5555555555555556,
             "#d8576b"
            ],
            [
             0.6666666666666666,
             "#ed7953"
            ],
            [
             0.7777777777777778,
             "#fb9f3a"
            ],
            [
             0.8888888888888888,
             "#fdca26"
            ],
            [
             1,
             "#f0f921"
            ]
           ],
           "sequentialminus": [
            [
             0,
             "#0d0887"
            ],
            [
             0.1111111111111111,
             "#46039f"
            ],
            [
             0.2222222222222222,
             "#7201a8"
            ],
            [
             0.3333333333333333,
             "#9c179e"
            ],
            [
             0.4444444444444444,
             "#bd3786"
            ],
            [
             0.5555555555555556,
             "#d8576b"
            ],
            [
             0.6666666666666666,
             "#ed7953"
            ],
            [
             0.7777777777777778,
             "#fb9f3a"
            ],
            [
             0.8888888888888888,
             "#fdca26"
            ],
            [
             1,
             "#f0f921"
            ]
           ]
          },
          "colorway": [
           "#636efa",
           "#EF553B",
           "#00cc96",
           "#ab63fa",
           "#FFA15A",
           "#19d3f3",
           "#FF6692",
           "#B6E880",
           "#FF97FF",
           "#FECB52"
          ],
          "font": {
           "color": "#2a3f5f"
          },
          "geo": {
           "bgcolor": "white",
           "lakecolor": "white",
           "landcolor": "#E5ECF6",
           "showlakes": true,
           "showland": true,
           "subunitcolor": "white"
          },
          "hoverlabel": {
           "align": "left"
          },
          "hovermode": "closest",
          "mapbox": {
           "style": "light"
          },
          "paper_bgcolor": "white",
          "plot_bgcolor": "#E5ECF6",
          "polar": {
           "angularaxis": {
            "gridcolor": "white",
            "linecolor": "white",
            "ticks": ""
           },
           "bgcolor": "#E5ECF6",
           "radialaxis": {
            "gridcolor": "white",
            "linecolor": "white",
            "ticks": ""
           }
          },
          "scene": {
           "xaxis": {
            "backgroundcolor": "#E5ECF6",
            "gridcolor": "white",
            "gridwidth": 2,
            "linecolor": "white",
            "showbackground": true,
            "ticks": "",
            "zerolinecolor": "white"
           },
           "yaxis": {
            "backgroundcolor": "#E5ECF6",
            "gridcolor": "white",
            "gridwidth": 2,
            "linecolor": "white",
            "showbackground": true,
            "ticks": "",
            "zerolinecolor": "white"
           },
           "zaxis": {
            "backgroundcolor": "#E5ECF6",
            "gridcolor": "white",
            "gridwidth": 2,
            "linecolor": "white",
            "showbackground": true,
            "ticks": "",
            "zerolinecolor": "white"
           }
          },
          "shapedefaults": {
           "line": {
            "color": "#2a3f5f"
           }
          },
          "ternary": {
           "aaxis": {
            "gridcolor": "white",
            "linecolor": "white",
            "ticks": ""
           },
           "baxis": {
            "gridcolor": "white",
            "linecolor": "white",
            "ticks": ""
           },
           "bgcolor": "#E5ECF6",
           "caxis": {
            "gridcolor": "white",
            "linecolor": "white",
            "ticks": ""
           }
          },
          "title": {
           "x": 0.05
          },
          "xaxis": {
           "automargin": true,
           "gridcolor": "white",
           "linecolor": "white",
           "ticks": "",
           "title": {
            "standoff": 15
           },
           "zerolinecolor": "white",
           "zerolinewidth": 2
          },
          "yaxis": {
           "automargin": true,
           "gridcolor": "white",
           "linecolor": "white",
           "ticks": "",
           "title": {
            "standoff": 15
           },
           "zerolinecolor": "white",
           "zerolinewidth": 2
          }
         }
        },
        "updatemenus": [
         {
          "buttons": [
           {
            "args": [
             {
              "visible": [
               true,
               false,
               false,
               false,
               false,
               false
              ]
             }
            ],
            "args2": [
             {
              "visible": [
               false,
               true,
               true,
               true,
               true,
               true
              ]
             }
            ],
            "label": "723020",
            "method": "update",
            "visible": true
           },
           {
            "args": [
             {
              "visible": [
               false,
               true,
               false,
               false,
               false,
               false
              ]
             }
            ],
            "args2": [
             {
              "visible": [
               true,
               false,
               true,
               true,
               true,
               true
              ]
             }
            ],
            "label": "1127433",
            "method": "update",
            "visible": true
           },
           {
            "args": [
             {
              "visible": [
               false,
               false,
               true,
               false,
               false,
               false
              ]
             }
            ],
            "args2": [
             {
              "visible": [
               true,
               true,
               false,
               true,
               true,
               true
              ]
             }
            ],
            "label": "40232756",
            "method": "update",
            "visible": true
           },
           {
            "args": [
             {
              "visible": [
               false,
               false,
               false,
               true,
               false,
               false
              ]
             }
            ],
            "args2": [
             {
              "visible": [
               true,
               true,
               true,
               false,
               true,
               true
              ]
             }
            ],
            "label": "21125875",
            "method": "update",
            "visible": true
           },
           {
            "args": [
             {
              "visible": [
               false,
               false,
               false,
               false,
               true,
               false
              ]
             }
            ],
            "args2": [
             {
              "visible": [
               true,
               true,
               true,
               true,
               false,
               true
              ]
             }
            ],
            "label": "19137328",
            "method": "update",
            "visible": true
           },
           {
            "args": [
             {
              "visible": [
               false,
               false,
               false,
               false,
               false,
               true
              ]
             }
            ],
            "args2": [
             {
              "visible": [
               true,
               true,
               true,
               true,
               true,
               false
              ]
             }
            ],
            "label": "19077513",
            "method": "update",
            "visible": true
           }
          ],
          "direction": "right",
          "showactive": true,
          "type": "buttons",
          "x": 0.7,
          "y": 1.3
         }
        ],
        "xaxis": {
         "rangeslider": {
          "autorange": true,
          "range": [
           "2129-01-04 18:00:00",
           "2129-01-05 02:00:00"
          ]
         }
        }
       }
      }
     },
     "metadata": {},
     "output_type": "display_data"
    },
    {
     "data": {
      "application/vnd.plotly.v1+json": {
       "config": {
        "plotlyServerURL": "https://plot.ly"
       },
       "data": [
        {
         "name": "19127213, ['SYR']",
         "type": "scatter",
         "visible": true,
         "x": [
          "2129-01-03 19:00:00",
          "2129-01-05 03:00:00"
         ],
         "y": [
          0.3,
          0.3
         ]
        },
        {
         "name": "45775137, ['SYR']",
         "type": "scatter",
         "visible": true,
         "x": [
          "2129-01-03 19:00:00"
         ],
         "y": [
          1
         ]
        },
        {
         "name": "40221329, ['SYR']",
         "type": "scatter",
         "visible": true,
         "x": [
          "2129-01-05 02:00:00"
         ],
         "y": [
          1
         ]
        },
        {
         "name": "19126251, ['SYR']",
         "type": "scatter",
         "visible": true,
         "x": [
          "2129-01-06 08:00:00",
          "2129-01-08 08:00:00",
          "2129-01-10 08:00:00",
          "2129-01-11 08:00:00"
         ],
         "y": [
          2.25,
          1.125,
          0.5625,
          0.2813
         ]
        }
       ],
       "layout": {
        "showlegend": true,
        "template": {
         "data": {
          "bar": [
           {
            "error_x": {
             "color": "#2a3f5f"
            },
            "error_y": {
             "color": "#2a3f5f"
            },
            "marker": {
             "line": {
              "color": "#E5ECF6",
              "width": 0.5
             },
             "pattern": {
              "fillmode": "overlay",
              "size": 10,
              "solidity": 0.2
             }
            },
            "type": "bar"
           }
          ],
          "barpolar": [
           {
            "marker": {
             "line": {
              "color": "#E5ECF6",
              "width": 0.5
             },
             "pattern": {
              "fillmode": "overlay",
              "size": 10,
              "solidity": 0.2
             }
            },
            "type": "barpolar"
           }
          ],
          "carpet": [
           {
            "aaxis": {
             "endlinecolor": "#2a3f5f",
             "gridcolor": "white",
             "linecolor": "white",
             "minorgridcolor": "white",
             "startlinecolor": "#2a3f5f"
            },
            "baxis": {
             "endlinecolor": "#2a3f5f",
             "gridcolor": "white",
             "linecolor": "white",
             "minorgridcolor": "white",
             "startlinecolor": "#2a3f5f"
            },
            "type": "carpet"
           }
          ],
          "choropleth": [
           {
            "colorbar": {
             "outlinewidth": 0,
             "ticks": ""
            },
            "type": "choropleth"
           }
          ],
          "contour": [
           {
            "colorbar": {
             "outlinewidth": 0,
             "ticks": ""
            },
            "colorscale": [
             [
              0,
              "#0d0887"
             ],
             [
              0.1111111111111111,
              "#46039f"
             ],
             [
              0.2222222222222222,
              "#7201a8"
             ],
             [
              0.3333333333333333,
              "#9c179e"
             ],
             [
              0.4444444444444444,
              "#bd3786"
             ],
             [
              0.5555555555555556,
              "#d8576b"
             ],
             [
              0.6666666666666666,
              "#ed7953"
             ],
             [
              0.7777777777777778,
              "#fb9f3a"
             ],
             [
              0.8888888888888888,
              "#fdca26"
             ],
             [
              1,
              "#f0f921"
             ]
            ],
            "type": "contour"
           }
          ],
          "contourcarpet": [
           {
            "colorbar": {
             "outlinewidth": 0,
             "ticks": ""
            },
            "type": "contourcarpet"
           }
          ],
          "heatmap": [
           {
            "colorbar": {
             "outlinewidth": 0,
             "ticks": ""
            },
            "colorscale": [
             [
              0,
              "#0d0887"
             ],
             [
              0.1111111111111111,
              "#46039f"
             ],
             [
              0.2222222222222222,
              "#7201a8"
             ],
             [
              0.3333333333333333,
              "#9c179e"
             ],
             [
              0.4444444444444444,
              "#bd3786"
             ],
             [
              0.5555555555555556,
              "#d8576b"
             ],
             [
              0.6666666666666666,
              "#ed7953"
             ],
             [
              0.7777777777777778,
              "#fb9f3a"
             ],
             [
              0.8888888888888888,
              "#fdca26"
             ],
             [
              1,
              "#f0f921"
             ]
            ],
            "type": "heatmap"
           }
          ],
          "heatmapgl": [
           {
            "colorbar": {
             "outlinewidth": 0,
             "ticks": ""
            },
            "colorscale": [
             [
              0,
              "#0d0887"
             ],
             [
              0.1111111111111111,
              "#46039f"
             ],
             [
              0.2222222222222222,
              "#7201a8"
             ],
             [
              0.3333333333333333,
              "#9c179e"
             ],
             [
              0.4444444444444444,
              "#bd3786"
             ],
             [
              0.5555555555555556,
              "#d8576b"
             ],
             [
              0.6666666666666666,
              "#ed7953"
             ],
             [
              0.7777777777777778,
              "#fb9f3a"
             ],
             [
              0.8888888888888888,
              "#fdca26"
             ],
             [
              1,
              "#f0f921"
             ]
            ],
            "type": "heatmapgl"
           }
          ],
          "histogram": [
           {
            "marker": {
             "pattern": {
              "fillmode": "overlay",
              "size": 10,
              "solidity": 0.2
             }
            },
            "type": "histogram"
           }
          ],
          "histogram2d": [
           {
            "colorbar": {
             "outlinewidth": 0,
             "ticks": ""
            },
            "colorscale": [
             [
              0,
              "#0d0887"
             ],
             [
              0.1111111111111111,
              "#46039f"
             ],
             [
              0.2222222222222222,
              "#7201a8"
             ],
             [
              0.3333333333333333,
              "#9c179e"
             ],
             [
              0.4444444444444444,
              "#bd3786"
             ],
             [
              0.5555555555555556,
              "#d8576b"
             ],
             [
              0.6666666666666666,
              "#ed7953"
             ],
             [
              0.7777777777777778,
              "#fb9f3a"
             ],
             [
              0.8888888888888888,
              "#fdca26"
             ],
             [
              1,
              "#f0f921"
             ]
            ],
            "type": "histogram2d"
           }
          ],
          "histogram2dcontour": [
           {
            "colorbar": {
             "outlinewidth": 0,
             "ticks": ""
            },
            "colorscale": [
             [
              0,
              "#0d0887"
             ],
             [
              0.1111111111111111,
              "#46039f"
             ],
             [
              0.2222222222222222,
              "#7201a8"
             ],
             [
              0.3333333333333333,
              "#9c179e"
             ],
             [
              0.4444444444444444,
              "#bd3786"
             ],
             [
              0.5555555555555556,
              "#d8576b"
             ],
             [
              0.6666666666666666,
              "#ed7953"
             ],
             [
              0.7777777777777778,
              "#fb9f3a"
             ],
             [
              0.8888888888888888,
              "#fdca26"
             ],
             [
              1,
              "#f0f921"
             ]
            ],
            "type": "histogram2dcontour"
           }
          ],
          "mesh3d": [
           {
            "colorbar": {
             "outlinewidth": 0,
             "ticks": ""
            },
            "type": "mesh3d"
           }
          ],
          "parcoords": [
           {
            "line": {
             "colorbar": {
              "outlinewidth": 0,
              "ticks": ""
             }
            },
            "type": "parcoords"
           }
          ],
          "pie": [
           {
            "automargin": true,
            "type": "pie"
           }
          ],
          "scatter": [
           {
            "fillpattern": {
             "fillmode": "overlay",
             "size": 10,
             "solidity": 0.2
            },
            "type": "scatter"
           }
          ],
          "scatter3d": [
           {
            "line": {
             "colorbar": {
              "outlinewidth": 0,
              "ticks": ""
             }
            },
            "marker": {
             "colorbar": {
              "outlinewidth": 0,
              "ticks": ""
             }
            },
            "type": "scatter3d"
           }
          ],
          "scattercarpet": [
           {
            "marker": {
             "colorbar": {
              "outlinewidth": 0,
              "ticks": ""
             }
            },
            "type": "scattercarpet"
           }
          ],
          "scattergeo": [
           {
            "marker": {
             "colorbar": {
              "outlinewidth": 0,
              "ticks": ""
             }
            },
            "type": "scattergeo"
           }
          ],
          "scattergl": [
           {
            "marker": {
             "colorbar": {
              "outlinewidth": 0,
              "ticks": ""
             }
            },
            "type": "scattergl"
           }
          ],
          "scattermapbox": [
           {
            "marker": {
             "colorbar": {
              "outlinewidth": 0,
              "ticks": ""
             }
            },
            "type": "scattermapbox"
           }
          ],
          "scatterpolar": [
           {
            "marker": {
             "colorbar": {
              "outlinewidth": 0,
              "ticks": ""
             }
            },
            "type": "scatterpolar"
           }
          ],
          "scatterpolargl": [
           {
            "marker": {
             "colorbar": {
              "outlinewidth": 0,
              "ticks": ""
             }
            },
            "type": "scatterpolargl"
           }
          ],
          "scatterternary": [
           {
            "marker": {
             "colorbar": {
              "outlinewidth": 0,
              "ticks": ""
             }
            },
            "type": "scatterternary"
           }
          ],
          "surface": [
           {
            "colorbar": {
             "outlinewidth": 0,
             "ticks": ""
            },
            "colorscale": [
             [
              0,
              "#0d0887"
             ],
             [
              0.1111111111111111,
              "#46039f"
             ],
             [
              0.2222222222222222,
              "#7201a8"
             ],
             [
              0.3333333333333333,
              "#9c179e"
             ],
             [
              0.4444444444444444,
              "#bd3786"
             ],
             [
              0.5555555555555556,
              "#d8576b"
             ],
             [
              0.6666666666666666,
              "#ed7953"
             ],
             [
              0.7777777777777778,
              "#fb9f3a"
             ],
             [
              0.8888888888888888,
              "#fdca26"
             ],
             [
              1,
              "#f0f921"
             ]
            ],
            "type": "surface"
           }
          ],
          "table": [
           {
            "cells": {
             "fill": {
              "color": "#EBF0F8"
             },
             "line": {
              "color": "white"
             }
            },
            "header": {
             "fill": {
              "color": "#C8D4E3"
             },
             "line": {
              "color": "white"
             }
            },
            "type": "table"
           }
          ]
         },
         "layout": {
          "annotationdefaults": {
           "arrowcolor": "#2a3f5f",
           "arrowhead": 0,
           "arrowwidth": 1
          },
          "autotypenumbers": "strict",
          "coloraxis": {
           "colorbar": {
            "outlinewidth": 0,
            "ticks": ""
           }
          },
          "colorscale": {
           "diverging": [
            [
             0,
             "#8e0152"
            ],
            [
             0.1,
             "#c51b7d"
            ],
            [
             0.2,
             "#de77ae"
            ],
            [
             0.3,
             "#f1b6da"
            ],
            [
             0.4,
             "#fde0ef"
            ],
            [
             0.5,
             "#f7f7f7"
            ],
            [
             0.6,
             "#e6f5d0"
            ],
            [
             0.7,
             "#b8e186"
            ],
            [
             0.8,
             "#7fbc41"
            ],
            [
             0.9,
             "#4d9221"
            ],
            [
             1,
             "#276419"
            ]
           ],
           "sequential": [
            [
             0,
             "#0d0887"
            ],
            [
             0.1111111111111111,
             "#46039f"
            ],
            [
             0.2222222222222222,
             "#7201a8"
            ],
            [
             0.3333333333333333,
             "#9c179e"
            ],
            [
             0.4444444444444444,
             "#bd3786"
            ],
            [
             0.5555555555555556,
             "#d8576b"
            ],
            [
             0.6666666666666666,
             "#ed7953"
            ],
            [
             0.7777777777777778,
             "#fb9f3a"
            ],
            [
             0.8888888888888888,
             "#fdca26"
            ],
            [
             1,
             "#f0f921"
            ]
           ],
           "sequentialminus": [
            [
             0,
             "#0d0887"
            ],
            [
             0.1111111111111111,
             "#46039f"
            ],
            [
             0.2222222222222222,
             "#7201a8"
            ],
            [
             0.3333333333333333,
             "#9c179e"
            ],
            [
             0.4444444444444444,
             "#bd3786"
            ],
            [
             0.5555555555555556,
             "#d8576b"
            ],
            [
             0.6666666666666666,
             "#ed7953"
            ],
            [
             0.7777777777777778,
             "#fb9f3a"
            ],
            [
             0.8888888888888888,
             "#fdca26"
            ],
            [
             1,
             "#f0f921"
            ]
           ]
          },
          "colorway": [
           "#636efa",
           "#EF553B",
           "#00cc96",
           "#ab63fa",
           "#FFA15A",
           "#19d3f3",
           "#FF6692",
           "#B6E880",
           "#FF97FF",
           "#FECB52"
          ],
          "font": {
           "color": "#2a3f5f"
          },
          "geo": {
           "bgcolor": "white",
           "lakecolor": "white",
           "landcolor": "#E5ECF6",
           "showlakes": true,
           "showland": true,
           "subunitcolor": "white"
          },
          "hoverlabel": {
           "align": "left"
          },
          "hovermode": "closest",
          "mapbox": {
           "style": "light"
          },
          "paper_bgcolor": "white",
          "plot_bgcolor": "#E5ECF6",
          "polar": {
           "angularaxis": {
            "gridcolor": "white",
            "linecolor": "white",
            "ticks": ""
           },
           "bgcolor": "#E5ECF6",
           "radialaxis": {
            "gridcolor": "white",
            "linecolor": "white",
            "ticks": ""
           }
          },
          "scene": {
           "xaxis": {
            "backgroundcolor": "#E5ECF6",
            "gridcolor": "white",
            "gridwidth": 2,
            "linecolor": "white",
            "showbackground": true,
            "ticks": "",
            "zerolinecolor": "white"
           },
           "yaxis": {
            "backgroundcolor": "#E5ECF6",
            "gridcolor": "white",
            "gridwidth": 2,
            "linecolor": "white",
            "showbackground": true,
            "ticks": "",
            "zerolinecolor": "white"
           },
           "zaxis": {
            "backgroundcolor": "#E5ECF6",
            "gridcolor": "white",
            "gridwidth": 2,
            "linecolor": "white",
            "showbackground": true,
            "ticks": "",
            "zerolinecolor": "white"
           }
          },
          "shapedefaults": {
           "line": {
            "color": "#2a3f5f"
           }
          },
          "ternary": {
           "aaxis": {
            "gridcolor": "white",
            "linecolor": "white",
            "ticks": ""
           },
           "baxis": {
            "gridcolor": "white",
            "linecolor": "white",
            "ticks": ""
           },
           "bgcolor": "#E5ECF6",
           "caxis": {
            "gridcolor": "white",
            "linecolor": "white",
            "ticks": ""
           }
          },
          "title": {
           "x": 0.05
          },
          "xaxis": {
           "automargin": true,
           "gridcolor": "white",
           "linecolor": "white",
           "ticks": "",
           "title": {
            "standoff": 15
           },
           "zerolinecolor": "white",
           "zerolinewidth": 2
          },
          "yaxis": {
           "automargin": true,
           "gridcolor": "white",
           "linecolor": "white",
           "ticks": "",
           "title": {
            "standoff": 15
           },
           "zerolinecolor": "white",
           "zerolinewidth": 2
          }
         }
        },
        "updatemenus": [
         {
          "buttons": [
           {
            "args": [
             {
              "visible": [
               true,
               false,
               false,
               false
              ]
             }
            ],
            "args2": [
             {
              "visible": [
               false,
               true,
               true,
               true
              ]
             }
            ],
            "label": "19127213",
            "method": "update",
            "visible": true
           },
           {
            "args": [
             {
              "visible": [
               false,
               true,
               false,
               false
              ]
             }
            ],
            "args2": [
             {
              "visible": [
               true,
               false,
               true,
               true
              ]
             }
            ],
            "label": "45775137",
            "method": "update",
            "visible": true
           },
           {
            "args": [
             {
              "visible": [
               false,
               false,
               true,
               false
              ]
             }
            ],
            "args2": [
             {
              "visible": [
               true,
               true,
               false,
               true
              ]
             }
            ],
            "label": "40221329",
            "method": "update",
            "visible": true
           },
           {
            "args": [
             {
              "visible": [
               false,
               false,
               false,
               true
              ]
             }
            ],
            "args2": [
             {
              "visible": [
               true,
               true,
               true,
               false
              ]
             }
            ],
            "label": "19126251",
            "method": "update",
            "visible": true
           }
          ],
          "direction": "right",
          "showactive": true,
          "type": "buttons",
          "x": 0.7,
          "y": 1.3
         }
        ],
        "xaxis": {
         "rangeslider": {
          "autorange": true,
          "range": [
           "2129-01-04 18:00:00",
           "2129-01-05 02:00:00"
          ]
         }
        }
       }
      }
     },
     "metadata": {},
     "output_type": "display_data"
    },
    {
     "data": {
      "application/vnd.plotly.v1+json": {
       "config": {
        "plotlyServerURL": "https://plot.ly"
       },
       "data": [
        {
         "name": "43011850, ['mL']",
         "type": "scatter",
         "visible": true,
         "x": [
          "2129-01-03 19:00:00"
         ],
         "y": [
          1
         ]
        },
        {
         "name": "36249736, ['mL']",
         "type": "scatter",
         "visible": true,
         "x": [
          "2129-01-05 03:00:00"
         ],
         "y": [
          100
         ]
        },
        {
         "name": "19079250, ['mL']",
         "type": "scatter",
         "visible": true,
         "x": [
          "2129-01-05 03:00:00"
         ],
         "y": [
          6
         ]
        },
        {
         "name": "734281, ['mL']",
         "type": "scatter",
         "visible": true,
         "x": [
          "2129-01-05 13:00:00",
          "2129-01-05 13:00:00"
         ],
         "y": [
          2.7692,
          2.7692
         ]
        }
       ],
       "layout": {
        "showlegend": true,
        "template": {
         "data": {
          "bar": [
           {
            "error_x": {
             "color": "#2a3f5f"
            },
            "error_y": {
             "color": "#2a3f5f"
            },
            "marker": {
             "line": {
              "color": "#E5ECF6",
              "width": 0.5
             },
             "pattern": {
              "fillmode": "overlay",
              "size": 10,
              "solidity": 0.2
             }
            },
            "type": "bar"
           }
          ],
          "barpolar": [
           {
            "marker": {
             "line": {
              "color": "#E5ECF6",
              "width": 0.5
             },
             "pattern": {
              "fillmode": "overlay",
              "size": 10,
              "solidity": 0.2
             }
            },
            "type": "barpolar"
           }
          ],
          "carpet": [
           {
            "aaxis": {
             "endlinecolor": "#2a3f5f",
             "gridcolor": "white",
             "linecolor": "white",
             "minorgridcolor": "white",
             "startlinecolor": "#2a3f5f"
            },
            "baxis": {
             "endlinecolor": "#2a3f5f",
             "gridcolor": "white",
             "linecolor": "white",
             "minorgridcolor": "white",
             "startlinecolor": "#2a3f5f"
            },
            "type": "carpet"
           }
          ],
          "choropleth": [
           {
            "colorbar": {
             "outlinewidth": 0,
             "ticks": ""
            },
            "type": "choropleth"
           }
          ],
          "contour": [
           {
            "colorbar": {
             "outlinewidth": 0,
             "ticks": ""
            },
            "colorscale": [
             [
              0,
              "#0d0887"
             ],
             [
              0.1111111111111111,
              "#46039f"
             ],
             [
              0.2222222222222222,
              "#7201a8"
             ],
             [
              0.3333333333333333,
              "#9c179e"
             ],
             [
              0.4444444444444444,
              "#bd3786"
             ],
             [
              0.5555555555555556,
              "#d8576b"
             ],
             [
              0.6666666666666666,
              "#ed7953"
             ],
             [
              0.7777777777777778,
              "#fb9f3a"
             ],
             [
              0.8888888888888888,
              "#fdca26"
             ],
             [
              1,
              "#f0f921"
             ]
            ],
            "type": "contour"
           }
          ],
          "contourcarpet": [
           {
            "colorbar": {
             "outlinewidth": 0,
             "ticks": ""
            },
            "type": "contourcarpet"
           }
          ],
          "heatmap": [
           {
            "colorbar": {
             "outlinewidth": 0,
             "ticks": ""
            },
            "colorscale": [
             [
              0,
              "#0d0887"
             ],
             [
              0.1111111111111111,
              "#46039f"
             ],
             [
              0.2222222222222222,
              "#7201a8"
             ],
             [
              0.3333333333333333,
              "#9c179e"
             ],
             [
              0.4444444444444444,
              "#bd3786"
             ],
             [
              0.5555555555555556,
              "#d8576b"
             ],
             [
              0.6666666666666666,
              "#ed7953"
             ],
             [
              0.7777777777777778,
              "#fb9f3a"
             ],
             [
              0.8888888888888888,
              "#fdca26"
             ],
             [
              1,
              "#f0f921"
             ]
            ],
            "type": "heatmap"
           }
          ],
          "heatmapgl": [
           {
            "colorbar": {
             "outlinewidth": 0,
             "ticks": ""
            },
            "colorscale": [
             [
              0,
              "#0d0887"
             ],
             [
              0.1111111111111111,
              "#46039f"
             ],
             [
              0.2222222222222222,
              "#7201a8"
             ],
             [
              0.3333333333333333,
              "#9c179e"
             ],
             [
              0.4444444444444444,
              "#bd3786"
             ],
             [
              0.5555555555555556,
              "#d8576b"
             ],
             [
              0.6666666666666666,
              "#ed7953"
             ],
             [
              0.7777777777777778,
              "#fb9f3a"
             ],
             [
              0.8888888888888888,
              "#fdca26"
             ],
             [
              1,
              "#f0f921"
             ]
            ],
            "type": "heatmapgl"
           }
          ],
          "histogram": [
           {
            "marker": {
             "pattern": {
              "fillmode": "overlay",
              "size": 10,
              "solidity": 0.2
             }
            },
            "type": "histogram"
           }
          ],
          "histogram2d": [
           {
            "colorbar": {
             "outlinewidth": 0,
             "ticks": ""
            },
            "colorscale": [
             [
              0,
              "#0d0887"
             ],
             [
              0.1111111111111111,
              "#46039f"
             ],
             [
              0.2222222222222222,
              "#7201a8"
             ],
             [
              0.3333333333333333,
              "#9c179e"
             ],
             [
              0.4444444444444444,
              "#bd3786"
             ],
             [
              0.5555555555555556,
              "#d8576b"
             ],
             [
              0.6666666666666666,
              "#ed7953"
             ],
             [
              0.7777777777777778,
              "#fb9f3a"
             ],
             [
              0.8888888888888888,
              "#fdca26"
             ],
             [
              1,
              "#f0f921"
             ]
            ],
            "type": "histogram2d"
           }
          ],
          "histogram2dcontour": [
           {
            "colorbar": {
             "outlinewidth": 0,
             "ticks": ""
            },
            "colorscale": [
             [
              0,
              "#0d0887"
             ],
             [
              0.1111111111111111,
              "#46039f"
             ],
             [
              0.2222222222222222,
              "#7201a8"
             ],
             [
              0.3333333333333333,
              "#9c179e"
             ],
             [
              0.4444444444444444,
              "#bd3786"
             ],
             [
              0.5555555555555556,
              "#d8576b"
             ],
             [
              0.6666666666666666,
              "#ed7953"
             ],
             [
              0.7777777777777778,
              "#fb9f3a"
             ],
             [
              0.8888888888888888,
              "#fdca26"
             ],
             [
              1,
              "#f0f921"
             ]
            ],
            "type": "histogram2dcontour"
           }
          ],
          "mesh3d": [
           {
            "colorbar": {
             "outlinewidth": 0,
             "ticks": ""
            },
            "type": "mesh3d"
           }
          ],
          "parcoords": [
           {
            "line": {
             "colorbar": {
              "outlinewidth": 0,
              "ticks": ""
             }
            },
            "type": "parcoords"
           }
          ],
          "pie": [
           {
            "automargin": true,
            "type": "pie"
           }
          ],
          "scatter": [
           {
            "fillpattern": {
             "fillmode": "overlay",
             "size": 10,
             "solidity": 0.2
            },
            "type": "scatter"
           }
          ],
          "scatter3d": [
           {
            "line": {
             "colorbar": {
              "outlinewidth": 0,
              "ticks": ""
             }
            },
            "marker": {
             "colorbar": {
              "outlinewidth": 0,
              "ticks": ""
             }
            },
            "type": "scatter3d"
           }
          ],
          "scattercarpet": [
           {
            "marker": {
             "colorbar": {
              "outlinewidth": 0,
              "ticks": ""
             }
            },
            "type": "scattercarpet"
           }
          ],
          "scattergeo": [
           {
            "marker": {
             "colorbar": {
              "outlinewidth": 0,
              "ticks": ""
             }
            },
            "type": "scattergeo"
           }
          ],
          "scattergl": [
           {
            "marker": {
             "colorbar": {
              "outlinewidth": 0,
              "ticks": ""
             }
            },
            "type": "scattergl"
           }
          ],
          "scattermapbox": [
           {
            "marker": {
             "colorbar": {
              "outlinewidth": 0,
              "ticks": ""
             }
            },
            "type": "scattermapbox"
           }
          ],
          "scatterpolar": [
           {
            "marker": {
             "colorbar": {
              "outlinewidth": 0,
              "ticks": ""
             }
            },
            "type": "scatterpolar"
           }
          ],
          "scatterpolargl": [
           {
            "marker": {
             "colorbar": {
              "outlinewidth": 0,
              "ticks": ""
             }
            },
            "type": "scatterpolargl"
           }
          ],
          "scatterternary": [
           {
            "marker": {
             "colorbar": {
              "outlinewidth": 0,
              "ticks": ""
             }
            },
            "type": "scatterternary"
           }
          ],
          "surface": [
           {
            "colorbar": {
             "outlinewidth": 0,
             "ticks": ""
            },
            "colorscale": [
             [
              0,
              "#0d0887"
             ],
             [
              0.1111111111111111,
              "#46039f"
             ],
             [
              0.2222222222222222,
              "#7201a8"
             ],
             [
              0.3333333333333333,
              "#9c179e"
             ],
             [
              0.4444444444444444,
              "#bd3786"
             ],
             [
              0.5555555555555556,
              "#d8576b"
             ],
             [
              0.6666666666666666,
              "#ed7953"
             ],
             [
              0.7777777777777778,
              "#fb9f3a"
             ],
             [
              0.8888888888888888,
              "#fdca26"
             ],
             [
              1,
              "#f0f921"
             ]
            ],
            "type": "surface"
           }
          ],
          "table": [
           {
            "cells": {
             "fill": {
              "color": "#EBF0F8"
             },
             "line": {
              "color": "white"
             }
            },
            "header": {
             "fill": {
              "color": "#C8D4E3"
             },
             "line": {
              "color": "white"
             }
            },
            "type": "table"
           }
          ]
         },
         "layout": {
          "annotationdefaults": {
           "arrowcolor": "#2a3f5f",
           "arrowhead": 0,
           "arrowwidth": 1
          },
          "autotypenumbers": "strict",
          "coloraxis": {
           "colorbar": {
            "outlinewidth": 0,
            "ticks": ""
           }
          },
          "colorscale": {
           "diverging": [
            [
             0,
             "#8e0152"
            ],
            [
             0.1,
             "#c51b7d"
            ],
            [
             0.2,
             "#de77ae"
            ],
            [
             0.3,
             "#f1b6da"
            ],
            [
             0.4,
             "#fde0ef"
            ],
            [
             0.5,
             "#f7f7f7"
            ],
            [
             0.6,
             "#e6f5d0"
            ],
            [
             0.7,
             "#b8e186"
            ],
            [
             0.8,
             "#7fbc41"
            ],
            [
             0.9,
             "#4d9221"
            ],
            [
             1,
             "#276419"
            ]
           ],
           "sequential": [
            [
             0,
             "#0d0887"
            ],
            [
             0.1111111111111111,
             "#46039f"
            ],
            [
             0.2222222222222222,
             "#7201a8"
            ],
            [
             0.3333333333333333,
             "#9c179e"
            ],
            [
             0.4444444444444444,
             "#bd3786"
            ],
            [
             0.5555555555555556,
             "#d8576b"
            ],
            [
             0.6666666666666666,
             "#ed7953"
            ],
            [
             0.7777777777777778,
             "#fb9f3a"
            ],
            [
             0.8888888888888888,
             "#fdca26"
            ],
            [
             1,
             "#f0f921"
            ]
           ],
           "sequentialminus": [
            [
             0,
             "#0d0887"
            ],
            [
             0.1111111111111111,
             "#46039f"
            ],
            [
             0.2222222222222222,
             "#7201a8"
            ],
            [
             0.3333333333333333,
             "#9c179e"
            ],
            [
             0.4444444444444444,
             "#bd3786"
            ],
            [
             0.5555555555555556,
             "#d8576b"
            ],
            [
             0.6666666666666666,
             "#ed7953"
            ],
            [
             0.7777777777777778,
             "#fb9f3a"
            ],
            [
             0.8888888888888888,
             "#fdca26"
            ],
            [
             1,
             "#f0f921"
            ]
           ]
          },
          "colorway": [
           "#636efa",
           "#EF553B",
           "#00cc96",
           "#ab63fa",
           "#FFA15A",
           "#19d3f3",
           "#FF6692",
           "#B6E880",
           "#FF97FF",
           "#FECB52"
          ],
          "font": {
           "color": "#2a3f5f"
          },
          "geo": {
           "bgcolor": "white",
           "lakecolor": "white",
           "landcolor": "#E5ECF6",
           "showlakes": true,
           "showland": true,
           "subunitcolor": "white"
          },
          "hoverlabel": {
           "align": "left"
          },
          "hovermode": "closest",
          "mapbox": {
           "style": "light"
          },
          "paper_bgcolor": "white",
          "plot_bgcolor": "#E5ECF6",
          "polar": {
           "angularaxis": {
            "gridcolor": "white",
            "linecolor": "white",
            "ticks": ""
           },
           "bgcolor": "#E5ECF6",
           "radialaxis": {
            "gridcolor": "white",
            "linecolor": "white",
            "ticks": ""
           }
          },
          "scene": {
           "xaxis": {
            "backgroundcolor": "#E5ECF6",
            "gridcolor": "white",
            "gridwidth": 2,
            "linecolor": "white",
            "showbackground": true,
            "ticks": "",
            "zerolinecolor": "white"
           },
           "yaxis": {
            "backgroundcolor": "#E5ECF6",
            "gridcolor": "white",
            "gridwidth": 2,
            "linecolor": "white",
            "showbackground": true,
            "ticks": "",
            "zerolinecolor": "white"
           },
           "zaxis": {
            "backgroundcolor": "#E5ECF6",
            "gridcolor": "white",
            "gridwidth": 2,
            "linecolor": "white",
            "showbackground": true,
            "ticks": "",
            "zerolinecolor": "white"
           }
          },
          "shapedefaults": {
           "line": {
            "color": "#2a3f5f"
           }
          },
          "ternary": {
           "aaxis": {
            "gridcolor": "white",
            "linecolor": "white",
            "ticks": ""
           },
           "baxis": {
            "gridcolor": "white",
            "linecolor": "white",
            "ticks": ""
           },
           "bgcolor": "#E5ECF6",
           "caxis": {
            "gridcolor": "white",
            "linecolor": "white",
            "ticks": ""
           }
          },
          "title": {
           "x": 0.05
          },
          "xaxis": {
           "automargin": true,
           "gridcolor": "white",
           "linecolor": "white",
           "ticks": "",
           "title": {
            "standoff": 15
           },
           "zerolinecolor": "white",
           "zerolinewidth": 2
          },
          "yaxis": {
           "automargin": true,
           "gridcolor": "white",
           "linecolor": "white",
           "ticks": "",
           "title": {
            "standoff": 15
           },
           "zerolinecolor": "white",
           "zerolinewidth": 2
          }
         }
        },
        "updatemenus": [
         {
          "buttons": [
           {
            "args": [
             {
              "visible": [
               true,
               false,
               false,
               false
              ]
             }
            ],
            "args2": [
             {
              "visible": [
               false,
               true,
               true,
               true
              ]
             }
            ],
            "label": "43011850",
            "method": "update",
            "visible": true
           },
           {
            "args": [
             {
              "visible": [
               false,
               true,
               false,
               false
              ]
             }
            ],
            "args2": [
             {
              "visible": [
               true,
               false,
               true,
               true
              ]
             }
            ],
            "label": "36249736",
            "method": "update",
            "visible": true
           },
           {
            "args": [
             {
              "visible": [
               false,
               false,
               true,
               false
              ]
             }
            ],
            "args2": [
             {
              "visible": [
               true,
               true,
               false,
               true
              ]
             }
            ],
            "label": "19079250",
            "method": "update",
            "visible": true
           },
           {
            "args": [
             {
              "visible": [
               false,
               false,
               false,
               true
              ]
             }
            ],
            "args2": [
             {
              "visible": [
               true,
               true,
               true,
               false
              ]
             }
            ],
            "label": "734281",
            "method": "update",
            "visible": true
           }
          ],
          "direction": "right",
          "showactive": true,
          "type": "buttons",
          "x": 0.7,
          "y": 1.3
         }
        ],
        "xaxis": {
         "rangeslider": {
          "autorange": true,
          "range": [
           "2129-01-04 18:00:00",
           "2129-01-05 02:00:00"
          ]
         }
        }
       }
      }
     },
     "metadata": {},
     "output_type": "display_data"
    },
    {
     "data": {
      "application/vnd.plotly.v1+json": {
       "config": {
        "plotlyServerURL": "https://plot.ly"
       },
       "data": [
        {
         "name": "19019418, ['CAP']",
         "type": "scatter",
         "visible": true,
         "x": [
          "2129-01-04 08:00:00"
         ],
         "y": [
          1
         ]
        }
       ],
       "layout": {
        "showlegend": true,
        "template": {
         "data": {
          "bar": [
           {
            "error_x": {
             "color": "#2a3f5f"
            },
            "error_y": {
             "color": "#2a3f5f"
            },
            "marker": {
             "line": {
              "color": "#E5ECF6",
              "width": 0.5
             },
             "pattern": {
              "fillmode": "overlay",
              "size": 10,
              "solidity": 0.2
             }
            },
            "type": "bar"
           }
          ],
          "barpolar": [
           {
            "marker": {
             "line": {
              "color": "#E5ECF6",
              "width": 0.5
             },
             "pattern": {
              "fillmode": "overlay",
              "size": 10,
              "solidity": 0.2
             }
            },
            "type": "barpolar"
           }
          ],
          "carpet": [
           {
            "aaxis": {
             "endlinecolor": "#2a3f5f",
             "gridcolor": "white",
             "linecolor": "white",
             "minorgridcolor": "white",
             "startlinecolor": "#2a3f5f"
            },
            "baxis": {
             "endlinecolor": "#2a3f5f",
             "gridcolor": "white",
             "linecolor": "white",
             "minorgridcolor": "white",
             "startlinecolor": "#2a3f5f"
            },
            "type": "carpet"
           }
          ],
          "choropleth": [
           {
            "colorbar": {
             "outlinewidth": 0,
             "ticks": ""
            },
            "type": "choropleth"
           }
          ],
          "contour": [
           {
            "colorbar": {
             "outlinewidth": 0,
             "ticks": ""
            },
            "colorscale": [
             [
              0,
              "#0d0887"
             ],
             [
              0.1111111111111111,
              "#46039f"
             ],
             [
              0.2222222222222222,
              "#7201a8"
             ],
             [
              0.3333333333333333,
              "#9c179e"
             ],
             [
              0.4444444444444444,
              "#bd3786"
             ],
             [
              0.5555555555555556,
              "#d8576b"
             ],
             [
              0.6666666666666666,
              "#ed7953"
             ],
             [
              0.7777777777777778,
              "#fb9f3a"
             ],
             [
              0.8888888888888888,
              "#fdca26"
             ],
             [
              1,
              "#f0f921"
             ]
            ],
            "type": "contour"
           }
          ],
          "contourcarpet": [
           {
            "colorbar": {
             "outlinewidth": 0,
             "ticks": ""
            },
            "type": "contourcarpet"
           }
          ],
          "heatmap": [
           {
            "colorbar": {
             "outlinewidth": 0,
             "ticks": ""
            },
            "colorscale": [
             [
              0,
              "#0d0887"
             ],
             [
              0.1111111111111111,
              "#46039f"
             ],
             [
              0.2222222222222222,
              "#7201a8"
             ],
             [
              0.3333333333333333,
              "#9c179e"
             ],
             [
              0.4444444444444444,
              "#bd3786"
             ],
             [
              0.5555555555555556,
              "#d8576b"
             ],
             [
              0.6666666666666666,
              "#ed7953"
             ],
             [
              0.7777777777777778,
              "#fb9f3a"
             ],
             [
              0.8888888888888888,
              "#fdca26"
             ],
             [
              1,
              "#f0f921"
             ]
            ],
            "type": "heatmap"
           }
          ],
          "heatmapgl": [
           {
            "colorbar": {
             "outlinewidth": 0,
             "ticks": ""
            },
            "colorscale": [
             [
              0,
              "#0d0887"
             ],
             [
              0.1111111111111111,
              "#46039f"
             ],
             [
              0.2222222222222222,
              "#7201a8"
             ],
             [
              0.3333333333333333,
              "#9c179e"
             ],
             [
              0.4444444444444444,
              "#bd3786"
             ],
             [
              0.5555555555555556,
              "#d8576b"
             ],
             [
              0.6666666666666666,
              "#ed7953"
             ],
             [
              0.7777777777777778,
              "#fb9f3a"
             ],
             [
              0.8888888888888888,
              "#fdca26"
             ],
             [
              1,
              "#f0f921"
             ]
            ],
            "type": "heatmapgl"
           }
          ],
          "histogram": [
           {
            "marker": {
             "pattern": {
              "fillmode": "overlay",
              "size": 10,
              "solidity": 0.2
             }
            },
            "type": "histogram"
           }
          ],
          "histogram2d": [
           {
            "colorbar": {
             "outlinewidth": 0,
             "ticks": ""
            },
            "colorscale": [
             [
              0,
              "#0d0887"
             ],
             [
              0.1111111111111111,
              "#46039f"
             ],
             [
              0.2222222222222222,
              "#7201a8"
             ],
             [
              0.3333333333333333,
              "#9c179e"
             ],
             [
              0.4444444444444444,
              "#bd3786"
             ],
             [
              0.5555555555555556,
              "#d8576b"
             ],
             [
              0.6666666666666666,
              "#ed7953"
             ],
             [
              0.7777777777777778,
              "#fb9f3a"
             ],
             [
              0.8888888888888888,
              "#fdca26"
             ],
             [
              1,
              "#f0f921"
             ]
            ],
            "type": "histogram2d"
           }
          ],
          "histogram2dcontour": [
           {
            "colorbar": {
             "outlinewidth": 0,
             "ticks": ""
            },
            "colorscale": [
             [
              0,
              "#0d0887"
             ],
             [
              0.1111111111111111,
              "#46039f"
             ],
             [
              0.2222222222222222,
              "#7201a8"
             ],
             [
              0.3333333333333333,
              "#9c179e"
             ],
             [
              0.4444444444444444,
              "#bd3786"
             ],
             [
              0.5555555555555556,
              "#d8576b"
             ],
             [
              0.6666666666666666,
              "#ed7953"
             ],
             [
              0.7777777777777778,
              "#fb9f3a"
             ],
             [
              0.8888888888888888,
              "#fdca26"
             ],
             [
              1,
              "#f0f921"
             ]
            ],
            "type": "histogram2dcontour"
           }
          ],
          "mesh3d": [
           {
            "colorbar": {
             "outlinewidth": 0,
             "ticks": ""
            },
            "type": "mesh3d"
           }
          ],
          "parcoords": [
           {
            "line": {
             "colorbar": {
              "outlinewidth": 0,
              "ticks": ""
             }
            },
            "type": "parcoords"
           }
          ],
          "pie": [
           {
            "automargin": true,
            "type": "pie"
           }
          ],
          "scatter": [
           {
            "fillpattern": {
             "fillmode": "overlay",
             "size": 10,
             "solidity": 0.2
            },
            "type": "scatter"
           }
          ],
          "scatter3d": [
           {
            "line": {
             "colorbar": {
              "outlinewidth": 0,
              "ticks": ""
             }
            },
            "marker": {
             "colorbar": {
              "outlinewidth": 0,
              "ticks": ""
             }
            },
            "type": "scatter3d"
           }
          ],
          "scattercarpet": [
           {
            "marker": {
             "colorbar": {
              "outlinewidth": 0,
              "ticks": ""
             }
            },
            "type": "scattercarpet"
           }
          ],
          "scattergeo": [
           {
            "marker": {
             "colorbar": {
              "outlinewidth": 0,
              "ticks": ""
             }
            },
            "type": "scattergeo"
           }
          ],
          "scattergl": [
           {
            "marker": {
             "colorbar": {
              "outlinewidth": 0,
              "ticks": ""
             }
            },
            "type": "scattergl"
           }
          ],
          "scattermapbox": [
           {
            "marker": {
             "colorbar": {
              "outlinewidth": 0,
              "ticks": ""
             }
            },
            "type": "scattermapbox"
           }
          ],
          "scatterpolar": [
           {
            "marker": {
             "colorbar": {
              "outlinewidth": 0,
              "ticks": ""
             }
            },
            "type": "scatterpolar"
           }
          ],
          "scatterpolargl": [
           {
            "marker": {
             "colorbar": {
              "outlinewidth": 0,
              "ticks": ""
             }
            },
            "type": "scatterpolargl"
           }
          ],
          "scatterternary": [
           {
            "marker": {
             "colorbar": {
              "outlinewidth": 0,
              "ticks": ""
             }
            },
            "type": "scatterternary"
           }
          ],
          "surface": [
           {
            "colorbar": {
             "outlinewidth": 0,
             "ticks": ""
            },
            "colorscale": [
             [
              0,
              "#0d0887"
             ],
             [
              0.1111111111111111,
              "#46039f"
             ],
             [
              0.2222222222222222,
              "#7201a8"
             ],
             [
              0.3333333333333333,
              "#9c179e"
             ],
             [
              0.4444444444444444,
              "#bd3786"
             ],
             [
              0.5555555555555556,
              "#d8576b"
             ],
             [
              0.6666666666666666,
              "#ed7953"
             ],
             [
              0.7777777777777778,
              "#fb9f3a"
             ],
             [
              0.8888888888888888,
              "#fdca26"
             ],
             [
              1,
              "#f0f921"
             ]
            ],
            "type": "surface"
           }
          ],
          "table": [
           {
            "cells": {
             "fill": {
              "color": "#EBF0F8"
             },
             "line": {
              "color": "white"
             }
            },
            "header": {
             "fill": {
              "color": "#C8D4E3"
             },
             "line": {
              "color": "white"
             }
            },
            "type": "table"
           }
          ]
         },
         "layout": {
          "annotationdefaults": {
           "arrowcolor": "#2a3f5f",
           "arrowhead": 0,
           "arrowwidth": 1
          },
          "autotypenumbers": "strict",
          "coloraxis": {
           "colorbar": {
            "outlinewidth": 0,
            "ticks": ""
           }
          },
          "colorscale": {
           "diverging": [
            [
             0,
             "#8e0152"
            ],
            [
             0.1,
             "#c51b7d"
            ],
            [
             0.2,
             "#de77ae"
            ],
            [
             0.3,
             "#f1b6da"
            ],
            [
             0.4,
             "#fde0ef"
            ],
            [
             0.5,
             "#f7f7f7"
            ],
            [
             0.6,
             "#e6f5d0"
            ],
            [
             0.7,
             "#b8e186"
            ],
            [
             0.8,
             "#7fbc41"
            ],
            [
             0.9,
             "#4d9221"
            ],
            [
             1,
             "#276419"
            ]
           ],
           "sequential": [
            [
             0,
             "#0d0887"
            ],
            [
             0.1111111111111111,
             "#46039f"
            ],
            [
             0.2222222222222222,
             "#7201a8"
            ],
            [
             0.3333333333333333,
             "#9c179e"
            ],
            [
             0.4444444444444444,
             "#bd3786"
            ],
            [
             0.5555555555555556,
             "#d8576b"
            ],
            [
             0.6666666666666666,
             "#ed7953"
            ],
            [
             0.7777777777777778,
             "#fb9f3a"
            ],
            [
             0.8888888888888888,
             "#fdca26"
            ],
            [
             1,
             "#f0f921"
            ]
           ],
           "sequentialminus": [
            [
             0,
             "#0d0887"
            ],
            [
             0.1111111111111111,
             "#46039f"
            ],
            [
             0.2222222222222222,
             "#7201a8"
            ],
            [
             0.3333333333333333,
             "#9c179e"
            ],
            [
             0.4444444444444444,
             "#bd3786"
            ],
            [
             0.5555555555555556,
             "#d8576b"
            ],
            [
             0.6666666666666666,
             "#ed7953"
            ],
            [
             0.7777777777777778,
             "#fb9f3a"
            ],
            [
             0.8888888888888888,
             "#fdca26"
            ],
            [
             1,
             "#f0f921"
            ]
           ]
          },
          "colorway": [
           "#636efa",
           "#EF553B",
           "#00cc96",
           "#ab63fa",
           "#FFA15A",
           "#19d3f3",
           "#FF6692",
           "#B6E880",
           "#FF97FF",
           "#FECB52"
          ],
          "font": {
           "color": "#2a3f5f"
          },
          "geo": {
           "bgcolor": "white",
           "lakecolor": "white",
           "landcolor": "#E5ECF6",
           "showlakes": true,
           "showland": true,
           "subunitcolor": "white"
          },
          "hoverlabel": {
           "align": "left"
          },
          "hovermode": "closest",
          "mapbox": {
           "style": "light"
          },
          "paper_bgcolor": "white",
          "plot_bgcolor": "#E5ECF6",
          "polar": {
           "angularaxis": {
            "gridcolor": "white",
            "linecolor": "white",
            "ticks": ""
           },
           "bgcolor": "#E5ECF6",
           "radialaxis": {
            "gridcolor": "white",
            "linecolor": "white",
            "ticks": ""
           }
          },
          "scene": {
           "xaxis": {
            "backgroundcolor": "#E5ECF6",
            "gridcolor": "white",
            "gridwidth": 2,
            "linecolor": "white",
            "showbackground": true,
            "ticks": "",
            "zerolinecolor": "white"
           },
           "yaxis": {
            "backgroundcolor": "#E5ECF6",
            "gridcolor": "white",
            "gridwidth": 2,
            "linecolor": "white",
            "showbackground": true,
            "ticks": "",
            "zerolinecolor": "white"
           },
           "zaxis": {
            "backgroundcolor": "#E5ECF6",
            "gridcolor": "white",
            "gridwidth": 2,
            "linecolor": "white",
            "showbackground": true,
            "ticks": "",
            "zerolinecolor": "white"
           }
          },
          "shapedefaults": {
           "line": {
            "color": "#2a3f5f"
           }
          },
          "ternary": {
           "aaxis": {
            "gridcolor": "white",
            "linecolor": "white",
            "ticks": ""
           },
           "baxis": {
            "gridcolor": "white",
            "linecolor": "white",
            "ticks": ""
           },
           "bgcolor": "#E5ECF6",
           "caxis": {
            "gridcolor": "white",
            "linecolor": "white",
            "ticks": ""
           }
          },
          "title": {
           "x": 0.05
          },
          "xaxis": {
           "automargin": true,
           "gridcolor": "white",
           "linecolor": "white",
           "ticks": "",
           "title": {
            "standoff": 15
           },
           "zerolinecolor": "white",
           "zerolinewidth": 2
          },
          "yaxis": {
           "automargin": true,
           "gridcolor": "white",
           "linecolor": "white",
           "ticks": "",
           "title": {
            "standoff": 15
           },
           "zerolinecolor": "white",
           "zerolinewidth": 2
          }
         }
        },
        "updatemenus": [
         {
          "buttons": [
           {
            "args": [
             {
              "visible": [
               true
              ]
             }
            ],
            "args2": [
             {
              "visible": [
               false
              ]
             }
            ],
            "label": "19019418",
            "method": "update",
            "visible": true
           }
          ],
          "direction": "right",
          "showactive": true,
          "type": "buttons",
          "x": 0.7,
          "y": 1.3
         }
        ],
        "xaxis": {
         "rangeslider": {
          "autorange": true,
          "range": [
           "2129-01-04 18:00:00",
           "2129-01-05 02:00:00"
          ]
         }
        }
       }
      }
     },
     "metadata": {},
     "output_type": "display_data"
    },
    {
     "data": {
      "application/vnd.plotly.v1+json": {
       "config": {
        "plotlyServerURL": "https://plot.ly"
       },
       "data": [
        {
         "name": "19019050, ['UDCUP']",
         "type": "scatter",
         "visible": true,
         "x": [
          "2129-01-05 04:00:00"
         ],
         "y": [
          2
         ]
        }
       ],
       "layout": {
        "showlegend": true,
        "template": {
         "data": {
          "bar": [
           {
            "error_x": {
             "color": "#2a3f5f"
            },
            "error_y": {
             "color": "#2a3f5f"
            },
            "marker": {
             "line": {
              "color": "#E5ECF6",
              "width": 0.5
             },
             "pattern": {
              "fillmode": "overlay",
              "size": 10,
              "solidity": 0.2
             }
            },
            "type": "bar"
           }
          ],
          "barpolar": [
           {
            "marker": {
             "line": {
              "color": "#E5ECF6",
              "width": 0.5
             },
             "pattern": {
              "fillmode": "overlay",
              "size": 10,
              "solidity": 0.2
             }
            },
            "type": "barpolar"
           }
          ],
          "carpet": [
           {
            "aaxis": {
             "endlinecolor": "#2a3f5f",
             "gridcolor": "white",
             "linecolor": "white",
             "minorgridcolor": "white",
             "startlinecolor": "#2a3f5f"
            },
            "baxis": {
             "endlinecolor": "#2a3f5f",
             "gridcolor": "white",
             "linecolor": "white",
             "minorgridcolor": "white",
             "startlinecolor": "#2a3f5f"
            },
            "type": "carpet"
           }
          ],
          "choropleth": [
           {
            "colorbar": {
             "outlinewidth": 0,
             "ticks": ""
            },
            "type": "choropleth"
           }
          ],
          "contour": [
           {
            "colorbar": {
             "outlinewidth": 0,
             "ticks": ""
            },
            "colorscale": [
             [
              0,
              "#0d0887"
             ],
             [
              0.1111111111111111,
              "#46039f"
             ],
             [
              0.2222222222222222,
              "#7201a8"
             ],
             [
              0.3333333333333333,
              "#9c179e"
             ],
             [
              0.4444444444444444,
              "#bd3786"
             ],
             [
              0.5555555555555556,
              "#d8576b"
             ],
             [
              0.6666666666666666,
              "#ed7953"
             ],
             [
              0.7777777777777778,
              "#fb9f3a"
             ],
             [
              0.8888888888888888,
              "#fdca26"
             ],
             [
              1,
              "#f0f921"
             ]
            ],
            "type": "contour"
           }
          ],
          "contourcarpet": [
           {
            "colorbar": {
             "outlinewidth": 0,
             "ticks": ""
            },
            "type": "contourcarpet"
           }
          ],
          "heatmap": [
           {
            "colorbar": {
             "outlinewidth": 0,
             "ticks": ""
            },
            "colorscale": [
             [
              0,
              "#0d0887"
             ],
             [
              0.1111111111111111,
              "#46039f"
             ],
             [
              0.2222222222222222,
              "#7201a8"
             ],
             [
              0.3333333333333333,
              "#9c179e"
             ],
             [
              0.4444444444444444,
              "#bd3786"
             ],
             [
              0.5555555555555556,
              "#d8576b"
             ],
             [
              0.6666666666666666,
              "#ed7953"
             ],
             [
              0.7777777777777778,
              "#fb9f3a"
             ],
             [
              0.8888888888888888,
              "#fdca26"
             ],
             [
              1,
              "#f0f921"
             ]
            ],
            "type": "heatmap"
           }
          ],
          "heatmapgl": [
           {
            "colorbar": {
             "outlinewidth": 0,
             "ticks": ""
            },
            "colorscale": [
             [
              0,
              "#0d0887"
             ],
             [
              0.1111111111111111,
              "#46039f"
             ],
             [
              0.2222222222222222,
              "#7201a8"
             ],
             [
              0.3333333333333333,
              "#9c179e"
             ],
             [
              0.4444444444444444,
              "#bd3786"
             ],
             [
              0.5555555555555556,
              "#d8576b"
             ],
             [
              0.6666666666666666,
              "#ed7953"
             ],
             [
              0.7777777777777778,
              "#fb9f3a"
             ],
             [
              0.8888888888888888,
              "#fdca26"
             ],
             [
              1,
              "#f0f921"
             ]
            ],
            "type": "heatmapgl"
           }
          ],
          "histogram": [
           {
            "marker": {
             "pattern": {
              "fillmode": "overlay",
              "size": 10,
              "solidity": 0.2
             }
            },
            "type": "histogram"
           }
          ],
          "histogram2d": [
           {
            "colorbar": {
             "outlinewidth": 0,
             "ticks": ""
            },
            "colorscale": [
             [
              0,
              "#0d0887"
             ],
             [
              0.1111111111111111,
              "#46039f"
             ],
             [
              0.2222222222222222,
              "#7201a8"
             ],
             [
              0.3333333333333333,
              "#9c179e"
             ],
             [
              0.4444444444444444,
              "#bd3786"
             ],
             [
              0.5555555555555556,
              "#d8576b"
             ],
             [
              0.6666666666666666,
              "#ed7953"
             ],
             [
              0.7777777777777778,
              "#fb9f3a"
             ],
             [
              0.8888888888888888,
              "#fdca26"
             ],
             [
              1,
              "#f0f921"
             ]
            ],
            "type": "histogram2d"
           }
          ],
          "histogram2dcontour": [
           {
            "colorbar": {
             "outlinewidth": 0,
             "ticks": ""
            },
            "colorscale": [
             [
              0,
              "#0d0887"
             ],
             [
              0.1111111111111111,
              "#46039f"
             ],
             [
              0.2222222222222222,
              "#7201a8"
             ],
             [
              0.3333333333333333,
              "#9c179e"
             ],
             [
              0.4444444444444444,
              "#bd3786"
             ],
             [
              0.5555555555555556,
              "#d8576b"
             ],
             [
              0.6666666666666666,
              "#ed7953"
             ],
             [
              0.7777777777777778,
              "#fb9f3a"
             ],
             [
              0.8888888888888888,
              "#fdca26"
             ],
             [
              1,
              "#f0f921"
             ]
            ],
            "type": "histogram2dcontour"
           }
          ],
          "mesh3d": [
           {
            "colorbar": {
             "outlinewidth": 0,
             "ticks": ""
            },
            "type": "mesh3d"
           }
          ],
          "parcoords": [
           {
            "line": {
             "colorbar": {
              "outlinewidth": 0,
              "ticks": ""
             }
            },
            "type": "parcoords"
           }
          ],
          "pie": [
           {
            "automargin": true,
            "type": "pie"
           }
          ],
          "scatter": [
           {
            "fillpattern": {
             "fillmode": "overlay",
             "size": 10,
             "solidity": 0.2
            },
            "type": "scatter"
           }
          ],
          "scatter3d": [
           {
            "line": {
             "colorbar": {
              "outlinewidth": 0,
              "ticks": ""
             }
            },
            "marker": {
             "colorbar": {
              "outlinewidth": 0,
              "ticks": ""
             }
            },
            "type": "scatter3d"
           }
          ],
          "scattercarpet": [
           {
            "marker": {
             "colorbar": {
              "outlinewidth": 0,
              "ticks": ""
             }
            },
            "type": "scattercarpet"
           }
          ],
          "scattergeo": [
           {
            "marker": {
             "colorbar": {
              "outlinewidth": 0,
              "ticks": ""
             }
            },
            "type": "scattergeo"
           }
          ],
          "scattergl": [
           {
            "marker": {
             "colorbar": {
              "outlinewidth": 0,
              "ticks": ""
             }
            },
            "type": "scattergl"
           }
          ],
          "scattermapbox": [
           {
            "marker": {
             "colorbar": {
              "outlinewidth": 0,
              "ticks": ""
             }
            },
            "type": "scattermapbox"
           }
          ],
          "scatterpolar": [
           {
            "marker": {
             "colorbar": {
              "outlinewidth": 0,
              "ticks": ""
             }
            },
            "type": "scatterpolar"
           }
          ],
          "scatterpolargl": [
           {
            "marker": {
             "colorbar": {
              "outlinewidth": 0,
              "ticks": ""
             }
            },
            "type": "scatterpolargl"
           }
          ],
          "scatterternary": [
           {
            "marker": {
             "colorbar": {
              "outlinewidth": 0,
              "ticks": ""
             }
            },
            "type": "scatterternary"
           }
          ],
          "surface": [
           {
            "colorbar": {
             "outlinewidth": 0,
             "ticks": ""
            },
            "colorscale": [
             [
              0,
              "#0d0887"
             ],
             [
              0.1111111111111111,
              "#46039f"
             ],
             [
              0.2222222222222222,
              "#7201a8"
             ],
             [
              0.3333333333333333,
              "#9c179e"
             ],
             [
              0.4444444444444444,
              "#bd3786"
             ],
             [
              0.5555555555555556,
              "#d8576b"
             ],
             [
              0.6666666666666666,
              "#ed7953"
             ],
             [
              0.7777777777777778,
              "#fb9f3a"
             ],
             [
              0.8888888888888888,
              "#fdca26"
             ],
             [
              1,
              "#f0f921"
             ]
            ],
            "type": "surface"
           }
          ],
          "table": [
           {
            "cells": {
             "fill": {
              "color": "#EBF0F8"
             },
             "line": {
              "color": "white"
             }
            },
            "header": {
             "fill": {
              "color": "#C8D4E3"
             },
             "line": {
              "color": "white"
             }
            },
            "type": "table"
           }
          ]
         },
         "layout": {
          "annotationdefaults": {
           "arrowcolor": "#2a3f5f",
           "arrowhead": 0,
           "arrowwidth": 1
          },
          "autotypenumbers": "strict",
          "coloraxis": {
           "colorbar": {
            "outlinewidth": 0,
            "ticks": ""
           }
          },
          "colorscale": {
           "diverging": [
            [
             0,
             "#8e0152"
            ],
            [
             0.1,
             "#c51b7d"
            ],
            [
             0.2,
             "#de77ae"
            ],
            [
             0.3,
             "#f1b6da"
            ],
            [
             0.4,
             "#fde0ef"
            ],
            [
             0.5,
             "#f7f7f7"
            ],
            [
             0.6,
             "#e6f5d0"
            ],
            [
             0.7,
             "#b8e186"
            ],
            [
             0.8,
             "#7fbc41"
            ],
            [
             0.9,
             "#4d9221"
            ],
            [
             1,
             "#276419"
            ]
           ],
           "sequential": [
            [
             0,
             "#0d0887"
            ],
            [
             0.1111111111111111,
             "#46039f"
            ],
            [
             0.2222222222222222,
             "#7201a8"
            ],
            [
             0.3333333333333333,
             "#9c179e"
            ],
            [
             0.4444444444444444,
             "#bd3786"
            ],
            [
             0.5555555555555556,
             "#d8576b"
            ],
            [
             0.6666666666666666,
             "#ed7953"
            ],
            [
             0.7777777777777778,
             "#fb9f3a"
            ],
            [
             0.8888888888888888,
             "#fdca26"
            ],
            [
             1,
             "#f0f921"
            ]
           ],
           "sequentialminus": [
            [
             0,
             "#0d0887"
            ],
            [
             0.1111111111111111,
             "#46039f"
            ],
            [
             0.2222222222222222,
             "#7201a8"
            ],
            [
             0.3333333333333333,
             "#9c179e"
            ],
            [
             0.4444444444444444,
             "#bd3786"
            ],
            [
             0.5555555555555556,
             "#d8576b"
            ],
            [
             0.6666666666666666,
             "#ed7953"
            ],
            [
             0.7777777777777778,
             "#fb9f3a"
            ],
            [
             0.8888888888888888,
             "#fdca26"
            ],
            [
             1,
             "#f0f921"
            ]
           ]
          },
          "colorway": [
           "#636efa",
           "#EF553B",
           "#00cc96",
           "#ab63fa",
           "#FFA15A",
           "#19d3f3",
           "#FF6692",
           "#B6E880",
           "#FF97FF",
           "#FECB52"
          ],
          "font": {
           "color": "#2a3f5f"
          },
          "geo": {
           "bgcolor": "white",
           "lakecolor": "white",
           "landcolor": "#E5ECF6",
           "showlakes": true,
           "showland": true,
           "subunitcolor": "white"
          },
          "hoverlabel": {
           "align": "left"
          },
          "hovermode": "closest",
          "mapbox": {
           "style": "light"
          },
          "paper_bgcolor": "white",
          "plot_bgcolor": "#E5ECF6",
          "polar": {
           "angularaxis": {
            "gridcolor": "white",
            "linecolor": "white",
            "ticks": ""
           },
           "bgcolor": "#E5ECF6",
           "radialaxis": {
            "gridcolor": "white",
            "linecolor": "white",
            "ticks": ""
           }
          },
          "scene": {
           "xaxis": {
            "backgroundcolor": "#E5ECF6",
            "gridcolor": "white",
            "gridwidth": 2,
            "linecolor": "white",
            "showbackground": true,
            "ticks": "",
            "zerolinecolor": "white"
           },
           "yaxis": {
            "backgroundcolor": "#E5ECF6",
            "gridcolor": "white",
            "gridwidth": 2,
            "linecolor": "white",
            "showbackground": true,
            "ticks": "",
            "zerolinecolor": "white"
           },
           "zaxis": {
            "backgroundcolor": "#E5ECF6",
            "gridcolor": "white",
            "gridwidth": 2,
            "linecolor": "white",
            "showbackground": true,
            "ticks": "",
            "zerolinecolor": "white"
           }
          },
          "shapedefaults": {
           "line": {
            "color": "#2a3f5f"
           }
          },
          "ternary": {
           "aaxis": {
            "gridcolor": "white",
            "linecolor": "white",
            "ticks": ""
           },
           "baxis": {
            "gridcolor": "white",
            "linecolor": "white",
            "ticks": ""
           },
           "bgcolor": "#E5ECF6",
           "caxis": {
            "gridcolor": "white",
            "linecolor": "white",
            "ticks": ""
           }
          },
          "title": {
           "x": 0.05
          },
          "xaxis": {
           "automargin": true,
           "gridcolor": "white",
           "linecolor": "white",
           "ticks": "",
           "title": {
            "standoff": 15
           },
           "zerolinecolor": "white",
           "zerolinewidth": 2
          },
          "yaxis": {
           "automargin": true,
           "gridcolor": "white",
           "linecolor": "white",
           "ticks": "",
           "title": {
            "standoff": 15
           },
           "zerolinecolor": "white",
           "zerolinewidth": 2
          }
         }
        },
        "updatemenus": [
         {
          "buttons": [
           {
            "args": [
             {
              "visible": [
               true
              ]
             }
            ],
            "args2": [
             {
              "visible": [
               false
              ]
             }
            ],
            "label": "19019050",
            "method": "update",
            "visible": true
           }
          ],
          "direction": "right",
          "showactive": true,
          "type": "buttons",
          "x": 0.7,
          "y": 1.3
         }
        ],
        "xaxis": {
         "rangeslider": {
          "autorange": true,
          "range": [
           "2129-01-04 18:00:00",
           "2129-01-05 02:00:00"
          ]
         }
        }
       }
      }
     },
     "metadata": {},
     "output_type": "display_data"
    }
   ],
   "source": [
    "# TOGGLE GRAPH - not useful\n",
    "\n",
    "patient1 = patient1.sort_values(by='drug_exposure_start_datetime')\n",
    "number_types = patient1.dose_unit_source_value.describe()['unique']\n",
    "\n",
    "#fig3 = make_subplots(rows = 1, cols = number_types, subplot_titles=(patient1.dose_unit_source_value.value_counts().index))\n",
    "colonne = 1\n",
    "\n",
    "for drug_type in patient1.dose_unit_source_value.value_counts().index:\n",
    "    #print(drug_type)\n",
    "    traces = []\n",
    "    buttons = []\n",
    "\n",
    "    # for each drug type, create a liste of traces and buttons\n",
    "    for d in patient1[patient1.dose_unit_source_value == drug_type].drug_concept_id.unique():\n",
    "        temp = patient1[patient1.drug_concept_id == d]\n",
    "\n",
    "        traces.append(go.Scatter(x = temp.drug_exposure_start_datetime, y = temp.quantity, name=f'{d}, {temp.dose_unit_source_value.unique()}', visible = True))\n",
    "        \n",
    "        buttons.append(dict(method='update',\n",
    "                        label=f'{d}',\n",
    "                        visible=True,\n",
    "                        args=[{'visible':[x == d for x in patient1[patient1.dose_unit_source_value == drug_type].drug_concept_id.unique()]}],\n",
    "                        args2=[{'visible':[x != d for x in patient1[patient1.dose_unit_source_value == drug_type].drug_concept_id.unique()]}]\n",
    "                        )\n",
    "                )\n",
    "\n",
    "    # Make the graph with toggle\n",
    "        \n",
    "    # add a button 'All' to toggle them all together    \n",
    "    layout = go.Layout(\n",
    "        updatemenus=[\n",
    "            dict(\n",
    "                type='buttons',\n",
    "                direction='right',\n",
    "                x=0.7,\n",
    "                y=1.3,\n",
    "                showactive=True,\n",
    "                buttons=buttons\n",
    "            )\n",
    "        ],\n",
    "        showlegend=True\n",
    "\n",
    "    )\n",
    "\n",
    "    fig3 = go.Figure(data=traces,layout=layout)\n",
    "    fig3.update_layout(xaxis=dict(rangeslider=dict(autorange=True, range=[patient1_drug1.drug_exposure_start_datetime.min(), patient1_drug1.drug_exposure_start_datetime.max()])))\n",
    "   \n",
    "    fig3.show()\n",
    "\n",
    "\n",
    "\n",
    "\n",
    "# https://plotly.com/python/range-slider/ axes avec plusieurs type d'échelle"
   ]
  },
  {
   "cell_type": "markdown",
   "metadata": {},
   "source": [
    "### Drug_exposure start and end can be different"
   ]
  },
  {
   "cell_type": "code",
   "execution_count": null,
   "metadata": {},
   "outputs": [],
   "source": [
    "# drug_exposure.drug_exposure_start_datetime.value_counts()\n",
    "#drug_exposure.drug_exposure_end_datetime.value_counts()\n",
    "print(drug_exposure.drug_exposure_start_datetime[0], drug_exposure.drug_exposure_end_datetime[0])\n",
    "# Can be different...."
   ]
  },
  {
   "cell_type": "markdown",
   "metadata": {},
   "source": [
    "# Dose Era\n",
    "\n",
    "A Dose Era is defined as a span of time when the Person is assumed to be exposed to a constant dose of a specific active ingredient.\n",
    "\n",
    "Dose Form information is not taken into account. So, if the patient changes between different formulations, or different manufacturers with the same formulation, the Dose Era is still spanning the entire time of exposure to the Ingredient."
   ]
  },
  {
   "cell_type": "code",
   "execution_count": 15,
   "metadata": {},
   "outputs": [
    {
     "data": {
      "text/html": [
       "<div>\n",
       "<style scoped>\n",
       "    .dataframe tbody tr th:only-of-type {\n",
       "        vertical-align: middle;\n",
       "    }\n",
       "\n",
       "    .dataframe tbody tr th {\n",
       "        vertical-align: top;\n",
       "    }\n",
       "\n",
       "    .dataframe thead th {\n",
       "        text-align: right;\n",
       "    }\n",
       "</style>\n",
       "<table border=\"1\" class=\"dataframe\">\n",
       "  <thead>\n",
       "    <tr style=\"text-align: right;\">\n",
       "      <th></th>\n",
       "      <th>dose_era_id</th>\n",
       "      <th>person_id</th>\n",
       "      <th>drug_concept_id</th>\n",
       "      <th>unit_concept_id</th>\n",
       "      <th>dose_value</th>\n",
       "      <th>dose_era_start_date</th>\n",
       "      <th>dose_era_end_date</th>\n",
       "    </tr>\n",
       "  </thead>\n",
       "  <tbody>\n",
       "    <tr>\n",
       "      <th>0</th>\n",
       "      <td>-1101936257632052351</td>\n",
       "      <td>5548892236933978704</td>\n",
       "      <td>902427</td>\n",
       "      <td>8576</td>\n",
       "      <td>10.0</td>\n",
       "      <td>2142-05-14</td>\n",
       "      <td>2142-05-16</td>\n",
       "    </tr>\n",
       "    <tr>\n",
       "      <th>1</th>\n",
       "      <td>9002582707624403415</td>\n",
       "      <td>4985579811051920670</td>\n",
       "      <td>714785</td>\n",
       "      <td>8576</td>\n",
       "      <td>2.5</td>\n",
       "      <td>2110-04-13</td>\n",
       "      <td>2110-04-14</td>\n",
       "    </tr>\n",
       "    <tr>\n",
       "      <th>2</th>\n",
       "      <td>5495900697391314629</td>\n",
       "      <td>-4873075614181207858</td>\n",
       "      <td>1328165</td>\n",
       "      <td>8576</td>\n",
       "      <td>120.0</td>\n",
       "      <td>2148-09-15</td>\n",
       "      <td>2148-09-15</td>\n",
       "    </tr>\n",
       "    <tr>\n",
       "      <th>3</th>\n",
       "      <td>6335084700122752427</td>\n",
       "      <td>-8205283012979532608</td>\n",
       "      <td>1328165</td>\n",
       "      <td>8576</td>\n",
       "      <td>120.0</td>\n",
       "      <td>2189-06-11</td>\n",
       "      <td>2189-06-13</td>\n",
       "    </tr>\n",
       "    <tr>\n",
       "      <th>4</th>\n",
       "      <td>2848105832570024513</td>\n",
       "      <td>-4873075614181207858</td>\n",
       "      <td>1328165</td>\n",
       "      <td>8576</td>\n",
       "      <td>120.0</td>\n",
       "      <td>2147-12-20</td>\n",
       "      <td>2147-12-21</td>\n",
       "    </tr>\n",
       "  </tbody>\n",
       "</table>\n",
       "</div>"
      ],
      "text/plain": [
       "           dose_era_id            person_id  drug_concept_id  unit_concept_id  \\\n",
       "0 -1101936257632052351  5548892236933978704           902427             8576   \n",
       "1  9002582707624403415  4985579811051920670           714785             8576   \n",
       "2  5495900697391314629 -4873075614181207858          1328165             8576   \n",
       "3  6335084700122752427 -8205283012979532608          1328165             8576   \n",
       "4  2848105832570024513 -4873075614181207858          1328165             8576   \n",
       "\n",
       "   dose_value dose_era_start_date dose_era_end_date  \n",
       "0        10.0          2142-05-14        2142-05-16  \n",
       "1         2.5          2110-04-13        2110-04-14  \n",
       "2       120.0          2148-09-15        2148-09-15  \n",
       "3       120.0          2189-06-11        2189-06-13  \n",
       "4       120.0          2147-12-20        2147-12-21  "
      ]
     },
     "execution_count": 15,
     "metadata": {},
     "output_type": "execute_result"
    }
   ],
   "source": [
    "dose_era = pd.read_csv('Data/dose_era.csv')\n",
    "dose_era.head()\n",
    "\n",
    "#dose_era.shape #(117, 7)"
   ]
  },
  {
   "cell_type": "code",
   "execution_count": 13,
   "metadata": {},
   "outputs": [
    {
     "data": {
      "text/plain": [
       "unit_concept_id\n",
       "8576    117\n",
       "Name: count, dtype: int64"
      ]
     },
     "execution_count": 13,
     "metadata": {},
     "output_type": "execute_result"
    }
   ],
   "source": [
    "dose_era.unit_concept_id.value_counts()\n",
    "# 8576 are all in mg.... This is good :) I can go back to drug_concept id, dose_value...."
   ]
  },
  {
   "cell_type": "code",
   "execution_count": 16,
   "metadata": {},
   "outputs": [
    {
     "data": {
      "text/plain": [
       "drug_concept_id\n",
       "1307046    38\n",
       "1328165    12\n",
       "718583     12\n",
       "1383815    11\n",
       "745466     10\n",
       "965748      8\n",
       "750982      7\n",
       "1398937     4\n",
       "1503297     2\n",
       "1560171     2\n",
       "1163944     2\n",
       "1318853     2\n",
       "1154029     2\n",
       "714785      1\n",
       "1353776     1\n",
       "719311      1\n",
       "1353766     1\n",
       "902427      1\n",
       "Name: count, dtype: int64"
      ]
     },
     "execution_count": 16,
     "metadata": {},
     "output_type": "execute_result"
    }
   ],
   "source": [
    "dose_era.drug_concept_id.value_counts()"
   ]
  },
  {
   "cell_type": "markdown",
   "metadata": {},
   "source": [
    "# Drug era\n",
    "\n",
    "**active ingredient**, successive period of drug_exposure to the same ingredent gives drug era\n",
    "\n",
    "A Drug Era is defined as a span of time when the Person is assumed to be exposed to a particular active ingredient. A Drug Era is not the same as a Drug Exposure:\n",
    "Exposures are individual records corresponding to the source when Drug was delivered to the Person, while successive periods of Drug Exposures are combined under certain rules to produce continuous Drug Eras.\n",
    "\n",
    "-> not the same concept_id because here we talk about an ingredient, not a particular drug... diazepam vs diazepam tablet 10mg.  \n",
    "\n",
    "Example:  \n",
    "drug_era: person 3912882389848878631 got 2 exposure to diazepam 723013 between 2129-01-03\t2129-01-05  \n",
    "[6598\t-7540355434127132424\t3912882389848878631\t723013\t2129-01-03\t2129-01-05\t2\t0]   \n",
    "\n",
    "drug_exposure: person 3912882389848878631 got 1 drug_exposure to 723020 within 2129-01-03 19:00:00\tand 2129-01-05 02:00:00\t  \n",
    "[5640\t-4804305780328125843\t3912882389848878631\t723020\t2129-01-03\t2129-01-03 19:00:00\t2129-01-05\t2129-01-05 02:00:00\tNaN\t32838\tNaN\t...\tNaN\t4167540\tNaN\tNaN\t3761046692024108622\tNaN\t51079028620\t45000972\tPO/NG\tTAB]"
   ]
  },
  {
   "cell_type": "code",
   "execution_count": 14,
   "metadata": {},
   "outputs": [
    {
     "data": {
      "text/html": [
       "<div>\n",
       "<style scoped>\n",
       "    .dataframe tbody tr th:only-of-type {\n",
       "        vertical-align: middle;\n",
       "    }\n",
       "\n",
       "    .dataframe tbody tr th {\n",
       "        vertical-align: top;\n",
       "    }\n",
       "\n",
       "    .dataframe thead th {\n",
       "        text-align: right;\n",
       "    }\n",
       "</style>\n",
       "<table border=\"1\" class=\"dataframe\">\n",
       "  <thead>\n",
       "    <tr style=\"text-align: right;\">\n",
       "      <th></th>\n",
       "      <th>dose_era_id</th>\n",
       "      <th>person_id</th>\n",
       "      <th>drug_concept_id</th>\n",
       "      <th>unit_concept_id</th>\n",
       "      <th>dose_value</th>\n",
       "      <th>dose_era_start_date</th>\n",
       "      <th>dose_era_end_date</th>\n",
       "    </tr>\n",
       "  </thead>\n",
       "  <tbody>\n",
       "  </tbody>\n",
       "</table>\n",
       "</div>"
      ],
      "text/plain": [
       "Empty DataFrame\n",
       "Columns: [dose_era_id, person_id, drug_concept_id, unit_concept_id, dose_value, dose_era_start_date, dose_era_end_date]\n",
       "Index: []"
      ]
     },
     "execution_count": 14,
     "metadata": {},
     "output_type": "execute_result"
    }
   ],
   "source": [
    "dose_era[dose_era.person_id == 3912882389848878631] # my patient is not recognized, neither my drug_cncept_id...why ????\n",
    "#patient1[patient1.dose_unit_source_value == drug_type]\n",
    "dose_era[dose_era.drug_concept_id == 19127213]\n",
    "# ne pas mettre de guillements, ça ne fonctionne pas..."
   ]
  },
  {
   "cell_type": "code",
   "execution_count": 4,
   "metadata": {},
   "outputs": [
    {
     "data": {
      "text/html": [
       "<div>\n",
       "<style scoped>\n",
       "    .dataframe tbody tr th:only-of-type {\n",
       "        vertical-align: middle;\n",
       "    }\n",
       "\n",
       "    .dataframe tbody tr th {\n",
       "        vertical-align: top;\n",
       "    }\n",
       "\n",
       "    .dataframe thead th {\n",
       "        text-align: right;\n",
       "    }\n",
       "</style>\n",
       "<table border=\"1\" class=\"dataframe\">\n",
       "  <thead>\n",
       "    <tr style=\"text-align: right;\">\n",
       "      <th></th>\n",
       "      <th>drug_era_id</th>\n",
       "      <th>person_id</th>\n",
       "      <th>drug_concept_id</th>\n",
       "      <th>drug_era_start_date</th>\n",
       "      <th>drug_era_end_date</th>\n",
       "      <th>drug_exposure_count</th>\n",
       "      <th>gap_days</th>\n",
       "    </tr>\n",
       "  </thead>\n",
       "  <tbody>\n",
       "    <tr>\n",
       "      <th>0</th>\n",
       "      <td>-4731852071843461961</td>\n",
       "      <td>-2067961723109232727</td>\n",
       "      <td>1124957</td>\n",
       "      <td>2169-01-21</td>\n",
       "      <td>2169-01-24</td>\n",
       "      <td>1</td>\n",
       "      <td>0</td>\n",
       "    </tr>\n",
       "    <tr>\n",
       "      <th>1</th>\n",
       "      <td>1725818565432188772</td>\n",
       "      <td>-626229666378242477</td>\n",
       "      <td>1368671</td>\n",
       "      <td>2171-11-11</td>\n",
       "      <td>2171-11-16</td>\n",
       "      <td>2</td>\n",
       "      <td>1</td>\n",
       "    </tr>\n",
       "    <tr>\n",
       "      <th>2</th>\n",
       "      <td>3222075720408667327</td>\n",
       "      <td>-626229666378242477</td>\n",
       "      <td>967823</td>\n",
       "      <td>2171-11-11</td>\n",
       "      <td>2171-11-22</td>\n",
       "      <td>12</td>\n",
       "      <td>0</td>\n",
       "    </tr>\n",
       "    <tr>\n",
       "      <th>3</th>\n",
       "      <td>7411613425123823172</td>\n",
       "      <td>579254014084392336</td>\n",
       "      <td>1310149</td>\n",
       "      <td>2115-10-16</td>\n",
       "      <td>2115-10-18</td>\n",
       "      <td>2</td>\n",
       "      <td>0</td>\n",
       "    </tr>\n",
       "    <tr>\n",
       "      <th>4</th>\n",
       "      <td>4265287408545791371</td>\n",
       "      <td>-2312013739856114142</td>\n",
       "      <td>19095164</td>\n",
       "      <td>2116-06-28</td>\n",
       "      <td>2116-07-05</td>\n",
       "      <td>1</td>\n",
       "      <td>0</td>\n",
       "    </tr>\n",
       "  </tbody>\n",
       "</table>\n",
       "</div>"
      ],
      "text/plain": [
       "           drug_era_id            person_id  drug_concept_id  \\\n",
       "0 -4731852071843461961 -2067961723109232727          1124957   \n",
       "1  1725818565432188772  -626229666378242477          1368671   \n",
       "2  3222075720408667327  -626229666378242477           967823   \n",
       "3  7411613425123823172   579254014084392336          1310149   \n",
       "4  4265287408545791371 -2312013739856114142         19095164   \n",
       "\n",
       "  drug_era_start_date drug_era_end_date  drug_exposure_count  gap_days  \n",
       "0          2169-01-21        2169-01-24                    1         0  \n",
       "1          2171-11-11        2171-11-16                    2         1  \n",
       "2          2171-11-11        2171-11-22                   12         0  \n",
       "3          2115-10-16        2115-10-18                    2         0  \n",
       "4          2116-06-28        2116-07-05                    1         0  "
      ]
     },
     "execution_count": 4,
     "metadata": {},
     "output_type": "execute_result"
    }
   ],
   "source": [
    "drug_era = pd.read_csv('Data/drug_era.csv')\n",
    "\n",
    "drug_era.shape #(7931, 7)\n",
    "drug_era.head()"
   ]
  },
  {
   "cell_type": "code",
   "execution_count": null,
   "metadata": {},
   "outputs": [],
   "source": [
    "drug_era.drug_concept_id.value_counts()"
   ]
  },
  {
   "cell_type": "code",
   "execution_count": 5,
   "metadata": {},
   "outputs": [
    {
     "data": {
      "text/html": [
       "<div>\n",
       "<style scoped>\n",
       "    .dataframe tbody tr th:only-of-type {\n",
       "        vertical-align: middle;\n",
       "    }\n",
       "\n",
       "    .dataframe tbody tr th {\n",
       "        vertical-align: top;\n",
       "    }\n",
       "\n",
       "    .dataframe thead th {\n",
       "        text-align: right;\n",
       "    }\n",
       "</style>\n",
       "<table border=\"1\" class=\"dataframe\">\n",
       "  <thead>\n",
       "    <tr style=\"text-align: right;\">\n",
       "      <th></th>\n",
       "      <th>drug_era_id</th>\n",
       "      <th>person_id</th>\n",
       "      <th>drug_concept_id</th>\n",
       "      <th>drug_era_start_date</th>\n",
       "      <th>drug_era_end_date</th>\n",
       "      <th>drug_exposure_count</th>\n",
       "      <th>gap_days</th>\n",
       "    </tr>\n",
       "  </thead>\n",
       "  <tbody>\n",
       "    <tr>\n",
       "      <th>6596</th>\n",
       "      <td>500595522397761829</td>\n",
       "      <td>3912882389848878631</td>\n",
       "      <td>43531944</td>\n",
       "      <td>2129-01-03</td>\n",
       "      <td>2129-01-05</td>\n",
       "      <td>1</td>\n",
       "      <td>0</td>\n",
       "    </tr>\n",
       "    <tr>\n",
       "      <th>6597</th>\n",
       "      <td>6330107922049835930</td>\n",
       "      <td>3912882389848878631</td>\n",
       "      <td>1125315</td>\n",
       "      <td>2129-01-03</td>\n",
       "      <td>2129-01-05</td>\n",
       "      <td>1</td>\n",
       "      <td>0</td>\n",
       "    </tr>\n",
       "    <tr>\n",
       "      <th>6598</th>\n",
       "      <td>-7540355434127132424</td>\n",
       "      <td>3912882389848878631</td>\n",
       "      <td>723013</td>\n",
       "      <td>2129-01-03</td>\n",
       "      <td>2129-01-05</td>\n",
       "      <td>2</td>\n",
       "      <td>0</td>\n",
       "    </tr>\n",
       "    <tr>\n",
       "      <th>6599</th>\n",
       "      <td>7165454045076608944</td>\n",
       "      <td>3912882389848878631</td>\n",
       "      <td>40166605</td>\n",
       "      <td>2129-01-03</td>\n",
       "      <td>2129-01-05</td>\n",
       "      <td>1</td>\n",
       "      <td>0</td>\n",
       "    </tr>\n",
       "    <tr>\n",
       "      <th>6600</th>\n",
       "      <td>-8180642557726588733</td>\n",
       "      <td>3912882389848878631</td>\n",
       "      <td>40164828</td>\n",
       "      <td>2129-01-03</td>\n",
       "      <td>2129-01-05</td>\n",
       "      <td>1</td>\n",
       "      <td>0</td>\n",
       "    </tr>\n",
       "    <tr>\n",
       "      <th>6601</th>\n",
       "      <td>3025930947898329035</td>\n",
       "      <td>3912882389848878631</td>\n",
       "      <td>42873956</td>\n",
       "      <td>2129-01-03</td>\n",
       "      <td>2129-01-05</td>\n",
       "      <td>1</td>\n",
       "      <td>0</td>\n",
       "    </tr>\n",
       "    <tr>\n",
       "      <th>6602</th>\n",
       "      <td>8800459384878548729</td>\n",
       "      <td>3912882389848878631</td>\n",
       "      <td>967823</td>\n",
       "      <td>2129-01-03</td>\n",
       "      <td>2129-01-05</td>\n",
       "      <td>2</td>\n",
       "      <td>0</td>\n",
       "    </tr>\n",
       "    <tr>\n",
       "      <th>6603</th>\n",
       "      <td>-338966274758502286</td>\n",
       "      <td>3912882389848878631</td>\n",
       "      <td>1367571</td>\n",
       "      <td>2129-01-03</td>\n",
       "      <td>2129-01-05</td>\n",
       "      <td>1</td>\n",
       "      <td>0</td>\n",
       "    </tr>\n",
       "    <tr>\n",
       "      <th>6683</th>\n",
       "      <td>1590324940605174808</td>\n",
       "      <td>3912882389848878631</td>\n",
       "      <td>923645</td>\n",
       "      <td>2129-01-04</td>\n",
       "      <td>2129-01-05</td>\n",
       "      <td>1</td>\n",
       "      <td>0</td>\n",
       "    </tr>\n",
       "    <tr>\n",
       "      <th>6684</th>\n",
       "      <td>8866077140124362516</td>\n",
       "      <td>3912882389848878631</td>\n",
       "      <td>1124957</td>\n",
       "      <td>2129-01-04</td>\n",
       "      <td>2129-01-05</td>\n",
       "      <td>4</td>\n",
       "      <td>1</td>\n",
       "    </tr>\n",
       "    <tr>\n",
       "      <th>6690</th>\n",
       "      <td>-1112804010670705686</td>\n",
       "      <td>3912882389848878631</td>\n",
       "      <td>36878782</td>\n",
       "      <td>2129-01-05</td>\n",
       "      <td>2129-01-05</td>\n",
       "      <td>1</td>\n",
       "      <td>0</td>\n",
       "    </tr>\n",
       "    <tr>\n",
       "      <th>6691</th>\n",
       "      <td>-2016335706505619184</td>\n",
       "      <td>3912882389848878631</td>\n",
       "      <td>19111620</td>\n",
       "      <td>2129-01-05</td>\n",
       "      <td>2129-01-05</td>\n",
       "      <td>1</td>\n",
       "      <td>0</td>\n",
       "    </tr>\n",
       "    <tr>\n",
       "      <th>6692</th>\n",
       "      <td>2426943909930076013</td>\n",
       "      <td>3912882389848878631</td>\n",
       "      <td>1560524</td>\n",
       "      <td>2129-01-05</td>\n",
       "      <td>2129-01-05</td>\n",
       "      <td>1</td>\n",
       "      <td>0</td>\n",
       "    </tr>\n",
       "    <tr>\n",
       "      <th>6693</th>\n",
       "      <td>8939824964893766208</td>\n",
       "      <td>3912882389848878631</td>\n",
       "      <td>19137312</td>\n",
       "      <td>2129-01-05</td>\n",
       "      <td>2129-01-05</td>\n",
       "      <td>1</td>\n",
       "      <td>0</td>\n",
       "    </tr>\n",
       "    <tr>\n",
       "      <th>6694</th>\n",
       "      <td>4416439696488798469</td>\n",
       "      <td>3912882389848878631</td>\n",
       "      <td>1177480</td>\n",
       "      <td>2129-01-05</td>\n",
       "      <td>2129-01-05</td>\n",
       "      <td>1</td>\n",
       "      <td>0</td>\n",
       "    </tr>\n",
       "    <tr>\n",
       "      <th>6695</th>\n",
       "      <td>-945752478111843518</td>\n",
       "      <td>3912882389848878631</td>\n",
       "      <td>734275</td>\n",
       "      <td>2129-01-05</td>\n",
       "      <td>2129-01-11</td>\n",
       "      <td>7</td>\n",
       "      <td>6</td>\n",
       "    </tr>\n",
       "  </tbody>\n",
       "</table>\n",
       "</div>"
      ],
      "text/plain": [
       "              drug_era_id            person_id  drug_concept_id  \\\n",
       "6596   500595522397761829  3912882389848878631         43531944   \n",
       "6597  6330107922049835930  3912882389848878631          1125315   \n",
       "6598 -7540355434127132424  3912882389848878631           723013   \n",
       "6599  7165454045076608944  3912882389848878631         40166605   \n",
       "6600 -8180642557726588733  3912882389848878631         40164828   \n",
       "6601  3025930947898329035  3912882389848878631         42873956   \n",
       "6602  8800459384878548729  3912882389848878631           967823   \n",
       "6603  -338966274758502286  3912882389848878631          1367571   \n",
       "6683  1590324940605174808  3912882389848878631           923645   \n",
       "6684  8866077140124362516  3912882389848878631          1124957   \n",
       "6690 -1112804010670705686  3912882389848878631         36878782   \n",
       "6691 -2016335706505619184  3912882389848878631         19111620   \n",
       "6692  2426943909930076013  3912882389848878631          1560524   \n",
       "6693  8939824964893766208  3912882389848878631         19137312   \n",
       "6694  4416439696488798469  3912882389848878631          1177480   \n",
       "6695  -945752478111843518  3912882389848878631           734275   \n",
       "\n",
       "     drug_era_start_date drug_era_end_date  drug_exposure_count  gap_days  \n",
       "6596          2129-01-03        2129-01-05                    1         0  \n",
       "6597          2129-01-03        2129-01-05                    1         0  \n",
       "6598          2129-01-03        2129-01-05                    2         0  \n",
       "6599          2129-01-03        2129-01-05                    1         0  \n",
       "6600          2129-01-03        2129-01-05                    1         0  \n",
       "6601          2129-01-03        2129-01-05                    1         0  \n",
       "6602          2129-01-03        2129-01-05                    2         0  \n",
       "6603          2129-01-03        2129-01-05                    1         0  \n",
       "6683          2129-01-04        2129-01-05                    1         0  \n",
       "6684          2129-01-04        2129-01-05                    4         1  \n",
       "6690          2129-01-05        2129-01-05                    1         0  \n",
       "6691          2129-01-05        2129-01-05                    1         0  \n",
       "6692          2129-01-05        2129-01-05                    1         0  \n",
       "6693          2129-01-05        2129-01-05                    1         0  \n",
       "6694          2129-01-05        2129-01-05                    1         0  \n",
       "6695          2129-01-05        2129-01-11                    7         6  "
      ]
     },
     "execution_count": 5,
     "metadata": {},
     "output_type": "execute_result"
    }
   ],
   "source": [
    "drug_era[drug_era.drug_concept_id == 19127213] # cannot be found...\n",
    "\n",
    "drug_era[drug_era.person_id == 3912882389848878631] # -> ok..."
   ]
  },
  {
   "cell_type": "code",
   "execution_count": null,
   "metadata": {},
   "outputs": [],
   "source": [
    "temp_1 = drug_era.loc[drug_era.person_id == 3912882389848878631, 'drug_concept_id'].unique() #16\n",
    "temp_1.sort()\n",
    "'''\n",
    "drug_era\n",
    "(array([  723013 - \tdiazepam as an ingredient,   734275,   923645,   967823,  1124957,  1125315,\n",
    "         1177480,  1367571,  1560524, 19111620, 19137312, 36878782,\n",
    "        40164828, 40166605, 42873956, 43531944]),\n",
    "\n",
    "drug_exposure\n",
    " array([  723020 - diazepam 10 MG Oral Tablet RxNorm,   734281,  1127433, 19019050, 19019418, 19077513,\n",
    "        19079250, 19126251, 19127213, 19137328, 21125875, 36249736,\n",
    "        40221329, 40232756, 43011850, 45775137]))\n",
    "'''\n",
    "temp_2 = drug_exposure.loc[drug_exposure.person_id == 3912882389848878631, 'drug_concept_id'].unique() #16\n",
    "temp_2.sort()\n",
    "\n",
    "# all the same\n",
    "\n",
    "temp_1, temp_2\n"
   ]
  },
  {
   "cell_type": "code",
   "execution_count": 10,
   "metadata": {},
   "outputs": [
    {
     "data": {
      "text/html": [
       "<div>\n",
       "<style scoped>\n",
       "    .dataframe tbody tr th:only-of-type {\n",
       "        vertical-align: middle;\n",
       "    }\n",
       "\n",
       "    .dataframe tbody tr th {\n",
       "        vertical-align: top;\n",
       "    }\n",
       "\n",
       "    .dataframe thead th {\n",
       "        text-align: right;\n",
       "    }\n",
       "</style>\n",
       "<table border=\"1\" class=\"dataframe\">\n",
       "  <thead>\n",
       "    <tr style=\"text-align: right;\">\n",
       "      <th></th>\n",
       "      <th>dose_era_id</th>\n",
       "      <th>person_id</th>\n",
       "      <th>drug_concept_id</th>\n",
       "      <th>unit_concept_id</th>\n",
       "      <th>dose_value</th>\n",
       "      <th>dose_era_start_date</th>\n",
       "      <th>dose_era_end_date</th>\n",
       "    </tr>\n",
       "  </thead>\n",
       "  <tbody>\n",
       "  </tbody>\n",
       "</table>\n",
       "</div>"
      ],
      "text/plain": [
       "Empty DataFrame\n",
       "Columns: [dose_era_id, person_id, drug_concept_id, unit_concept_id, dose_value, dose_era_start_date, dose_era_end_date]\n",
       "Index: []"
      ]
     },
     "execution_count": 10,
     "metadata": {},
     "output_type": "execute_result"
    }
   ],
   "source": [
    "temp_3 = dose_era.loc[dose_era.person_id == 3912882389848878631]\n",
    "temp_3 # none\n",
    "#temp_3.loc[temp_3.drug_concept_id == 723013]"
   ]
  },
  {
   "cell_type": "code",
   "execution_count": null,
   "metadata": {},
   "outputs": [],
   "source": [
    "temp_exp = drug_exposure.person_id.unique()\n",
    "len(temp_exp) #100\n",
    "temp_drug = drug_era.person_id.unique()\n",
    "len(temp_drug) #100\n",
    "temp_dose = dose_era.person_id.unique()\n",
    "len(temp_dose) #44"
   ]
  },
  {
   "cell_type": "code",
   "execution_count": 17,
   "metadata": {},
   "outputs": [
    {
     "name": "stderr",
     "output_type": "stream",
     "text": [
      "/tmp/ipykernel_5721/1970751477.py:1: DtypeWarning:\n",
      "\n",
      "Columns (5) have mixed types. Specify dtype option on import or set low_memory=False.\n",
      "\n"
     ]
    },
    {
     "data": {
      "text/html": [
       "<div>\n",
       "<style scoped>\n",
       "    .dataframe tbody tr th:only-of-type {\n",
       "        vertical-align: middle;\n",
       "    }\n",
       "\n",
       "    .dataframe tbody tr th {\n",
       "        vertical-align: top;\n",
       "    }\n",
       "\n",
       "    .dataframe thead th {\n",
       "        text-align: right;\n",
       "    }\n",
       "</style>\n",
       "<table border=\"1\" class=\"dataframe\">\n",
       "  <thead>\n",
       "    <tr style=\"text-align: right;\">\n",
       "      <th></th>\n",
       "      <th>drug_concept_id</th>\n",
       "      <th>ingredient_concept_id</th>\n",
       "      <th>amount_value</th>\n",
       "      <th>amount_unit_concept_id</th>\n",
       "      <th>numerator_value</th>\n",
       "      <th>numerator_unit_concept_id</th>\n",
       "      <th>denominator_value</th>\n",
       "      <th>denominator_unit_concept_id</th>\n",
       "      <th>box_size</th>\n",
       "      <th>valid_start_date</th>\n",
       "      <th>valid_end_date</th>\n",
       "      <th>invalid_reason</th>\n",
       "    </tr>\n",
       "  </thead>\n",
       "  <tbody>\n",
       "    <tr>\n",
       "      <th>0</th>\n",
       "      <td>1154535</td>\n",
       "      <td>1154343</td>\n",
       "      <td>0.417</td>\n",
       "      <td>8576</td>\n",
       "      <td>8587.0</td>\n",
       "      <td>19700101</td>\n",
       "      <td>20991231.0</td>\n",
       "      <td>NaN</td>\n",
       "      <td>NaN</td>\n",
       "      <td>NaN</td>\n",
       "      <td>NaN</td>\n",
       "      <td>NaN</td>\n",
       "    </tr>\n",
       "    <tr>\n",
       "      <th>1</th>\n",
       "      <td>1154536</td>\n",
       "      <td>1154343</td>\n",
       "      <td>0.210</td>\n",
       "      <td>8576</td>\n",
       "      <td>8587.0</td>\n",
       "      <td>19700101</td>\n",
       "      <td>20991231.0</td>\n",
       "      <td>NaN</td>\n",
       "      <td>NaN</td>\n",
       "      <td>NaN</td>\n",
       "      <td>NaN</td>\n",
       "      <td>NaN</td>\n",
       "    </tr>\n",
       "    <tr>\n",
       "      <th>2</th>\n",
       "      <td>1731598</td>\n",
       "      <td>1731597</td>\n",
       "      <td>2.000</td>\n",
       "      <td>8576</td>\n",
       "      <td>8587.0</td>\n",
       "      <td>19700101</td>\n",
       "      <td>20991231.0</td>\n",
       "      <td>NaN</td>\n",
       "      <td>NaN</td>\n",
       "      <td>NaN</td>\n",
       "      <td>NaN</td>\n",
       "      <td>NaN</td>\n",
       "    </tr>\n",
       "    <tr>\n",
       "      <th>3</th>\n",
       "      <td>1396092</td>\n",
       "      <td>1396012</td>\n",
       "      <td>225.000</td>\n",
       "      <td>8576</td>\n",
       "      <td>19700101.0</td>\n",
       "      <td>20991231</td>\n",
       "      <td>NaN</td>\n",
       "      <td>NaN</td>\n",
       "      <td>NaN</td>\n",
       "      <td>NaN</td>\n",
       "      <td>NaN</td>\n",
       "      <td>NaN</td>\n",
       "    </tr>\n",
       "    <tr>\n",
       "      <th>4</th>\n",
       "      <td>1517764</td>\n",
       "      <td>1517740</td>\n",
       "      <td>0.002</td>\n",
       "      <td>8576</td>\n",
       "      <td>8587.0</td>\n",
       "      <td>19700101</td>\n",
       "      <td>20991231.0</td>\n",
       "      <td>NaN</td>\n",
       "      <td>NaN</td>\n",
       "      <td>NaN</td>\n",
       "      <td>NaN</td>\n",
       "      <td>NaN</td>\n",
       "    </tr>\n",
       "  </tbody>\n",
       "</table>\n",
       "</div>"
      ],
      "text/plain": [
       "   drug_concept_id  ingredient_concept_id  amount_value  \\\n",
       "0          1154535                1154343         0.417   \n",
       "1          1154536                1154343         0.210   \n",
       "2          1731598                1731597         2.000   \n",
       "3          1396092                1396012       225.000   \n",
       "4          1517764                1517740         0.002   \n",
       "\n",
       "   amount_unit_concept_id  numerator_value numerator_unit_concept_id  \\\n",
       "0                    8576           8587.0                  19700101   \n",
       "1                    8576           8587.0                  19700101   \n",
       "2                    8576           8587.0                  19700101   \n",
       "3                    8576       19700101.0                  20991231   \n",
       "4                    8576           8587.0                  19700101   \n",
       "\n",
       "   denominator_value  denominator_unit_concept_id  box_size  valid_start_date  \\\n",
       "0         20991231.0                          NaN       NaN               NaN   \n",
       "1         20991231.0                          NaN       NaN               NaN   \n",
       "2         20991231.0                          NaN       NaN               NaN   \n",
       "3                NaN                          NaN       NaN               NaN   \n",
       "4         20991231.0                          NaN       NaN               NaN   \n",
       "\n",
       "   valid_end_date  invalid_reason  \n",
       "0             NaN             NaN  \n",
       "1             NaN             NaN  \n",
       "2             NaN             NaN  \n",
       "3             NaN             NaN  \n",
       "4             NaN             NaN  "
      ]
     },
     "execution_count": 17,
     "metadata": {},
     "output_type": "execute_result"
    }
   ],
   "source": [
    "drug_strength = pd.read_csv('Data/DRUG_STRENGTH.csv', sep='\\s+')\n",
    "drug_strength.shape #(200983, 12)\n",
    "\n",
    "'''\n",
    "Columns (5) have mixed types. Specify dtype option on import or set low_memory=False.\n",
    "\n",
    "\n",
    "drug_concept_id                  int64\n",
    "ingredient_concept_id            int64\n",
    "amount_value                   float64\n",
    "amount_unit_concept_id           int64\n",
    "numerator_value                float64\n",
    "numerator_unit_concept_id       object\n",
    "denominator_value              float64\n",
    "denominator_unit_concept_id    float64\n",
    "box_size                       float64\n",
    "valid_start_date               float64\n",
    "valid_end_date                 float64\n",
    "invalid_reason                 float64\n",
    "'''\n",
    "\n",
    "drug_strength.head()"
   ]
  },
  {
   "cell_type": "code",
   "execution_count": 27,
   "metadata": {},
   "outputs": [
    {
     "name": "stdout",
     "output_type": "stream",
     "text": [
      "<class 'pandas.core.frame.DataFrame'>\n",
      "RangeIndex: 200983 entries, 0 to 200982\n",
      "Data columns (total 12 columns):\n",
      " #   Column                       Non-Null Count   Dtype  \n",
      "---  ------                       --------------   -----  \n",
      " 0   drug_concept_id              200983 non-null  int64  \n",
      " 1   ingredient_concept_id        200983 non-null  int64  \n",
      " 2   amount_value                 200983 non-null  float64\n",
      " 3   amount_unit_concept_id       200983 non-null  int64  \n",
      " 4   numerator_value              200983 non-null  float64\n",
      " 5   numerator_unit_concept_id    142454 non-null  object \n",
      " 6   denominator_value            79593 non-null   float64\n",
      " 7   denominator_unit_concept_id  7763 non-null    float64\n",
      " 8   box_size                     0 non-null       float64\n",
      " 9   valid_start_date             0 non-null       float64\n",
      " 10  valid_end_date               0 non-null       float64\n",
      " 11  invalid_reason               0 non-null       float64\n",
      "dtypes: float64(8), int64(3), object(1)\n",
      "memory usage: 18.4+ MB\n"
     ]
    }
   ],
   "source": [
    "drug_strength.info()\n",
    "'''\n",
    "<class 'pandas.core.frame.DataFrame'>\n",
    "RangeIndex: 200983 entries, 0 to 200982\n",
    "Data columns (total 12 columns):\n",
    " #   Column                       Non-Null Count   Dtype  \n",
    "---  ------                       --------------   -----  \n",
    " 0   drug_concept_id              200983 non-null  int64  \n",
    " 1   ingredient_concept_id        200983 non-null  int64  \n",
    " 2   amount_value                 200983 non-null  float64\n",
    " 3   amount_unit_concept_id       200983 non-null  int64  \n",
    " 4   numerator_value              200983 non-null  float64\n",
    " 5   numerator_unit_concept_id    142454 non-null  object \n",
    " 6   denominator_value            79593 non-null   float64\n",
    " 7   denominator_unit_concept_id  7763 non-null    float64\n",
    " 8   box_size                     0 non-null       float64\n",
    " 9   valid_start_date             0 non-null       float64\n",
    " 10  valid_end_date               0 non-null       float64\n",
    " 11  invalid_reason               0 non-null       float64\n",
    "dtypes: float64(8), int64(3), object(1)\n",
    "memory usage: 18.4+ MB\n",
    "'''\n"
   ]
  },
  {
   "cell_type": "code",
   "execution_count": 29,
   "metadata": {},
   "outputs": [
    {
     "data": {
      "text/html": [
       "<div>\n",
       "<style scoped>\n",
       "    .dataframe tbody tr th:only-of-type {\n",
       "        vertical-align: middle;\n",
       "    }\n",
       "\n",
       "    .dataframe tbody tr th {\n",
       "        vertical-align: top;\n",
       "    }\n",
       "\n",
       "    .dataframe thead th {\n",
       "        text-align: right;\n",
       "    }\n",
       "</style>\n",
       "<table border=\"1\" class=\"dataframe\">\n",
       "  <thead>\n",
       "    <tr style=\"text-align: right;\">\n",
       "      <th></th>\n",
       "      <th>drug_concept_id</th>\n",
       "      <th>ingredient_concept_id</th>\n",
       "      <th>amount_value</th>\n",
       "      <th>amount_unit_concept_id</th>\n",
       "      <th>numerator_value</th>\n",
       "      <th>numerator_unit_concept_id</th>\n",
       "      <th>denominator_value</th>\n",
       "      <th>denominator_unit_concept_id</th>\n",
       "      <th>box_size</th>\n",
       "      <th>valid_start_date</th>\n",
       "      <th>valid_end_date</th>\n",
       "      <th>invalid_reason</th>\n",
       "    </tr>\n",
       "  </thead>\n",
       "  <tbody>\n",
       "    <tr>\n",
       "      <th>38328</th>\n",
       "      <td>734281</td>\n",
       "      <td>734275</td>\n",
       "      <td>65.0</td>\n",
       "      <td>8576</td>\n",
       "      <td>8587.0</td>\n",
       "      <td>19700101</td>\n",
       "      <td>20991231.0</td>\n",
       "      <td>NaN</td>\n",
       "      <td>NaN</td>\n",
       "      <td>NaN</td>\n",
       "      <td>NaN</td>\n",
       "      <td>NaN</td>\n",
       "    </tr>\n",
       "  </tbody>\n",
       "</table>\n",
       "</div>"
      ],
      "text/plain": [
       "       drug_concept_id  ingredient_concept_id  amount_value  \\\n",
       "38328           734281                 734275          65.0   \n",
       "\n",
       "       amount_unit_concept_id  numerator_value numerator_unit_concept_id  \\\n",
       "38328                    8576           8587.0                  19700101   \n",
       "\n",
       "       denominator_value  denominator_unit_concept_id  box_size  \\\n",
       "38328         20991231.0                          NaN       NaN   \n",
       "\n",
       "       valid_start_date  valid_end_date  invalid_reason  \n",
       "38328               NaN             NaN             NaN  "
      ]
     },
     "execution_count": 29,
     "metadata": {},
     "output_type": "execute_result"
    }
   ],
   "source": [
    "drug_strength[drug_strength['drug_concept_id']==734281] # it works\n",
    "'''\t\n",
    "phenobarbital 65 MG/ML\n",
    "\n",
    "drug_concept_id\tingredient_concept_id\tamount_value\tamount_unit_concept_id\tnumerator_value\tnumerator_unit_concept_id\tdenominator_value\tdenominator_unit_concept_id\tbox_size\tvalid_start_date\tvalid_end_date\tinvalid_reason\n",
    "734281\t        734275\t                65.0\t            8576\t                8587.0\t    19700101\t                20991231.0\t            NaN\tNaN\tNaN\tNaN\tNaN\n",
    "8576 = mg... should be mg/ml\n",
    "8587 = mL...numeratot ! That's why. check with a TAB and others, check the numerator_unit_conceptid\n",
    "'''"
   ]
  },
  {
   "cell_type": "code",
   "execution_count": 32,
   "metadata": {},
   "outputs": [
    {
     "data": {
      "text/plain": [
       "array([    8576,     8510,     9551, 45744811,     8587,     9573,\n",
       "       45744812, 45744810,     9693, 44819154, 45744813,    32018,\n",
       "          32407, 45744814,     9278,     9439,     9367, 45744816,\n",
       "           8718,     8554, 19700101, 20050911, 20080302, 20080330,\n",
       "       20080629, 20080831, 20080928, 20090201, 20220103, 20070128,\n",
       "       20080427, 20070429, 20060514, 20060226, 20071230, 20050724,\n",
       "       20210405, 20230103, 20220801, 20060709, 20051204, 20070729,\n",
       "       20060402, 20190603, 20180205, 20060115, 20070225, 20051113,\n",
       "       20080601, 20080127, 20180402, 20070527, 20070701, 20200803,\n",
       "       20060312, 20070902, 20070401, 20060730, 20090104, 20190204,\n",
       "       20060827, 20070114, 20190903, 20190401, 20190701, 20180702,\n",
       "       20190506, 20221003, 20210802, 20180806, 20061119, 20061217,\n",
       "       20170807, 20170103, 20220307, 20070930, 20090503, 20081130,\n",
       "       20090531, 20080727, 20081109, 20060604, 20090301, 20061008,\n",
       "       20181203, 20160502, 20210503, 20160801, 20210104, 20200504,\n",
       "       20090705, 20090802, 20090906, 20091004, 20091101, 20091206,\n",
       "       20100103, 20100131, 20100228, 20100404, 20100502, 20100606,\n",
       "       20161003, 20100704, 20100801, 20100905, 20101003, 20101031,\n",
       "       20101205, 20110206, 20110306, 20110403, 20110501, 20110605,\n",
       "       20110703, 20110731, 20110904, 20111002, 20111204, 20180507,\n",
       "       20160606, 20120507, 20120604, 20120702, 20120806, 20120904,\n",
       "       20121001, 20121203, 20130107, 20130204, 20130304, 20130401,\n",
       "       20130506, 20130603, 20130701, 20130805, 20130903, 20131007,\n",
       "       20131104, 20131202, 20140106, 20140203, 20140303, 20140407,\n",
       "       20140505, 20140602, 20141201, 20150302, 20150504, 20150706,\n",
       "       20150908, 20151005])"
      ]
     },
     "execution_count": 32,
     "metadata": {},
     "output_type": "execute_result"
    }
   ],
   "source": [
    "drug_strength.numerator_value.unique() \n",
    "drug_strength.amount_unit_concept_id.unique()"
   ]
  }
 ],
 "metadata": {
  "kernelspec": {
   "display_name": "Python 3",
   "language": "python",
   "name": "python3"
  },
  "language_info": {
   "codemirror_mode": {
    "name": "ipython",
    "version": 3
   },
   "file_extension": ".py",
   "mimetype": "text/x-python",
   "name": "python",
   "nbconvert_exporter": "python",
   "pygments_lexer": "ipython3",
   "version": "3.10.12"
  }
 },
 "nbformat": 4,
 "nbformat_minor": 2
}
