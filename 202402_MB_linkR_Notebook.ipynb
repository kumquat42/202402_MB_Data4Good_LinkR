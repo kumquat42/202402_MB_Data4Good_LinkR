{
 "cells": [
  {
   "cell_type": "markdown",
   "metadata": {},
   "source": [
    "# LinkR - plugin Prescription"
   ]
  },
  {
   "cell_type": "code",
   "execution_count": null,
   "metadata": {},
   "outputs": [],
   "source": [
    "# Librairies:\n",
    "\n",
    "import pandas as pd\n",
    "import seaborn as sns\n",
    "import matplotlib as plt\n",
    "import plotly.io as pio\n",
    "import plotly.express as px\n",
    "import plotly.graph_objs as go\n",
    "from plotly.subplots import make_subplots\n"
   ]
  },
  {
   "cell_type": "markdown",
   "metadata": {},
   "source": [
    "# Drug Exposure"
   ]
  },
  {
   "cell_type": "code",
   "execution_count": null,
   "metadata": {},
   "outputs": [],
   "source": [
    "drug_exposure = pd.read_csv('Data/drug_exposure.csv')\n",
    "print(drug_exposure.shape) #(18229, 23)\n",
    "'''\n",
    "['drug_exposure_id', 'person_id', 'drug_concept_id',\n",
    "       'drug_exposure_start_date', 'drug_exposure_start_datetime',\n",
    "       'drug_exposure_end_date', 'drug_exposure_end_datetime',\n",
    "       'verbatim_end_date', 'drug_type_concept_id', 'stop_reason', 'refills',\n",
    "       'quantity', 'days_supply', 'sig', 'route_concept_id', 'lot_number',\n",
    "       'provider_id', 'visit_occurrence_id', 'visit_detail_id',\n",
    "       'drug_source_value', 'drug_source_concept_id', 'route_source_value',\n",
    "       'dose_unit_source_value']\n",
    "'''\n",
    "drug_exposure.person_id.value_counts()\n",
    "'''\n",
    "person_id\n",
    " 7155255168997124770    1182\n",
    " 4783904755296699562     791\n",
    " 8090044958540695372     716\n",
    "-3908355835367628651     687\n",
    " 7131048714591189903     644\n",
    "                        ... \n",
    "-2575767131279873665      37\n",
    "-4183220989401122518      34\n",
    " 1740609625029317924      26\n",
    " 3912882389848878631      24\n",
    "-8769042030325953499      18\n",
    "'''\n",
    "drug_exposure.info()\n",
    "'''\n",
    "<class 'pandas.core.frame.DataFrame'>\n",
    "RangeIndex: 18229 entries, 0 to 18228\n",
    "Data columns (total 23 columns):\n",
    " #   Column                        Non-Null Count  Dtype  \n",
    "---  ------                        --------------  -----  \n",
    " 0   drug_exposure_id              18229 non-null  int64  \n",
    " 1   person_id                     18229 non-null  int64  \n",
    " 2   drug_concept_id               18229 non-null  int64  \n",
    " 3   drug_exposure_start_date      18229 non-null  object \n",
    " 4   drug_exposure_start_datetime  18229 non-null  object \n",
    " 5   drug_exposure_end_date        18229 non-null  object \n",
    " 6   drug_exposure_end_datetime    18229 non-null  object \n",
    " 7   verbatim_end_date             0 non-null      float64\n",
    " 8   drug_type_concept_id          18229 non-null  int64  \n",
    " 9   stop_reason                   0 non-null      float64\n",
    " 10  refills                       0 non-null      float64\n",
    " 11  quantity                      18220 non-null  float64\n",
    " 12  days_supply                   0 non-null      float64\n",
    " 13  sig                           0 non-null      float64\n",
    " 14  route_concept_id              18229 non-null  int64  \n",
    " 15  lot_number                    0 non-null      float64\n",
    " 16  provider_id                   0 non-null      float64\n",
    " 17  visit_occurrence_id           18229 non-null  int64  \n",
    " 18  visit_detail_id               0 non-null      float64\n",
    " 19  drug_source_value             18229 non-null  object \n",
    " 20  drug_source_concept_id        18229 non-null  int64  \n",
    " 21  route_source_value            18223 non-null  object \n",
    " 22  dose_unit_source_value        18220 non-null  object \n",
    " '''\n",
    "\n",
    "drug_exposure.head()\n",
    "\n",
    "liste_non_null = ['drug_exposure_id', 'person_id', 'drug_concept_id',  'drug_exposure_start_date', 'drug_exposure_start_datetime',\n",
    "       'drug_exposure_end_date', 'drug_exposure_end_datetime', 'drug_type_concept_id',   'quantity',\n",
    "       'route_concept_id', 'visit_occurrence_id', 'drug_source_value', 'drug_source_concept_id', 'route_source_value', 'dose_unit_source_value']\n"
   ]
  },
  {
   "cell_type": "code",
   "execution_count": null,
   "metadata": {},
   "outputs": [],
   "source": [
    "drug_exposure.describe()\n"
   ]
  },
  {
   "cell_type": "markdown",
   "metadata": {},
   "source": [
    "### Patient 1: 3912882389848878631\n",
    "On se concentre sur un premier cas avec 24 lignes pour 1 personne: \n",
    "Attention, c'est un integer, pas un texte. Ne pas mettre de ''\n"
   ]
  },
  {
   "cell_type": "code",
   "execution_count": null,
   "metadata": {},
   "outputs": [],
   "source": [
    "patient1 = drug_exposure.loc[drug_exposure['person_id'] == 3912882389848878631, liste_non_null]\n",
    "'''\n",
    "patient1.columns\n",
    "Index(['drug_exposure_id', 'person_id', 'drug_concept_id',\n",
    "       'drug_exposure_start_date', 'drug_exposure_start_datetime',\n",
    "       'drug_exposure_end_date', 'drug_exposure_end_datetime',\n",
    "       'drug_type_concept_id', 'quantity', 'route_concept_id',\n",
    "       'visit_occurrence_id', 'drug_source_value', 'drug_source_concept_id',\n",
    "       'route_source_value', 'dose_unit_source_value'],\n",
    "      dtype='object')\n",
    "'''\n",
    "patient1"
   ]
  },
  {
   "cell_type": "code",
   "execution_count": null,
   "metadata": {},
   "outputs": [],
   "source": [
    "patient1[patient1.dose_unit_source_value == 'TAB']\n",
    "# 9 lignes, des exposure_id différentes, avec des dates différents (2129 ????)\n",
    "# drug_concept_id being the name of the drug I guess, Quantity in Tablettes.\n"
   ]
  },
  {
   "cell_type": "code",
   "execution_count": null,
   "metadata": {},
   "outputs": [],
   "source": [
    "patient1_drug1 = patient1.loc[patient1.drug_concept_id==40232756,['drug_exposure_start_datetime', 'drug_exposure_end_datetime', 'quantity']].sort_values(by='drug_exposure_start_datetime')\n",
    "\n",
    "\n",
    "\n",
    "patient1_drug1['cumulative'] = [0.5, 1.5, 3.0, 4.0]\n",
    "\n",
    "\n",
    "\n",
    "# ne fonctionne pas comme ça, car les date ne sont pas correct.... il faut prendre datetime déjà, puis trier en fonction du temps.\n",
    "# il faut faire avec plotly un graph pour choisir le medoc.\n",
    "# il faut calculer le cumulatif ou non ?\n",
    "patient1_drug1\n"
   ]
  },
  {
   "cell_type": "code",
   "execution_count": null,
   "metadata": {},
   "outputs": [],
   "source": [
    "\n",
    "fig = make_subplots(rows = 1, cols = 2, subplot_titles=('not cumulative','cumulative'))\n",
    "fig.add_trace(go.Scatter(x = patient1_drug1.drug_exposure_start_datetime, y = patient1_drug1.quantity), row=1, col=1)\n",
    "fig.add_trace(go.Scatter(x = patient1_drug1.drug_exposure_start_datetime, y = patient1_drug1.cumulative), row=1, col=2)\n",
    "\n",
    "fig.show()"
   ]
  },
  {
   "cell_type": "code",
   "execution_count": null,
   "metadata": {},
   "outputs": [],
   "source": [
    "patient1 = patient1.sort_values(by='drug_exposure_start_datetime')\n",
    "number_types = patient1.dose_unit_source_value.describe()['unique']\n",
    "\n",
    "fig3 = make_subplots(rows = 1, cols = number_types, subplot_titles=(patient1.dose_unit_source_value.value_counts().index))\n",
    "colonne = 1\n",
    "\n",
    "for drug_type in patient1.dose_unit_source_value.value_counts().index:\n",
    "    #print(drug_type)\n",
    "\n",
    "    for d in patient1[patient1.dose_unit_source_value == drug_type].drug_concept_id.unique():\n",
    "        temp = patient1[patient1.drug_concept_id == d]\n",
    "        #print(temp.dose_unit_source_value.unique())\n",
    "        fig3.add_trace(go.Scatter(x = temp.drug_exposure_start_datetime, y = temp.quantity, name=f'{d}, {temp.dose_unit_source_value.unique()}', legendgroup=drug_type), row=1, col=colonne)\n",
    "\n",
    "    colonne += 1\n",
    "\n",
    "fig3.show()\n",
    "\n",
    "# Add curseur de temps, add legendgroup, add selection de chaque drug"
   ]
  },
  {
   "cell_type": "markdown",
   "metadata": {},
   "source": [
    "### Drug_exposure start and end can be different"
   ]
  },
  {
   "cell_type": "code",
   "execution_count": null,
   "metadata": {},
   "outputs": [],
   "source": [
    "# drug_exposure.drug_exposure_start_datetime.value_counts()\n",
    "#drug_exposure.drug_exposure_end_datetime.value_counts()\n",
    "print(drug_exposure.drug_exposure_start_datetime[0], drug_exposure.drug_exposure_end_datetime[0])\n",
    "# Can be different...."
   ]
  },
  {
   "cell_type": "markdown",
   "metadata": {},
   "source": [
    "# Dose Era\n",
    "\n",
    "A Dose Era is defined as a span of time when the Person is assumed to be exposed to a constant dose of a specific active ingredient.\n",
    "\n",
    "Dose Form information is not taken into account. So, if the patient changes between different formulations, or different manufacturers with the same formulation, the Dose Era is still spanning the entire time of exposure to the Ingredient."
   ]
  },
  {
   "cell_type": "code",
   "execution_count": null,
   "metadata": {},
   "outputs": [],
   "source": [
    "dose_era = pd.read_csv('Data/dose_era.csv')\n",
    "dose_era.head()\n",
    "\n",
    "dose_era.shape #(117, 7)"
   ]
  },
  {
   "cell_type": "code",
   "execution_count": null,
   "metadata": {},
   "outputs": [],
   "source": [
    "dose_era.unit_concept_id.value_counts()\n",
    "# 8576 are all in mg.... This is good :) I can go back to drug_concept id, dose_value...."
   ]
  },
  {
   "cell_type": "code",
   "execution_count": null,
   "metadata": {},
   "outputs": [],
   "source": [
    "dose_era.drug_concept_id.value_counts()"
   ]
  },
  {
   "cell_type": "code",
   "execution_count": null,
   "metadata": {},
   "outputs": [],
   "source": [
    "dose_era[dose_era.person_id == 3912882389848878631] # my patient is not recognized, neither my drug_cncept_id...why ????\n",
    "#patient1[patient1.dose_unit_source_value == drug_type]\n",
    "dose_era[dose_era.drug_concept_id == 19127213]\n",
    "# ne pas mettre de guillements, ça ne fonctionne pas..."
   ]
  },
  {
   "cell_type": "markdown",
   "metadata": {},
   "source": [
    "# Drug era\n",
    "\n",
    "**active ingredient**, successive period of drug_exposure to the same ingredent gives drug era\n",
    "\n",
    "A Drug Era is defined as a span of time when the Person is assumed to be exposed to a particular active ingredient. A Drug Era is not the same as a Drug Exposure:\n",
    "Exposures are individual records corresponding to the source when Drug was delivered to the Person, while successive periods of Drug Exposures are combined under certain rules to produce continuous Drug Eras.\n",
    "\n",
    "-> not the same concept_id because here we talk about an ingredient, not a particular drug... diazepam vs diazepam tablet 10mg.\n",
    "Example:\n",
    "drug_era: person 3912882389848878631 got 2 exposure to diazepam 723013 between 2129-01-03\t2129-01-05\n",
    "[6598\t-7540355434127132424\t3912882389848878631\t723013\t2129-01-03\t2129-01-05\t2\t0]\n",
    "drug_exposure\n"
   ]
  },
  {
   "cell_type": "code",
   "execution_count": null,
   "metadata": {},
   "outputs": [],
   "source": [
    "drug_era = pd.read_csv('Data/drug_era.csv')\n",
    "\n",
    "drug_era.shape #(7931, 7)\n",
    "drug_era.head()"
   ]
  },
  {
   "cell_type": "code",
   "execution_count": null,
   "metadata": {},
   "outputs": [],
   "source": [
    "drug_era.drug_concept_id.value_counts()"
   ]
  },
  {
   "cell_type": "code",
   "execution_count": null,
   "metadata": {},
   "outputs": [],
   "source": [
    "drug_era[drug_era.drug_concept_id == 19127213] # cannot be found...\n",
    "\n",
    "drug_era[drug_era.person_id == 3912882389848878631] # -> ok..."
   ]
  },
  {
   "cell_type": "code",
   "execution_count": null,
   "metadata": {},
   "outputs": [],
   "source": [
    "temp_1 = drug_era.loc[drug_era.person_id == 3912882389848878631, 'drug_concept_id'].unique() #16\n",
    "temp_1.sort()\n",
    "'''\n",
    "drug_era\n",
    "(array([  723013 - \tdiazepam as an ingredient,   734275,   923645,   967823,  1124957,  1125315,\n",
    "         1177480,  1367571,  1560524, 19111620, 19137312, 36878782,\n",
    "        40164828, 40166605, 42873956, 43531944]),\n",
    "\n",
    "drug_exposure\n",
    " array([  723020 - diazepam 10 MG Oral Tablet RxNorm,   734281,  1127433, 19019050, 19019418, 19077513,\n",
    "        19079250, 19126251, 19127213, 19137328, 21125875, 36249736,\n",
    "        40221329, 40232756, 43011850, 45775137]))\n",
    "'''\n",
    "temp_2 = drug_exposure.loc[drug_exposure.person_id == 3912882389848878631, 'drug_concept_id'].unique() #16\n",
    "temp_2.sort()\n",
    "\n",
    "# all the same\n",
    "\n",
    "temp_1, temp_2\n"
   ]
  },
  {
   "cell_type": "code",
   "execution_count": null,
   "metadata": {},
   "outputs": [],
   "source": [
    "temp_3 = drug_exposure.loc[drug_exposure.person_id == 3912882389848878631]\n",
    "temp_3\n",
    "#temp_3.loc[temp_3.drug_concept_id == 723020]"
   ]
  },
  {
   "cell_type": "code",
   "execution_count": null,
   "metadata": {},
   "outputs": [],
   "source": [
    "temp_exp = drug_exposure.person_id.unique()\n",
    "len(temp_exp) #100\n",
    "temp_drug = drug_era.person_id.unique()\n",
    "len(temp_drug) #100\n",
    "temp_dose = dose_era.person_id.unique()\n",
    "len(temp_dose) #44"
   ]
  }
 ],
 "metadata": {
  "kernelspec": {
   "display_name": "Python 3",
   "language": "python",
   "name": "python3"
  },
  "language_info": {
   "codemirror_mode": {
    "name": "ipython",
    "version": 3
   },
   "file_extension": ".py",
   "mimetype": "text/x-python",
   "name": "python",
   "nbconvert_exporter": "python",
   "pygments_lexer": "ipython3",
   "version": "3.10.12"
  }
 },
 "nbformat": 4,
 "nbformat_minor": 2
}
